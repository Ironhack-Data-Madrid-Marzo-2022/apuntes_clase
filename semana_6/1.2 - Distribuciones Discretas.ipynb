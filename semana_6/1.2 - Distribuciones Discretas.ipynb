{
 "cells": [
  {
   "cell_type": "markdown",
   "id": "464ab54d",
   "metadata": {},
   "source": [
    "# 1.2 - Distribuciones Discretas\n",
    "\n",
    "\n",
    "Una distribución discreta describe la probabilidad de ocurrencia de cada valor de una variable aleatoria discreta. Una variable aleatoria discreta es una variable aleatoria que tiene valores contables, tales como una lista de enteros no negativos. Con una distribución de probabilidad discreta, cada valor posible de la variable aleatoria discreta puede estar asociado con una probabilidad distinta de cero. Por lo tanto, una distribución de probabilidad discreta suele representarse en forma tabular.\n",
    "\n",
    "### Variables aleatorias\n",
    "\n",
    "+ Variable aleatoria: Es aquella cuyo valor es el resultado de un evento aleatorio. Lo que quiere decir que son los resultados que se presentan al azar en cualquier evento o experimento.\n",
    "\n",
    "+ Variable aleatoria discreta: Es aquella que solo toma ciertos valores, frecuentemente enteros, y que resulta principalmente del conteo realizado.\n",
    "\n",
    "+ Variable aleatoria continua: Es aquella que resulta generalmente de la medición y puede tomar cualquier valor dentro de un intervalo dado.\n"
   ]
  },
  {
   "cell_type": "markdown",
   "id": "192fc85e",
   "metadata": {},
   "source": [
    "### Bernoulli\n",
    "\n",
    "https://es.wikipedia.org/wiki/Distribuci%C3%B3n_Bernoulli\n",
    "\n",
    "$$X \\sim Bernoulli(p)$$\n",
    "\n",
    "Se basa en el experiemento de Bernoulli. Solo tiene dos posibles resultados, con probabilidad $p$ y $1-p$.\n",
    "\n",
    "**Ejemplo :** Moneda sesgada.\n",
    "\n",
    "$\\Omega = \\{0, 1\\}$  Espacio muestral, pensando en cara-cruz.\n",
    "\n",
    "Llamamos $p$ a la probabilidad de éxito, que salga cara por ejemplo."
   ]
  },
  {
   "cell_type": "code",
   "execution_count": 1,
   "id": "4a18ebd9",
   "metadata": {},
   "outputs": [],
   "source": [
    "p=0.8"
   ]
  },
  {
   "cell_type": "markdown",
   "id": "8435f1c1",
   "metadata": {},
   "source": [
    "$P(X=1)=p=0.8$\n",
    "\n",
    "$P(X=0)=1-p=0.2$"
   ]
  },
  {
   "cell_type": "code",
   "execution_count": 2,
   "id": "6eba77a4",
   "metadata": {},
   "outputs": [],
   "source": [
    "from scipy.stats import bernoulli"
   ]
  },
  {
   "cell_type": "code",
   "execution_count": 3,
   "id": "cc7f7c00",
   "metadata": {},
   "outputs": [],
   "source": [
    "jacob_b=bernoulli(p)"
   ]
  },
  {
   "cell_type": "code",
   "execution_count": 6,
   "id": "89c15534",
   "metadata": {},
   "outputs": [],
   "source": [
    "#help(jacob_b)"
   ]
  },
  {
   "cell_type": "code",
   "execution_count": 10,
   "id": "2853ec0a",
   "metadata": {},
   "outputs": [
    {
     "data": {
      "text/plain": [
       "array([1])"
      ]
     },
     "execution_count": 10,
     "metadata": {},
     "output_type": "execute_result"
    }
   ],
   "source": [
    "jacob_b.rvs(size=1)   # rvs=random variable sample , m.a.s.=muestra aleatoria simple"
   ]
  },
  {
   "cell_type": "code",
   "execution_count": 11,
   "id": "7c6ca3c4",
   "metadata": {},
   "outputs": [
    {
     "data": {
      "text/plain": [
       "array([1, 1, 1, 0, 1, 0, 1, 1, 1, 1, 1, 1, 1, 1, 1, 1, 1, 1, 1, 1, 1, 1,\n",
       "       0, 1, 1, 1, 1, 1, 0, 0, 1, 1, 1, 1, 1, 1, 0, 1, 1, 0, 1, 1, 1, 0,\n",
       "       1, 1, 1, 1, 1, 1, 1, 0, 0, 1, 1, 1, 1, 0, 1, 1, 0, 0, 0, 1, 1, 1,\n",
       "       1, 1, 1, 1, 1, 1, 1, 0, 1, 1, 1, 1, 1, 1, 1, 1, 0, 1, 1, 1, 1, 1,\n",
       "       0, 0, 1, 1, 1, 1, 1, 0, 0, 1, 1, 1])"
      ]
     },
     "execution_count": 11,
     "metadata": {},
     "output_type": "execute_result"
    }
   ],
   "source": [
    "muestra=jacob_b.rvs(size=100)\n",
    "\n",
    "muestra"
   ]
  },
  {
   "cell_type": "code",
   "execution_count": 12,
   "id": "c5f60a03",
   "metadata": {},
   "outputs": [
    {
     "data": {
      "text/plain": [
       "80"
      ]
     },
     "execution_count": 12,
     "metadata": {},
     "output_type": "execute_result"
    }
   ],
   "source": [
    "sum(muestra)"
   ]
  },
  {
   "cell_type": "code",
   "execution_count": 13,
   "id": "5eaf1a26",
   "metadata": {},
   "outputs": [
    {
     "data": {
      "image/png": "[encoded data removed]",
      "text/plain": [
       "<Figure size 432x288 with 1 Axes>"
      ]
     },
     "metadata": {
      "needs_background": "light"
     },
     "output_type": "display_data"
    }
   ],
   "source": [
    "import seaborn as sns\n",
    "\n",
    "sns.countplot(x=muestra);"
   ]
  },
  {
   "cell_type": "markdown",
   "id": "6e25fb8f",
   "metadata": {},
   "source": [
    "### Distribución Binomial\n",
    "\n",
    "https://es.wikipedia.org/wiki/Distribuci%C3%B3n_binomial\n",
    "\n",
    "\n",
    "$$X \\sim Binomial(N, p)$$\n",
    "\n",
    "$$P(X=k)={N \\choose k} p^{k}(1-p)^{N-k}$$\n",
    "\n",
    "donde:\n",
    "${N \\choose k} \\equiv \\frac{N!}{k!(N-k)!}$\n",
    "\n",
    "\n",
    "La distribución binomial es una distribución de probabilidad discreta que cuenta el número de éxitos en una secuencia de $N$ ensayos de Bernoulli independientes entre sí con una probabilidad fija $p$ de ocurrencia de éxito entre los ensayos.\n",
    "\n",
    "\n",
    "**Ejemplo :** Lanzamiento de moneda y/o dado.\n",
    "\n",
    "$N$ es el número de lanzamientos.\n",
    "\n",
    "$p$ es la probabilidad de éxito, que salga cara por ejemplo.\n",
    "\n",
    "$\\Omega = \\{0, 1, 2, 3, ..., N-1, N\\}$"
   ]
  },
  {
   "cell_type": "code",
   "execution_count": 14,
   "id": "4a3db714",
   "metadata": {},
   "outputs": [
    {
     "data": {
      "text/plain": [
       "0.11718750000000004"
      ]
     },
     "execution_count": 14,
     "metadata": {},
     "output_type": "execute_result"
    }
   ],
   "source": [
    "from scipy.stats import binom\n",
    "import pylab as plt\n",
    "\n",
    "\n",
    "# binom.pmf(k, n, p)  # k=º de exitos, n=nº de repeticiones, p=prob, pmf=probability mass function\n",
    "\n",
    "\n",
    "# ¿Cuál es la prob de sacar tres caras si tiro 10 veces la moneda?  (moneda ideal)\n",
    "\n",
    "binom.pmf(3, 10, 0.5)"
   ]
  },
  {
   "cell_type": "code",
   "execution_count": 19,
   "id": "ef83b8ed",
   "metadata": {},
   "outputs": [
    {
     "data": {
      "text/plain": [
       "0.12941029197899043"
      ]
     },
     "execution_count": 19,
     "metadata": {},
     "output_type": "execute_result"
    }
   ],
   "source": [
    "# ¿Cuál es la prob de sacar cinco doses si tiro 20 veces el dado?  (dado ideal)\n",
    "\n",
    "binom.pmf(5, 20, 1/6)"
   ]
  },
  {
   "cell_type": "code",
   "execution_count": 22,
   "id": "40bd738a",
   "metadata": {},
   "outputs": [
    {
     "data": {
      "text/plain": [
       "0.9999999999999996"
      ]
     },
     "execution_count": 22,
     "metadata": {},
     "output_type": "execute_result"
    },
    {
     "data": {
      "image/png": "[encoded data removed]",
      "text/plain": [
       "<Figure size 432x288 with 1 Axes>"
      ]
     },
     "metadata": {
      "needs_background": "light"
     },
     "output_type": "display_data"
    }
   ],
   "source": [
    "x=[i for i in range(60)]                  # nº de exitos\n",
    "y=[binom.pmf(x, 40, 0.5) for x in x]      # su probabilidad\n",
    "\n",
    "plt.plot(x, y);\n",
    "\n",
    "sum(y)"
   ]
  },
  {
   "cell_type": "code",
   "execution_count": 24,
   "id": "2bedd85f",
   "metadata": {},
   "outputs": [
    {
     "data": {
      "image/png": "[encoded data removed]",
      "text/plain": [
       "<Figure size 432x288 with 1 Axes>"
      ]
     },
     "metadata": {
      "needs_background": "light"
     },
     "output_type": "display_data"
    }
   ],
   "source": [
    "# cdf=cumulative density function\n",
    "\n",
    "x=[i for i in range(60)]                  # nº de exitos\n",
    "y=[binom.cdf(x, 40, 0.8) for x in x]      # su probabilidad\n",
    "\n",
    "plt.plot(x, y);"
   ]
  },
  {
   "cell_type": "code",
   "execution_count": 25,
   "id": "3a41060a",
   "metadata": {},
   "outputs": [
    {
     "data": {
      "text/plain": [
       "0.376953125"
      ]
     },
     "execution_count": 25,
     "metadata": {},
     "output_type": "execute_result"
    }
   ],
   "source": [
    "binom.cdf(4, 10, 0.5)  # por debajo"
   ]
  },
  {
   "cell_type": "code",
   "execution_count": 27,
   "id": "752a28d1",
   "metadata": {},
   "outputs": [
    {
     "data": {
      "text/plain": [
       "0.3769531250000001"
      ]
     },
     "execution_count": 27,
     "metadata": {},
     "output_type": "execute_result"
    }
   ],
   "source": [
    "binom.pmf(0, 10, 0.5)+binom.pmf(1, 10, 0.5)+binom.pmf(2, 10, 0.5)+binom.pmf(3, 10, 0.5)+binom.pmf(4, 10, 0.5)"
   ]
  },
  {
   "cell_type": "code",
   "execution_count": 28,
   "id": "6dca2b6d",
   "metadata": {},
   "outputs": [
    {
     "data": {
      "text/plain": [
       "0.623046875"
      ]
     },
     "execution_count": 28,
     "metadata": {},
     "output_type": "execute_result"
    }
   ],
   "source": [
    "1 - binom.cdf(4, 10, 0.5)  # por encima"
   ]
  },
  {
   "cell_type": "code",
   "execution_count": 29,
   "id": "a38e1ccf",
   "metadata": {},
   "outputs": [
    {
     "data": {
      "text/plain": [
       "array([3, 6, 9, 4, 5, 4, 5, 7, 5, 4])"
      ]
     },
     "execution_count": 29,
     "metadata": {},
     "output_type": "execute_result"
    }
   ],
   "source": [
    "muestra=binom(10, 0.5).rvs(size=500)\n",
    "\n",
    "muestra[:10]"
   ]
  },
  {
   "cell_type": "code",
   "execution_count": 30,
   "id": "fc959cf9",
   "metadata": {},
   "outputs": [
    {
     "data": {
      "image/png": "[encoded data removed]",
      "text/plain": [
       "<Figure size 432x288 with 1 Axes>"
      ]
     },
     "metadata": {
      "needs_background": "light"
     },
     "output_type": "display_data"
    }
   ],
   "source": [
    "sns.countplot(x=muestra);"
   ]
  },
  {
   "cell_type": "markdown",
   "id": "f507e8da",
   "metadata": {},
   "source": [
    "**Momentos centrales**\n",
    "\n",
    "https://es.wikipedia.org/wiki/Momento_central"
   ]
  },
  {
   "cell_type": "code",
   "execution_count": 31,
   "id": "c134987e",
   "metadata": {},
   "outputs": [
    {
     "data": {
      "text/plain": [
       "(array(3.), array(2.1), array(0.27602622), array(-0.12380952))"
      ]
     },
     "execution_count": 31,
     "metadata": {},
     "output_type": "execute_result"
    }
   ],
   "source": [
    "n=10\n",
    "p=0.3\n",
    "\n",
    "\n",
    "media, var, sime, curt = binom.stats(n, p, moments='mvsk')\n",
    "\n",
    "media, var, sime, curt"
   ]
  },
  {
   "cell_type": "markdown",
   "id": "f941bc8c",
   "metadata": {},
   "source": [
    "**Aclaración:**\n",
    "\n",
    " * `.rvs`: Devuelve una muestra aleatoria simple\n",
    " * `.pmf`: (probability mass function) Funcion de masa de probabilidad, para distribuciones discretas\n",
    " * `.pdf`: (probability density function) Funcion de densidad de probabilidad, para distribuciones continuas\n",
    " * `.cdf`: (cumulative mass function) Funcion acumulada de probabilidad, para distribuciones discretas y continuas\n",
    " * `.ppf`: (percentile probability function) Inversa de la funcion acumulada, para distribuciones continuas\n"
   ]
  },
  {
   "cell_type": "markdown",
   "id": "25f2d891",
   "metadata": {},
   "source": [
    "### Distribución Binomial Negativa\n",
    "\n",
    "https://es.wikipedia.org/wiki/Distribuci%C3%B3n_binomial_negativa\n",
    "\n",
    "\n",
    "$$X \\sim BN(r, p)$$\n",
    "\n",
    "$$P(X=k)={r+k-1 \\choose k} p^{r}(1-p)^{k}$$\n"
   ]
  },
  {
   "cell_type": "code",
   "execution_count": 32,
   "id": "4062da7f",
   "metadata": {},
   "outputs": [],
   "source": [
    "from scipy.stats import nbinom"
   ]
  },
  {
   "cell_type": "code",
   "execution_count": 33,
   "id": "d7847e51",
   "metadata": {},
   "outputs": [
    {
     "data": {
      "text/plain": [
       "0.026855468750000024"
      ]
     },
     "execution_count": 33,
     "metadata": {},
     "output_type": "execute_result"
    }
   ],
   "source": [
    "# ¿Qué prob hay de que la decima tirada corresponda con la tercera cara que sale?\n",
    "\n",
    "# nbinom.pmf(k, n, p)\n",
    "\n",
    "nbinom.pmf(3, 10, 0.5)"
   ]
  },
  {
   "cell_type": "code",
   "execution_count": 34,
   "id": "7866d20e",
   "metadata": {},
   "outputs": [
    {
     "data": {
      "text/plain": [
       "0.046142578125"
      ]
     },
     "execution_count": 34,
     "metadata": {},
     "output_type": "execute_result"
    }
   ],
   "source": [
    "nbinom.cdf(3, 10, 0.5)"
   ]
  },
  {
   "cell_type": "code",
   "execution_count": 42,
   "id": "971d6749",
   "metadata": {},
   "outputs": [
    {
     "data": {
      "image/png": "[encoded data removed]",
      "text/plain": [
       "<Figure size 432x288 with 1 Axes>"
      ]
     },
     "metadata": {
      "needs_background": "light"
     },
     "output_type": "display_data"
    }
   ],
   "source": [
    "x=[i for i in range(100)]  \n",
    "y=[nbinom.pmf(x, 20, 0.3) for x in x] \n",
    "\n",
    "plt.plot(x, y);"
   ]
  },
  {
   "cell_type": "code",
   "execution_count": 36,
   "id": "cefefc96",
   "metadata": {},
   "outputs": [
    {
     "data": {
      "image/png": "[encoded data removed]",
      "text/plain": [
       "<Figure size 432x288 with 1 Axes>"
      ]
     },
     "metadata": {
      "needs_background": "light"
     },
     "output_type": "display_data"
    }
   ],
   "source": [
    "x=[i for i in range(20)]  \n",
    "y=[nbinom.cdf(x, 20, 0.8) for x in x] \n",
    "\n",
    "plt.plot(x, y);"
   ]
  },
  {
   "cell_type": "code",
   "execution_count": 48,
   "id": "7d252eaf",
   "metadata": {},
   "outputs": [
    {
     "data": {
      "text/plain": [
       "array([ 9, 18,  6, 11,  5, 13,  4,  9, 13, 10])"
      ]
     },
     "execution_count": 48,
     "metadata": {},
     "output_type": "execute_result"
    }
   ],
   "source": [
    "muestra=nbinom(10, 0.5).rvs(size=500)\n",
    "\n",
    "muestra[:10]"
   ]
  },
  {
   "cell_type": "code",
   "execution_count": 49,
   "id": "9f6bd99d",
   "metadata": {},
   "outputs": [
    {
     "data": {
      "image/png": "[encoded data removed]",
      "text/plain": [
       "<Figure size 432x288 with 1 Axes>"
      ]
     },
     "metadata": {
      "needs_background": "light"
     },
     "output_type": "display_data"
    }
   ],
   "source": [
    "sns.countplot(x=muestra);"
   ]
  },
  {
   "cell_type": "code",
   "execution_count": 39,
   "id": "e9196ff1",
   "metadata": {},
   "outputs": [
    {
     "data": {
      "text/plain": [
       "(array(23.33333333), array(77.77777778), array(0.6425396), array(0.61285714))"
      ]
     },
     "execution_count": 39,
     "metadata": {},
     "output_type": "execute_result"
    }
   ],
   "source": [
    "n=10\n",
    "p=0.3\n",
    "\n",
    "\n",
    "media, var, sime, curt = nbinom.stats(n, p, moments='mvsk')\n",
    "\n",
    "media, var, sime, curt"
   ]
  },
  {
   "cell_type": "markdown",
   "id": "10fce477",
   "metadata": {},
   "source": [
    "### Distribución Geométrica\n",
    "\n",
    "https://es.wikipedia.org/wiki/Distribuci%C3%B3n_geom%C3%A9trica\n",
    "\n",
    "\n",
    "$$X \\sim Geom(p)$$\n",
    "\n",
    "$$P(X=k)= p · (1-p)^{k}$$\n",
    "\n",
    "para $k = 0, 1, 2, 3, 4...$\n",
    "\n",
    "\n",
    "La distribución geométrica es un modelo adecuado para aquellos procesos en los que se repiten pruebas hasta la consecución del éxito o resultado deseado y tiene interesantes aplicaciones en los muestreos realizados de esta manera. "
   ]
  },
  {
   "cell_type": "code",
   "execution_count": 50,
   "id": "2e16b50f",
   "metadata": {},
   "outputs": [],
   "source": [
    "from scipy.stats import geom"
   ]
  },
  {
   "cell_type": "code",
   "execution_count": 51,
   "id": "dbdad20c",
   "metadata": {},
   "outputs": [
    {
     "data": {
      "text/plain": [
       "0.03125"
      ]
     },
     "execution_count": 51,
     "metadata": {},
     "output_type": "execute_result"
    }
   ],
   "source": [
    "# ¿Cuál es la prob de exito en el k-esimo intento?\n",
    "\n",
    "# geom.pmf(k, p)\n",
    "\n",
    "geom.pmf(5, 0.5)"
   ]
  },
  {
   "cell_type": "code",
   "execution_count": 52,
   "id": "7f35aacc",
   "metadata": {},
   "outputs": [
    {
     "data": {
      "image/png": "[encoded data removed]",
      "text/plain": [
       "<Figure size 432x288 with 1 Axes>"
      ]
     },
     "metadata": {
      "needs_background": "light"
     },
     "output_type": "display_data"
    }
   ],
   "source": [
    "x=[i for i in range(20)]  \n",
    "y=[geom.pmf(x, 0.5) for x in x] \n",
    "\n",
    "plt.plot(x, y);"
   ]
  },
  {
   "cell_type": "code",
   "execution_count": 53,
   "id": "9bf2152a",
   "metadata": {},
   "outputs": [
    {
     "data": {
      "image/png": "[encoded data removed]",
      "text/plain": [
       "<Figure size 432x288 with 1 Axes>"
      ]
     },
     "metadata": {
      "needs_background": "light"
     },
     "output_type": "display_data"
    }
   ],
   "source": [
    "x=[i for i in range(20)]  \n",
    "y=[geom.cdf(x, 0.5) for x in x] \n",
    "\n",
    "plt.plot(x, y);"
   ]
  },
  {
   "cell_type": "markdown",
   "id": "af7cd1ab",
   "metadata": {},
   "source": [
    "### Distribución Uniforme Discreta\n",
    "\n",
    "https://es.wikipedia.org/wiki/Distribuci%C3%B3n_uniforme_discreta\n",
    "\n",
    "$$X \\sim Uniforme(x_{1}, x_{2},..., x_{n})$$\n",
    "\n",
    "$$P(X=k)= \\frac{1}{n}$$\n",
    "\n",
    "para $k = k_{1}, k_{2},..., k_{n}$\n",
    "\n",
    "La distribución uniforme discreta es una distribución de probabilidad discreta que surge en espacios de probabilidad equiprobables, es decir, en situaciones donde de $n$ resultados diferentes, todos tienen la misma probabilidad de ocurrir. "
   ]
  },
  {
   "cell_type": "code",
   "execution_count": 54,
   "id": "cebf6613",
   "metadata": {},
   "outputs": [
    {
     "data": {
      "text/plain": [
       "array([0.125, 0.125, 0.125, 0.   , 0.   ])"
      ]
     },
     "execution_count": 54,
     "metadata": {},
     "output_type": "execute_result"
    }
   ],
   "source": [
    "from scipy.stats import randint\n",
    "\n",
    "randint.pmf([0, 6, 7, 8, 10], 0, 8)   # randint.pmf([elementos], intervalo_a, intervalo_b)"
   ]
  },
  {
   "cell_type": "code",
   "execution_count": 55,
   "id": "41baffd3",
   "metadata": {},
   "outputs": [
    {
     "data": {
      "image/png": "[encoded data removed]",
      "text/plain": [
       "<Figure size 432x288 with 1 Axes>"
      ]
     },
     "metadata": {
      "needs_background": "light"
     },
     "output_type": "display_data"
    }
   ],
   "source": [
    "x=[i for i in range(-5, 20)]  \n",
    "y=[randint.pmf(x, 0, 8) for x in x] \n",
    "\n",
    "plt.scatter(x, y);"
   ]
  },
  {
   "cell_type": "code",
   "execution_count": 56,
   "id": "f3b90df7",
   "metadata": {},
   "outputs": [
    {
     "data": {
      "image/png": "[encoded data removed]",
      "text/plain": [
       "<Figure size 432x288 with 1 Axes>"
      ]
     },
     "metadata": {
      "needs_background": "light"
     },
     "output_type": "display_data"
    }
   ],
   "source": [
    "x=[i for i in range(-5, 20)]  \n",
    "y=[randint.cdf(x, 0, 8) for x in x] \n",
    "\n",
    "plt.plot(x, y);"
   ]
  },
  {
   "cell_type": "markdown",
   "id": "c8bcc4c3",
   "metadata": {},
   "source": [
    "### Distribución de Poisson (ley de sucesos raros)\n",
    "\n",
    "https://es.wikipedia.org/wiki/Distribuci%C3%B3n_de_Poisson\n",
    "\n",
    "\n",
    "$$X \\sim Poisson(\\lambda)$$\n",
    "\n",
    "$$P(X=k)=\\frac{\\lambda ^{k}e^{-\\lambda }}{k!}$$\n",
    "\n",
    "para $k = 0, 1, 2,..$\n",
    "\n",
    "La distribución de Poisson es una distribución de probabilidad discreta que expresa, a partir de una frecuencia de ocurrencia media, la probabilidad de que ocurra un determinado número de eventos durante cierto período de tiempo. Concretamente, se especializa en la probabilidad de ocurrencia de sucesos con probabilidades muy pequeñas, o sucesos raros. "
   ]
  },
  {
   "cell_type": "code",
   "execution_count": 57,
   "id": "dc0f3060",
   "metadata": {},
   "outputs": [],
   "source": [
    "from scipy.stats import poisson"
   ]
  },
  {
   "cell_type": "code",
   "execution_count": 58,
   "id": "0e8f4156",
   "metadata": {},
   "outputs": [
    {
     "data": {
      "text/plain": [
       "0.24166502466277437"
      ]
     },
     "execution_count": 58,
     "metadata": {},
     "output_type": "execute_result"
    }
   ],
   "source": [
    "# poisson.pmf(x, lambda), poisson.pmf(evento, media)\n",
    "\n",
    "poisson.pmf(2, 1.4)   # media del equipode goles es 1.4, ¿prob de marcar 2?"
   ]
  },
  {
   "cell_type": "code",
   "execution_count": 59,
   "id": "e8d5ae1e",
   "metadata": {},
   "outputs": [
    {
     "data": {
      "image/png": "[encoded data removed]",
      "text/plain": [
       "<Figure size 432x288 with 1 Axes>"
      ]
     },
     "metadata": {
      "needs_background": "light"
     },
     "output_type": "display_data"
    }
   ],
   "source": [
    "x=[i for i in range(20)]  \n",
    "y=[poisson.pmf(x, 1.4) for x in x] \n",
    "\n",
    "plt.plot(x, y);"
   ]
  },
  {
   "cell_type": "code",
   "execution_count": 60,
   "id": "93b986df",
   "metadata": {},
   "outputs": [
    {
     "data": {
      "image/png": "[encoded data removed]",
      "text/plain": [
       "<Figure size 432x288 with 1 Axes>"
      ]
     },
     "metadata": {
      "needs_background": "light"
     },
     "output_type": "display_data"
    }
   ],
   "source": [
    "# comparacion con diferentes medias\n",
    "\n",
    "x=[i for i in range(20)]  \n",
    "y=[poisson.pmf(x, 1.4) for x in x] \n",
    "plt.plot(x, y)\n",
    "\n",
    "y=[poisson.pmf(x, 1) for x in x] \n",
    "plt.plot(x, y)\n",
    "\n",
    "y=[poisson.pmf(x, 2.4) for x in x] \n",
    "plt.plot(x, y)\n",
    "\n",
    "y=[poisson.pmf(x, 5) for x in x] \n",
    "plt.plot(x, y)\n",
    "\n",
    "y=[poisson.pmf(x, 10) for x in x] \n",
    "plt.plot(x, y)\n",
    "plt.show();"
   ]
  },
  {
   "cell_type": "code",
   "execution_count": 62,
   "id": "2c179f80",
   "metadata": {},
   "outputs": [
    {
     "data": {
      "image/png": "[encoded data removed]",
      "text/plain": [
       "<Figure size 432x288 with 1 Axes>"
      ]
     },
     "metadata": {
      "needs_background": "light"
     },
     "output_type": "display_data"
    }
   ],
   "source": [
    "x=[i for i in range(20)]  \n",
    "y=[poisson.cdf(x, 10) for x in x] \n",
    "\n",
    "plt.plot(x, y);"
   ]
  },
  {
   "cell_type": "markdown",
   "id": "ce3b00f8",
   "metadata": {},
   "source": [
    "**ejemplo futbol**\n",
    "\n",
    "Supongamos que los goles de futbol son eventos raros dentro del partido y que siguen una distribución de Poisson. Partiendo de eso, ¿podríamos predecir el resultado de un partido?. Veamoslo."
   ]
  },
  {
   "cell_type": "code",
   "execution_count": 63,
   "id": "837b35b7",
   "metadata": {},
   "outputs": [],
   "source": [
    "import numpy as np"
   ]
  },
  {
   "cell_type": "code",
   "execution_count": 64,
   "id": "9b169c59",
   "metadata": {},
   "outputs": [],
   "source": [
    "equipo_A=2.1     # medias de goles\n",
    "equipo_B=1.4"
   ]
  },
  {
   "cell_type": "code",
   "execution_count": 66,
   "id": "7b95aabc",
   "metadata": {},
   "outputs": [],
   "source": [
    "A=[poisson.pmf(i, equipo_A) for i in range(10)]\n",
    "\n",
    "B=[poisson.pmf(i, equipo_B) for i in range(10)]"
   ]
  },
  {
   "cell_type": "code",
   "execution_count": 69,
   "id": "c972958c",
   "metadata": {},
   "outputs": [
    {
     "data": {
      "image/png": "[encoded data removed]",
      "text/plain": [
       "<Figure size 432x288 with 1 Axes>"
      ]
     },
     "metadata": {
      "needs_background": "light"
     },
     "output_type": "display_data"
    }
   ],
   "source": [
    "plt.plot([i for i in range(10)], A);  # distribucion de probabilidad de goles para el equipo A"
   ]
  },
  {
   "cell_type": "markdown",
   "id": "9584ca96",
   "metadata": {},
   "source": [
    "para ver la distribucion del partido se necesita realizar el producto externo de los dos vectores para crear una matriz"
   ]
  },
  {
   "cell_type": "code",
   "execution_count": 72,
   "id": "a60c9c0f",
   "metadata": {},
   "outputs": [],
   "source": [
    "partido=np.outer(A, B)"
   ]
  },
  {
   "cell_type": "code",
   "execution_count": 73,
   "id": "e8c19cb5",
   "metadata": {},
   "outputs": [
    {
     "data": {
      "text/html": [
       "<div>\n",
       "<style scoped>\n",
       "    .dataframe tbody tr th:only-of-type {\n",
       "        vertical-align: middle;\n",
       "    }\n",
       "\n",
       "    .dataframe tbody tr th {\n",
       "        vertical-align: top;\n",
       "    }\n",
       "\n",
       "    .dataframe thead th {\n",
       "        text-align: right;\n",
       "    }\n",
       "</style>\n",
       "<table border=\"1\" class=\"dataframe\">\n",
       "  <thead>\n",
       "    <tr style=\"text-align: right;\">\n",
       "      <th></th>\n",
       "      <th>0</th>\n",
       "      <th>1</th>\n",
       "      <th>2</th>\n",
       "      <th>3</th>\n",
       "      <th>4</th>\n",
       "      <th>5</th>\n",
       "      <th>6</th>\n",
       "      <th>7</th>\n",
       "      <th>8</th>\n",
       "      <th>9</th>\n",
       "    </tr>\n",
       "  </thead>\n",
       "  <tbody>\n",
       "    <tr>\n",
       "      <th>0</th>\n",
       "      <td>0.030197</td>\n",
       "      <td>0.042276</td>\n",
       "      <td>0.029593</td>\n",
       "      <td>0.013810</td>\n",
       "      <td>0.004834</td>\n",
       "      <td>0.001353</td>\n",
       "      <td>3.157948e-04</td>\n",
       "      <td>6.315897e-05</td>\n",
       "      <td>1.105282e-05</td>\n",
       "      <td>1.719327e-06</td>\n",
       "    </tr>\n",
       "    <tr>\n",
       "      <th>1</th>\n",
       "      <td>0.063415</td>\n",
       "      <td>0.088780</td>\n",
       "      <td>0.062146</td>\n",
       "      <td>0.029002</td>\n",
       "      <td>0.010151</td>\n",
       "      <td>0.002842</td>\n",
       "      <td>6.631692e-04</td>\n",
       "      <td>1.326338e-04</td>\n",
       "      <td>2.321092e-05</td>\n",
       "      <td>3.610588e-06</td>\n",
       "    </tr>\n",
       "    <tr>\n",
       "      <th>2</th>\n",
       "      <td>0.066585</td>\n",
       "      <td>0.093219</td>\n",
       "      <td>0.065254</td>\n",
       "      <td>0.030452</td>\n",
       "      <td>0.010658</td>\n",
       "      <td>0.002984</td>\n",
       "      <td>6.963276e-04</td>\n",
       "      <td>1.392655e-04</td>\n",
       "      <td>2.437147e-05</td>\n",
       "      <td>3.791117e-06</td>\n",
       "    </tr>\n",
       "    <tr>\n",
       "      <th>3</th>\n",
       "      <td>0.046610</td>\n",
       "      <td>0.065254</td>\n",
       "      <td>0.045677</td>\n",
       "      <td>0.021316</td>\n",
       "      <td>0.007461</td>\n",
       "      <td>0.002089</td>\n",
       "      <td>4.874293e-04</td>\n",
       "      <td>9.748587e-05</td>\n",
       "      <td>1.706003e-05</td>\n",
       "      <td>2.653782e-06</td>\n",
       "    </tr>\n",
       "    <tr>\n",
       "      <th>4</th>\n",
       "      <td>0.024470</td>\n",
       "      <td>0.034258</td>\n",
       "      <td>0.023981</td>\n",
       "      <td>0.011191</td>\n",
       "      <td>0.003917</td>\n",
       "      <td>0.001097</td>\n",
       "      <td>2.559004e-04</td>\n",
       "      <td>5.118008e-05</td>\n",
       "      <td>8.956514e-06</td>\n",
       "      <td>1.393236e-06</td>\n",
       "    </tr>\n",
       "    <tr>\n",
       "      <th>5</th>\n",
       "      <td>0.010277</td>\n",
       "      <td>0.014388</td>\n",
       "      <td>0.010072</td>\n",
       "      <td>0.004700</td>\n",
       "      <td>0.001645</td>\n",
       "      <td>0.000461</td>\n",
       "      <td>1.074782e-04</td>\n",
       "      <td>2.149563e-05</td>\n",
       "      <td>3.761736e-06</td>\n",
       "      <td>5.851589e-07</td>\n",
       "    </tr>\n",
       "    <tr>\n",
       "      <th>6</th>\n",
       "      <td>0.003597</td>\n",
       "      <td>0.005036</td>\n",
       "      <td>0.003525</td>\n",
       "      <td>0.001645</td>\n",
       "      <td>0.000576</td>\n",
       "      <td>0.000161</td>\n",
       "      <td>3.761736e-05</td>\n",
       "      <td>7.523472e-06</td>\n",
       "      <td>1.316608e-06</td>\n",
       "      <td>2.048056e-07</td>\n",
       "    </tr>\n",
       "    <tr>\n",
       "      <th>7</th>\n",
       "      <td>0.001079</td>\n",
       "      <td>0.001511</td>\n",
       "      <td>0.001058</td>\n",
       "      <td>0.000494</td>\n",
       "      <td>0.000173</td>\n",
       "      <td>0.000048</td>\n",
       "      <td>1.128521e-05</td>\n",
       "      <td>2.257042e-06</td>\n",
       "      <td>3.949823e-07</td>\n",
       "      <td>6.144169e-08</td>\n",
       "    </tr>\n",
       "    <tr>\n",
       "      <th>8</th>\n",
       "      <td>0.000283</td>\n",
       "      <td>0.000397</td>\n",
       "      <td>0.000278</td>\n",
       "      <td>0.000130</td>\n",
       "      <td>0.000045</td>\n",
       "      <td>0.000013</td>\n",
       "      <td>2.962367e-06</td>\n",
       "      <td>5.924734e-07</td>\n",
       "      <td>1.036828e-07</td>\n",
       "      <td>1.612844e-08</td>\n",
       "    </tr>\n",
       "    <tr>\n",
       "      <th>9</th>\n",
       "      <td>0.000066</td>\n",
       "      <td>0.000093</td>\n",
       "      <td>0.000065</td>\n",
       "      <td>0.000030</td>\n",
       "      <td>0.000011</td>\n",
       "      <td>0.000003</td>\n",
       "      <td>6.912190e-07</td>\n",
       "      <td>1.382438e-07</td>\n",
       "      <td>2.419266e-08</td>\n",
       "      <td>3.763303e-09</td>\n",
       "    </tr>\n",
       "  </tbody>\n",
       "</table>\n",
       "</div>"
      ],
      "text/plain": [
       "          0         1         2         3         4         5             6  \\\n",
       "0  0.030197  0.042276  0.029593  0.013810  0.004834  0.001353  3.157948e-04   \n",
       "1  0.063415  0.088780  0.062146  0.029002  0.010151  0.002842  6.631692e-04   \n",
       "2  0.066585  0.093219  0.065254  0.030452  0.010658  0.002984  6.963276e-04   \n",
       "3  0.046610  0.065254  0.045677  0.021316  0.007461  0.002089  4.874293e-04   \n",
       "4  0.024470  0.034258  0.023981  0.011191  0.003917  0.001097  2.559004e-04   \n",
       "5  0.010277  0.014388  0.010072  0.004700  0.001645  0.000461  1.074782e-04   \n",
       "6  0.003597  0.005036  0.003525  0.001645  0.000576  0.000161  3.761736e-05   \n",
       "7  0.001079  0.001511  0.001058  0.000494  0.000173  0.000048  1.128521e-05   \n",
       "8  0.000283  0.000397  0.000278  0.000130  0.000045  0.000013  2.962367e-06   \n",
       "9  0.000066  0.000093  0.000065  0.000030  0.000011  0.000003  6.912190e-07   \n",
       "\n",
       "              7             8             9  \n",
       "0  6.315897e-05  1.105282e-05  1.719327e-06  \n",
       "1  1.326338e-04  2.321092e-05  3.610588e-06  \n",
       "2  1.392655e-04  2.437147e-05  3.791117e-06  \n",
       "3  9.748587e-05  1.706003e-05  2.653782e-06  \n",
       "4  5.118008e-05  8.956514e-06  1.393236e-06  \n",
       "5  2.149563e-05  3.761736e-06  5.851589e-07  \n",
       "6  7.523472e-06  1.316608e-06  2.048056e-07  \n",
       "7  2.257042e-06  3.949823e-07  6.144169e-08  \n",
       "8  5.924734e-07  1.036828e-07  1.612844e-08  \n",
       "9  1.382438e-07  2.419266e-08  3.763303e-09  "
      ]
     },
     "execution_count": 73,
     "metadata": {},
     "output_type": "execute_result"
    }
   ],
   "source": [
    "import pandas as pd\n",
    "\n",
    "pd.DataFrame(partido)"
   ]
  },
  {
   "cell_type": "code",
   "execution_count": 74,
   "id": "dab1551f",
   "metadata": {},
   "outputs": [
    {
     "data": {
      "image/png": "[encoded data removed]",
      "text/plain": [
       "<Figure size 432x288 with 2 Axes>"
      ]
     },
     "metadata": {
      "needs_background": "light"
     },
     "output_type": "display_data"
    }
   ],
   "source": [
    "sns.heatmap(partido);"
   ]
  },
  {
   "cell_type": "code",
   "execution_count": 75,
   "id": "0772fcc4",
   "metadata": {},
   "outputs": [],
   "source": [
    "uno=np.sum(np.tril(partido, -1))   # -1 para quitar la diagonal\n",
    "\n",
    "empate=np.sum(np.diag(partido))   # traza, sumatoria de la diagonal\n",
    "\n",
    "dos=np.sum(np.triu(partido, 1))   "
   ]
  },
  {
   "cell_type": "code",
   "execution_count": 76,
   "id": "0304b8f2",
   "metadata": {},
   "outputs": [
    {
     "data": {
      "text/plain": [
       "(0.5360728017016652, 0.2099648137535895, 0.2538908657942761)"
      ]
     },
     "execution_count": 76,
     "metadata": {},
     "output_type": "execute_result"
    }
   ],
   "source": [
    "uno, empate, dos"
   ]
  },
  {
   "cell_type": "code",
   "execution_count": 77,
   "id": "9c499fca",
   "metadata": {},
   "outputs": [
    {
     "data": {
      "text/plain": [
       "0.9999284812495307"
      ]
     },
     "execution_count": 77,
     "metadata": {},
     "output_type": "execute_result"
    }
   ],
   "source": [
    "uno+empate+dos"
   ]
  },
  {
   "cell_type": "markdown",
   "id": "309c708c",
   "metadata": {},
   "source": [
    "![discretas](images/discretas.jpg)"
   ]
  }
 ],
 "metadata": {
  "finalized": {
   "timestamp": 1624202568327,
   "trusted": false
  },
  "kernelspec": {
   "display_name": "clase",
   "language": "python",
   "name": "clase"
  },
  "language_info": {
   "codemirror_mode": {
    "name": "ipython",
    "version": 3
   },
   "file_extension": ".py",
   "mimetype": "text/x-python",
   "name": "python",
   "nbconvert_exporter": "python",
   "pygments_lexer": "ipython3",
   "version": "3.9.7"
  },
  "varInspector": {
   "cols": {
    "lenName": 16,
    "lenType": 16,
    "lenVar": 40
   },
   "kernels_config": {
    "python": {
     "delete_cmd_postfix": "",
     "delete_cmd_prefix": "del ",
     "library": "var_list.py",
     "varRefreshCmd": "print(var_dic_list())"
    },
    "r": {
     "delete_cmd_postfix": ") ",
     "delete_cmd_prefix": "rm(",
     "library": "var_list.r",
     "varRefreshCmd": "cat(var_dic_list()) "
    }
   },
   "types_to_exclude": [
    "module",
    "function",
    "builtin_function_or_method",
    "instance",
    "_Feature"
   ],
   "window_display": false
  }
 },
 "nbformat": 4,
 "nbformat_minor": 5
}
