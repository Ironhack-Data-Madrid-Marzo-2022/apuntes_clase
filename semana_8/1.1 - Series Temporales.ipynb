{
 "cells": [
  {
   "cell_type": "markdown",
   "id": "ba2d9c0e",
   "metadata": {},
   "source": [
    "# 1.1 - Series Temporales\n",
    "\n",
    "![time_series](images/time_series.jpg)"
   ]
  },
  {
   "cell_type": "code",
   "execution_count": null,
   "id": "d83b8b2f",
   "metadata": {},
   "outputs": [],
   "source": [
    "import warnings\n",
    "warnings.simplefilter('ignore')\n",
    "\n",
    "import pandas as pd\n",
    "import numpy as np\n",
    "\n",
    "import pylab as plt"
   ]
  },
  {
   "cell_type": "code",
   "execution_count": null,
   "id": "f45d1501",
   "metadata": {},
   "outputs": [],
   "source": [
    "df=pd.read_csv('../data/occupancy.csv')\n",
    "df.head()"
   ]
  },
  {
   "cell_type": "code",
   "execution_count": null,
   "id": "f9c87cf2",
   "metadata": {},
   "outputs": [],
   "source": [
    "df.info()"
   ]
  },
  {
   "cell_type": "code",
   "execution_count": null,
   "id": "7d66d474",
   "metadata": {},
   "outputs": [],
   "source": [
    "df['datetime']=pd.to_datetime(df.date)\n",
    "df.head()"
   ]
  },
  {
   "cell_type": "code",
   "execution_count": null,
   "id": "ec2bb6d3",
   "metadata": {},
   "outputs": [],
   "source": [
    "df=df.set_index('datetime')\n",
    "df.drop(columns=['date'], inplace=True)\n",
    "df.head()"
   ]
  },
  {
   "cell_type": "code",
   "execution_count": null,
   "id": "c0fe351a",
   "metadata": {},
   "outputs": [],
   "source": [
    "df.CO2.plot();"
   ]
  },
  {
   "cell_type": "code",
   "execution_count": null,
   "id": "a329419d",
   "metadata": {},
   "outputs": [],
   "source": [
    "df.Light.plot();"
   ]
  },
  {
   "cell_type": "code",
   "execution_count": null,
   "id": "472fd3f0",
   "metadata": {},
   "outputs": [],
   "source": [
    "df.Temperature.plot();"
   ]
  },
  {
   "cell_type": "code",
   "execution_count": null,
   "id": "5a8429b9",
   "metadata": {},
   "outputs": [],
   "source": [
    "dias=df.CO2.loc['2015-4-1' : '2015-4-15']\n",
    "dias.plot();"
   ]
  },
  {
   "cell_type": "code",
   "execution_count": null,
   "id": "221329cc",
   "metadata": {},
   "outputs": [],
   "source": [
    "import statsmodels.api as sm\n",
    "\n",
    "res=sm.tsa.seasonal_decompose(dias)\n",
    "\n",
    "resplot=res.plot()"
   ]
  },
  {
   "cell_type": "markdown",
   "id": "c42d0d0a",
   "metadata": {},
   "source": [
    "### Autoregresión - AR\n",
    "\n",
    "El modelo usa la relación de dependencia del momento actual con $n$ momentos anteriores. Es, en realidad, una regresión lineal.\n",
    "\n",
    "$$y_t = \\beta_0+\\beta_1y_{t-1}+\\beta_2y_{t-2}+\\ldots+\\beta_ny_{t-n}+\\epsilon_t$$\n",
    "\n",
    "Si solamente nos fijamos en el momento anterior, $t-1$, entonces:\n",
    "\n",
    "$$y_t = \\beta_0+\\beta_1y_{t-1}+\\epsilon_t$$\n",
    "\n",
    "Es la llamada Cadena de Markov"
   ]
  },
  {
   "cell_type": "code",
   "execution_count": null,
   "id": "5a716194",
   "metadata": {},
   "outputs": [],
   "source": [
    "from pandas.plotting import lag_plot"
   ]
  },
  {
   "cell_type": "code",
   "execution_count": null,
   "id": "0fe976b8",
   "metadata": {},
   "outputs": [],
   "source": [
    "lag_plot(df.CO2);"
   ]
  },
  {
   "cell_type": "code",
   "execution_count": null,
   "id": "aae9d25c",
   "metadata": {},
   "outputs": [],
   "source": [
    "lag_plot(pd.Series(np.random.random(1000)));"
   ]
  },
  {
   "cell_type": "code",
   "execution_count": null,
   "id": "8415e2a5",
   "metadata": {},
   "outputs": [],
   "source": [
    "# AR\n",
    "from statsmodels.tsa.ar_model import AutoReg as AR"
   ]
  },
  {
   "cell_type": "code",
   "execution_count": null,
   "id": "f3959432",
   "metadata": {},
   "outputs": [],
   "source": [
    "train, test = df.CO2[:-10], df.CO2[-10:]"
   ]
  },
  {
   "cell_type": "code",
   "execution_count": null,
   "id": "1c347716",
   "metadata": {},
   "outputs": [],
   "source": [
    "modelo=AR(train, lags=1).fit()"
   ]
  },
  {
   "cell_type": "code",
   "execution_count": null,
   "id": "1264a784",
   "metadata": {},
   "outputs": [],
   "source": [
    "pred=modelo.predict(len(train), len(df.CO2)-1)\n",
    "\n",
    "error=(pred-test).abs().sum()/len(pred)\n",
    "\n",
    "error  # error medio absoluto"
   ]
  },
  {
   "cell_type": "code",
   "execution_count": null,
   "id": "a7426fcb",
   "metadata": {},
   "outputs": [],
   "source": [
    "res=pd.DataFrame({'real':test, 'pred':pred, 'diff':pred-test})\n",
    "res"
   ]
  },
  {
   "cell_type": "code",
   "execution_count": null,
   "id": "a75317b5",
   "metadata": {},
   "outputs": [],
   "source": [
    "import warnings\n",
    "warnings.simplefilter('ignore')\n",
    "\n",
    "for i in range(1, 100, 10):\n",
    "    modelo=AR(train, lags=i).fit()                     # entrenar la AR\n",
    "    pred=modelo.predict(len(train), len(df.CO2)-1)     # la prediccion en el intervalo\n",
    "    error=(pred-test).abs().sum()/len(pred)            # error medio absoluto\n",
    "    print ('Error mae: ', error.round(5), '  Maxlag : ', i)"
   ]
  },
  {
   "cell_type": "markdown",
   "id": "8d056bc0",
   "metadata": {},
   "source": [
    "### Media Móvil (Moving Average MA)\n",
    "\n",
    "Una manera matemática de expresar la MA puede ser:\n",
    "\n",
    "$$y_t = \\beta_0+\\epsilon_t+\\epsilon_{t-1}\\phi_{t-1}+\\epsilon_{t-2}\\phi_{t-2}+\\ldots+\\epsilon_{t-n}\\phi_{t-n}$$\n",
    "\n",
    "\n",
    "Se usa la relación entre las observaciones y el error residual de la media móvil.\n",
    "\n",
    "Otra es la evidente, la media móvil, se muestra en el gráfico."
   ]
  },
  {
   "cell_type": "code",
   "execution_count": null,
   "id": "2f33bb1a",
   "metadata": {},
   "outputs": [],
   "source": [
    "plt.figure(figsize=(10, 5))\n",
    "\n",
    "plt.plot(dias.values)\n",
    "\n",
    "plt.plot([50, 80],[1000, 1000], color='black')\n",
    "plt.plot([50, 50],[1000, 1100], color='black')\n",
    "plt.plot([50, 80],[1100, 1100], color='black')\n",
    "plt.plot([80, 80],[1000, 1100], color='black')\n",
    "\n",
    "plt.quiver(80, 1050, 1, 0, scale=20, color='r');"
   ]
  },
  {
   "cell_type": "markdown",
   "id": "07de0a5f",
   "metadata": {},
   "source": [
    "### ARMA (AutoRegressive Moving Average)\n",
    "\n",
    "Unión de ambos conceptos.\n",
    "\n",
    "$$y_t = \\beta_0 + \\epsilon_t + \\sum_{i=1}^{n}\\beta_iy_{t-i} + \\sum_{i=1}^{m}\\phi_i\\epsilon_{t-i}$$"
   ]
  },
  {
   "cell_type": "code",
   "execution_count": null,
   "id": "602df919",
   "metadata": {},
   "outputs": [],
   "source": [
    "# ARIMA  order==> (p, d, q)  d=>Integrated , d=0 es ARMA\n",
    "\n",
    "# ARMA  order==> p=>AR (n, maxlag), q=>MA (m, ancho de la ventana)\n",
    "\n",
    "from statsmodels.tsa.arima.model import ARIMA"
   ]
  },
  {
   "cell_type": "code",
   "execution_count": null,
   "id": "19e853e2",
   "metadata": {},
   "outputs": [],
   "source": [
    "%%time\n",
    "\n",
    "modelo=ARIMA(train, order=(4, 0, 1)).fit()"
   ]
  },
  {
   "cell_type": "code",
   "execution_count": null,
   "id": "ddc2ad00",
   "metadata": {},
   "outputs": [],
   "source": [
    "pred=modelo.predict(len(train), len(df.CO2)-1)     \n",
    "error=(pred-test).abs().sum()/len(pred) \n",
    "print ('Error mae: ', error)\n",
    "\n",
    "res=pd.DataFrame({'real':test, 'pred':pred, 'diff':pred-test})\n",
    "res"
   ]
  },
  {
   "cell_type": "code",
   "execution_count": null,
   "id": "746756fc",
   "metadata": {},
   "outputs": [],
   "source": [
    "#help(ARIMA)"
   ]
  },
  {
   "cell_type": "markdown",
   "id": "3217a490",
   "metadata": {},
   "source": [
    "### ARIMA (AutoRegressive Integrated Moving Average)\n",
    "\n",
    "Lo de Integrated trata de hacer la serie temporal estacionaria, similar al concepto de PID."
   ]
  },
  {
   "cell_type": "code",
   "execution_count": null,
   "id": "9f793f18",
   "metadata": {},
   "outputs": [],
   "source": [
    "%%time\n",
    "\n",
    "modelo=ARIMA(train, order=(4, 1, 2)).fit()\n",
    "\n",
    "                     \n",
    "pred=modelo.predict(len(train), len(df.CO2)-1)     \n",
    "error=(pred-test).abs().sum()/len(pred) \n",
    "print ('Error mae: ', error)\n",
    "\n",
    "\n",
    "res=pd.DataFrame({'real':test, 'pred':pred, 'diff':pred-test})\n",
    "res"
   ]
  },
  {
   "cell_type": "markdown",
   "id": "de9153a6",
   "metadata": {},
   "source": [
    "### ADF-test (testeo de la estacionaridad)\n",
    "\n",
    "https://www.statsmodels.org/stable/generated/statsmodels.tsa.stattools.adfuller.html"
   ]
  },
  {
   "cell_type": "markdown",
   "id": "9e6192ba",
   "metadata": {},
   "source": [
    "### SARIMA (Seasonal AutoRegressive Integrated Moving Average)\n",
    "Arima por estaciones.\n",
    "\n",
    "### SARIMAX (Seasonal AutoRegressive Integrated Moving Average Exogenous)\n",
    "SARIMA con regresores exógenos."
   ]
  },
  {
   "cell_type": "code",
   "execution_count": null,
   "id": "712f287e",
   "metadata": {},
   "outputs": [],
   "source": [
    "from statsmodels.tsa.statespace.sarimax import SARIMAX"
   ]
  },
  {
   "cell_type": "code",
   "execution_count": null,
   "id": "834332d3",
   "metadata": {},
   "outputs": [],
   "source": [
    "%%time\n",
    "\n",
    "modelo=SARIMAX(endog=train, \n",
    "               #order=(4, 1, 5),  # modelo arima\n",
    "               seasonal_order=(4, 1, 5, 2) # modelo sarima, estacionalidad es el ultimo\n",
    "              ).fit(disp=False)\n",
    "                     \n",
    "pred=modelo.predict(len(train), len(df.CO2)-1)     \n",
    "error=(pred-test).abs().sum()/len(pred) \n",
    "print ('Error mae: ', error)\n",
    "\n",
    "\n",
    "res=pd.DataFrame({'real':test, 'pred':pred, 'diff':pred-test})\n",
    "res"
   ]
  },
  {
   "cell_type": "markdown",
   "id": "02b88742",
   "metadata": {},
   "source": [
    "## FB-Prophet\n",
    "\n",
    "https://facebook.github.io/prophet/docs/quick_start.html"
   ]
  },
  {
   "cell_type": "code",
   "execution_count": null,
   "id": "7db5f702",
   "metadata": {},
   "outputs": [],
   "source": [
    "#!pip install fbprophet\n",
    "#!conda install -c conda-forge fbprophet"
   ]
  },
  {
   "cell_type": "code",
   "execution_count": null,
   "id": "96639604",
   "metadata": {},
   "outputs": [],
   "source": [
    "import numpy as np\n",
    "import pandas as pd\n",
    "import seaborn as sns\n",
    "import matplotlib.pyplot as plt\n",
    "\n",
    "from fbprophet import Prophet\n",
    "\n",
    "from sklearn.metrics import mean_squared_error, mean_absolute_error\n",
    "\n",
    "plt.style.use('fivethirtyeight')"
   ]
  },
  {
   "cell_type": "code",
   "execution_count": null,
   "id": "58ac2622",
   "metadata": {},
   "outputs": [],
   "source": [
    "# datos, consumo de energia\n",
    "\n",
    "pjme=pd.read_csv('../data/PJME_hourly.csv', index_col=[0], parse_dates=[0])\n",
    "pjme.tail()"
   ]
  },
  {
   "cell_type": "code",
   "execution_count": null,
   "id": "e2fbac48",
   "metadata": {},
   "outputs": [],
   "source": [
    "_=pjme.plot(style='.', figsize=(15, 5), color='r', title='PJME')"
   ]
  },
  {
   "cell_type": "code",
   "execution_count": null,
   "id": "37c125c9",
   "metadata": {},
   "outputs": [],
   "source": [
    "# se definen las caracteristicas temporales\n",
    "\n",
    "def features(df, label):\n",
    "    df=df.copy()\n",
    "    df['date']=df.index\n",
    "    df['hour']=df.date.dt.hour\n",
    "    df['day_of_week']=df.date.dt.dayofweek\n",
    "    df['quarter']=df.date.dt.quarter\n",
    "    df['month']=df.date.dt.month\n",
    "    df['year']=df.date.dt.year\n",
    "    df['day_of_year']=df.date.dt.dayofyear\n",
    "    df['day_of_month']=df.date.dt.day\n",
    "    df['week_of_year']=df.date.dt.weekofyear\n",
    "    \n",
    "    X=df[['hour', 'day_of_week', 'quarter', 'month', 'year',\n",
    "          'day_of_year', 'day_of_month', 'week_of_year']]\n",
    "    y=df[label]\n",
    "    \n",
    "    return X,y"
   ]
  },
  {
   "cell_type": "code",
   "execution_count": null,
   "id": "4b4bfecf",
   "metadata": {},
   "outputs": [],
   "source": [
    "X, y = features(pjme, 'PJME_MW')\n",
    "\n",
    "data=pd.concat([X, y], axis=1)\n",
    "\n",
    "data.head()"
   ]
  },
  {
   "cell_type": "code",
   "execution_count": null,
   "id": "00dc3028",
   "metadata": {},
   "outputs": [],
   "source": [
    "sns.pairplot(data.dropna(), hue='hour', \n",
    "            x_vars=['hour', 'day_of_week', 'year', 'week_of_year'],\n",
    "            y_vars='PJME_MW', height=5, plot_kws={'alpha':0.1, 'linewidth':0})\n",
    "\n",
    "plt.suptitle('MW por hora, dia, dia de la semana, y semana del año')\n",
    "plt.show();"
   ]
  },
  {
   "cell_type": "code",
   "execution_count": null,
   "id": "9142d9ef",
   "metadata": {},
   "outputs": [],
   "source": [
    "split_date='01-Jan-2015'\n",
    "\n",
    "train=pjme.loc[pjme.index<=split_date].copy()\n",
    "test=pjme.loc[pjme.index>split_date].copy()\n",
    "\n",
    "_=test.rename(columns={'PJME_MW': 'Test'})\\\n",
    "      .join(train.rename(columns={'PJME_MW': 'Train'}), how='outer')\\\n",
    "      .plot(figsize=(15,5), title='PJME', style='.')"
   ]
  },
  {
   "cell_type": "code",
   "execution_count": null,
   "id": "d4e1bb92",
   "metadata": {},
   "outputs": [],
   "source": [
    "# modelo\n",
    "\n",
    "train=train.reset_index().rename(columns={'Datetime':'ds', 'PJME_MW':'y'})\n",
    "test=test.reset_index().rename(columns={'Datetime':'ds', 'PJME_MW':'y'})\n",
    "train.head()"
   ]
  },
  {
   "cell_type": "code",
   "execution_count": null,
   "id": "7dbdf35a",
   "metadata": {},
   "outputs": [],
   "source": [
    "%%time\n",
    "modelo=Prophet().fit(train)\n",
    "\n",
    "pred=modelo.predict(test)"
   ]
  },
  {
   "cell_type": "code",
   "execution_count": null,
   "id": "c339a391",
   "metadata": {},
   "outputs": [],
   "source": [
    "f, ax=plt.subplots(1)\n",
    "f.set_figheight(5)\n",
    "f.set_figwidth(15)\n",
    "fig=modelo.plot(pred, ax=ax)"
   ]
  },
  {
   "cell_type": "code",
   "execution_count": null,
   "id": "1381bb22",
   "metadata": {},
   "outputs": [],
   "source": [
    "# comparando\n",
    "\n",
    "f, ax=plt.subplots(1)\n",
    "f.set_figheight(5)\n",
    "f.set_figwidth(15)\n",
    "ax.scatter(test.ds, test.y, color='r')\n",
    "fig=modelo.plot(pred, ax)"
   ]
  },
  {
   "cell_type": "code",
   "execution_count": null,
   "id": "e265b58d",
   "metadata": {},
   "outputs": [],
   "source": [
    "# metricas de error\n",
    "\n",
    "mean_squared_error(test.y, pred.yhat)**0.5"
   ]
  },
  {
   "cell_type": "code",
   "execution_count": null,
   "id": "9cd587de",
   "metadata": {},
   "outputs": [],
   "source": [
    "mean_absolute_error(test.y, pred.yhat)"
   ]
  },
  {
   "cell_type": "code",
   "execution_count": null,
   "id": "d551eeec",
   "metadata": {},
   "outputs": [],
   "source": [
    "fig = modelo.plot_components(pred)"
   ]
  },
  {
   "cell_type": "code",
   "execution_count": null,
   "id": "68eac171",
   "metadata": {},
   "outputs": [],
   "source": [
    "# Con vacaciones\n",
    "\n",
    "from pandas.tseries.holiday import USFederalHolidayCalendar as calendar\n",
    "\n",
    "cal = calendar()\n",
    "train_h = cal.holidays(train.index.min(), train.index.max())\n",
    "test_h = cal.holidays(test.index.min(), test.index.max())"
   ]
  },
  {
   "cell_type": "code",
   "execution_count": null,
   "id": "f7eab41c",
   "metadata": {},
   "outputs": [],
   "source": [
    "pjme['date'] = pjme.index.date\n",
    "pjme['is_holiday'] = pjme.date.isin([d.date() for d in cal.holidays()])\n",
    "\n",
    "df_h = pjme.loc[pjme['is_holiday']].reset_index().rename(columns={'Datetime':'ds'})\n",
    "\n",
    "df_h['holiday'] = 'USFederalHoliday'\n",
    "df_h = df_h.drop(['PJME_MW','date','is_holiday'], axis=1)\n",
    "\n",
    "df_h.head()"
   ]
  },
  {
   "cell_type": "code",
   "execution_count": null,
   "id": "8d8873fb",
   "metadata": {},
   "outputs": [],
   "source": [
    "modelo_h=Prophet(holidays=df_h).fit(train)\n",
    "\n",
    "fig2=modelo_h.plot_components(pred)"
   ]
  },
  {
   "cell_type": "code",
   "execution_count": null,
   "id": "acf77839",
   "metadata": {},
   "outputs": [],
   "source": [
    "pred_h=modelo.predict(test)\n",
    "pred_h.head()"
   ]
  },
  {
   "cell_type": "code",
   "execution_count": null,
   "id": "973c2008",
   "metadata": {},
   "outputs": [],
   "source": [
    "mean_squared_error(test.y, pred_h.yhat, squared=False)"
   ]
  },
  {
   "cell_type": "code",
   "execution_count": null,
   "id": "c3c7d858",
   "metadata": {},
   "outputs": [],
   "source": [
    "mean_absolute_error(test.y, pred_h.yhat)"
   ]
  },
  {
   "cell_type": "code",
   "execution_count": null,
   "id": "d9d3db34",
   "metadata": {},
   "outputs": [],
   "source": [
    "#!pip install yfinance"
   ]
  },
  {
   "cell_type": "code",
   "execution_count": null,
   "id": "ddad7d1a",
   "metadata": {},
   "outputs": [],
   "source": [
    "import pandas as pd\n",
    "import yfinance as yf\n",
    "\n",
    "import time"
   ]
  },
  {
   "cell_type": "code",
   "execution_count": null,
   "id": "1ac25dd0",
   "metadata": {},
   "outputs": [],
   "source": [
    "data=yf.download(tickers='UBER', period='5d', interval='1m')\n",
    "\n",
    "data['datetime']=data.index\n",
    "\n",
    "data.to_dict(orient='records')[-1]"
   ]
  },
  {
   "cell_type": "code",
   "execution_count": null,
   "id": "0181fb0c",
   "metadata": {},
   "outputs": [],
   "source": [
    "data.head()"
   ]
  },
  {
   "cell_type": "code",
   "execution_count": null,
   "id": "c98e8b90",
   "metadata": {},
   "outputs": [],
   "source": [
    "data=yf.download(tickers='^DJI', period='5d', interval='1m')\n",
    "\n",
    "data['datetime']=data.index\n",
    "\n",
    "data.to_dict(orient='records')[-1]"
   ]
  },
  {
   "cell_type": "code",
   "execution_count": null,
   "id": "9018b324",
   "metadata": {},
   "outputs": [],
   "source": [
    "data=yf.download(tickers='^IBEX', period='5d', interval='1m')\n",
    "\n",
    "data['datetime']=data.index\n",
    "\n",
    "data.tail()"
   ]
  },
  {
   "cell_type": "code",
   "execution_count": null,
   "id": "492eb124",
   "metadata": {},
   "outputs": [],
   "source": [
    "while 1:\n",
    "    data=yf.download(tickers='^IBEX', period='5d', interval='1m')\n",
    "\n",
    "    data['datetime']=data.index\n",
    "\n",
    "    print(data.tail(1))\n",
    "    \n",
    "    time.sleep(0.5)"
   ]
  },
  {
   "cell_type": "code",
   "execution_count": null,
   "id": "137467c6",
   "metadata": {},
   "outputs": [],
   "source": []
  },
  {
   "cell_type": "code",
   "execution_count": null,
   "id": "7a6783fe",
   "metadata": {},
   "outputs": [],
   "source": []
  },
  {
   "cell_type": "code",
   "execution_count": null,
   "id": "03f76ae1",
   "metadata": {},
   "outputs": [],
   "source": []
  }
 ],
 "metadata": {
  "finalized": {
   "timestamp": 1652038743379,
   "trusted": true
  },
  "kernelspec": {
   "display_name": "clase",
   "language": "python",
   "name": "clase"
  },
  "language_info": {
   "codemirror_mode": {
    "name": "ipython",
    "version": 3
   },
   "file_extension": ".py",
   "mimetype": "text/x-python",
   "name": "python",
   "nbconvert_exporter": "python",
   "pygments_lexer": "ipython3",
   "version": "3.9.7"
  },
  "varInspector": {
   "cols": {
    "lenName": 16,
    "lenType": 16,
    "lenVar": 40
   },
   "kernels_config": {
    "python": {
     "delete_cmd_postfix": "",
     "delete_cmd_prefix": "del ",
     "library": "var_list.py",
     "varRefreshCmd": "print(var_dic_list())"
    },
    "r": {
     "delete_cmd_postfix": ") ",
     "delete_cmd_prefix": "rm(",
     "library": "var_list.r",
     "varRefreshCmd": "cat(var_dic_list()) "
    }
   },
   "types_to_exclude": [
    "module",
    "function",
    "builtin_function_or_method",
    "instance",
    "_Feature"
   ],
   "window_display": false
  }
 },
 "nbformat": 4,
 "nbformat_minor": 5
}
