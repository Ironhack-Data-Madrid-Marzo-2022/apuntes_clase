{
 "cells": [
  {
   "cell_type": "markdown",
   "id": "2d305db2",
   "metadata": {},
   "source": [
    "# 4.1 - Data Cleaning 2\n",
    "\n",
    "\n",
    "![cleaning2](images/data_cleaning_cycle.avif)"
   ]
  },
  {
   "cell_type": "markdown",
   "id": "f74b9014",
   "metadata": {},
   "source": [
    "# Ejemplo 1 - Airbnb data\n",
    "\n",
    "\n",
    "En esta limpieza nos centraremos en tres conceptos:\n",
    "\n",
    "+ Valores nulos.\n",
    "+ Datos inconsistentes \n",
    "+ Valores atípicos (Outliers)"
   ]
  },
  {
   "cell_type": "markdown",
   "id": "01169cd0",
   "metadata": {},
   "source": [
    "Primero importamos librerias y los datos."
   ]
  },
  {
   "cell_type": "code",
   "execution_count": 1,
   "id": "dc6ddc55",
   "metadata": {},
   "outputs": [
    {
     "name": "stdout",
     "output_type": "stream",
     "text": [
      "Requirement already satisfied: ipython in /Users/iudh/miniforge3/envs/clase/lib/python3.9/site-packages (8.1.1)\n",
      "Requirement already satisfied: stack-data in /Users/iudh/miniforge3/envs/clase/lib/python3.9/site-packages (from ipython) (0.2.0)\n",
      "Requirement already satisfied: pexpect>4.3 in /Users/iudh/miniforge3/envs/clase/lib/python3.9/site-packages (from ipython) (4.8.0)\n",
      "Requirement already satisfied: traitlets>=5 in /Users/iudh/miniforge3/envs/clase/lib/python3.9/site-packages (from ipython) (5.1.1)\n",
      "Requirement already satisfied: appnope in /Users/iudh/miniforge3/envs/clase/lib/python3.9/site-packages (from ipython) (0.1.2)\n",
      "Requirement already satisfied: pickleshare in /Users/iudh/miniforge3/envs/clase/lib/python3.9/site-packages (from ipython) (0.7.5)\n",
      "Requirement already satisfied: setuptools>=18.5 in /Users/iudh/miniforge3/envs/clase/lib/python3.9/site-packages (from ipython) (58.0.4)\n",
      "Requirement already satisfied: backcall in /Users/iudh/miniforge3/envs/clase/lib/python3.9/site-packages (from ipython) (0.2.0)\n",
      "Requirement already satisfied: pygments>=2.4.0 in /Users/iudh/miniforge3/envs/clase/lib/python3.9/site-packages (from ipython) (2.11.2)\n",
      "Requirement already satisfied: matplotlib-inline in /Users/iudh/miniforge3/envs/clase/lib/python3.9/site-packages (from ipython) (0.1.3)\n",
      "Requirement already satisfied: decorator in /Users/iudh/miniforge3/envs/clase/lib/python3.9/site-packages (from ipython) (5.1.1)\n",
      "Requirement already satisfied: jedi>=0.16 in /Users/iudh/miniforge3/envs/clase/lib/python3.9/site-packages (from ipython) (0.18.1)\n",
      "Requirement already satisfied: prompt-toolkit!=3.0.0,!=3.0.1,<3.1.0,>=2.0.0 in /Users/iudh/miniforge3/envs/clase/lib/python3.9/site-packages (from ipython) (3.0.28)\n",
      "Requirement already satisfied: parso<0.9.0,>=0.8.0 in /Users/iudh/miniforge3/envs/clase/lib/python3.9/site-packages (from jedi>=0.16->ipython) (0.8.3)\n",
      "Requirement already satisfied: ptyprocess>=0.5 in /Users/iudh/miniforge3/envs/clase/lib/python3.9/site-packages (from pexpect>4.3->ipython) (0.7.0)\n",
      "Requirement already satisfied: wcwidth in /Users/iudh/miniforge3/envs/clase/lib/python3.9/site-packages (from prompt-toolkit!=3.0.0,!=3.0.1,<3.1.0,>=2.0.0->ipython) (0.2.5)\n",
      "Requirement already satisfied: asttokens in /Users/iudh/miniforge3/envs/clase/lib/python3.9/site-packages (from stack-data->ipython) (2.0.5)\n",
      "Requirement already satisfied: pure-eval in /Users/iudh/miniforge3/envs/clase/lib/python3.9/site-packages (from stack-data->ipython) (0.2.2)\n",
      "Requirement already satisfied: executing in /Users/iudh/miniforge3/envs/clase/lib/python3.9/site-packages (from stack-data->ipython) (0.8.3)\n",
      "Requirement already satisfied: six in /Users/iudh/miniforge3/envs/clase/lib/python3.9/site-packages (from asttokens->stack-data->ipython) (1.16.0)\n",
      "Requirement already satisfied: seaborn in /Users/iudh/miniforge3/envs/clase/lib/python3.9/site-packages (0.11.2)\n",
      "Requirement already satisfied: numpy>=1.15 in /Users/iudh/miniforge3/envs/clase/lib/python3.9/site-packages (from seaborn) (1.21.2)\n",
      "Requirement already satisfied: matplotlib>=2.2 in /Users/iudh/miniforge3/envs/clase/lib/python3.9/site-packages (from seaborn) (3.5.1)\n",
      "Requirement already satisfied: pandas>=0.23 in /Users/iudh/miniforge3/envs/clase/lib/python3.9/site-packages (from seaborn) (1.4.1)\n",
      "Requirement already satisfied: scipy>=1.0 in /Users/iudh/miniforge3/envs/clase/lib/python3.9/site-packages (from seaborn) (1.7.3)\n",
      "Requirement already satisfied: kiwisolver>=1.0.1 in /Users/iudh/miniforge3/envs/clase/lib/python3.9/site-packages (from matplotlib>=2.2->seaborn) (1.4.2)\n",
      "Requirement already satisfied: packaging>=20.0 in /Users/iudh/miniforge3/envs/clase/lib/python3.9/site-packages (from matplotlib>=2.2->seaborn) (21.3)\n",
      "Requirement already satisfied: python-dateutil>=2.7 in /Users/iudh/miniforge3/envs/clase/lib/python3.9/site-packages (from matplotlib>=2.2->seaborn) (2.8.2)\n",
      "Requirement already satisfied: pyparsing>=2.2.1 in /Users/iudh/miniforge3/envs/clase/lib/python3.9/site-packages (from matplotlib>=2.2->seaborn) (3.0.7)\n",
      "Requirement already satisfied: pillow>=6.2.0 in /Users/iudh/miniforge3/envs/clase/lib/python3.9/site-packages (from matplotlib>=2.2->seaborn) (9.0.1)\n",
      "Requirement already satisfied: fonttools>=4.22.0 in /Users/iudh/miniforge3/envs/clase/lib/python3.9/site-packages (from matplotlib>=2.2->seaborn) (4.31.2)\n",
      "Requirement already satisfied: cycler>=0.10 in /Users/iudh/miniforge3/envs/clase/lib/python3.9/site-packages (from matplotlib>=2.2->seaborn) (0.11.0)\n",
      "Requirement already satisfied: pytz>=2020.1 in /Users/iudh/miniforge3/envs/clase/lib/python3.9/site-packages (from pandas>=0.23->seaborn) (2021.3)\n",
      "Requirement already satisfied: six>=1.5 in /Users/iudh/miniforge3/envs/clase/lib/python3.9/site-packages (from python-dateutil>=2.7->matplotlib>=2.2->seaborn) (1.16.0)\n"
     ]
    }
   ],
   "source": [
    "!pip install ipython\n",
    "!pip install seaborn"
   ]
  },
  {
   "cell_type": "code",
   "execution_count": 2,
   "id": "5704994d",
   "metadata": {},
   "outputs": [],
   "source": [
    "#  librerias\n",
    "\n",
    "import pandas as pd\n",
    "pd.set_option('display.max_columns', None)\n",
    "\n",
    "import numpy as np\n",
    "\n",
    "import warnings\n",
    "warnings.simplefilter('ignore')\n",
    "\n",
    "# para pintar\n",
    "import pylab as plt\n",
    "import seaborn as sns\n",
    "\n",
    "# para que salga el grafico\n",
    "%matplotlib inline  "
   ]
  },
  {
   "cell_type": "code",
   "execution_count": 3,
   "id": "b4ab466c",
   "metadata": {},
   "outputs": [
    {
     "data": {
      "text/html": [
       "<div>\n",
       "<style scoped>\n",
       "    .dataframe tbody tr th:only-of-type {\n",
       "        vertical-align: middle;\n",
       "    }\n",
       "\n",
       "    .dataframe tbody tr th {\n",
       "        vertical-align: top;\n",
       "    }\n",
       "\n",
       "    .dataframe thead th {\n",
       "        text-align: right;\n",
       "    }\n",
       "</style>\n",
       "<table border=\"1\" class=\"dataframe\">\n",
       "  <thead>\n",
       "    <tr style=\"text-align: right;\">\n",
       "      <th></th>\n",
       "      <th>id</th>\n",
       "      <th>name</th>\n",
       "      <th>host_id</th>\n",
       "      <th>host_name</th>\n",
       "      <th>neighbourhood_group</th>\n",
       "      <th>neighbourhood</th>\n",
       "      <th>latitude</th>\n",
       "      <th>longitude</th>\n",
       "      <th>room_type</th>\n",
       "      <th>price</th>\n",
       "      <th>minimum_nights</th>\n",
       "      <th>number_of_reviews</th>\n",
       "      <th>last_review</th>\n",
       "      <th>reviews_per_month</th>\n",
       "      <th>calculated_host_listings_count</th>\n",
       "      <th>availability_365</th>\n",
       "    </tr>\n",
       "  </thead>\n",
       "  <tbody>\n",
       "    <tr>\n",
       "      <th>0</th>\n",
       "      <td>2539</td>\n",
       "      <td>Clean &amp; quiet apt home by the park</td>\n",
       "      <td>2787</td>\n",
       "      <td>John</td>\n",
       "      <td>Brooklyn</td>\n",
       "      <td>Kensington</td>\n",
       "      <td>40.64749</td>\n",
       "      <td>-73.97237</td>\n",
       "      <td>Private room</td>\n",
       "      <td>149</td>\n",
       "      <td>1</td>\n",
       "      <td>9</td>\n",
       "      <td>2018-10-19</td>\n",
       "      <td>0.21</td>\n",
       "      <td>6</td>\n",
       "      <td>365</td>\n",
       "    </tr>\n",
       "    <tr>\n",
       "      <th>1</th>\n",
       "      <td>2595</td>\n",
       "      <td>Skylit Midtown Castle</td>\n",
       "      <td>2845</td>\n",
       "      <td>Jennifer</td>\n",
       "      <td>Manhattan</td>\n",
       "      <td>Midtown</td>\n",
       "      <td>40.75362</td>\n",
       "      <td>-73.98377</td>\n",
       "      <td>Entire home/apt</td>\n",
       "      <td>225</td>\n",
       "      <td>1</td>\n",
       "      <td>45</td>\n",
       "      <td>2019-05-21</td>\n",
       "      <td>0.38</td>\n",
       "      <td>2</td>\n",
       "      <td>355</td>\n",
       "    </tr>\n",
       "    <tr>\n",
       "      <th>2</th>\n",
       "      <td>3647</td>\n",
       "      <td>THE VILLAGE OF HARLEM....NEW YORK !</td>\n",
       "      <td>4632</td>\n",
       "      <td>Elisabeth</td>\n",
       "      <td>Manhattan</td>\n",
       "      <td>Harlem</td>\n",
       "      <td>40.80902</td>\n",
       "      <td>-73.94190</td>\n",
       "      <td>Private room</td>\n",
       "      <td>150</td>\n",
       "      <td>3</td>\n",
       "      <td>0</td>\n",
       "      <td>NaN</td>\n",
       "      <td>NaN</td>\n",
       "      <td>1</td>\n",
       "      <td>365</td>\n",
       "    </tr>\n",
       "    <tr>\n",
       "      <th>3</th>\n",
       "      <td>3831</td>\n",
       "      <td>Cozy Entire Floor of Brownstone</td>\n",
       "      <td>4869</td>\n",
       "      <td>LisaRoxanne</td>\n",
       "      <td>Brooklyn</td>\n",
       "      <td>Clinton Hill</td>\n",
       "      <td>40.68514</td>\n",
       "      <td>-73.95976</td>\n",
       "      <td>Entire home/apt</td>\n",
       "      <td>89</td>\n",
       "      <td>1</td>\n",
       "      <td>270</td>\n",
       "      <td>2019-07-05</td>\n",
       "      <td>4.64</td>\n",
       "      <td>1</td>\n",
       "      <td>194</td>\n",
       "    </tr>\n",
       "    <tr>\n",
       "      <th>4</th>\n",
       "      <td>5022</td>\n",
       "      <td>Entire Apt: Spacious Studio/Loft by central park</td>\n",
       "      <td>7192</td>\n",
       "      <td>Laura</td>\n",
       "      <td>Manhattan</td>\n",
       "      <td>East Harlem</td>\n",
       "      <td>40.79851</td>\n",
       "      <td>-73.94399</td>\n",
       "      <td>Entire home/apt</td>\n",
       "      <td>80</td>\n",
       "      <td>10</td>\n",
       "      <td>9</td>\n",
       "      <td>2018-11-19</td>\n",
       "      <td>0.10</td>\n",
       "      <td>1</td>\n",
       "      <td>0</td>\n",
       "    </tr>\n",
       "  </tbody>\n",
       "</table>\n",
       "</div>"
      ],
      "text/plain": [
       "     id                                              name  host_id  \\\n",
       "0  2539                Clean & quiet apt home by the park     2787   \n",
       "1  2595                             Skylit Midtown Castle     2845   \n",
       "2  3647               THE VILLAGE OF HARLEM....NEW YORK !     4632   \n",
       "3  3831                   Cozy Entire Floor of Brownstone     4869   \n",
       "4  5022  Entire Apt: Spacious Studio/Loft by central park     7192   \n",
       "\n",
       "     host_name neighbourhood_group neighbourhood  latitude  longitude  \\\n",
       "0         John            Brooklyn    Kensington  40.64749  -73.97237   \n",
       "1     Jennifer           Manhattan       Midtown  40.75362  -73.98377   \n",
       "2    Elisabeth           Manhattan        Harlem  40.80902  -73.94190   \n",
       "3  LisaRoxanne            Brooklyn  Clinton Hill  40.68514  -73.95976   \n",
       "4        Laura           Manhattan   East Harlem  40.79851  -73.94399   \n",
       "\n",
       "         room_type  price  minimum_nights  number_of_reviews last_review  \\\n",
       "0     Private room    149               1                  9  2018-10-19   \n",
       "1  Entire home/apt    225               1                 45  2019-05-21   \n",
       "2     Private room    150               3                  0         NaN   \n",
       "3  Entire home/apt     89               1                270  2019-07-05   \n",
       "4  Entire home/apt     80              10                  9  2018-11-19   \n",
       "\n",
       "   reviews_per_month  calculated_host_listings_count  availability_365  \n",
       "0               0.21                               6               365  \n",
       "1               0.38                               2               355  \n",
       "2                NaN                               1               365  \n",
       "3               4.64                               1               194  \n",
       "4               0.10                               1                 0  "
      ]
     },
     "execution_count": 3,
     "metadata": {},
     "output_type": "execute_result"
    }
   ],
   "source": [
    "# se cargan los datos y se guarda el original en una variable\n",
    "\n",
    "airbnb_ori=pd.read_csv('../data/AB_NYC_2019.csv')\n",
    "\n",
    "airbnb=airbnb_ori.copy()\n",
    "\n",
    "airbnb.head()"
   ]
  },
  {
   "cell_type": "markdown",
   "id": "064e3d91",
   "metadata": {},
   "source": [
    "**EDA**\n",
    "\n",
    "Se comienza la exploracion de los datos."
   ]
  },
  {
   "cell_type": "code",
   "execution_count": 4,
   "id": "8a5c78fa",
   "metadata": {},
   "outputs": [
    {
     "data": {
      "text/html": [
       "<div>\n",
       "<style scoped>\n",
       "    .dataframe tbody tr th:only-of-type {\n",
       "        vertical-align: middle;\n",
       "    }\n",
       "\n",
       "    .dataframe tbody tr th {\n",
       "        vertical-align: top;\n",
       "    }\n",
       "\n",
       "    .dataframe thead th {\n",
       "        text-align: right;\n",
       "    }\n",
       "</style>\n",
       "<table border=\"1\" class=\"dataframe\">\n",
       "  <thead>\n",
       "    <tr style=\"text-align: right;\">\n",
       "      <th></th>\n",
       "      <th>count</th>\n",
       "      <th>mean</th>\n",
       "      <th>std</th>\n",
       "      <th>min</th>\n",
       "      <th>25%</th>\n",
       "      <th>50%</th>\n",
       "      <th>75%</th>\n",
       "      <th>max</th>\n",
       "    </tr>\n",
       "  </thead>\n",
       "  <tbody>\n",
       "    <tr>\n",
       "      <th>id</th>\n",
       "      <td>48895.0</td>\n",
       "      <td>1.901714e+07</td>\n",
       "      <td>1.098311e+07</td>\n",
       "      <td>2539.00000</td>\n",
       "      <td>9.471945e+06</td>\n",
       "      <td>1.967728e+07</td>\n",
       "      <td>2.915218e+07</td>\n",
       "      <td>3.648724e+07</td>\n",
       "    </tr>\n",
       "    <tr>\n",
       "      <th>host_id</th>\n",
       "      <td>48895.0</td>\n",
       "      <td>6.762001e+07</td>\n",
       "      <td>7.861097e+07</td>\n",
       "      <td>2438.00000</td>\n",
       "      <td>7.822033e+06</td>\n",
       "      <td>3.079382e+07</td>\n",
       "      <td>1.074344e+08</td>\n",
       "      <td>2.743213e+08</td>\n",
       "    </tr>\n",
       "    <tr>\n",
       "      <th>latitude</th>\n",
       "      <td>48895.0</td>\n",
       "      <td>4.072895e+01</td>\n",
       "      <td>5.453008e-02</td>\n",
       "      <td>40.49979</td>\n",
       "      <td>4.069010e+01</td>\n",
       "      <td>4.072307e+01</td>\n",
       "      <td>4.076311e+01</td>\n",
       "      <td>4.091306e+01</td>\n",
       "    </tr>\n",
       "    <tr>\n",
       "      <th>longitude</th>\n",
       "      <td>48895.0</td>\n",
       "      <td>-7.395217e+01</td>\n",
       "      <td>4.615674e-02</td>\n",
       "      <td>-74.24442</td>\n",
       "      <td>-7.398307e+01</td>\n",
       "      <td>-7.395568e+01</td>\n",
       "      <td>-7.393627e+01</td>\n",
       "      <td>-7.371299e+01</td>\n",
       "    </tr>\n",
       "    <tr>\n",
       "      <th>price</th>\n",
       "      <td>48895.0</td>\n",
       "      <td>1.527207e+02</td>\n",
       "      <td>2.401542e+02</td>\n",
       "      <td>0.00000</td>\n",
       "      <td>6.900000e+01</td>\n",
       "      <td>1.060000e+02</td>\n",
       "      <td>1.750000e+02</td>\n",
       "      <td>1.000000e+04</td>\n",
       "    </tr>\n",
       "    <tr>\n",
       "      <th>minimum_nights</th>\n",
       "      <td>48895.0</td>\n",
       "      <td>7.029962e+00</td>\n",
       "      <td>2.051055e+01</td>\n",
       "      <td>1.00000</td>\n",
       "      <td>1.000000e+00</td>\n",
       "      <td>3.000000e+00</td>\n",
       "      <td>5.000000e+00</td>\n",
       "      <td>1.250000e+03</td>\n",
       "    </tr>\n",
       "    <tr>\n",
       "      <th>number_of_reviews</th>\n",
       "      <td>48895.0</td>\n",
       "      <td>2.327447e+01</td>\n",
       "      <td>4.455058e+01</td>\n",
       "      <td>0.00000</td>\n",
       "      <td>1.000000e+00</td>\n",
       "      <td>5.000000e+00</td>\n",
       "      <td>2.400000e+01</td>\n",
       "      <td>6.290000e+02</td>\n",
       "    </tr>\n",
       "    <tr>\n",
       "      <th>reviews_per_month</th>\n",
       "      <td>38843.0</td>\n",
       "      <td>1.373221e+00</td>\n",
       "      <td>1.680442e+00</td>\n",
       "      <td>0.01000</td>\n",
       "      <td>1.900000e-01</td>\n",
       "      <td>7.200000e-01</td>\n",
       "      <td>2.020000e+00</td>\n",
       "      <td>5.850000e+01</td>\n",
       "    </tr>\n",
       "    <tr>\n",
       "      <th>calculated_host_listings_count</th>\n",
       "      <td>48895.0</td>\n",
       "      <td>7.143982e+00</td>\n",
       "      <td>3.295252e+01</td>\n",
       "      <td>1.00000</td>\n",
       "      <td>1.000000e+00</td>\n",
       "      <td>1.000000e+00</td>\n",
       "      <td>2.000000e+00</td>\n",
       "      <td>3.270000e+02</td>\n",
       "    </tr>\n",
       "    <tr>\n",
       "      <th>availability_365</th>\n",
       "      <td>48895.0</td>\n",
       "      <td>1.127813e+02</td>\n",
       "      <td>1.316223e+02</td>\n",
       "      <td>0.00000</td>\n",
       "      <td>0.000000e+00</td>\n",
       "      <td>4.500000e+01</td>\n",
       "      <td>2.270000e+02</td>\n",
       "      <td>3.650000e+02</td>\n",
       "    </tr>\n",
       "  </tbody>\n",
       "</table>\n",
       "</div>"
      ],
      "text/plain": [
       "                                  count          mean           std  \\\n",
       "id                              48895.0  1.901714e+07  1.098311e+07   \n",
       "host_id                         48895.0  6.762001e+07  7.861097e+07   \n",
       "latitude                        48895.0  4.072895e+01  5.453008e-02   \n",
       "longitude                       48895.0 -7.395217e+01  4.615674e-02   \n",
       "price                           48895.0  1.527207e+02  2.401542e+02   \n",
       "minimum_nights                  48895.0  7.029962e+00  2.051055e+01   \n",
       "number_of_reviews               48895.0  2.327447e+01  4.455058e+01   \n",
       "reviews_per_month               38843.0  1.373221e+00  1.680442e+00   \n",
       "calculated_host_listings_count  48895.0  7.143982e+00  3.295252e+01   \n",
       "availability_365                48895.0  1.127813e+02  1.316223e+02   \n",
       "\n",
       "                                       min           25%           50%  \\\n",
       "id                              2539.00000  9.471945e+06  1.967728e+07   \n",
       "host_id                         2438.00000  7.822033e+06  3.079382e+07   \n",
       "latitude                          40.49979  4.069010e+01  4.072307e+01   \n",
       "longitude                        -74.24442 -7.398307e+01 -7.395568e+01   \n",
       "price                              0.00000  6.900000e+01  1.060000e+02   \n",
       "minimum_nights                     1.00000  1.000000e+00  3.000000e+00   \n",
       "number_of_reviews                  0.00000  1.000000e+00  5.000000e+00   \n",
       "reviews_per_month                  0.01000  1.900000e-01  7.200000e-01   \n",
       "calculated_host_listings_count     1.00000  1.000000e+00  1.000000e+00   \n",
       "availability_365                   0.00000  0.000000e+00  4.500000e+01   \n",
       "\n",
       "                                         75%           max  \n",
       "id                              2.915218e+07  3.648724e+07  \n",
       "host_id                         1.074344e+08  2.743213e+08  \n",
       "latitude                        4.076311e+01  4.091306e+01  \n",
       "longitude                      -7.393627e+01 -7.371299e+01  \n",
       "price                           1.750000e+02  1.000000e+04  \n",
       "minimum_nights                  5.000000e+00  1.250000e+03  \n",
       "number_of_reviews               2.400000e+01  6.290000e+02  \n",
       "reviews_per_month               2.020000e+00  5.850000e+01  \n",
       "calculated_host_listings_count  2.000000e+00  3.270000e+02  \n",
       "availability_365                2.270000e+02  3.650000e+02  "
      ]
     },
     "execution_count": 4,
     "metadata": {},
     "output_type": "execute_result"
    }
   ],
   "source": [
    "airbnb.describe().T"
   ]
  },
  {
   "cell_type": "code",
   "execution_count": 5,
   "id": "1ee56d8d",
   "metadata": {},
   "outputs": [
    {
     "name": "stdout",
     "output_type": "stream",
     "text": [
      "<class 'pandas.core.frame.DataFrame'>\n",
      "RangeIndex: 48895 entries, 0 to 48894\n",
      "Data columns (total 16 columns):\n",
      " #   Column                          Non-Null Count  Dtype  \n",
      "---  ------                          --------------  -----  \n",
      " 0   id                              48895 non-null  int64  \n",
      " 1   name                            48879 non-null  object \n",
      " 2   host_id                         48895 non-null  int64  \n",
      " 3   host_name                       48874 non-null  object \n",
      " 4   neighbourhood_group             48895 non-null  object \n",
      " 5   neighbourhood                   48895 non-null  object \n",
      " 6   latitude                        48895 non-null  float64\n",
      " 7   longitude                       48895 non-null  float64\n",
      " 8   room_type                       48895 non-null  object \n",
      " 9   price                           48895 non-null  int64  \n",
      " 10  minimum_nights                  48895 non-null  int64  \n",
      " 11  number_of_reviews               48895 non-null  int64  \n",
      " 12  last_review                     38843 non-null  object \n",
      " 13  reviews_per_month               38843 non-null  float64\n",
      " 14  calculated_host_listings_count  48895 non-null  int64  \n",
      " 15  availability_365                48895 non-null  int64  \n",
      "dtypes: float64(3), int64(7), object(6)\n",
      "memory usage: 23.5 MB\n"
     ]
    }
   ],
   "source": [
    "airbnb.info(memory_usage='deep')"
   ]
  },
  {
   "cell_type": "markdown",
   "id": "4b210040",
   "metadata": {},
   "source": [
    "**Columnas numericas**"
   ]
  },
  {
   "cell_type": "code",
   "execution_count": 6,
   "id": "3cdc0645",
   "metadata": {},
   "outputs": [
    {
     "data": {
      "text/plain": [
       "Index(['id', 'host_id', 'latitude', 'longitude', 'price', 'minimum_nights',\n",
       "       'number_of_reviews', 'reviews_per_month',\n",
       "       'calculated_host_listings_count', 'availability_365'],\n",
       "      dtype='object')"
      ]
     },
     "execution_count": 6,
     "metadata": {},
     "output_type": "execute_result"
    }
   ],
   "source": [
    "num_df=airbnb.select_dtypes(exclude=['object'])\n",
    "\n",
    "num_df.columns"
   ]
  },
  {
   "cell_type": "markdown",
   "id": "db0bdecd",
   "metadata": {},
   "source": [
    "**Columnas categoricas**"
   ]
  },
  {
   "cell_type": "code",
   "execution_count": 7,
   "id": "5f8bc625",
   "metadata": {},
   "outputs": [
    {
     "data": {
      "text/plain": [
       "Index(['name', 'host_name', 'neighbourhood_group', 'neighbourhood',\n",
       "       'room_type', 'last_review'],\n",
       "      dtype='object')"
      ]
     },
     "execution_count": 7,
     "metadata": {},
     "output_type": "execute_result"
    }
   ],
   "source": [
    "cat_df=airbnb.select_dtypes(include=['object'])\n",
    "\n",
    "cat_df.columns"
   ]
  },
  {
   "cell_type": "markdown",
   "id": "47d1ce43",
   "metadata": {},
   "source": [
    "## Valores Nulos"
   ]
  },
  {
   "cell_type": "code",
   "execution_count": 8,
   "id": "e434e364",
   "metadata": {},
   "outputs": [
    {
     "data": {
      "text/plain": [
       "name                    16\n",
       "host_name               21\n",
       "last_review          10052\n",
       "reviews_per_month    10052\n",
       "dtype: int64"
      ]
     },
     "execution_count": 8,
     "metadata": {},
     "output_type": "execute_result"
    }
   ],
   "source": [
    "nan_cols=airbnb.isna().sum()  # columnas con valores nulos en valor absoluto\n",
    "\n",
    "nan_cols[nan_cols>0]"
   ]
  },
  {
   "cell_type": "code",
   "execution_count": 9,
   "id": "12385d89",
   "metadata": {},
   "outputs": [
    {
     "data": {
      "text/plain": [
       "name                  0.032723\n",
       "host_name             0.042949\n",
       "last_review          20.558339\n",
       "reviews_per_month    20.558339\n",
       "dtype: float64"
      ]
     },
     "execution_count": 9,
     "metadata": {},
     "output_type": "execute_result"
    }
   ],
   "source": [
    "nan_cols=airbnb.isna().mean() * 100  # columnas con valores nulos en porcentaje\n",
    "\n",
    "nan_cols[nan_cols>0]"
   ]
  },
  {
   "cell_type": "code",
   "execution_count": 10,
   "id": "a5854597",
   "metadata": {},
   "outputs": [
    {
     "data": {
      "text/html": [
       "<div>\n",
       "<style scoped>\n",
       "    .dataframe tbody tr th:only-of-type {\n",
       "        vertical-align: middle;\n",
       "    }\n",
       "\n",
       "    .dataframe tbody tr th {\n",
       "        vertical-align: top;\n",
       "    }\n",
       "\n",
       "    .dataframe thead th {\n",
       "        text-align: right;\n",
       "    }\n",
       "</style>\n",
       "<table border=\"1\" class=\"dataframe\">\n",
       "  <thead>\n",
       "    <tr style=\"text-align: right;\">\n",
       "      <th></th>\n",
       "      <th>id</th>\n",
       "      <th>name</th>\n",
       "      <th>host_id</th>\n",
       "      <th>host_name</th>\n",
       "      <th>neighbourhood_group</th>\n",
       "      <th>neighbourhood</th>\n",
       "      <th>latitude</th>\n",
       "      <th>longitude</th>\n",
       "      <th>room_type</th>\n",
       "      <th>price</th>\n",
       "      <th>minimum_nights</th>\n",
       "      <th>number_of_reviews</th>\n",
       "      <th>last_review</th>\n",
       "      <th>reviews_per_month</th>\n",
       "      <th>calculated_host_listings_count</th>\n",
       "      <th>availability_365</th>\n",
       "    </tr>\n",
       "  </thead>\n",
       "  <tbody>\n",
       "    <tr>\n",
       "      <th>0</th>\n",
       "      <td>False</td>\n",
       "      <td>False</td>\n",
       "      <td>False</td>\n",
       "      <td>False</td>\n",
       "      <td>False</td>\n",
       "      <td>False</td>\n",
       "      <td>False</td>\n",
       "      <td>False</td>\n",
       "      <td>False</td>\n",
       "      <td>False</td>\n",
       "      <td>False</td>\n",
       "      <td>False</td>\n",
       "      <td>False</td>\n",
       "      <td>False</td>\n",
       "      <td>False</td>\n",
       "      <td>False</td>\n",
       "    </tr>\n",
       "    <tr>\n",
       "      <th>1</th>\n",
       "      <td>False</td>\n",
       "      <td>False</td>\n",
       "      <td>False</td>\n",
       "      <td>False</td>\n",
       "      <td>False</td>\n",
       "      <td>False</td>\n",
       "      <td>False</td>\n",
       "      <td>False</td>\n",
       "      <td>False</td>\n",
       "      <td>False</td>\n",
       "      <td>False</td>\n",
       "      <td>False</td>\n",
       "      <td>False</td>\n",
       "      <td>False</td>\n",
       "      <td>False</td>\n",
       "      <td>False</td>\n",
       "    </tr>\n",
       "    <tr>\n",
       "      <th>2</th>\n",
       "      <td>False</td>\n",
       "      <td>False</td>\n",
       "      <td>False</td>\n",
       "      <td>False</td>\n",
       "      <td>False</td>\n",
       "      <td>False</td>\n",
       "      <td>False</td>\n",
       "      <td>False</td>\n",
       "      <td>False</td>\n",
       "      <td>False</td>\n",
       "      <td>False</td>\n",
       "      <td>False</td>\n",
       "      <td>True</td>\n",
       "      <td>True</td>\n",
       "      <td>False</td>\n",
       "      <td>False</td>\n",
       "    </tr>\n",
       "    <tr>\n",
       "      <th>3</th>\n",
       "      <td>False</td>\n",
       "      <td>False</td>\n",
       "      <td>False</td>\n",
       "      <td>False</td>\n",
       "      <td>False</td>\n",
       "      <td>False</td>\n",
       "      <td>False</td>\n",
       "      <td>False</td>\n",
       "      <td>False</td>\n",
       "      <td>False</td>\n",
       "      <td>False</td>\n",
       "      <td>False</td>\n",
       "      <td>False</td>\n",
       "      <td>False</td>\n",
       "      <td>False</td>\n",
       "      <td>False</td>\n",
       "    </tr>\n",
       "    <tr>\n",
       "      <th>4</th>\n",
       "      <td>False</td>\n",
       "      <td>False</td>\n",
       "      <td>False</td>\n",
       "      <td>False</td>\n",
       "      <td>False</td>\n",
       "      <td>False</td>\n",
       "      <td>False</td>\n",
       "      <td>False</td>\n",
       "      <td>False</td>\n",
       "      <td>False</td>\n",
       "      <td>False</td>\n",
       "      <td>False</td>\n",
       "      <td>False</td>\n",
       "      <td>False</td>\n",
       "      <td>False</td>\n",
       "      <td>False</td>\n",
       "    </tr>\n",
       "  </tbody>\n",
       "</table>\n",
       "</div>"
      ],
      "text/plain": [
       "      id   name  host_id  host_name  neighbourhood_group  neighbourhood  \\\n",
       "0  False  False    False      False                False          False   \n",
       "1  False  False    False      False                False          False   \n",
       "2  False  False    False      False                False          False   \n",
       "3  False  False    False      False                False          False   \n",
       "4  False  False    False      False                False          False   \n",
       "\n",
       "   latitude  longitude  room_type  price  minimum_nights  number_of_reviews  \\\n",
       "0     False      False      False  False           False              False   \n",
       "1     False      False      False  False           False              False   \n",
       "2     False      False      False  False           False              False   \n",
       "3     False      False      False  False           False              False   \n",
       "4     False      False      False  False           False              False   \n",
       "\n",
       "   last_review  reviews_per_month  calculated_host_listings_count  \\\n",
       "0        False              False                           False   \n",
       "1        False              False                           False   \n",
       "2         True               True                           False   \n",
       "3        False              False                           False   \n",
       "4        False              False                           False   \n",
       "\n",
       "   availability_365  \n",
       "0             False  \n",
       "1             False  \n",
       "2             False  \n",
       "3             False  \n",
       "4             False  "
      ]
     },
     "execution_count": 10,
     "metadata": {},
     "output_type": "execute_result"
    }
   ],
   "source": [
    "airbnb.isna().head()"
   ]
  },
  {
   "cell_type": "code",
   "execution_count": 11,
   "id": "696eefdb",
   "metadata": {},
   "outputs": [
    {
     "data": {
      "image/png": "[encoded data removed]",
      "text/plain": [
       "<Figure size 720x432 with 1 Axes>"
      ]
     },
     "metadata": {
      "needs_background": "light"
     },
     "output_type": "display_data"
    }
   ],
   "source": [
    "# grafico de nulos en el dataframe\n",
    "\n",
    "plt.figure(figsize=(10, 6))\n",
    "\n",
    "sns.heatmap(airbnb.isna(),  # mapa de calor\n",
    "            yticklabels=False,\n",
    "            cmap='viridis',\n",
    "            cbar=False);"
   ]
  },
  {
   "cell_type": "code",
   "execution_count": 12,
   "id": "7ab58ee0",
   "metadata": {},
   "outputs": [],
   "source": [
    "def check_nan(df):\n",
    "    \n",
    "    nan_cols=df.isna().mean() * 100\n",
    "    \n",
    "    display(f'N nan cols: {len(nan_cols[nan_cols>0])}')\n",
    "    display(nan_cols[nan_cols>0])\n",
    "    \n",
    "    plt.figure(figsize=(10, 6))\n",
    "\n",
    "    sns.heatmap(df.isna(),  # mapa de calor\n",
    "                yticklabels=False,\n",
    "                cmap='viridis',\n",
    "                cbar=False)\n",
    "    \n",
    "    plt.show();"
   ]
  },
  {
   "cell_type": "markdown",
   "id": "83d80298",
   "metadata": {},
   "source": [
    "**¿Qué hacemos con estos valores?**"
   ]
  },
  {
   "cell_type": "code",
   "execution_count": 13,
   "id": "6b1c9631",
   "metadata": {},
   "outputs": [],
   "source": [
    "# podemos borrar columnas\n",
    "\n",
    "cols=['id', 'host_id', 'host_name']\n",
    "\n",
    "airbnb.drop(cols, axis=1, inplace=True)"
   ]
  },
  {
   "cell_type": "code",
   "execution_count": 14,
   "id": "d40d4332",
   "metadata": {},
   "outputs": [
    {
     "data": {
      "text/plain": [
       "0    149\n",
       "1    225\n",
       "2    150\n",
       "3     89\n",
       "4     80\n",
       "Name: price, dtype: int64"
      ]
     },
     "execution_count": 14,
     "metadata": {},
     "output_type": "execute_result"
    }
   ],
   "source": [
    "# podemos borrar filas con nulos en cierta columna\n",
    "\n",
    "airbnb['price'].dropna().head()   # airbnb['price'].dropna(inplace=True)  sobreescribe el df"
   ]
  },
  {
   "cell_type": "code",
   "execution_count": 15,
   "id": "1fa24959",
   "metadata": {},
   "outputs": [
    {
     "data": {
      "text/html": [
       "<div>\n",
       "<style scoped>\n",
       "    .dataframe tbody tr th:only-of-type {\n",
       "        vertical-align: middle;\n",
       "    }\n",
       "\n",
       "    .dataframe tbody tr th {\n",
       "        vertical-align: top;\n",
       "    }\n",
       "\n",
       "    .dataframe thead th {\n",
       "        text-align: right;\n",
       "    }\n",
       "</style>\n",
       "<table border=\"1\" class=\"dataframe\">\n",
       "  <thead>\n",
       "    <tr style=\"text-align: right;\">\n",
       "      <th></th>\n",
       "      <th>name</th>\n",
       "      <th>neighbourhood_group</th>\n",
       "      <th>neighbourhood</th>\n",
       "      <th>latitude</th>\n",
       "      <th>longitude</th>\n",
       "      <th>room_type</th>\n",
       "      <th>price</th>\n",
       "      <th>minimum_nights</th>\n",
       "      <th>number_of_reviews</th>\n",
       "      <th>last_review</th>\n",
       "      <th>reviews_per_month</th>\n",
       "      <th>calculated_host_listings_count</th>\n",
       "      <th>availability_365</th>\n",
       "    </tr>\n",
       "  </thead>\n",
       "  <tbody>\n",
       "    <tr>\n",
       "      <th>0</th>\n",
       "      <td>Clean &amp; quiet apt home by the park</td>\n",
       "      <td>Brooklyn</td>\n",
       "      <td>Kensington</td>\n",
       "      <td>40.64749</td>\n",
       "      <td>-73.97237</td>\n",
       "      <td>Private room</td>\n",
       "      <td>149</td>\n",
       "      <td>1</td>\n",
       "      <td>9</td>\n",
       "      <td>2018-10-19</td>\n",
       "      <td>0.21</td>\n",
       "      <td>6</td>\n",
       "      <td>365</td>\n",
       "    </tr>\n",
       "    <tr>\n",
       "      <th>1</th>\n",
       "      <td>Skylit Midtown Castle</td>\n",
       "      <td>Manhattan</td>\n",
       "      <td>Midtown</td>\n",
       "      <td>40.75362</td>\n",
       "      <td>-73.98377</td>\n",
       "      <td>Entire home/apt</td>\n",
       "      <td>225</td>\n",
       "      <td>1</td>\n",
       "      <td>45</td>\n",
       "      <td>2019-05-21</td>\n",
       "      <td>0.38</td>\n",
       "      <td>2</td>\n",
       "      <td>355</td>\n",
       "    </tr>\n",
       "    <tr>\n",
       "      <th>2</th>\n",
       "      <td>THE VILLAGE OF HARLEM....NEW YORK !</td>\n",
       "      <td>Manhattan</td>\n",
       "      <td>Harlem</td>\n",
       "      <td>40.80902</td>\n",
       "      <td>-73.94190</td>\n",
       "      <td>Private room</td>\n",
       "      <td>150</td>\n",
       "      <td>3</td>\n",
       "      <td>0</td>\n",
       "      <td>NaN</td>\n",
       "      <td>NaN</td>\n",
       "      <td>1</td>\n",
       "      <td>365</td>\n",
       "    </tr>\n",
       "    <tr>\n",
       "      <th>3</th>\n",
       "      <td>Cozy Entire Floor of Brownstone</td>\n",
       "      <td>Brooklyn</td>\n",
       "      <td>Clinton Hill</td>\n",
       "      <td>40.68514</td>\n",
       "      <td>-73.95976</td>\n",
       "      <td>Entire home/apt</td>\n",
       "      <td>89</td>\n",
       "      <td>1</td>\n",
       "      <td>270</td>\n",
       "      <td>2019-07-05</td>\n",
       "      <td>4.64</td>\n",
       "      <td>1</td>\n",
       "      <td>194</td>\n",
       "    </tr>\n",
       "    <tr>\n",
       "      <th>4</th>\n",
       "      <td>Entire Apt: Spacious Studio/Loft by central park</td>\n",
       "      <td>Manhattan</td>\n",
       "      <td>East Harlem</td>\n",
       "      <td>40.79851</td>\n",
       "      <td>-73.94399</td>\n",
       "      <td>Entire home/apt</td>\n",
       "      <td>80</td>\n",
       "      <td>10</td>\n",
       "      <td>9</td>\n",
       "      <td>2018-11-19</td>\n",
       "      <td>0.10</td>\n",
       "      <td>1</td>\n",
       "      <td>0</td>\n",
       "    </tr>\n",
       "  </tbody>\n",
       "</table>\n",
       "</div>"
      ],
      "text/plain": [
       "                                               name neighbourhood_group  \\\n",
       "0                Clean & quiet apt home by the park            Brooklyn   \n",
       "1                             Skylit Midtown Castle           Manhattan   \n",
       "2               THE VILLAGE OF HARLEM....NEW YORK !           Manhattan   \n",
       "3                   Cozy Entire Floor of Brownstone            Brooklyn   \n",
       "4  Entire Apt: Spacious Studio/Loft by central park           Manhattan   \n",
       "\n",
       "  neighbourhood  latitude  longitude        room_type  price  minimum_nights  \\\n",
       "0    Kensington  40.64749  -73.97237     Private room    149               1   \n",
       "1       Midtown  40.75362  -73.98377  Entire home/apt    225               1   \n",
       "2        Harlem  40.80902  -73.94190     Private room    150               3   \n",
       "3  Clinton Hill  40.68514  -73.95976  Entire home/apt     89               1   \n",
       "4   East Harlem  40.79851  -73.94399  Entire home/apt     80              10   \n",
       "\n",
       "   number_of_reviews last_review  reviews_per_month  \\\n",
       "0                  9  2018-10-19               0.21   \n",
       "1                 45  2019-05-21               0.38   \n",
       "2                  0         NaN                NaN   \n",
       "3                270  2019-07-05               4.64   \n",
       "4                  9  2018-11-19               0.10   \n",
       "\n",
       "   calculated_host_listings_count  availability_365  \n",
       "0                               6               365  \n",
       "1                               2               355  \n",
       "2                               1               365  \n",
       "3                               1               194  \n",
       "4                               1                 0  "
      ]
     },
     "execution_count": 15,
     "metadata": {},
     "output_type": "execute_result"
    }
   ],
   "source": [
    "# podemos borrar filas con nulos en varias columnas a la vez\n",
    "\n",
    "airbnb.dropna(subset=['price', 'neighbourhood_group', 'neighbourhood']).head()"
   ]
  },
  {
   "cell_type": "code",
   "execution_count": 16,
   "id": "a0bec826",
   "metadata": {},
   "outputs": [
    {
     "data": {
      "text/plain": [
       "0    149\n",
       "1    225\n",
       "2    150\n",
       "3     89\n",
       "4     80\n",
       "Name: price, dtype: int64"
      ]
     },
     "execution_count": 16,
     "metadata": {},
     "output_type": "execute_result"
    }
   ],
   "source": [
    "# rellenar con la media\n",
    "\n",
    "airbnb['price'].fillna(airbnb['price'].mean()).head()"
   ]
  },
  {
   "cell_type": "code",
   "execution_count": 17,
   "id": "13b14b31",
   "metadata": {},
   "outputs": [
    {
     "data": {
      "text/plain": [
       "0    149\n",
       "1    225\n",
       "2    150\n",
       "3     89\n",
       "4     80\n",
       "Name: price, dtype: int64"
      ]
     },
     "execution_count": 17,
     "metadata": {},
     "output_type": "execute_result"
    }
   ],
   "source": [
    "# rellenar con la mediana\n",
    "\n",
    "airbnb['price'].fillna(airbnb['price'].median()).head()"
   ]
  },
  {
   "cell_type": "code",
   "execution_count": 18,
   "id": "0808c6bd",
   "metadata": {},
   "outputs": [
    {
     "data": {
      "text/plain": [
       "0    149\n",
       "1    225\n",
       "2    150\n",
       "3     89\n",
       "4     80\n",
       "Name: price, dtype: int64"
      ]
     },
     "execution_count": 18,
     "metadata": {},
     "output_type": "execute_result"
    }
   ],
   "source": [
    "# backward/forward fill, normalmente para series temporales\n",
    "\n",
    "airbnb['price'].bfill()\n",
    "airbnb['price'].ffill().head()"
   ]
  },
  {
   "cell_type": "code",
   "execution_count": 19,
   "id": "a2420abc",
   "metadata": {},
   "outputs": [],
   "source": [
    "# podemos rellenar en un subconjunto de columnas\n",
    "\n",
    "airbnb.fillna({'reviews_per_month': 0, 'name': 'unknown'}, inplace=True)"
   ]
  },
  {
   "cell_type": "markdown",
   "id": "048be86d",
   "metadata": {},
   "source": [
    "**para categorias, una estragia puede ser rellenar con el valor mas frecuente**"
   ]
  },
  {
   "cell_type": "code",
   "execution_count": 20,
   "id": "b40dc11b",
   "metadata": {},
   "outputs": [
    {
     "data": {
      "text/plain": [
       "'N nan cols: 1'"
      ]
     },
     "metadata": {},
     "output_type": "display_data"
    },
    {
     "data": {
      "text/plain": [
       "last_review    20.558339\n",
       "dtype: float64"
      ]
     },
     "metadata": {},
     "output_type": "display_data"
    },
    {
     "data": {
      "image/png": "[encoded data removed]",
      "text/plain": [
       "<Figure size 720x432 with 1 Axes>"
      ]
     },
     "metadata": {
      "needs_background": "light"
     },
     "output_type": "display_data"
    }
   ],
   "source": [
    "check_nan(airbnb)"
   ]
  },
  {
   "cell_type": "markdown",
   "id": "bde46b1a",
   "metadata": {},
   "source": [
    "## Datos inconsistentes \n",
    "\n",
    "\n",
    "**Fechas**"
   ]
  },
  {
   "cell_type": "code",
   "execution_count": 21,
   "id": "645a7615",
   "metadata": {},
   "outputs": [
    {
     "name": "stdout",
     "output_type": "stream",
     "text": [
      "<class 'pandas.core.frame.DataFrame'>\n",
      "RangeIndex: 48895 entries, 0 to 48894\n",
      "Data columns (total 13 columns):\n",
      " #   Column                          Non-Null Count  Dtype  \n",
      "---  ------                          --------------  -----  \n",
      " 0   name                            48895 non-null  object \n",
      " 1   neighbourhood_group             48895 non-null  object \n",
      " 2   neighbourhood                   48895 non-null  object \n",
      " 3   latitude                        48895 non-null  float64\n",
      " 4   longitude                       48895 non-null  float64\n",
      " 5   room_type                       48895 non-null  object \n",
      " 6   price                           48895 non-null  int64  \n",
      " 7   minimum_nights                  48895 non-null  int64  \n",
      " 8   number_of_reviews               48895 non-null  int64  \n",
      " 9   last_review                     38843 non-null  object \n",
      " 10  reviews_per_month               48895 non-null  float64\n",
      " 11  calculated_host_listings_count  48895 non-null  int64  \n",
      " 12  availability_365                48895 non-null  int64  \n",
      "dtypes: float64(3), int64(5), object(5)\n",
      "memory usage: 4.8+ MB\n"
     ]
    }
   ],
   "source": [
    "airbnb.info()"
   ]
  },
  {
   "cell_type": "code",
   "execution_count": 26,
   "id": "912298a1",
   "metadata": {},
   "outputs": [
    {
     "data": {
      "text/plain": [
       "numpy.datetime64"
      ]
     },
     "execution_count": 26,
     "metadata": {},
     "output_type": "execute_result"
    }
   ],
   "source": [
    "airbnb.last_review=pd.to_datetime(airbnb.last_review, format='%Y-%m-%d')\n",
    "\n",
    "airbnb.last_review.dtype.type"
   ]
  },
  {
   "cell_type": "code",
   "execution_count": 27,
   "id": "9c4eddcb",
   "metadata": {},
   "outputs": [
    {
     "name": "stdout",
     "output_type": "stream",
     "text": [
      "<class 'pandas.core.frame.DataFrame'>\n",
      "RangeIndex: 48895 entries, 0 to 48894\n",
      "Data columns (total 13 columns):\n",
      " #   Column                          Non-Null Count  Dtype         \n",
      "---  ------                          --------------  -----         \n",
      " 0   name                            48895 non-null  object        \n",
      " 1   neighbourhood_group             48895 non-null  object        \n",
      " 2   neighbourhood                   48895 non-null  object        \n",
      " 3   latitude                        48895 non-null  float64       \n",
      " 4   longitude                       48895 non-null  float64       \n",
      " 5   room_type                       48895 non-null  object        \n",
      " 6   price                           48895 non-null  int64         \n",
      " 7   minimum_nights                  48895 non-null  int64         \n",
      " 8   number_of_reviews               48895 non-null  int64         \n",
      " 9   last_review                     38843 non-null  datetime64[ns]\n",
      " 10  reviews_per_month               48895 non-null  float64       \n",
      " 11  calculated_host_listings_count  48895 non-null  int64         \n",
      " 12  availability_365                48895 non-null  int64         \n",
      "dtypes: datetime64[ns](1), float64(3), int64(5), object(4)\n",
      "memory usage: 4.8+ MB\n"
     ]
    }
   ],
   "source": [
    "airbnb.info()"
   ]
  },
  {
   "cell_type": "code",
   "execution_count": 29,
   "id": "7b9b89aa",
   "metadata": {},
   "outputs": [],
   "source": [
    "# asumimos que estan en orden\n",
    "\n",
    "airbnb.last_review.ffill(inplace=True)"
   ]
  },
  {
   "cell_type": "code",
   "execution_count": 31,
   "id": "c7b0e819",
   "metadata": {},
   "outputs": [
    {
     "data": {
      "text/plain": [
       "0   2018-10-19\n",
       "1   2019-05-21\n",
       "2   2019-05-21\n",
       "3   2019-07-05\n",
       "4   2018-11-19\n",
       "5   2019-06-22\n",
       "6   2017-10-05\n",
       "7   2019-06-24\n",
       "8   2017-07-21\n",
       "9   2019-06-09\n",
       "Name: last_review, dtype: datetime64[ns]"
      ]
     },
     "execution_count": 31,
     "metadata": {},
     "output_type": "execute_result"
    }
   ],
   "source": [
    "airbnb.last_review[:10]"
   ]
  },
  {
   "cell_type": "code",
   "execution_count": 32,
   "id": "9a0dcd83",
   "metadata": {},
   "outputs": [
    {
     "data": {
      "text/plain": [
       "'N nan cols: 0'"
      ]
     },
     "metadata": {},
     "output_type": "display_data"
    },
    {
     "data": {
      "text/plain": [
       "Series([], dtype: float64)"
      ]
     },
     "metadata": {},
     "output_type": "display_data"
    },
    {
     "data": {
      "image/png": "[encoded data removed]",
      "text/plain": [
       "<Figure size 720x432 with 1 Axes>"
      ]
     },
     "metadata": {
      "needs_background": "light"
     },
     "output_type": "display_data"
    }
   ],
   "source": [
    "check_nan(airbnb)"
   ]
  },
  {
   "cell_type": "markdown",
   "id": "4e463f22",
   "metadata": {},
   "source": [
    "**Arreglando errores en strings**"
   ]
  },
  {
   "cell_type": "code",
   "execution_count": null,
   "id": "78e96760",
   "metadata": {},
   "outputs": [],
   "source": []
  },
  {
   "cell_type": "code",
   "execution_count": null,
   "id": "bd79e903",
   "metadata": {},
   "outputs": [],
   "source": []
  },
  {
   "cell_type": "code",
   "execution_count": null,
   "id": "ecd05fdc",
   "metadata": {},
   "outputs": [],
   "source": []
  },
  {
   "cell_type": "code",
   "execution_count": null,
   "id": "7e5b1de9",
   "metadata": {},
   "outputs": [],
   "source": []
  },
  {
   "cell_type": "code",
   "execution_count": null,
   "id": "c33b2971",
   "metadata": {},
   "outputs": [],
   "source": []
  },
  {
   "cell_type": "markdown",
   "id": "ddaaced3",
   "metadata": {},
   "source": [
    "**Cambio del tipo de dato, optimizacion de memoria**"
   ]
  },
  {
   "cell_type": "code",
   "execution_count": null,
   "id": "88583e7b",
   "metadata": {},
   "outputs": [],
   "source": []
  },
  {
   "cell_type": "code",
   "execution_count": null,
   "id": "48d8e959",
   "metadata": {},
   "outputs": [],
   "source": []
  },
  {
   "cell_type": "code",
   "execution_count": null,
   "id": "d760bc9d",
   "metadata": {},
   "outputs": [],
   "source": []
  },
  {
   "cell_type": "markdown",
   "id": "0154cbed",
   "metadata": {},
   "source": [
    "**ejemplo:** Busqueda de filas que contengan una palabra clave"
   ]
  },
  {
   "cell_type": "code",
   "execution_count": null,
   "id": "a7772dac",
   "metadata": {},
   "outputs": [],
   "source": []
  },
  {
   "cell_type": "code",
   "execution_count": null,
   "id": "35efbe32",
   "metadata": {},
   "outputs": [],
   "source": []
  },
  {
   "cell_type": "code",
   "execution_count": null,
   "id": "829f056f",
   "metadata": {},
   "outputs": [],
   "source": []
  },
  {
   "cell_type": "markdown",
   "id": "caefe701",
   "metadata": {},
   "source": [
    "## Outliers"
   ]
  },
  {
   "cell_type": "code",
   "execution_count": null,
   "id": "29ba2313",
   "metadata": {},
   "outputs": [],
   "source": []
  },
  {
   "cell_type": "code",
   "execution_count": null,
   "id": "23d3cadf",
   "metadata": {},
   "outputs": [],
   "source": []
  },
  {
   "cell_type": "code",
   "execution_count": null,
   "id": "efd96147",
   "metadata": {},
   "outputs": [],
   "source": []
  },
  {
   "cell_type": "markdown",
   "id": "b8c69c83",
   "metadata": {},
   "source": [
    "**depende del contexto**"
   ]
  },
  {
   "cell_type": "code",
   "execution_count": null,
   "id": "0b328d4f",
   "metadata": {},
   "outputs": [],
   "source": []
  },
  {
   "cell_type": "code",
   "execution_count": null,
   "id": "1845cbfd",
   "metadata": {},
   "outputs": [],
   "source": []
  },
  {
   "cell_type": "code",
   "execution_count": null,
   "id": "85a038d8",
   "metadata": {},
   "outputs": [],
   "source": []
  },
  {
   "cell_type": "code",
   "execution_count": null,
   "id": "d9c0a54e",
   "metadata": {},
   "outputs": [],
   "source": []
  },
  {
   "cell_type": "markdown",
   "id": "fc025a43",
   "metadata": {},
   "source": [
    "# Ejemplo 2 - House Data\n"
   ]
  },
  {
   "cell_type": "markdown",
   "id": "1a33887b",
   "metadata": {},
   "source": [
    "**Cargamos los datos**"
   ]
  },
  {
   "cell_type": "code",
   "execution_count": null,
   "id": "2d223bba",
   "metadata": {},
   "outputs": [],
   "source": []
  },
  {
   "cell_type": "markdown",
   "id": "b7cd51d8",
   "metadata": {},
   "source": [
    "**EDA**"
   ]
  },
  {
   "cell_type": "code",
   "execution_count": null,
   "id": "a896b5d2",
   "metadata": {},
   "outputs": [],
   "source": []
  },
  {
   "cell_type": "code",
   "execution_count": null,
   "id": "70fcb26d",
   "metadata": {},
   "outputs": [],
   "source": []
  },
  {
   "cell_type": "markdown",
   "id": "4646b10d",
   "metadata": {},
   "source": [
    "**Columnas numericas**"
   ]
  },
  {
   "cell_type": "code",
   "execution_count": null,
   "id": "f8b7f6c4",
   "metadata": {},
   "outputs": [],
   "source": []
  },
  {
   "cell_type": "markdown",
   "id": "caa10edc",
   "metadata": {},
   "source": [
    "**Columnas categoricas**"
   ]
  },
  {
   "cell_type": "code",
   "execution_count": null,
   "id": "0c5d0d64",
   "metadata": {},
   "outputs": [],
   "source": []
  },
  {
   "cell_type": "markdown",
   "id": "b2e584fc",
   "metadata": {},
   "source": [
    "## Valores Nulos"
   ]
  },
  {
   "cell_type": "code",
   "execution_count": null,
   "id": "239239e3",
   "metadata": {},
   "outputs": [],
   "source": []
  },
  {
   "cell_type": "code",
   "execution_count": null,
   "id": "c7a5acc9",
   "metadata": {},
   "outputs": [],
   "source": []
  },
  {
   "cell_type": "code",
   "execution_count": null,
   "id": "fd839a0f",
   "metadata": {},
   "outputs": [],
   "source": []
  },
  {
   "cell_type": "code",
   "execution_count": null,
   "id": "2398f45e",
   "metadata": {},
   "outputs": [],
   "source": []
  },
  {
   "cell_type": "code",
   "execution_count": null,
   "id": "2cf26138",
   "metadata": {},
   "outputs": [],
   "source": []
  },
  {
   "cell_type": "code",
   "execution_count": null,
   "id": "e56d15e5",
   "metadata": {},
   "outputs": [],
   "source": []
  },
  {
   "cell_type": "code",
   "execution_count": null,
   "id": "82373d2c",
   "metadata": {},
   "outputs": [],
   "source": []
  },
  {
   "cell_type": "code",
   "execution_count": null,
   "id": "eabddae9",
   "metadata": {},
   "outputs": [],
   "source": []
  },
  {
   "cell_type": "code",
   "execution_count": null,
   "id": "1f10bcd7",
   "metadata": {},
   "outputs": [],
   "source": []
  },
  {
   "cell_type": "code",
   "execution_count": null,
   "id": "4386d79d",
   "metadata": {},
   "outputs": [],
   "source": []
  },
  {
   "cell_type": "code",
   "execution_count": null,
   "id": "e61b9274",
   "metadata": {},
   "outputs": [],
   "source": []
  },
  {
   "cell_type": "code",
   "execution_count": null,
   "id": "0eec1134",
   "metadata": {},
   "outputs": [],
   "source": []
  },
  {
   "cell_type": "code",
   "execution_count": null,
   "id": "70cb894e",
   "metadata": {},
   "outputs": [],
   "source": []
  }
 ],
 "metadata": {
  "kernelspec": {
   "display_name": "clase",
   "language": "python",
   "name": "clase"
  },
  "language_info": {
   "codemirror_mode": {
    "name": "ipython",
    "version": 3
   },
   "file_extension": ".py",
   "mimetype": "text/x-python",
   "name": "python",
   "nbconvert_exporter": "python",
   "pygments_lexer": "ipython3",
   "version": "3.9.7"
  }
 },
 "nbformat": 4,
 "nbformat_minor": 5
}
