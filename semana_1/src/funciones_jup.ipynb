{
 "cells": [
  {
   "cell_type": "code",
   "execution_count": 5,
   "id": "da7f5c1b",
   "metadata": {},
   "outputs": [],
   "source": [
    "def sumar_jup(a, b):\n",
    "    return a+b"
   ]
  },
  {
   "cell_type": "code",
   "execution_count": 6,
   "id": "46d4b121",
   "metadata": {},
   "outputs": [],
   "source": [
    "def restar_jup(a, b):\n",
    "    return a-b"
   ]
  },
  {
   "cell_type": "code",
   "execution_count": 7,
   "id": "ded72c88",
   "metadata": {},
   "outputs": [],
   "source": [
    "def multiplicar_jup(a, b):\n",
    "    return a*b"
   ]
  },
  {
   "cell_type": "code",
   "execution_count": 8,
   "id": "e1bd073e",
   "metadata": {},
   "outputs": [],
   "source": [
    "def dividir_jup(a, b):\n",
    "    return a/b"
   ]
  },
  {
   "cell_type": "code",
   "execution_count": null,
   "id": "2fdfdcd9",
   "metadata": {},
   "outputs": [],
   "source": []
  }
 ],
 "metadata": {
  "kernelspec": {
   "display_name": "clase",
   "language": "python",
   "name": "clase"
  },
  "language_info": {
   "codemirror_mode": {
    "name": "ipython",
    "version": 3
   },
   "file_extension": ".py",
   "mimetype": "text/x-python",
   "name": "python",
   "nbconvert_exporter": "python",
   "pygments_lexer": "ipython3",
   "version": "3.9.7"
  }
 },
 "nbformat": 4,
 "nbformat_minor": 5
}
