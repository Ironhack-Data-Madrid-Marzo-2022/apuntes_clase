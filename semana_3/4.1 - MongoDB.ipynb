{
 "cells": [
  {
   "cell_type": "markdown",
   "id": "296c3fa2",
   "metadata": {},
   "source": [
    "# 4.1 - MongoDB\n",
    "\n",
    "![mongo](images/mongodb.jpeg)\n",
    "\n",
    "https://docs.mongodb.com/manual/administration/install-community/\n",
    "\n",
    "https://docs.mongodb.com/compass/current/install/\n",
    "\n",
    "MongoDB es una base de datos orientada a documentos. Esto quiere decir que en lugar de guardar los datos en registros, guarda los datos en documentos. Estos documentos son almacenados en BSON, que es una representación binaria de JSON.\n",
    "\n",
    "Una de las diferencias más importantes con respecto a las bases de datos relacionales, es que no es necesario seguir un esquema. Los documentos de una misma colección, concepto similar a una tabla de una base de datos relacional, pueden tener esquemas diferentes.\n"
   ]
  },
  {
   "cell_type": "code",
   "execution_count": 1,
   "id": "d686b82b",
   "metadata": {},
   "outputs": [
    {
     "name": "stdout",
     "output_type": "stream",
     "text": [
      "Requirement already satisfied: pymongo in /Users/iudh/miniforge3/envs/clase/lib/python3.9/site-packages (4.1.0)\n",
      "Note: you may need to restart the kernel to use updated packages.\n"
     ]
    }
   ],
   "source": [
    "%pip install pymongo"
   ]
  },
  {
   "cell_type": "code",
   "execution_count": 2,
   "id": "b53f90eb",
   "metadata": {},
   "outputs": [],
   "source": [
    "from pymongo import MongoClient\n",
    "\n",
    "import warnings\n",
    "warnings.filterwarnings('ignore')"
   ]
  },
  {
   "cell_type": "code",
   "execution_count": 3,
   "id": "87c2662e",
   "metadata": {},
   "outputs": [
    {
     "data": {
      "text/plain": [
       "MongoClient(host=['localhost:27017'], document_class=dict, tz_aware=False, connect=True)"
      ]
     },
     "execution_count": 3,
     "metadata": {},
     "output_type": "execute_result"
    }
   ],
   "source": [
    "cliente=MongoClient()    # esto es el cursor/motor\n",
    "\n",
    "cliente"
   ]
  },
  {
   "cell_type": "code",
   "execution_count": 4,
   "id": "0eff5667",
   "metadata": {},
   "outputs": [
    {
     "data": {
      "text/plain": [
       "['admin',\n",
       " 'arbbot',\n",
       " 'companies',\n",
       " 'complete_exchange_matches',\n",
       " 'config',\n",
       " 'ironcomes',\n",
       " 'linkedin',\n",
       " 'local',\n",
       " 'telegram_messages']"
      ]
     },
     "execution_count": 4,
     "metadata": {},
     "output_type": "execute_result"
    }
   ],
   "source": [
    "cliente.list_database_names()  # lista de las bases de datos"
   ]
  },
  {
   "cell_type": "code",
   "execution_count": 5,
   "id": "882a8427",
   "metadata": {},
   "outputs": [],
   "source": [
    "db=cliente.nueva_db"
   ]
  },
  {
   "cell_type": "code",
   "execution_count": 6,
   "id": "ae026dc9",
   "metadata": {},
   "outputs": [
    {
     "data": {
      "text/plain": [
       "['admin',\n",
       " 'arbbot',\n",
       " 'companies',\n",
       " 'complete_exchange_matches',\n",
       " 'config',\n",
       " 'ironcomes',\n",
       " 'linkedin',\n",
       " 'local',\n",
       " 'telegram_messages']"
      ]
     },
     "execution_count": 6,
     "metadata": {},
     "output_type": "execute_result"
    }
   ],
   "source": [
    "cliente.list_database_names()"
   ]
  },
  {
   "cell_type": "code",
   "execution_count": 7,
   "id": "af4151db",
   "metadata": {},
   "outputs": [],
   "source": [
    "colec=db.n_coleccion"
   ]
  },
  {
   "cell_type": "code",
   "execution_count": 8,
   "id": "bc989056",
   "metadata": {},
   "outputs": [
    {
     "data": {
      "text/plain": [
       "[]"
      ]
     },
     "execution_count": 8,
     "metadata": {},
     "output_type": "execute_result"
    }
   ],
   "source": [
    "db.list_collection_names()   # lista de colecciones"
   ]
  },
  {
   "cell_type": "code",
   "execution_count": 9,
   "id": "85c8002d",
   "metadata": {},
   "outputs": [
    {
     "data": {
      "text/plain": [
       "<pymongo.results.InsertOneResult at 0x108b30a60>"
      ]
     },
     "execution_count": 9,
     "metadata": {},
     "output_type": "execute_result"
    }
   ],
   "source": [
    "dictio={'nombre': 'pepoe', 'edad': 32}\n",
    "\n",
    "colec.insert_one(dictio)   # inserta un elemento"
   ]
  },
  {
   "cell_type": "code",
   "execution_count": 10,
   "id": "6afb0b69",
   "metadata": {},
   "outputs": [
    {
     "data": {
      "text/plain": [
       "['admin',\n",
       " 'arbbot',\n",
       " 'companies',\n",
       " 'complete_exchange_matches',\n",
       " 'config',\n",
       " 'ironcomes',\n",
       " 'linkedin',\n",
       " 'local',\n",
       " 'nueva_db',\n",
       " 'telegram_messages']"
      ]
     },
     "execution_count": 10,
     "metadata": {},
     "output_type": "execute_result"
    }
   ],
   "source": [
    "cliente.list_database_names()"
   ]
  },
  {
   "cell_type": "code",
   "execution_count": 11,
   "id": "f4320811",
   "metadata": {},
   "outputs": [
    {
     "data": {
      "text/plain": [
       "['n_coleccion']"
      ]
     },
     "execution_count": 11,
     "metadata": {},
     "output_type": "execute_result"
    }
   ],
   "source": [
    "db.list_collection_names()"
   ]
  },
  {
   "cell_type": "code",
   "execution_count": 12,
   "id": "812407c3",
   "metadata": {},
   "outputs": [
    {
     "data": {
      "text/plain": [
       "<pymongo.results.InsertManyResult at 0x10819b520>"
      ]
     },
     "execution_count": 12,
     "metadata": {},
     "output_type": "execute_result"
    }
   ],
   "source": [
    "# insertar varios\n",
    "\n",
    "colec.insert_many([\n",
    "    {'nombre': 'Ana', 'edad': 12},\n",
    "    {'_id': 2, 'actividad': 'natacion', 'hora': '13:00', 'lugar': 'jultayu'}\n",
    "])"
   ]
  },
  {
   "cell_type": "code",
   "execution_count": 13,
   "id": "e54fc648",
   "metadata": {},
   "outputs": [
    {
     "data": {
      "text/plain": [
       "<pymongo.results.InsertManyResult at 0x108b30cd0>"
      ]
     },
     "execution_count": 13,
     "metadata": {},
     "output_type": "execute_result"
    }
   ],
   "source": [
    "# insertar varios\n",
    "\n",
    "colec.insert_many([\n",
    "    {'nombre': 'Maria', 'edad': 42},\n",
    "    {'_id': 20, 'actividad': 'natacion', 'edad': 24, 'lugar': 'jultayu'}\n",
    "])"
   ]
  },
  {
   "cell_type": "code",
   "execution_count": 14,
   "id": "0dcf515f",
   "metadata": {},
   "outputs": [
    {
     "data": {
      "text/plain": [
       "<pymongo.cursor.Cursor at 0x108b45a60>"
      ]
     },
     "execution_count": 14,
     "metadata": {},
     "output_type": "execute_result"
    }
   ],
   "source": [
    "# llamar a la base de datos, como el select\n",
    "\n",
    "colec.find()"
   ]
  },
  {
   "cell_type": "code",
   "execution_count": 15,
   "id": "51f1daf9",
   "metadata": {},
   "outputs": [
    {
     "data": {
      "text/plain": [
       "[{'_id': ObjectId('624ea867fd27fdc504655fd9'), 'nombre': 'pepoe', 'edad': 32},\n",
       " {'_id': ObjectId('624ea867fd27fdc504655fda'), 'nombre': 'Ana', 'edad': 12},\n",
       " {'_id': 2, 'actividad': 'natacion', 'hora': '13:00', 'lugar': 'jultayu'},\n",
       " {'_id': ObjectId('624ea867fd27fdc504655fdb'), 'nombre': 'Maria', 'edad': 42},\n",
       " {'_id': 20, 'actividad': 'natacion', 'edad': 24, 'lugar': 'jultayu'}]"
      ]
     },
     "execution_count": 15,
     "metadata": {},
     "output_type": "execute_result"
    }
   ],
   "source": [
    "list(colec.find())"
   ]
  },
  {
   "cell_type": "code",
   "execution_count": 16,
   "id": "45b50423",
   "metadata": {},
   "outputs": [],
   "source": [
    "a=colec.find()"
   ]
  },
  {
   "cell_type": "code",
   "execution_count": 17,
   "id": "20e41237",
   "metadata": {},
   "outputs": [
    {
     "data": {
      "text/plain": [
       "[{'_id': ObjectId('624ea867fd27fdc504655fd9'), 'nombre': 'pepoe', 'edad': 32},\n",
       " {'_id': ObjectId('624ea867fd27fdc504655fda'), 'nombre': 'Ana', 'edad': 12},\n",
       " {'_id': 2, 'actividad': 'natacion', 'hora': '13:00', 'lugar': 'jultayu'},\n",
       " {'_id': ObjectId('624ea867fd27fdc504655fdb'), 'nombre': 'Maria', 'edad': 42},\n",
       " {'_id': 20, 'actividad': 'natacion', 'edad': 24, 'lugar': 'jultayu'}]"
      ]
     },
     "execution_count": 17,
     "metadata": {},
     "output_type": "execute_result"
    }
   ],
   "source": [
    "list(a)"
   ]
  },
  {
   "cell_type": "code",
   "execution_count": 18,
   "id": "308bdc0f",
   "metadata": {},
   "outputs": [
    {
     "data": {
      "text/plain": [
       "[{'_id': ObjectId('624ea867fd27fdc504655fda'), 'nombre': 'Ana', 'edad': 12}]"
      ]
     },
     "execution_count": 18,
     "metadata": {},
     "output_type": "execute_result"
    }
   ],
   "source": [
    "list(colec.find({'edad': 12}))"
   ]
  },
  {
   "cell_type": "code",
   "execution_count": 19,
   "id": "38d60c9f",
   "metadata": {},
   "outputs": [
    {
     "data": {
      "text/plain": [
       "[{'_id': ObjectId('624ea867fd27fdc504655fd9'), 'nombre': 'pepoe', 'edad': 32}]"
      ]
     },
     "execution_count": 19,
     "metadata": {},
     "output_type": "execute_result"
    }
   ],
   "source": [
    "list(colec.find({'nombre': 'pepoe'}))"
   ]
  },
  {
   "cell_type": "code",
   "execution_count": 20,
   "id": "52107153",
   "metadata": {},
   "outputs": [
    {
     "data": {
      "text/plain": [
       "[{'_id': ObjectId('624ea867fd27fdc504655fd9'), 'nombre': 'pepoe', 'edad': 32},\n",
       " {'_id': ObjectId('624ea867fd27fdc504655fdb'), 'nombre': 'Maria', 'edad': 42},\n",
       " {'_id': 20, 'actividad': 'natacion', 'edad': 24, 'lugar': 'jultayu'}]"
      ]
     },
     "execution_count": 20,
     "metadata": {},
     "output_type": "execute_result"
    }
   ],
   "source": [
    "list(colec.find({'edad': {'$gte': 24}}))   # edad igual o mayor que 24"
   ]
  },
  {
   "cell_type": "code",
   "execution_count": 21,
   "id": "dbfc33db",
   "metadata": {},
   "outputs": [
    {
     "data": {
      "text/plain": [
       "[{'_id': ObjectId('624ea867fd27fdc504655fda'), 'nombre': 'Ana', 'edad': 12},\n",
       " {'_id': 20, 'actividad': 'natacion', 'edad': 24, 'lugar': 'jultayu'}]"
      ]
     },
     "execution_count": 21,
     "metadata": {},
     "output_type": "execute_result"
    }
   ],
   "source": [
    "list(colec.find({'edad': {'$lte': 24}}))  # edad igual o menor que 24"
   ]
  },
  {
   "cell_type": "code",
   "execution_count": 22,
   "id": "b2294eb5",
   "metadata": {},
   "outputs": [
    {
     "data": {
      "text/plain": [
       "[{'_id': ObjectId('624ea867fd27fdc504655fda'), 'nombre': 'Ana', 'edad': 12},\n",
       " {'_id': 20, 'actividad': 'natacion', 'edad': 24, 'lugar': 'jultayu'}]"
      ]
     },
     "execution_count": 22,
     "metadata": {},
     "output_type": "execute_result"
    }
   ],
   "source": [
    "list(colec.find({'edad': {'$lte': 24}}).limit(2))    # limite, igual que SQL"
   ]
  },
  {
   "cell_type": "code",
   "execution_count": 23,
   "id": "347ac0ff",
   "metadata": {},
   "outputs": [
    {
     "data": {
      "text/plain": [
       "[{'_id': 20, 'actividad': 'natacion', 'edad': 24, 'lugar': 'jultayu'},\n",
       " {'_id': ObjectId('624ea867fd27fdc504655fda'), 'nombre': 'Ana', 'edad': 12}]"
      ]
     },
     "execution_count": 23,
     "metadata": {},
     "output_type": "execute_result"
    }
   ],
   "source": [
    "list(colec.find({'edad': {'$lte': 24}}).sort('edad', -1))  # ordenado por edad -1==>descendente"
   ]
  },
  {
   "cell_type": "code",
   "execution_count": 24,
   "id": "18f2b6d7",
   "metadata": {},
   "outputs": [
    {
     "data": {
      "text/plain": [
       "<pymongo.results.DeleteResult at 0x108b4be80>"
      ]
     },
     "execution_count": 24,
     "metadata": {},
     "output_type": "execute_result"
    }
   ],
   "source": [
    "colec.delete_one({'_id':0})"
   ]
  },
  {
   "cell_type": "code",
   "execution_count": 25,
   "id": "834043b6",
   "metadata": {},
   "outputs": [
    {
     "data": {
      "text/plain": [
       "[{'_id': ObjectId('624ea867fd27fdc504655fd9'), 'nombre': 'pepoe', 'edad': 32},\n",
       " {'_id': ObjectId('624ea867fd27fdc504655fda'), 'nombre': 'Ana', 'edad': 12},\n",
       " {'_id': 2, 'actividad': 'natacion', 'hora': '13:00', 'lugar': 'jultayu'},\n",
       " {'_id': ObjectId('624ea867fd27fdc504655fdb'), 'nombre': 'Maria', 'edad': 42},\n",
       " {'_id': 20, 'actividad': 'natacion', 'edad': 24, 'lugar': 'jultayu'}]"
      ]
     },
     "execution_count": 25,
     "metadata": {},
     "output_type": "execute_result"
    }
   ],
   "source": [
    "list(colec.find())"
   ]
  },
  {
   "cell_type": "code",
   "execution_count": 26,
   "id": "27846ebb",
   "metadata": {},
   "outputs": [
    {
     "data": {
      "text/plain": [
       "<pymongo.results.DeleteResult at 0x108b53e50>"
      ]
     },
     "execution_count": 26,
     "metadata": {},
     "output_type": "execute_result"
    }
   ],
   "source": [
    "colec.delete_many({'nombre':'Ana'})"
   ]
  },
  {
   "cell_type": "code",
   "execution_count": 27,
   "id": "0442338a",
   "metadata": {},
   "outputs": [
    {
     "data": {
      "text/plain": [
       "[{'_id': ObjectId('624ea867fd27fdc504655fd9'), 'nombre': 'pepoe', 'edad': 32},\n",
       " {'_id': 2, 'actividad': 'natacion', 'hora': '13:00', 'lugar': 'jultayu'},\n",
       " {'_id': ObjectId('624ea867fd27fdc504655fdb'), 'nombre': 'Maria', 'edad': 42},\n",
       " {'_id': 20, 'actividad': 'natacion', 'edad': 24, 'lugar': 'jultayu'}]"
      ]
     },
     "execution_count": 27,
     "metadata": {},
     "output_type": "execute_result"
    }
   ],
   "source": [
    "list(colec.find())"
   ]
  },
  {
   "cell_type": "code",
   "execution_count": 28,
   "id": "dce6127a",
   "metadata": {},
   "outputs": [
    {
     "data": {
      "text/plain": [
       "<pymongo.results.UpdateResult at 0x108b307c0>"
      ]
     },
     "execution_count": 28,
     "metadata": {},
     "output_type": "execute_result"
    }
   ],
   "source": [
    "colec.update_one({'_id': 2}, {'$set': {'lugar': 'piscina', 'hora': '23:90'}})"
   ]
  },
  {
   "cell_type": "code",
   "execution_count": 29,
   "id": "cb1b6794",
   "metadata": {},
   "outputs": [
    {
     "data": {
      "text/plain": [
       "[{'_id': ObjectId('624ea867fd27fdc504655fd9'), 'nombre': 'pepoe', 'edad': 32},\n",
       " {'_id': 2, 'actividad': 'natacion', 'hora': '23:90', 'lugar': 'piscina'},\n",
       " {'_id': ObjectId('624ea867fd27fdc504655fdb'), 'nombre': 'Maria', 'edad': 42},\n",
       " {'_id': 20, 'actividad': 'natacion', 'edad': 24, 'lugar': 'jultayu'}]"
      ]
     },
     "execution_count": 29,
     "metadata": {},
     "output_type": "execute_result"
    }
   ],
   "source": [
    "list(colec.find())"
   ]
  },
  {
   "cell_type": "code",
   "execution_count": 30,
   "id": "bd5b3f2d",
   "metadata": {},
   "outputs": [],
   "source": [
    "colec.drop()  # elimina coleccion"
   ]
  },
  {
   "cell_type": "code",
   "execution_count": 31,
   "id": "509215c5",
   "metadata": {},
   "outputs": [
    {
     "data": {
      "text/plain": [
       "[]"
      ]
     },
     "execution_count": 31,
     "metadata": {},
     "output_type": "execute_result"
    }
   ],
   "source": [
    "db.list_collection_names()"
   ]
  },
  {
   "cell_type": "code",
   "execution_count": 32,
   "id": "3596c61e",
   "metadata": {},
   "outputs": [],
   "source": [
    "# base de datos companies\n",
    "\n",
    "db=cliente.companies"
   ]
  },
  {
   "cell_type": "code",
   "execution_count": 33,
   "id": "d3462603",
   "metadata": {},
   "outputs": [],
   "source": [
    "colec=db.companies"
   ]
  },
  {
   "cell_type": "code",
   "execution_count": 34,
   "id": "bb1ec1ca",
   "metadata": {
    "scrolled": false
   },
   "outputs": [],
   "source": [
    "#list(colec.find().limit(1))"
   ]
  },
  {
   "cell_type": "code",
   "execution_count": 35,
   "id": "486823be",
   "metadata": {},
   "outputs": [
    {
     "data": {
      "text/plain": [
       "[{'name': 'Wetpaint', 'category_code': 'web'},\n",
       " {'name': 'Postini', 'category_code': 'web'},\n",
       " {'name': 'Geni', 'category_code': 'web'},\n",
       " {'name': 'Fox Interactive Media', 'category_code': 'web'},\n",
       " {'name': 'StumbleUpon', 'category_code': 'web'},\n",
       " {'name': 'Gizmoz', 'category_code': 'web'},\n",
       " {'name': 'eBay', 'category_code': 'web'},\n",
       " {'name': 'Viacom', 'category_code': 'web'},\n",
       " {'name': 'Plaxo', 'category_code': 'web'},\n",
       " {'name': 'Yahoo!', 'category_code': 'web'}]"
      ]
     },
     "execution_count": 35,
     "metadata": {},
     "output_type": "execute_result"
    }
   ],
   "source": [
    "list(colec.find({'$or': [{'category_code': 'web'},\n",
    "                         {'category_code': 'ecommerce'}]},\n",
    "               \n",
    "               {'_id': 0, 'name': 1, 'category_code': 1}   # para filtrar lo que viene\n",
    "                \n",
    "               ))[:10] # esto es de la lista"
   ]
  },
  {
   "cell_type": "code",
   "execution_count": 36,
   "id": "39053424",
   "metadata": {},
   "outputs": [
    {
     "data": {
      "text/plain": [
       "[{'name': 'Postini', 'category_code': 'web', 'founded_year': 1999},\n",
       " {'name': 'Fox Interactive Media',\n",
       "  'category_code': 'web',\n",
       "  'founded_year': 1979},\n",
       " {'name': 'StumbleUpon', 'category_code': 'web', 'founded_year': 2002},\n",
       " {'name': 'eBay', 'category_code': 'web', 'founded_year': 1995},\n",
       " {'name': 'Viacom', 'category_code': 'web', 'founded_year': 1971},\n",
       " {'name': 'Plaxo', 'category_code': 'web', 'founded_year': 2002},\n",
       " {'name': 'Yahoo!', 'category_code': 'web', 'founded_year': 1994},\n",
       " {'name': 'Meetup', 'category_code': 'web', 'founded_year': 2002},\n",
       " {'name': 'Topix', 'category_code': 'web', 'founded_year': 2002},\n",
       " {'name': 'Steorn', 'category_code': 'web', 'founded_year': 2000}]"
      ]
     },
     "execution_count": 36,
     "metadata": {},
     "output_type": "execute_result"
    }
   ],
   "source": [
    "list(colec.find({'$and': [{'category_code': 'web'},\n",
    "                          {'founded_year': {'$lte': 2002}}]},\n",
    "               \n",
    "               {'_id': 0, 'name': 1, 'category_code': 1, 'founded_year': 1}   # para filtrar lo que viene\n",
    "                \n",
    "               ).limit(10))"
   ]
  },
  {
   "cell_type": "code",
   "execution_count": 37,
   "id": "2e4f4e5c",
   "metadata": {},
   "outputs": [
    {
     "data": {
      "text/html": [
       "<div>\n",
       "<style scoped>\n",
       "    .dataframe tbody tr th:only-of-type {\n",
       "        vertical-align: middle;\n",
       "    }\n",
       "\n",
       "    .dataframe tbody tr th {\n",
       "        vertical-align: top;\n",
       "    }\n",
       "\n",
       "    .dataframe thead th {\n",
       "        text-align: right;\n",
       "    }\n",
       "</style>\n",
       "<table border=\"1\" class=\"dataframe\">\n",
       "  <thead>\n",
       "    <tr style=\"text-align: right;\">\n",
       "      <th></th>\n",
       "      <th>name</th>\n",
       "      <th>category_code</th>\n",
       "      <th>founded_year</th>\n",
       "    </tr>\n",
       "  </thead>\n",
       "  <tbody>\n",
       "    <tr>\n",
       "      <th>0</th>\n",
       "      <td>Postini</td>\n",
       "      <td>web</td>\n",
       "      <td>1999</td>\n",
       "    </tr>\n",
       "    <tr>\n",
       "      <th>1</th>\n",
       "      <td>Fox Interactive Media</td>\n",
       "      <td>web</td>\n",
       "      <td>1979</td>\n",
       "    </tr>\n",
       "    <tr>\n",
       "      <th>2</th>\n",
       "      <td>StumbleUpon</td>\n",
       "      <td>web</td>\n",
       "      <td>2002</td>\n",
       "    </tr>\n",
       "    <tr>\n",
       "      <th>3</th>\n",
       "      <td>eBay</td>\n",
       "      <td>web</td>\n",
       "      <td>1995</td>\n",
       "    </tr>\n",
       "    <tr>\n",
       "      <th>4</th>\n",
       "      <td>Viacom</td>\n",
       "      <td>web</td>\n",
       "      <td>1971</td>\n",
       "    </tr>\n",
       "  </tbody>\n",
       "</table>\n",
       "</div>"
      ],
      "text/plain": [
       "                    name category_code  founded_year\n",
       "0                Postini           web          1999\n",
       "1  Fox Interactive Media           web          1979\n",
       "2            StumbleUpon           web          2002\n",
       "3                   eBay           web          1995\n",
       "4                 Viacom           web          1971"
      ]
     },
     "execution_count": 37,
     "metadata": {},
     "output_type": "execute_result"
    }
   ],
   "source": [
    "import pandas as pd\n",
    "\n",
    "df=pd.DataFrame(list(colec.find({'$and': [{'category_code': 'web'},\n",
    "                          {'founded_year': {'$lte': 2002}}]},\n",
    "               \n",
    "                                   {'_id': 0, \n",
    "                                    'name': 1, \n",
    "                                    'category_code': 1, \n",
    "                                    'founded_year': 1}   # para filtrar lo que viene\n",
    "                \n",
    "               )))\n",
    "\n",
    "\n",
    "df.head()"
   ]
  },
  {
   "cell_type": "markdown",
   "id": "3a5a081e",
   "metadata": {},
   "source": [
    "### Geoqueries"
   ]
  },
  {
   "cell_type": "code",
   "execution_count": 38,
   "id": "fc1ac2f4",
   "metadata": {},
   "outputs": [],
   "source": [
    "al_menos_1_ofi=colec.find({'offices': {'$not': {'$size': 0}}},\n",
    "                         \n",
    "                          {'_id': 0, 'name': 1, 'offices': 1}\n",
    "                          )\n",
    "\n",
    "# devuelve aqulleos documentos con oficinas, solo el nombre y el array de oficinas"
   ]
  },
  {
   "cell_type": "code",
   "execution_count": 39,
   "id": "fda7a05e",
   "metadata": {},
   "outputs": [
    {
     "data": {
      "text/html": [
       "<div>\n",
       "<style scoped>\n",
       "    .dataframe tbody tr th:only-of-type {\n",
       "        vertical-align: middle;\n",
       "    }\n",
       "\n",
       "    .dataframe tbody tr th {\n",
       "        vertical-align: top;\n",
       "    }\n",
       "\n",
       "    .dataframe thead th {\n",
       "        text-align: right;\n",
       "    }\n",
       "</style>\n",
       "<table border=\"1\" class=\"dataframe\">\n",
       "  <thead>\n",
       "    <tr style=\"text-align: right;\">\n",
       "      <th></th>\n",
       "      <th>name</th>\n",
       "      <th>offices</th>\n",
       "    </tr>\n",
       "  </thead>\n",
       "  <tbody>\n",
       "    <tr>\n",
       "      <th>0</th>\n",
       "      <td>Wetpaint</td>\n",
       "      <td>[{'description': '', 'address1': '710 - 2nd Av...</td>\n",
       "    </tr>\n",
       "    <tr>\n",
       "      <th>1</th>\n",
       "      <td>AdventNet</td>\n",
       "      <td>[{'description': 'Headquarters', 'address1': '...</td>\n",
       "    </tr>\n",
       "    <tr>\n",
       "      <th>2</th>\n",
       "      <td>Zoho</td>\n",
       "      <td>[{'description': 'Headquarters', 'address1': '...</td>\n",
       "    </tr>\n",
       "    <tr>\n",
       "      <th>3</th>\n",
       "      <td>Digg</td>\n",
       "      <td>[{'description': None, 'address1': '135 Missis...</td>\n",
       "    </tr>\n",
       "    <tr>\n",
       "      <th>4</th>\n",
       "      <td>Facebook</td>\n",
       "      <td>[{'description': 'Headquarters', 'address1': '...</td>\n",
       "    </tr>\n",
       "  </tbody>\n",
       "</table>\n",
       "</div>"
      ],
      "text/plain": [
       "        name                                            offices\n",
       "0   Wetpaint  [{'description': '', 'address1': '710 - 2nd Av...\n",
       "1  AdventNet  [{'description': 'Headquarters', 'address1': '...\n",
       "2       Zoho  [{'description': 'Headquarters', 'address1': '...\n",
       "3       Digg  [{'description': None, 'address1': '135 Missis...\n",
       "4   Facebook  [{'description': 'Headquarters', 'address1': '..."
      ]
     },
     "execution_count": 39,
     "metadata": {},
     "output_type": "execute_result"
    }
   ],
   "source": [
    "df=pd.DataFrame(al_menos_1_ofi)\n",
    "\n",
    "df.head()"
   ]
  },
  {
   "cell_type": "code",
   "execution_count": 40,
   "id": "4b6ea2d9",
   "metadata": {},
   "outputs": [],
   "source": [
    "df=df.dropna()"
   ]
  },
  {
   "cell_type": "code",
   "execution_count": 46,
   "id": "ca153d3d",
   "metadata": {},
   "outputs": [],
   "source": [
    "# extraer la primera oficina\n",
    "\n",
    "def get_first(data):\n",
    "    \n",
    "    data=data.offices\n",
    "    \n",
    "    principal=None\n",
    "    \n",
    "    if data[0]['latitude'] and data[0]['longitude']:\n",
    "        \n",
    "        # esto ya es una geoquery (geopoint)\n",
    "        \n",
    "        principal={\n",
    "            'type': 'Point',\n",
    "            'coordinates': [data[0]['longitude'], data[0]['latitude']]\n",
    "        }\n",
    "        \n",
    "    return {'total_offices': len(data),\n",
    "            'lat': data[0]['latitude'],\n",
    "            'lng': data[0]['longitude'],\n",
    "            'principal': principal}"
   ]
  },
  {
   "cell_type": "code",
   "execution_count": 47,
   "id": "9981bc6a",
   "metadata": {},
   "outputs": [
    {
     "data": {
      "text/html": [
       "<div>\n",
       "<style scoped>\n",
       "    .dataframe tbody tr th:only-of-type {\n",
       "        vertical-align: middle;\n",
       "    }\n",
       "\n",
       "    .dataframe tbody tr th {\n",
       "        vertical-align: top;\n",
       "    }\n",
       "\n",
       "    .dataframe thead th {\n",
       "        text-align: right;\n",
       "    }\n",
       "</style>\n",
       "<table border=\"1\" class=\"dataframe\">\n",
       "  <thead>\n",
       "    <tr style=\"text-align: right;\">\n",
       "      <th></th>\n",
       "      <th>total_offices</th>\n",
       "      <th>lat</th>\n",
       "      <th>lng</th>\n",
       "      <th>principal</th>\n",
       "    </tr>\n",
       "  </thead>\n",
       "  <tbody>\n",
       "    <tr>\n",
       "      <th>0</th>\n",
       "      <td>2.0</td>\n",
       "      <td>47.603122</td>\n",
       "      <td>-122.333253</td>\n",
       "      <td>{'type': 'Point', 'coordinates': [-122.333253,...</td>\n",
       "    </tr>\n",
       "    <tr>\n",
       "      <th>1</th>\n",
       "      <td>1.0</td>\n",
       "      <td>37.692934</td>\n",
       "      <td>-121.904945</td>\n",
       "      <td>{'type': 'Point', 'coordinates': [-121.904945,...</td>\n",
       "    </tr>\n",
       "    <tr>\n",
       "      <th>2</th>\n",
       "      <td>1.0</td>\n",
       "      <td>37.692934</td>\n",
       "      <td>-121.904945</td>\n",
       "      <td>{'type': 'Point', 'coordinates': [-121.904945,...</td>\n",
       "    </tr>\n",
       "    <tr>\n",
       "      <th>3</th>\n",
       "      <td>1.0</td>\n",
       "      <td>37.764726</td>\n",
       "      <td>-122.394523</td>\n",
       "      <td>{'type': 'Point', 'coordinates': [-122.394523,...</td>\n",
       "    </tr>\n",
       "    <tr>\n",
       "      <th>4</th>\n",
       "      <td>3.0</td>\n",
       "      <td>37.416050</td>\n",
       "      <td>-122.151801</td>\n",
       "      <td>{'type': 'Point', 'coordinates': [-122.151801,...</td>\n",
       "    </tr>\n",
       "  </tbody>\n",
       "</table>\n",
       "</div>"
      ],
      "text/plain": [
       "   total_offices        lat         lng  \\\n",
       "0            2.0  47.603122 -122.333253   \n",
       "1            1.0  37.692934 -121.904945   \n",
       "2            1.0  37.692934 -121.904945   \n",
       "3            1.0  37.764726 -122.394523   \n",
       "4            3.0  37.416050 -122.151801   \n",
       "\n",
       "                                           principal  \n",
       "0  {'type': 'Point', 'coordinates': [-122.333253,...  \n",
       "1  {'type': 'Point', 'coordinates': [-121.904945,...  \n",
       "2  {'type': 'Point', 'coordinates': [-121.904945,...  \n",
       "3  {'type': 'Point', 'coordinates': [-122.394523,...  \n",
       "4  {'type': 'Point', 'coordinates': [-122.151801,...  "
      ]
     },
     "execution_count": 47,
     "metadata": {},
     "output_type": "execute_result"
    }
   ],
   "source": [
    "first_office=df[['offices']].apply(get_first, result_type='expand', axis=1)\n",
    "\n",
    "first_office.head()"
   ]
  },
  {
   "cell_type": "code",
   "execution_count": 48,
   "id": "79428353",
   "metadata": {},
   "outputs": [
    {
     "data": {
      "text/html": [
       "<div>\n",
       "<style scoped>\n",
       "    .dataframe tbody tr th:only-of-type {\n",
       "        vertical-align: middle;\n",
       "    }\n",
       "\n",
       "    .dataframe tbody tr th {\n",
       "        vertical-align: top;\n",
       "    }\n",
       "\n",
       "    .dataframe thead th {\n",
       "        text-align: right;\n",
       "    }\n",
       "</style>\n",
       "<table border=\"1\" class=\"dataframe\">\n",
       "  <thead>\n",
       "    <tr style=\"text-align: right;\">\n",
       "      <th></th>\n",
       "      <th>name</th>\n",
       "      <th>total_offices</th>\n",
       "      <th>lat</th>\n",
       "      <th>lng</th>\n",
       "      <th>principal</th>\n",
       "    </tr>\n",
       "  </thead>\n",
       "  <tbody>\n",
       "    <tr>\n",
       "      <th>0</th>\n",
       "      <td>Wetpaint</td>\n",
       "      <td>2.0</td>\n",
       "      <td>47.603122</td>\n",
       "      <td>-122.333253</td>\n",
       "      <td>{'type': 'Point', 'coordinates': [-122.333253,...</td>\n",
       "    </tr>\n",
       "    <tr>\n",
       "      <th>1</th>\n",
       "      <td>AdventNet</td>\n",
       "      <td>1.0</td>\n",
       "      <td>37.692934</td>\n",
       "      <td>-121.904945</td>\n",
       "      <td>{'type': 'Point', 'coordinates': [-121.904945,...</td>\n",
       "    </tr>\n",
       "    <tr>\n",
       "      <th>2</th>\n",
       "      <td>Zoho</td>\n",
       "      <td>1.0</td>\n",
       "      <td>37.692934</td>\n",
       "      <td>-121.904945</td>\n",
       "      <td>{'type': 'Point', 'coordinates': [-121.904945,...</td>\n",
       "    </tr>\n",
       "    <tr>\n",
       "      <th>3</th>\n",
       "      <td>Digg</td>\n",
       "      <td>1.0</td>\n",
       "      <td>37.764726</td>\n",
       "      <td>-122.394523</td>\n",
       "      <td>{'type': 'Point', 'coordinates': [-122.394523,...</td>\n",
       "    </tr>\n",
       "    <tr>\n",
       "      <th>4</th>\n",
       "      <td>Facebook</td>\n",
       "      <td>3.0</td>\n",
       "      <td>37.416050</td>\n",
       "      <td>-122.151801</td>\n",
       "      <td>{'type': 'Point', 'coordinates': [-122.151801,...</td>\n",
       "    </tr>\n",
       "  </tbody>\n",
       "</table>\n",
       "</div>"
      ],
      "text/plain": [
       "        name  total_offices        lat         lng  \\\n",
       "0   Wetpaint            2.0  47.603122 -122.333253   \n",
       "1  AdventNet            1.0  37.692934 -121.904945   \n",
       "2       Zoho            1.0  37.692934 -121.904945   \n",
       "3       Digg            1.0  37.764726 -122.394523   \n",
       "4   Facebook            3.0  37.416050 -122.151801   \n",
       "\n",
       "                                           principal  \n",
       "0  {'type': 'Point', 'coordinates': [-122.333253,...  \n",
       "1  {'type': 'Point', 'coordinates': [-121.904945,...  \n",
       "2  {'type': 'Point', 'coordinates': [-121.904945,...  \n",
       "3  {'type': 'Point', 'coordinates': [-122.394523,...  \n",
       "4  {'type': 'Point', 'coordinates': [-122.151801,...  "
      ]
     },
     "execution_count": 48,
     "metadata": {},
     "output_type": "execute_result"
    }
   ],
   "source": [
    "first_office=first_office.dropna()\n",
    "\n",
    "df=pd.concat([df, first_office], axis=1).drop('offices', axis=1)\n",
    "\n",
    "df=df.dropna()\n",
    "\n",
    "df.head()"
   ]
  },
  {
   "cell_type": "code",
   "execution_count": 49,
   "id": "479d9e52",
   "metadata": {},
   "outputs": [],
   "source": [
    "# df.to_json('../data/oficinas.json')"
   ]
  },
  {
   "cell_type": "code",
   "execution_count": 50,
   "id": "06e2a013",
   "metadata": {},
   "outputs": [
    {
     "data": {
      "text/plain": [
       "<pymongo.results.InsertManyResult at 0x134593b80>"
      ]
     },
     "execution_count": 50,
     "metadata": {},
     "output_type": "execute_result"
    }
   ],
   "source": [
    "db.first_office.insert_many(df.to_dict('records'))  # todo el dataframe pa mongo"
   ]
  },
  {
   "cell_type": "code",
   "execution_count": 51,
   "id": "7908dfad",
   "metadata": {},
   "outputs": [
    {
     "data": {
      "text/plain": [
       "'principal_2dsphere'"
      ]
     },
     "execution_count": 51,
     "metadata": {},
     "output_type": "execute_result"
    }
   ],
   "source": [
    "db.first_office.create_index([('principal', '2dsphere')])"
   ]
  },
  {
   "cell_type": "code",
   "execution_count": 53,
   "id": "e4b7c626",
   "metadata": {},
   "outputs": [],
   "source": [
    "# encuentra los elementos dentro de cierto radio, geoquery\n",
    "\n",
    "\n",
    "def find_near(geopoint, radio=1000):\n",
    "    \n",
    "    return db.first_office.find({'principal': {\n",
    "                                               '$near': {'$geometry': geopoint,\n",
    "                                                         '$maxDistance': radio}\n",
    "                                                }})"
   ]
  },
  {
   "cell_type": "raw",
   "id": "a9aabd9e",
   "metadata": {},
   "source": [
    "{'principal': {\n",
    "           '$near': {'$geometry': {\n",
    "            'type': 'Point',\n",
    "            'coordinates': [data[0]['longitude'], data[0]['latitude']]\n",
    "        },\n",
    "                     '$maxDistance': radio}\n",
    "            }}"
   ]
  },
  {
   "cell_type": "code",
   "execution_count": 54,
   "id": "5e564955",
   "metadata": {},
   "outputs": [
    {
     "data": {
      "text/html": [
       "<div>\n",
       "<style scoped>\n",
       "    .dataframe tbody tr th:only-of-type {\n",
       "        vertical-align: middle;\n",
       "    }\n",
       "\n",
       "    .dataframe tbody tr th {\n",
       "        vertical-align: top;\n",
       "    }\n",
       "\n",
       "    .dataframe thead th {\n",
       "        text-align: right;\n",
       "    }\n",
       "</style>\n",
       "<table border=\"1\" class=\"dataframe\">\n",
       "  <thead>\n",
       "    <tr style=\"text-align: right;\">\n",
       "      <th></th>\n",
       "      <th>_id</th>\n",
       "      <th>name</th>\n",
       "      <th>total_offices</th>\n",
       "      <th>lat</th>\n",
       "      <th>lng</th>\n",
       "      <th>principal</th>\n",
       "    </tr>\n",
       "  </thead>\n",
       "  <tbody>\n",
       "    <tr>\n",
       "      <th>0</th>\n",
       "      <td>624ea86cfd27fdc504657d92</td>\n",
       "      <td>SpaBooker</td>\n",
       "      <td>1.0</td>\n",
       "      <td>40.738567</td>\n",
       "      <td>-73.987199</td>\n",
       "      <td>{'type': 'Point', 'coordinates': [-73.987199, ...</td>\n",
       "    </tr>\n",
       "    <tr>\n",
       "      <th>1</th>\n",
       "      <td>624ea86cfd27fdc504656b6a</td>\n",
       "      <td>HealthiNation</td>\n",
       "      <td>1.0</td>\n",
       "      <td>40.739341</td>\n",
       "      <td>-73.988357</td>\n",
       "      <td>{'type': 'Point', 'coordinates': [-73.988357, ...</td>\n",
       "    </tr>\n",
       "    <tr>\n",
       "      <th>2</th>\n",
       "      <td>624ea86cfd27fdc504656752</td>\n",
       "      <td>Special Ops Media</td>\n",
       "      <td>1.0</td>\n",
       "      <td>40.737721</td>\n",
       "      <td>-73.987725</td>\n",
       "      <td>{'type': 'Point', 'coordinates': [-73.987725, ...</td>\n",
       "    </tr>\n",
       "    <tr>\n",
       "      <th>3</th>\n",
       "      <td>624ea86cfd27fdc5046583e4</td>\n",
       "      <td>Mashable</td>\n",
       "      <td>1.0</td>\n",
       "      <td>40.740154</td>\n",
       "      <td>-73.986742</td>\n",
       "      <td>{'type': 'Point', 'coordinates': [-73.9867417,...</td>\n",
       "    </tr>\n",
       "    <tr>\n",
       "      <th>4</th>\n",
       "      <td>624ea86cfd27fdc5046574e9</td>\n",
       "      <td>Return Path</td>\n",
       "      <td>1.0</td>\n",
       "      <td>40.740207</td>\n",
       "      <td>-73.987002</td>\n",
       "      <td>{'type': 'Point', 'coordinates': [-73.987002, ...</td>\n",
       "    </tr>\n",
       "  </tbody>\n",
       "</table>\n",
       "</div>"
      ],
      "text/plain": [
       "                        _id               name  total_offices        lat  \\\n",
       "0  624ea86cfd27fdc504657d92          SpaBooker            1.0  40.738567   \n",
       "1  624ea86cfd27fdc504656b6a      HealthiNation            1.0  40.739341   \n",
       "2  624ea86cfd27fdc504656752  Special Ops Media            1.0  40.737721   \n",
       "3  624ea86cfd27fdc5046583e4           Mashable            1.0  40.740154   \n",
       "4  624ea86cfd27fdc5046574e9        Return Path            1.0  40.740207   \n",
       "\n",
       "         lng                                          principal  \n",
       "0 -73.987199  {'type': 'Point', 'coordinates': [-73.987199, ...  \n",
       "1 -73.988357  {'type': 'Point', 'coordinates': [-73.988357, ...  \n",
       "2 -73.987725  {'type': 'Point', 'coordinates': [-73.987725, ...  \n",
       "3 -73.986742  {'type': 'Point', 'coordinates': [-73.9867417,...  \n",
       "4 -73.987002  {'type': 'Point', 'coordinates': [-73.987002, ...  "
      ]
     },
     "execution_count": 54,
     "metadata": {},
     "output_type": "execute_result"
    }
   ],
   "source": [
    "# ejemplo\n",
    "\n",
    "park_avenue={'type': 'Point', 'coordinates': [-73.987308, 40.738935]}   # geopunto\n",
    "\n",
    "radio=10000  # radio de busqueda\n",
    "\n",
    "\n",
    "n_ofi=find_near(park_avenue, radio)\n",
    "\n",
    "pd.DataFrame(n_ofi).head()"
   ]
  },
  {
   "cell_type": "code",
   "execution_count": null,
   "id": "9dcbc426",
   "metadata": {},
   "outputs": [],
   "source": []
  },
  {
   "cell_type": "code",
   "execution_count": null,
   "id": "1f8e6245",
   "metadata": {},
   "outputs": [],
   "source": []
  },
  {
   "cell_type": "code",
   "execution_count": null,
   "id": "f1889823",
   "metadata": {},
   "outputs": [],
   "source": []
  },
  {
   "cell_type": "code",
   "execution_count": null,
   "id": "7c15673c",
   "metadata": {},
   "outputs": [],
   "source": []
  },
  {
   "cell_type": "code",
   "execution_count": null,
   "id": "2d246b8d",
   "metadata": {},
   "outputs": [],
   "source": []
  },
  {
   "cell_type": "code",
   "execution_count": null,
   "id": "ebb3a121",
   "metadata": {},
   "outputs": [],
   "source": []
  },
  {
   "cell_type": "code",
   "execution_count": null,
   "id": "958eb501",
   "metadata": {},
   "outputs": [],
   "source": []
  },
  {
   "cell_type": "code",
   "execution_count": null,
   "id": "0f5f4495",
   "metadata": {},
   "outputs": [],
   "source": []
  }
 ],
 "metadata": {
  "kernelspec": {
   "display_name": "clase",
   "language": "python",
   "name": "clase"
  },
  "language_info": {
   "codemirror_mode": {
    "name": "ipython",
    "version": 3
   },
   "file_extension": ".py",
   "mimetype": "text/x-python",
   "name": "python",
   "nbconvert_exporter": "python",
   "pygments_lexer": "ipython3",
   "version": "3.9.7"
  },
  "varInspector": {
   "cols": {
    "lenName": 16,
    "lenType": 16,
    "lenVar": 40
   },
   "kernels_config": {
    "python": {
     "delete_cmd_postfix": "",
     "delete_cmd_prefix": "del ",
     "library": "var_list.py",
     "varRefreshCmd": "print(var_dic_list())"
    },
    "r": {
     "delete_cmd_postfix": ") ",
     "delete_cmd_prefix": "rm(",
     "library": "var_list.r",
     "varRefreshCmd": "cat(var_dic_list()) "
    }
   },
   "types_to_exclude": [
    "module",
    "function",
    "builtin_function_or_method",
    "instance",
    "_Feature"
   ],
   "window_display": false
  }
 },
 "nbformat": 4,
 "nbformat_minor": 5
}
