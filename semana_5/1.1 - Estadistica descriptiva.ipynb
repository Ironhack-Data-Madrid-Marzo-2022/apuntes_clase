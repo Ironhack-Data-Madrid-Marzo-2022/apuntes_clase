{
 "cells": [
  {
   "cell_type": "markdown",
   "metadata": {},
   "source": [
    "# 1.1 - Estadística descriptiva\n",
    "\n",
    "\n",
    "\n",
    "$$$$\n",
    "\n",
    "![desc_stats](images/desc_stats.jpg)\n",
    "\n",
    "$$$$\n",
    "\n",
    "La estadística descriptiva es la técnica matemática que obtiene, organiza, presenta y describe un conjunto de datos con el propósito de facilitar el uso, generalmente con el apoyo de tablas, medidas numéricas o gráficas. Estas técnicas son utilizada en el proceso de investigación, en la etapa donde el investigador necesita procesar y analizar los datos recolectados en dicho estudio.\n",
    "\n",
    "La estadística descriptiva trata de describir algo. Pero no describirlo de cualquiera forma, sino de manera cuantitativa. Pensemos en el peso de una caja de verduras, en la altura de una persona o en la cantidad de dinero que gana una empresa. De estas variables podríamos decir muchas cosas. Por ejemplo, podríamos indicar que esta o aquella caja de tomates pesan mucho o pesan menos que otras. Siguiendo con otro ejemplo, podríamos decir que el ingreso de una empresa varía mucho a lo largo del tiempo o que una persona tiene una altura promedio.\n",
    "\n",
    "Para dictar las afirmaciones anteriores, sobre mucho, poco, alto, bajo, muy variable o poco variable necesitamos variables de medidas. Esto es, necesitamos cuantificarlas, ofrecer un número. Con esto en mente, podríamos utilizar los gramos o los kilogramos como unidad de medida para saber el peso de tantas cajas de tomates como consideremos. Una vez pesemos treinta cajas, sabremos cuales pesan más, cuales pesan menos, que cuantía es la que más se repite o si existe mucha disparidad entre los pesos de las diferentes cajas.\n",
    "\n",
    "Con esta idea nace la estadística descriptiva, con la de recoger datos, almacenarlos, realizar tablas o incluso gráficos que nos ofrezcan información sobre un determinado asunto. Adicionalmente, nos ofrecen medidas que resumen la información de una gran cantidad de datos.\n",
    "\n",
    "\n",
    "\n",
    "**Población y muestra**\n",
    "\n",
    "Una población estadística es un conjunto de sujetos o elementos que presentan características comunes. Sobre esta población se realiza el estudio estadístico con el fin de sacar conclusiones.El tamaño poblacional es el número de individuos que constituyen la población. Según el número de sujetos, el tamaño puede ser finito o infinito. Los conjuntos infinitos son algo artificial o conceptual, ya que toda población de entidades físicas es finita. Por ejemplo:\n",
    "\n",
    "+ Población finita: el conjunto de habitantes de una ciudad, los bolígrafos producidos en una fábrica en un día, etc.\n",
    "+ Población infinita: el conjunto de los números positivos.\n",
    "\n",
    "Cuando la población es muy grande, normalmente es imposible estudiar a todos los individuos.\n",
    "\n",
    "Supongamos que queremos saber cual es el nivel de colesterol de la población de Estados Unidos. Por cuestiones económicas y de tiempo obvias, no está al alcance realizar un análisis de sangre a toda la población de EEUU. Para solucionar este impedimento, se utiliza una muestra estadística.\n",
    "\n",
    "Una muestra estadística, o simplemente una muestra, es un subconjunto de elementos de la población estadística. El mejor resultado para un proceso estadístico sería estudiar a toda la población. Pero esto generalmente resulta imposible, ya sea porque supone un coste económico alto o porque requiere demasiado tiempo.\n",
    "\n",
    "Frente a la dificultad de hacer un censo, estudio de toda la población, se examina una muestra estadística que representará a la totalidad de los sujetos. Con los resultado obtenidos mediante la muestra, se intentará inferir las propiedades de todos los elementos, mediante la estadística inferencial.\n",
    "\n",
    "La muestra elegida debe ser representativa de la población. Las muestras tienen un nivel de confianza de la bondad con la que representan a todos los sujetos, generalmente del 95% o superior.\n",
    "\n",
    "\n",
    "**Tipos de variables estadísticas**\n",
    "\n",
    "Dentro de la estadística descriptiva, podemos describir los datos de manera cualitativa o cuantitativa.\n",
    "\n",
    "+ Variable cualitativa: Hace referencia a una cualidad. Ejemplos: el color de ojos de una persona o el color de pelo.\n",
    "\n",
    "+ Variable cuantitativa: Hace referencia a una medida cuantitativa. Ejemplos: la altura de una persona en centímetros o el peso de una persona en kilogramos.\n",
    "\n",
    "Así pues, sobre estas variables se pueden calcular ciertos parámetros. Especialmente sobre las variables cuantitativas. Ya que, por ejemplo, ¿cuál es el valor promedio del color de ojos? Si hay cinco personas con color de ojos azul y cinco con color de ojos verde, el promedio no será que tienen un color de ojos promedio de azul-verde. Por tanto, en ese caso no sería posible calcular algunos de los parámetros que veremos a continuación.\n",
    "\n",
    "\n",
    "\n",
    "\n",
    "\n",
    "**Parámetros estadísticos básicos**\n",
    "\n",
    "Con el objetivo de resumir la información, se idearon diversas fórmulas que ofrecían medidas de un determinado tipo. Así, están aquellas que nos ofrecen información sobre el centro, otras sobre la dispersión o variabilidad y otras sobre la posición de un valor.\n",
    "\n",
    "+ Medidas de tendencia central: Denominadas así porque ofrecen información sobre el centro de conjunto de datos. Por ejemplo, la media es una medida de tendencia o posición central ya que el promedio nos ofrece un valor centrado del conjunto de datos. ¿Dónde podríamos decir que se encuentra el punto medio? En el centro, en la mitad aproximadamente. Otro ejemplo de medida de tendencia central es la mediana.\n",
    "\n",
    "\n",
    "+ Medidas de posición: No son las más conocidas, pero se utilizan frecuentemente. Un ejemplo de ello, se encuentra en los percentiles o los deciles. Cuando un dato en concreto se encuentra en el percentil 90, quiere decir que por debajo de ese dato se encuentran el 90% de datos. Existen otras medidas de posición como los cuartiles o algunas variantes como el primer cuartil.\n",
    "\n",
    "\n",
    "+ Medidas de dispersión: También son conocidas como medidas de variabilidad. Por ejemplo, la desviación típica es una medida de variabilidad ya que nos dice si los valores de un conjunto de datos son muy dispares o no. Dos ejemplos más sobre medidas de dispersión podrían ser la varianza y el rango estadístico.\n",
    "\n",
    "\n",
    "\n",
    "**Asimetría y curtosis**\n",
    "\n",
    "La asimetría es la medida que indica la simetría de la distribución de una variable respecto a la media aritmética, sin necesidad de hacer la representación gráfica. Los coeficientes de asimetría indican si hay el mismo número de elementos a izquierda y derecha de la media.\n",
    "\n",
    "Existen tres tipos de curva de distribución:\n",
    "\n",
    "+ Asimetría negativa: la cola de la distribución se alarga para valores inferiores a la media.\n",
    "+ Simétrica: hay el mismo número de elementos a izquierda y derecha de la media. En este caso, coinciden la media, la mediana y la moda. La distribución se adapta a la forma de la campana de Gauss, o distribución normal.\n",
    "+ Asimetría positiva: la cola de la distribución se alarga a la derecha para valores superiores a la media.\n",
    "\n",
    "\n",
    "La curtosis, o apuntamiento, es una medida de forma que mide cuán escarpada o achatada está una curva o distribución. Este coeficiente indica la cantidad de datos que hay cercanos a la media, de manera que a mayor grado de curtosis, más escarpada o apuntada será la forma de la curva.\n",
    "\n",
    "\n",
    "\n",
    "\n",
    "\n",
    "**Distribución de frecuencias**\n",
    "\n",
    "También es interesante ver cómo se distribuyen las frecuencias. Para ello, existen ciertos conceptos que debemos conocer:\n",
    "\n",
    "+ Frecuencia absoluta: Es el número total de veces que se repite una observación. En ocasiones las observaciones se pueden presentar en intervalos.\n",
    "\n",
    "+ Frecuencia relativa: Es el número en porcentaje que se repite una observación o un conjunto de ellas.\n",
    "\n",
    "+ Frecuencia acumulada: Puede ser relativa acumulada o absoluta acumulada. Indica la cantidad acumulada hasta cierta observación.\n",
    "\n",
    "\n",
    "\n",
    "\n",
    "**Tablas y gráficos en estadística descriptiva**\n",
    "\n",
    "Aunque las tablas y los gráficos no son algo exclusivo de la estadística descriptiva, sí que la caracterizan. En informes, en estudios e investigaciones es muy frecuente el uso de gráficos. Nos ayudan a mostrar la información de manera más sencilla y acotada.\n",
    "\n",
    "Eso sí, dentro de las tablas y gráficos existen una cantidad de tipos inmenso. A continuación pondremos algunos ejemplos de gráficos y tablas frecuentemente utilizados.\n",
    "\n",
    "+ Gráfico de barras.\n",
    "\n",
    "+ Histograma.\n",
    "\n",
    "+ Gráfico de sectores.\n",
    "\n",
    "+ Tablas de probabilidad.\n",
    "\n",
    "+ Tablas bidimensionales.\n",
    "\n",
    "+ Gráfico de cajas."
   ]
  },
  {
   "cell_type": "markdown",
   "metadata": {},
   "source": [
    "### Medidas de tendencia central\n",
    "\n",
    "**Media**\n",
    "\n",
    "La media aritmética, promedio o esperanza se define con la siguiente ecuación:\n",
    "\n",
    "$$\\overline{x} = \\frac{1}{N} \\sum_{i=1}^{N} x_{i}$$\n",
    "\n",
    "donde:\n",
    "\n",
    "$\\overline{x}$ := Media aritmética\n",
    "\n",
    "$x_{i}$ := Cada uno de los elementos de la muestra\n",
    "\n",
    "$N$ := Número de elementos de la muestra\n",
    "\n",
    "Visto desde un punto de vista más conceptual, la media aritmética es el centro de los datos en el sentido numérico, ya que intenta equilibrarlos por exceso y por defecto."
   ]
  },
  {
   "cell_type": "code",
   "execution_count": 1,
   "metadata": {},
   "outputs": [],
   "source": [
    "muestra=[1,3,5,6,76,8,8,8,3,34,43,565,65]"
   ]
  },
  {
   "cell_type": "code",
   "execution_count": 2,
   "metadata": {},
   "outputs": [],
   "source": [
    "N=len(muestra)"
   ]
  },
  {
   "cell_type": "code",
   "execution_count": 3,
   "metadata": {},
   "outputs": [],
   "source": [
    "sumatoria=sum(muestra)"
   ]
  },
  {
   "cell_type": "code",
   "execution_count": 4,
   "metadata": {},
   "outputs": [
    {
     "data": {
      "text/plain": [
       "63.46153846153846"
      ]
     },
     "execution_count": 4,
     "metadata": {},
     "output_type": "execute_result"
    }
   ],
   "source": [
    "media=sumatoria/N\n",
    "\n",
    "media"
   ]
  },
  {
   "cell_type": "code",
   "execution_count": 5,
   "metadata": {},
   "outputs": [],
   "source": [
    "import numpy as np"
   ]
  },
  {
   "cell_type": "code",
   "execution_count": 6,
   "metadata": {},
   "outputs": [
    {
     "data": {
      "text/plain": [
       "63.46153846153846"
      ]
     },
     "execution_count": 6,
     "metadata": {},
     "output_type": "execute_result"
    }
   ],
   "source": [
    "np.array(muestra).mean()"
   ]
  },
  {
   "cell_type": "markdown",
   "metadata": {},
   "source": [
    "**Media ponderada**\n",
    "\n",
    "La media ponderada consiste en otorgar a cada observación del conjunto de datos unos pesos según la importancia de cada elemento.Cuanto más grande sea el peso de un elemento, más importante se considera que es éste. La media ponderada tiene numerosas aplicaciones, por ejemplo, la nota de una asignatura donde el examen final tiene un peso mayor al de un trabajo. O en el cálculo del IPC (Índice de Precios de Consumo). El IPC es un indicador de los precios de los bienes y servicios básicos que consume la población. Para calcularlo, se otorga pesos a los diferentes bienes (pan, fruta, vivienda,etc..) y se calcula la media ponderada.\n",
    "\n",
    "La media aritmética es un caso particular de media ponderada, en la que todos los pesos son uno, ya que a todos los elementos se les otorga la misma importancia.\n",
    "\n",
    "La media ponderada sigue la siguiente ecuación:\n",
    "\n",
    "$$\\overline{x} = \\frac{\\omega_{1}·x_{1}+\\omega_{2}·x_{2}+...+\\omega_{N}·x_{N}}{\\omega_{1}+\\omega_{2}+...+\\omega_{N}} = \\frac{\\sum_{i=1}^{N} \\omega_{i}·x_{i}}{\\sum_{i=1}^{N} \\omega_{i}}$$\n",
    "\n",
    "donde:\n",
    "\n",
    "$\\overline{x}$ := Media aritmética\n",
    "\n",
    "$\\omega_{i}$ := Pesos para cada elemento"
   ]
  },
  {
   "cell_type": "code",
   "execution_count": 7,
   "metadata": {},
   "outputs": [],
   "source": [
    "pesos=[i*0.8 for i in range(len(muestra))]  # esto depende del problema"
   ]
  },
  {
   "cell_type": "code",
   "execution_count": 8,
   "metadata": {},
   "outputs": [],
   "source": [
    "numerador=np.dot(pesos, muestra)  # producto escalar, es la sumatoria de productos\n",
    "\n",
    "denominador=sum(pesos)"
   ]
  },
  {
   "cell_type": "code",
   "execution_count": 9,
   "metadata": {},
   "outputs": [
    {
     "data": {
      "text/plain": [
       "105.56410256410254"
      ]
     },
     "execution_count": 9,
     "metadata": {},
     "output_type": "execute_result"
    }
   ],
   "source": [
    "media_pond=numerador/denominador\n",
    "\n",
    "media_pond"
   ]
  },
  {
   "cell_type": "markdown",
   "metadata": {},
   "source": [
    "**Media cuadrática**\n",
    "\n",
    "La media cuadrática o RMS (Root Mean Square) se define como la raíz cuadrada del promedio de los elementos al cuadrado. Es muy útil para calcular la media de variables que toman valores negativos y positivos. Se suele utilizar cuando el símbolo de la variable no es importante y lo que interesa es el valor absoluto del elemento. Por ejemplo, para calcular la media de errores de medida.\n",
    "\n",
    "Una aplicación clásica es la determinación del valor eficaz de un parámetro de una señal sinusoidal.\n",
    "\n",
    "La media cuadrática se define por la siguiente ecuación:\n",
    "\n",
    "$$\\overline{x} = \\sqrt{\\frac{x_{1}^{2}+x_{2}^{2}+...+x_{N}^{2}}{N}}$$\n",
    "\n",
    "donde:\n",
    "\n",
    "$\\overline{x}$ := Media cuadrática o RMS"
   ]
  },
  {
   "cell_type": "code",
   "execution_count": 11,
   "metadata": {},
   "outputs": [
    {
     "data": {
      "text/plain": [
       "[1, 9, 25, 36, 5776, 64, 64, 64, 9, 1156, 1849, 319225, 4225]"
      ]
     },
     "execution_count": 11,
     "metadata": {},
     "output_type": "execute_result"
    }
   ],
   "source": [
    "muestra_2=[e**2 for e in muestra]\n",
    "\n",
    "muestra_2"
   ]
  },
  {
   "cell_type": "code",
   "execution_count": 15,
   "metadata": {},
   "outputs": [
    {
     "data": {
      "text/plain": [
       "159.92858983356868"
      ]
     },
     "execution_count": 15,
     "metadata": {},
     "output_type": "execute_result"
    }
   ],
   "source": [
    "media_cuad=(sum(muestra_2)/N)**0.5\n",
    "\n",
    "media_cuad"
   ]
  },
  {
   "cell_type": "markdown",
   "metadata": {},
   "source": [
    "**Media geométrica**\n",
    "\n",
    "La media geométrica es útil para calcular medias de porcentajes, tantos por uno, puntuaciones o índices. Tiene la ventaja de que no es tan sensible como la media a los valores extremos.\n",
    "\n",
    "La media geométrica con la siguiente ecuación, es la raíz N-ésima del producto de los N elementos:\n",
    "\n",
    "$$\\overline{x} = \\sqrt[N]{x_{1}·x_{2}·...·x_{N}} = \\sqrt[N]{\\prod_{i=1}^{N}{x_{i}}}$$\n",
    "\n",
    "donde:\n",
    "\n",
    "$\\overline{x}$ := Media geométrica\n",
    "\n",
    "$\\prod_{i=1}^{N}{x_{i}}$ := Producto de cada uno de los elementos de la muestra\n"
   ]
  },
  {
   "cell_type": "code",
   "execution_count": 16,
   "metadata": {},
   "outputs": [],
   "source": [
    "def producto(a, b):\n",
    "    return a*b"
   ]
  },
  {
   "cell_type": "code",
   "execution_count": 17,
   "metadata": {},
   "outputs": [],
   "source": [
    "from functools import reduce"
   ]
  },
  {
   "cell_type": "code",
   "execution_count": 21,
   "metadata": {},
   "outputs": [
    {
     "data": {
      "text/plain": [
       "564100512768000"
      ]
     },
     "execution_count": 21,
     "metadata": {},
     "output_type": "execute_result"
    }
   ],
   "source": [
    "productorio=reduce(producto, muestra)  \n",
    "\n",
    "productorio"
   ]
  },
  {
   "cell_type": "code",
   "execution_count": 22,
   "metadata": {},
   "outputs": [
    {
     "data": {
      "text/plain": [
       "13.63702794149889"
      ]
     },
     "execution_count": 22,
     "metadata": {},
     "output_type": "execute_result"
    }
   ],
   "source": [
    "media_geom=productorio**(1/N)\n",
    "\n",
    "media_geom"
   ]
  },
  {
   "cell_type": "markdown",
   "metadata": {},
   "source": [
    "**Media armónica**\n",
    "\n",
    "La media armónica es la recíproca de la media aritmética. Los elementos del conjunto deben ser necesariamente no nulos. Esta media es poco sensible a los valores grandes, pero muy sensible a los valores próximos a cero, ya que los recíprocos $1/X{i}$ son muy altos.\n",
    "\n",
    "La media armónica sigue la siguiente ecuación:\n",
    "\n",
    "$$\\overline{x} = \\frac{N}{\\frac{1}{x_{1}}+\\frac{1}{x_{2}}+...+\\frac{1}{x_{N}}}$$\n",
    "\n",
    "donde:\n",
    "\n",
    "$\\overline{x}$ := Media armónica"
   ]
  },
  {
   "cell_type": "code",
   "execution_count": 23,
   "metadata": {},
   "outputs": [
    {
     "data": {
      "text/plain": [
       "[1.0,\n",
       " 0.3333333333333333,\n",
       " 0.2,\n",
       " 0.16666666666666666,\n",
       " 0.013157894736842105,\n",
       " 0.125,\n",
       " 0.125,\n",
       " 0.125,\n",
       " 0.3333333333333333,\n",
       " 0.029411764705882353,\n",
       " 0.023255813953488372,\n",
       " 0.0017699115044247787,\n",
       " 0.015384615384615385]"
      ]
     },
     "execution_count": 23,
     "metadata": {},
     "output_type": "execute_result"
    }
   ],
   "source": [
    "muestra_inversa=[1/e for e in muestra]\n",
    "\n",
    "muestra_inversa"
   ]
  },
  {
   "cell_type": "code",
   "execution_count": 24,
   "metadata": {},
   "outputs": [
    {
     "data": {
      "text/plain": [
       "5.218131266177484"
      ]
     },
     "execution_count": 24,
     "metadata": {},
     "output_type": "execute_result"
    }
   ],
   "source": [
    "media_arm=N/sum(muestra_inversa)\n",
    "\n",
    "media_arm"
   ]
  },
  {
   "cell_type": "markdown",
   "metadata": {},
   "source": [
    "Existe una relación de orden entre cuatro tipos de media. En esta relación se excluye la media ponderada porque depende de los pesos. \n",
    "\n",
    "$$M_{armónica} \\leq M_{geométrica} \\leq M_{aritmética} \\leq M_{cuadrática}$$"
   ]
  },
  {
   "cell_type": "code",
   "execution_count": 26,
   "metadata": {},
   "outputs": [
    {
     "data": {
      "text/plain": [
       "True"
      ]
     },
     "execution_count": 26,
     "metadata": {},
     "output_type": "execute_result"
    }
   ],
   "source": [
    "media_arm <= media_geom <= media <= media_cuad"
   ]
  },
  {
   "cell_type": "markdown",
   "metadata": {},
   "source": [
    "**Mediana**\n",
    "\n",
    "La mediana se obtiene en dos pasos. Primero ordenamos de menor a mayor la muestra. Desde ahí, la mediana es el elemento que está en el centro, dejando la mitad de elementos a la izquierda y a otra mitad a la derecha. Si el número de elementos de la muestra es par, entonces para obtener la mediana se realiza la media aritmética de los dos elementos en el centro."
   ]
  },
  {
   "cell_type": "code",
   "execution_count": 27,
   "metadata": {},
   "outputs": [
    {
     "data": {
      "text/plain": [
       "[1, 3, 3, 5, 6, 8, 8, 8, 34, 43, 65, 76, 565]"
      ]
     },
     "execution_count": 27,
     "metadata": {},
     "output_type": "execute_result"
    }
   ],
   "source": [
    "# 1er paso, ordenado\n",
    "\n",
    "sorted(muestra)"
   ]
  },
  {
   "cell_type": "code",
   "execution_count": 28,
   "metadata": {},
   "outputs": [],
   "source": [
    "# 2º funcion mediana\n",
    "\n",
    "def mediana(lst):\n",
    "    \n",
    "    N=len(lst)\n",
    "    \n",
    "    # 1er paso, ordenado\n",
    "    \n",
    "    lst=sorted(lst)\n",
    "    \n",
    "    # 2º paso, el del medio\n",
    "    \n",
    "    if N%2==0:\n",
    "        # si es par...\n",
    "        return (lst[N//2-1]+lst[N//2])/2\n",
    "    else:\n",
    "        # si es impar\n",
    "        return lst[N//2]"
   ]
  },
  {
   "cell_type": "code",
   "execution_count": 29,
   "metadata": {},
   "outputs": [
    {
     "data": {
      "text/plain": [
       "8"
      ]
     },
     "execution_count": 29,
     "metadata": {},
     "output_type": "execute_result"
    }
   ],
   "source": [
    "mediana(muestra)"
   ]
  },
  {
   "cell_type": "code",
   "execution_count": 32,
   "metadata": {},
   "outputs": [
    {
     "data": {
      "text/plain": [
       "8.0"
      ]
     },
     "execution_count": 32,
     "metadata": {},
     "output_type": "execute_result"
    }
   ],
   "source": [
    "np.median(muestra)"
   ]
  },
  {
   "cell_type": "markdown",
   "metadata": {},
   "source": [
    "**Moda**\n",
    "\n",
    "La moda es el valor más repetido dentro de la muestra, es decir, el valor cuya frecuencia relativa es mayor. En un conjunto puede haber más de una moda, en ese caso se dice que es multimodal."
   ]
  },
  {
   "cell_type": "code",
   "execution_count": 34,
   "metadata": {},
   "outputs": [
    {
     "data": {
      "text/plain": [
       "8"
      ]
     },
     "execution_count": 34,
     "metadata": {},
     "output_type": "execute_result"
    }
   ],
   "source": [
    "import statistics as stat\n",
    "\n",
    "moda=stat.mode(muestra)\n",
    "\n",
    "moda"
   ]
  },
  {
   "cell_type": "code",
   "execution_count": 35,
   "metadata": {},
   "outputs": [
    {
     "data": {
      "text/plain": [
       "[1, 3, 5, 6, 76, 8, 8, 8, 3, 34, 43, 565, 65]"
      ]
     },
     "execution_count": 35,
     "metadata": {},
     "output_type": "execute_result"
    }
   ],
   "source": [
    "muestra"
   ]
  },
  {
   "cell_type": "code",
   "execution_count": 38,
   "metadata": {},
   "outputs": [
    {
     "data": {
      "text/plain": [
       "[11, 22]"
      ]
     },
     "execution_count": 38,
     "metadata": {},
     "output_type": "execute_result"
    }
   ],
   "source": [
    "moda=stat.multimode([11,11,11,22,22,22,44])\n",
    "\n",
    "moda"
   ]
  },
  {
   "cell_type": "code",
   "execution_count": 39,
   "metadata": {},
   "outputs": [
    {
     "data": {
      "text/plain": [
       "ModeResult(mode=array([8]), count=array([3]))"
      ]
     },
     "execution_count": 39,
     "metadata": {},
     "output_type": "execute_result"
    }
   ],
   "source": [
    "from scipy import stats as st\n",
    "\n",
    "moda=st.mode(muestra)\n",
    "\n",
    "moda"
   ]
  },
  {
   "cell_type": "code",
   "execution_count": 41,
   "metadata": {},
   "outputs": [
    {
     "data": {
      "text/plain": [
       "ModeResult(mode=array([11]), count=array([3]))"
      ]
     },
     "execution_count": 41,
     "metadata": {},
     "output_type": "execute_result"
    }
   ],
   "source": [
    "moda=st.mode([22,22,22,11,11,11,44])\n",
    "\n",
    "moda  # devuelve la moda más pequeña"
   ]
  },
  {
   "cell_type": "markdown",
   "metadata": {},
   "source": [
    "### Medidas de posición\n",
    "\n",
    "\n",
    "Las medidas de posición permiten conocer puntos característicos de una serie de valores, que no necesariamente tienen que ser centrales. La intención de estas medidas es dividir el conjunto de observaciones en grupos con el mismo número de valores.\n",
    "\n",
    "**Cuartiles**\n",
    "\n",
    "Los cuartiles son los tres valores que dividen una serie de datos ordenada en cuatro porciones iguales. El primer cuartil Q1 deja a la izquierda el 25% de los datos. El segundo Q2 deja a izquierda y derecha el 50% y coincide con la mediana. El tercero Q3 deja a la derecha el 25% de valores. Los tres cuantiles son:\n",
    "\n",
    "\n",
    "$$Q1 = X_{((N+1)/4)}$$\n",
    "$$Q2 = Mediana = X_{((N+1)/2)}$$\n",
    "$$Q3 = X_{(3·(N+1)/4)}$$\n",
    "\n",
    "\n",
    "donde:\n",
    "\n",
    "Muestra = $(X_{1}, X_{2},..., X_{N})$\n"
   ]
  },
  {
   "cell_type": "code",
   "execution_count": 42,
   "metadata": {},
   "outputs": [
    {
     "data": {
      "text/plain": [
       "5.0"
      ]
     },
     "execution_count": 42,
     "metadata": {},
     "output_type": "execute_result"
    }
   ],
   "source": [
    "np.quantile(muestra, 0.25)  # Q1, cuantil no es cuartil, cuartil divide en 4 partes, cuantil divide entre 0 y 1"
   ]
  },
  {
   "cell_type": "code",
   "execution_count": 43,
   "metadata": {},
   "outputs": [
    {
     "data": {
      "text/plain": [
       "8.0"
      ]
     },
     "execution_count": 43,
     "metadata": {},
     "output_type": "execute_result"
    }
   ],
   "source": [
    "np.quantile(muestra, 0.5)  # Q2, mediana"
   ]
  },
  {
   "cell_type": "code",
   "execution_count": 44,
   "metadata": {},
   "outputs": [
    {
     "data": {
      "text/plain": [
       "43.0"
      ]
     },
     "execution_count": 44,
     "metadata": {},
     "output_type": "execute_result"
    }
   ],
   "source": [
    "np.quantile(muestra, 0.75)  # Q3"
   ]
  },
  {
   "cell_type": "markdown",
   "metadata": {},
   "source": [
    "**Percentiles**\n",
    "\n",
    "El percentil es una medida de posición. Los percentiles $P_{i}$ son los 99 puntos que dividen una serie de datos ordenada en 100 partes iguales, es decir, que contienen el mismo número de elementos cada una. El percentil 50 es la mediana.\n",
    "\n",
    "Sea $(X_{1}, X_{2},..., X_{N})$ una muestra de N elementos. El percentil $P_{i}$ es:\n",
    "\n",
    "$$P_{i} = X_{((N+1)·i/100)}$$\n",
    "\n",
    "Donde $P_{i}$ es la posición del percentil buscado en la serie ordenada de datos.\n",
    "\n",
    "Los percentiles están pensados para conjuntos de elementos de más de cien elementos."
   ]
  },
  {
   "cell_type": "code",
   "execution_count": 45,
   "metadata": {},
   "outputs": [
    {
     "data": {
      "text/plain": [
       "5.0"
      ]
     },
     "execution_count": 45,
     "metadata": {},
     "output_type": "execute_result"
    }
   ],
   "source": [
    "np.percentile(muestra, 25)  # Q1"
   ]
  },
  {
   "cell_type": "code",
   "execution_count": 46,
   "metadata": {},
   "outputs": [
    {
     "data": {
      "text/plain": [
       "8.0"
      ]
     },
     "execution_count": 46,
     "metadata": {},
     "output_type": "execute_result"
    }
   ],
   "source": [
    "np.percentile(muestra, 50)  # Q2"
   ]
  },
  {
   "cell_type": "code",
   "execution_count": 47,
   "metadata": {},
   "outputs": [
    {
     "data": {
      "text/plain": [
       "43.0"
      ]
     },
     "execution_count": 47,
     "metadata": {},
     "output_type": "execute_result"
    }
   ],
   "source": [
    "np.percentile(muestra, 75)  # Q3"
   ]
  },
  {
   "cell_type": "markdown",
   "metadata": {},
   "source": [
    "### Medidas de dispersión\n",
    "\n",
    "Las medidas de dispersión o medidas de variabilidad muestran la variabilidad de un conjunto de datos, indicando la mayor o menor concentración de datos respecto a las medias de centralización.\n",
    "\n",
    "\n",
    "\n",
    "**Rango**\n",
    "\n",
    "El rango o recorrido estadístico es la diferencia entre el valor máximo y el mínimo de un conjunto de elementos.\n",
    "\n",
    "\n",
    "$$Rango = max(muestra) - min(muestra)$$"
   ]
  },
  {
   "cell_type": "code",
   "execution_count": 48,
   "metadata": {},
   "outputs": [
    {
     "data": {
      "text/plain": [
       "564"
      ]
     },
     "execution_count": 48,
     "metadata": {},
     "output_type": "execute_result"
    }
   ],
   "source": [
    "rango=max(muestra) - min(muestra)\n",
    "\n",
    "rango"
   ]
  },
  {
   "cell_type": "markdown",
   "metadata": {},
   "source": [
    "**Rango intercuartil**\n",
    "\n",
    "El rango intercuartil es una estimación estadística de la dispersión de una distribución de datos. Consiste en la diferencia entre el tercer y el primer cuartil. Mediante esta medida se eliminan los valores extremadamente alejados. El rango intercuartil es altamente recomendable cuando la medida de tendencia central utilizada es la mediana ya que este estadístico es insensible a posibles irregularidades en los extremos.\n",
    "\n",
    "\n",
    "$$IQR = Q_{3} - Q_{1}$$\n",
    "\n",
    "En una distribución, encontramos la mitad de los datos, el 50 %, ubicados dentro del rango intercuartil. Conforme aumente el IQR, indicará que la dispersión será mayor. Con el IQR podremos elaborar los diagramas de caja, que es un instrumento muy visual para evaluar la dispersión de una distribución."
   ]
  },
  {
   "cell_type": "code",
   "execution_count": 49,
   "metadata": {},
   "outputs": [
    {
     "data": {
      "text/plain": [
       "38.0"
      ]
     },
     "execution_count": 49,
     "metadata": {},
     "output_type": "execute_result"
    }
   ],
   "source": [
    "q1=np.percentile(muestra, 25)\n",
    "\n",
    "q3=np.percentile(muestra, 75)\n",
    "\n",
    "iqr=q3-q1\n",
    "\n",
    "iqr"
   ]
  },
  {
   "cell_type": "markdown",
   "metadata": {},
   "source": [
    "**Varianza**\n",
    "\n",
    "La varianza mide la dispersión de los datos respecto a la media, calculando la media de los cuadrados de las distancias de todos los datos.\n",
    "\n",
    "$$\\sigma^{2} = \\frac{\\sum_{i=1}^{N} (x_{i}-\\overline{x})^2}{N}$$\n",
    "\n",
    "La varianza calculada de esta manera se llama varianza poblacional. Si en vez de tratarse de la población usamos una muestra, la varianza llamada muestral se calcula de la siguiente manera:\n",
    "\n",
    "$$S^{2} = \\frac{\\sum_{i=1}^{N} (x_{i}-\\overline{x})^2}{N-1}$$\n",
    "\n",
    "La razón de las dos expresiones de la varianza es que de una población se pueden extraer diversas muestras. No tiene por qué coincidir sus varianzas con la varianza de la población, ni siquiera las varianzas muestrales entre sí. Normalmente, en la varianza muestral, dividiendo por N se obtendrían varianzas ligeramente menores. Por eso, se corrige, dividiendo por N–1. A esta varianza muestral corregida se la denomina cuasivarianza o varianza insesgada. Cuanto mayor sea N menor será la diferencia entre el resultado de la fórmula $S^{2}$ y la de $\\sigma^{2}$.\n",
    "\n",
    "Un inconveniente de la varianza es que sus unidades son las unidades de los datos al cuadrado. Siempre se cumple que la varianza es mayor o igual que cero. La varianza es cero cuando todos los datos son el mismo."
   ]
  },
  {
   "cell_type": "code",
   "execution_count": 50,
   "metadata": {},
   "outputs": [],
   "source": [
    "def varianza_poblacional(muestra):\n",
    "    \n",
    "    N=len(muestra)\n",
    "    \n",
    "    media=sum(muestra)/N\n",
    "    \n",
    "    return sum([(e-media)**2 for e in muestra])/N"
   ]
  },
  {
   "cell_type": "code",
   "execution_count": 51,
   "metadata": {},
   "outputs": [
    {
     "data": {
      "text/plain": [
       "21549.786982248523"
      ]
     },
     "execution_count": 51,
     "metadata": {},
     "output_type": "execute_result"
    }
   ],
   "source": [
    "varianza_poblacional(muestra)"
   ]
  },
  {
   "cell_type": "code",
   "execution_count": 52,
   "metadata": {},
   "outputs": [
    {
     "data": {
      "text/plain": [
       "21549.78698224852"
      ]
     },
     "execution_count": 52,
     "metadata": {},
     "output_type": "execute_result"
    }
   ],
   "source": [
    "np.var(muestra)"
   ]
  },
  {
   "cell_type": "code",
   "execution_count": 53,
   "metadata": {},
   "outputs": [
    {
     "data": {
      "text/plain": [
       "21549.78698224852"
      ]
     },
     "execution_count": 53,
     "metadata": {},
     "output_type": "execute_result"
    }
   ],
   "source": [
    "np.array(muestra).var()"
   ]
  },
  {
   "cell_type": "code",
   "execution_count": 54,
   "metadata": {},
   "outputs": [],
   "source": [
    "def varianza_muestra(muestra):\n",
    "    \n",
    "    N=len(muestra)\n",
    "    \n",
    "    media=sum(muestra)/N\n",
    "    \n",
    "    return sum([(e-media)**2 for e in muestra])/(N-1)"
   ]
  },
  {
   "cell_type": "code",
   "execution_count": 55,
   "metadata": {},
   "outputs": [
    {
     "data": {
      "text/plain": [
       "23345.602564102566"
      ]
     },
     "execution_count": 55,
     "metadata": {},
     "output_type": "execute_result"
    }
   ],
   "source": [
    "varianza_muestra(muestra)"
   ]
  },
  {
   "cell_type": "code",
   "execution_count": 57,
   "metadata": {},
   "outputs": [
    {
     "data": {
      "text/plain": [
       "23345.602564102563"
      ]
     },
     "execution_count": 57,
     "metadata": {},
     "output_type": "execute_result"
    }
   ],
   "source": [
    "np.var(muestra, ddof=1)"
   ]
  },
  {
   "cell_type": "code",
   "execution_count": 58,
   "metadata": {},
   "outputs": [
    {
     "data": {
      "text/plain": [
       "23345.602564102563"
      ]
     },
     "execution_count": 58,
     "metadata": {},
     "output_type": "execute_result"
    }
   ],
   "source": [
    "np.array(muestra).var(ddof=1)"
   ]
  },
  {
   "cell_type": "markdown",
   "metadata": {},
   "source": [
    "**Covarianza**\n",
    "\n",
    "La covarianza es un valor que indica el grado de variación conjunta de dos variables respecto a sus medias. Es el dato básico para determinar si existe una dependencia entre ambas variables y además es el dato necesario para estimar otros parámetros básicos, como el coeficiente de correlación lineal o la recta de regresión.\n",
    "\n",
    "$$Cov(x,y) = \\frac{1}{N} \\sum_{i=1}^{N} (x_{i}-\\overline{x})(y_{i}-\\overline{y})$$\n",
    "\n",
    "$$$$\n",
    "\n",
    "![cov](images/cov.png)\n",
    "\n",
    "$$$$\n",
    "\n",
    "En el caso multivariante, se define como una matriz:\n",
    "\n",
    "$$Cov(x,y) = \\begin{pmatrix}\n",
    "Cov(x_{1},y_{1})&\\cdots&Cov(x_{1},y_{N})\\\\\n",
    "\\vdots&\\ddots&\\vdots\\\\\n",
    "Cov(x_{N},y_{1})&\\cdots&Cov(x_{N},y_{N})\\\\\n",
    "\\end{pmatrix}$$\n",
    "\n"
   ]
  },
  {
   "cell_type": "code",
   "execution_count": 59,
   "metadata": {},
   "outputs": [
    {
     "data": {
      "text/plain": [
       "array(23345.6025641)"
      ]
     },
     "execution_count": 59,
     "metadata": {},
     "output_type": "execute_result"
    }
   ],
   "source": [
    "np.cov(muestra)"
   ]
  },
  {
   "cell_type": "code",
   "execution_count": 60,
   "metadata": {},
   "outputs": [
    {
     "data": {
      "text/plain": [
       "array([[1, 3],\n",
       "       [3, 9]])"
      ]
     },
     "execution_count": 60,
     "metadata": {},
     "output_type": "execute_result"
    }
   ],
   "source": [
    "matriz=np.outer(muestra[:2], muestra[:2])\n",
    "\n",
    "matriz"
   ]
  },
  {
   "cell_type": "code",
   "execution_count": 61,
   "metadata": {},
   "outputs": [
    {
     "data": {
      "text/plain": [
       "array([[ 2.,  6.],\n",
       "       [ 6., 18.]])"
      ]
     },
     "execution_count": 61,
     "metadata": {},
     "output_type": "execute_result"
    }
   ],
   "source": [
    "np.cov(matriz)"
   ]
  },
  {
   "cell_type": "markdown",
   "metadata": {},
   "source": [
    "**Desviación standard**\n",
    "\n",
    "La desviación standard o desviación típica es la medida de dispersión asociada a la media. Mide el promedio de las desviaciones de los datos respecto a la media en las mismas unidades de los datos. Es la raíz cuadrada de la varianza.\n",
    "\n",
    "$$\\sigma = \\sqrt{\\frac{\\sum_{i=1}^{N} (x_{i}-\\mu)^2}{N}}$$\n",
    "\n",
    "De la misma manera que con la varianza, esta expresión es la desviación standard poblacional. La muestral se calcula como:\n",
    "\n",
    "$$S = \\sqrt{\\frac{\\sum_{i=1}^{N} (x_{i}-\\overline{x})^2}{N-1}}$$\n",
    "\n",
    "\n",
    "donde:\n",
    "\n",
    "$\\mu$ := Media poblacional.\n",
    "\n",
    "$\\overline{x}$ := Media muestral."
   ]
  },
  {
   "cell_type": "code",
   "execution_count": 62,
   "metadata": {},
   "outputs": [],
   "source": [
    "def std_poblacional(muestra):\n",
    "    \n",
    "    N=len(muestra)\n",
    "    \n",
    "    media=sum(muestra)/N\n",
    "    \n",
    "    return (sum([(e-media)**2 for e in muestra])/N)**0.5"
   ]
  },
  {
   "cell_type": "code",
   "execution_count": 63,
   "metadata": {},
   "outputs": [
    {
     "data": {
      "text/plain": [
       "146.79845701589824"
      ]
     },
     "execution_count": 63,
     "metadata": {},
     "output_type": "execute_result"
    }
   ],
   "source": [
    "std_poblacional(muestra)"
   ]
  },
  {
   "cell_type": "code",
   "execution_count": 64,
   "metadata": {},
   "outputs": [
    {
     "data": {
      "text/plain": [
       "146.79845701589824"
      ]
     },
     "execution_count": 64,
     "metadata": {},
     "output_type": "execute_result"
    }
   ],
   "source": [
    "np.std(muestra)"
   ]
  },
  {
   "cell_type": "code",
   "execution_count": 65,
   "metadata": {},
   "outputs": [
    {
     "data": {
      "text/plain": [
       "146.79845701589824"
      ]
     },
     "execution_count": 65,
     "metadata": {},
     "output_type": "execute_result"
    }
   ],
   "source": [
    "np.array(muestra).std()"
   ]
  },
  {
   "cell_type": "code",
   "execution_count": 66,
   "metadata": {},
   "outputs": [],
   "source": [
    "def std_muestral(muestra):\n",
    "    \n",
    "    N=len(muestra)\n",
    "    \n",
    "    media=sum(muestra)/N\n",
    "    \n",
    "    return (sum([(e-media)**2 for e in muestra])/(N-1))**0.5"
   ]
  },
  {
   "cell_type": "code",
   "execution_count": 67,
   "metadata": {},
   "outputs": [
    {
     "data": {
      "text/plain": [
       "152.79267837204296"
      ]
     },
     "execution_count": 67,
     "metadata": {},
     "output_type": "execute_result"
    }
   ],
   "source": [
    "std_muestral(muestra)"
   ]
  },
  {
   "cell_type": "code",
   "execution_count": 68,
   "metadata": {},
   "outputs": [
    {
     "data": {
      "text/plain": [
       "152.79267837204296"
      ]
     },
     "execution_count": 68,
     "metadata": {},
     "output_type": "execute_result"
    }
   ],
   "source": [
    "np.std(muestra, ddof=1)"
   ]
  },
  {
   "cell_type": "code",
   "execution_count": 69,
   "metadata": {},
   "outputs": [
    {
     "data": {
      "text/plain": [
       "152.79267837204296"
      ]
     },
     "execution_count": 69,
     "metadata": {},
     "output_type": "execute_result"
    }
   ],
   "source": [
    "np.array(muestra).std(ddof=1)"
   ]
  },
  {
   "cell_type": "markdown",
   "metadata": {},
   "source": [
    "![varianza](images/varianza.png)"
   ]
  },
  {
   "cell_type": "markdown",
   "metadata": {},
   "source": [
    "### Asimetría y curtosis\n",
    "\n",
    "Existen 2 tipos de asimetría, además de las distribuciones simétricas, positiva y negativa:\n",
    "\n",
    "![skew](images/skew.png)\n",
    "\n",
    "$$$$\n",
    "\n",
    "Cuando los datos se distribuyen de manera asimétrica, la relación entre la media, la moda y la mediana es como sigue:\n",
    "\n",
    "![mmm_skew](images/mmm_skew.png)"
   ]
  },
  {
   "cell_type": "markdown",
   "metadata": {},
   "source": [
    "$$$$\n",
    "\n",
    "**Curtosis**\n",
    "\n",
    "Medida de la forma.\n",
    "\n",
    "![curtosis](images/curtosis.jpg)"
   ]
  },
  {
   "cell_type": "markdown",
   "metadata": {},
   "source": [
    "**Frecuencias**\n",
    "\n",
    "La frecuencia es una medida que sirve para comparar la aparición de un elemento $x_{i}$ en un conjunto de elementos. Mediante tablas de distribuciones de frecuencia se puede presentar organizadamente el recuento de datos. Las frecuencias de cada elemento se pueden expresar tanto absolutas, número total de apariciones, como relativas, proporción de apariciones. Si los datos provienen de una variable cuantitativa o existen muchas categorías, los datos se suelen agrupar en clases. Cada clase, que tiene un intervalo o amplitud constante, está representado por su marca de clase, que es el punto medio de la misma.\n",
    "\n",
    "\n",
    "La frecuencia absoluta de un valor es el número de veces que el valor está en el conjunto. La suma de las frecuencias absolutas de todos los elementos diferentes del conjunto debe ser el número total de sujetos N. Si el conjunto tiene k números o categorías diferentes, entonces:\n",
    "\n",
    "$$\\sum_{i=1}^{k} f_{i} = f_{1}+f_{2}+...+f_{k} = N$$\n",
    "\n",
    "donde $f_{i}$ es la frecuencia absoluta.\n",
    "\n",
    "La frecuencia relativa de un valor Xi es la proporción de valores iguales a Xi en el conjunto de datos. Es decir, la frecuencia relativa es la frecuencia absoluta dividida por el número total de elementos N:\n",
    "\n",
    "$$f_{ri} = \\frac{f_{i}}{N}$$\n",
    "\n",
    "$$\\sum_{i=1}^{k} f_{ri} = 1$$\n",
    "donde $f_{ri}$ es la frecuencia relativa."
   ]
  },
  {
   "cell_type": "code",
   "execution_count": 70,
   "metadata": {},
   "outputs": [
    {
     "data": {
      "text/plain": [
       "{1: 1, 3: 2, 5: 1, 6: 1, 76: 1, 8: 3, 34: 1, 43: 1, 565: 1, 65: 1}"
      ]
     },
     "execution_count": 70,
     "metadata": {},
     "output_type": "execute_result"
    }
   ],
   "source": [
    "# frecuencia absoluta\n",
    "\n",
    "res={}\n",
    "\n",
    "for e in muestra:\n",
    "    res[e]=muestra.count(e)\n",
    "    \n",
    "res"
   ]
  },
  {
   "cell_type": "code",
   "execution_count": 72,
   "metadata": {},
   "outputs": [
    {
     "data": {
      "text/plain": [
       "True"
      ]
     },
     "execution_count": 72,
     "metadata": {},
     "output_type": "execute_result"
    }
   ],
   "source": [
    "sum(res.values())==N"
   ]
  },
  {
   "cell_type": "code",
   "execution_count": 73,
   "metadata": {},
   "outputs": [
    {
     "data": {
      "text/plain": [
       "Counter({1: 1, 3: 2, 5: 1, 6: 1, 76: 1, 8: 3, 34: 1, 43: 1, 565: 1, 65: 1})"
      ]
     },
     "execution_count": 73,
     "metadata": {},
     "output_type": "execute_result"
    }
   ],
   "source": [
    "from collections import Counter\n",
    "\n",
    "Counter(muestra)"
   ]
  },
  {
   "cell_type": "code",
   "execution_count": 74,
   "metadata": {},
   "outputs": [
    {
     "data": {
      "text/plain": [
       "{1: 0.07692307692307693,\n",
       " 3: 0.15384615384615385,\n",
       " 5: 0.07692307692307693,\n",
       " 6: 0.07692307692307693,\n",
       " 76: 0.07692307692307693,\n",
       " 8: 0.23076923076923078,\n",
       " 34: 0.07692307692307693,\n",
       " 43: 0.07692307692307693,\n",
       " 565: 0.07692307692307693,\n",
       " 65: 0.07692307692307693}"
      ]
     },
     "execution_count": 74,
     "metadata": {},
     "output_type": "execute_result"
    }
   ],
   "source": [
    "# frecuencia relativa\n",
    "\n",
    "res={}\n",
    "\n",
    "for e in muestra:\n",
    "    res[e]=muestra.count(e)/N\n",
    "    \n",
    "res"
   ]
  },
  {
   "cell_type": "code",
   "execution_count": 77,
   "metadata": {},
   "outputs": [
    {
     "data": {
      "text/plain": [
       "0.9999999999999998"
      ]
     },
     "execution_count": 77,
     "metadata": {},
     "output_type": "execute_result"
    }
   ],
   "source": [
    "sum(res.values()) # aprox == 1"
   ]
  },
  {
   "cell_type": "markdown",
   "metadata": {},
   "source": [
    "### Correlación\n",
    "\n",
    "La correlación indica la fuerza y la dirección de una relación lineal y proporcionalidad entre dos variables. Se considera que dos variables cuantitativas están correlacionadas cuando los valores de una de ellas varían sistemáticamente con respecto a los valores homónimos de la otra: si tenemos dos variables A y B existe correlación entre ellas si al disminuir los valores de A lo hacen también los de B y viceversa. **¡¡OJO, la correlación entre dos variables no implica, por sí misma, ninguna relación de causalidad!!**. \n",
    "\n",
    "La relación entre dos variables cuantitativas queda representada mediante la línea de mejor ajuste, trazada a partir de la nube de puntos. Los principales componentes elementales de una línea de ajuste y, por lo tanto, de una correlación, son la fuerza, el sentido y la forma:\n",
    "\n",
    "+ La fuerza extrema según el caso, mide el grado en que la línea representa a la nube de puntos: si la nube es estrecha y alargada, se representa por una línea recta, lo que indica que la relación es fuerte; si la nube de puntos tiene una tendencia elíptica o circular, la relación es débil.\n",
    "\n",
    "+ El sentido mide la variación de los valores de B con respecto a A: si al crecer los valores de A lo hacen los de B, la relación es directa, pendiente positiva. Si al crecer los valores de A disminuyen los de B, la relación es inversa, pendiente negativa.\n",
    "\n",
    "+ La forma establece el tipo de línea que define el mejor ajuste: la línea recta, la curva monotónica o la curva no monotónica.\n",
    "\n",
    "\n",
    "$$$$\n",
    "\n",
    "![correlacion](images/correlacion.png)\n",
    "\n",
    "$$$$\n",
    "\n",
    "\n",
    "Existen varios coeficientes de correlación, el más habitual es la correlación de Pearson. La correlación de Pearson evalúa la relación lineal entre dos variables continuas. Una relación es lineal cuando un cambio en una variable se asocia con un cambio proporcional en la otra variable.\n",
    "\n",
    "$$$$\n",
    "\n",
    "$$\\rho_{X,Y} = \\frac{Cov(X,Y)}{\\sigma_X \\sigma_Y}$$\n",
    "\n",
    "$$$$\n",
    "\n",
    "\n",
    "También tenemos la correlación de Spearman. La correlación de Spearman evalúa la relación monótona entre dos variables continuas u ordinales. En una relación monótona, las variables tienden a cambiar al mismo tiempo, pero no necesariamente a un ritmo constante. El coeficiente de correlación de Spearman se basa en los valores jerarquizados de cada variable y no en los datos sin procesar. La correlación de Spearman suele utilizarse para evaluar relaciones en las que intervienen variables ordinales. A este coeficiente se le llama también coeficiente de correlación por rangos de Spearman. Se calcula de la siguiente manera:\n",
    "\n",
    "$$$$\n",
    "\n",
    "$$\\rho_{s} = 1 - \\frac{6\\sum{d^2}}{n(n^2 - 1)}$$\n",
    "\n",
    "$$$$\n",
    "\n",
    "donde:\n",
    "\n",
    "$d$ := Diferencia entre los rangos (X-Y)\n",
    "\n",
    "$n$ := Tamaño de la muestra\n",
    "\n",
    "**Nota:** Los datos hay que ordenarlos en rangos. A los puntajes más elevados le asignamos el rango 1 al siguiente el rango 2 y así sucesivamente. Si se repiten dos puntajes o más se calculan las medias aritméticas.\n",
    "\n",
    "$$$$\n",
    "\n",
    "**Comparación entre ambas**\n",
    "\n",
    "**Pearson = +1, Spearman = +1**\n",
    "![pear_spear_1](images/pear_spear_1.png)\n",
    "\n",
    "$$$$\n",
    "\n",
    "**Pearson = +0.851, Spearman = +1**\n",
    "![pear_spear_2](images/pear_spear_2.png)\n",
    "\n",
    "$$$$\n",
    "\n",
    "**Pearson = −0.093, Spearman = −0.093**\n",
    "![pear_spear_3](images/pear_spear_3.png)\n",
    "\n",
    "$$$$\n",
    "\n",
    "**Pearson = −1, Spearman = −1**\n",
    "![pear_spear_4](images/pear_spear_4.png)"
   ]
  },
  {
   "cell_type": "markdown",
   "metadata": {},
   "source": [
    "$$$$\n",
    "\n",
    "Otro coeficiente que funciona por rangos es el coeficiente de Kendall o también llamado la $\\tau$ de Kendall, que se utiliza para medir la asociación ordinal entre dos cantidades. la correlación de Kendall entre dos variables será alta cuando las observaciones tengan un rango similar o idéntico para una correlación de 1, es decir, la posición relativa de las observaciones dentro de la variable, y bajo cuando las observaciones tienen un rango diferente para una correlación de -1 entre las dos variables. El coeficiente $\\tau$ de Kendall se define como:\n",
    "\n",
    "$$$$\n",
    "\n",
    "$$\\tau = \\frac{(nºParesConcordantes) - (nºParesDiscordantes)}{\\binom{n}{2}}$$\n"
   ]
  },
  {
   "cell_type": "code",
   "execution_count": 78,
   "metadata": {},
   "outputs": [],
   "source": [
    "import scipy.stats as st"
   ]
  },
  {
   "cell_type": "code",
   "execution_count": 85,
   "metadata": {},
   "outputs": [
    {
     "data": {
      "text/plain": [
       "(0.9894221508366957, 1.4206049703096718e-10)"
      ]
     },
     "execution_count": 85,
     "metadata": {},
     "output_type": "execute_result"
    }
   ],
   "source": [
    "# pearson\n",
    "\n",
    "st.pearsonr(muestra, muestra_2)    # valor de ro coeficiente, p-valor"
   ]
  },
  {
   "cell_type": "code",
   "execution_count": 81,
   "metadata": {},
   "outputs": [
    {
     "data": {
      "text/plain": [
       "array([[1.        , 0.98942215],\n",
       "       [0.98942215, 1.        ]])"
      ]
     },
     "execution_count": 81,
     "metadata": {},
     "output_type": "execute_result"
    }
   ],
   "source": [
    "np.corrcoef(muestra, muestra_2)  "
   ]
  },
  {
   "cell_type": "code",
   "execution_count": 82,
   "metadata": {},
   "outputs": [
    {
     "data": {
      "text/plain": [
       "SpearmanrResult(correlation=1.0, pvalue=0.0)"
      ]
     },
     "execution_count": 82,
     "metadata": {},
     "output_type": "execute_result"
    }
   ],
   "source": [
    "# spearman\n",
    "\n",
    "st.spearmanr(muestra, muestra_2)"
   ]
  },
  {
   "cell_type": "code",
   "execution_count": 83,
   "metadata": {},
   "outputs": [
    {
     "data": {
      "text/plain": [
       "KendalltauResult(correlation=1.0, pvalue=4.362005622998789e-06)"
      ]
     },
     "execution_count": 83,
     "metadata": {},
     "output_type": "execute_result"
    }
   ],
   "source": [
    "# kendall\n",
    "\n",
    "st.kendalltau(muestra, muestra_2)"
   ]
  },
  {
   "cell_type": "markdown",
   "metadata": {},
   "source": [
    "**con pandas**"
   ]
  },
  {
   "cell_type": "code",
   "execution_count": 86,
   "metadata": {},
   "outputs": [
    {
     "data": {
      "text/html": [
       "<div>\n",
       "<style scoped>\n",
       "    .dataframe tbody tr th:only-of-type {\n",
       "        vertical-align: middle;\n",
       "    }\n",
       "\n",
       "    .dataframe tbody tr th {\n",
       "        vertical-align: top;\n",
       "    }\n",
       "\n",
       "    .dataframe thead th {\n",
       "        text-align: right;\n",
       "    }\n",
       "</style>\n",
       "<table border=\"1\" class=\"dataframe\">\n",
       "  <thead>\n",
       "    <tr style=\"text-align: right;\">\n",
       "      <th></th>\n",
       "      <th>Name</th>\n",
       "      <th>Platform</th>\n",
       "      <th>Year_of_Release</th>\n",
       "      <th>Genre</th>\n",
       "      <th>Publisher</th>\n",
       "      <th>NA_Sales</th>\n",
       "      <th>EU_Sales</th>\n",
       "      <th>JP_Sales</th>\n",
       "      <th>Other_Sales</th>\n",
       "      <th>Global_Sales</th>\n",
       "      <th>Critic_Score</th>\n",
       "      <th>Critic_Count</th>\n",
       "      <th>User_Score</th>\n",
       "      <th>User_Count</th>\n",
       "      <th>Developer</th>\n",
       "      <th>Rating</th>\n",
       "    </tr>\n",
       "  </thead>\n",
       "  <tbody>\n",
       "    <tr>\n",
       "      <th>0</th>\n",
       "      <td>Wii Sports</td>\n",
       "      <td>Wii</td>\n",
       "      <td>2006.0</td>\n",
       "      <td>Sports</td>\n",
       "      <td>Nintendo</td>\n",
       "      <td>41.36</td>\n",
       "      <td>28.96</td>\n",
       "      <td>3.77</td>\n",
       "      <td>8.45</td>\n",
       "      <td>82.53</td>\n",
       "      <td>76.0</td>\n",
       "      <td>51.0</td>\n",
       "      <td>8</td>\n",
       "      <td>322.0</td>\n",
       "      <td>Nintendo</td>\n",
       "      <td>E</td>\n",
       "    </tr>\n",
       "    <tr>\n",
       "      <th>1</th>\n",
       "      <td>Super Mario Bros.</td>\n",
       "      <td>NES</td>\n",
       "      <td>1985.0</td>\n",
       "      <td>Platform</td>\n",
       "      <td>Nintendo</td>\n",
       "      <td>29.08</td>\n",
       "      <td>3.58</td>\n",
       "      <td>6.81</td>\n",
       "      <td>0.77</td>\n",
       "      <td>40.24</td>\n",
       "      <td>NaN</td>\n",
       "      <td>NaN</td>\n",
       "      <td>NaN</td>\n",
       "      <td>NaN</td>\n",
       "      <td>NaN</td>\n",
       "      <td>NaN</td>\n",
       "    </tr>\n",
       "    <tr>\n",
       "      <th>2</th>\n",
       "      <td>Mario Kart Wii</td>\n",
       "      <td>Wii</td>\n",
       "      <td>2008.0</td>\n",
       "      <td>Racing</td>\n",
       "      <td>Nintendo</td>\n",
       "      <td>15.68</td>\n",
       "      <td>12.76</td>\n",
       "      <td>3.79</td>\n",
       "      <td>3.29</td>\n",
       "      <td>35.52</td>\n",
       "      <td>82.0</td>\n",
       "      <td>73.0</td>\n",
       "      <td>8.3</td>\n",
       "      <td>709.0</td>\n",
       "      <td>Nintendo</td>\n",
       "      <td>E</td>\n",
       "    </tr>\n",
       "    <tr>\n",
       "      <th>3</th>\n",
       "      <td>Wii Sports Resort</td>\n",
       "      <td>Wii</td>\n",
       "      <td>2009.0</td>\n",
       "      <td>Sports</td>\n",
       "      <td>Nintendo</td>\n",
       "      <td>15.61</td>\n",
       "      <td>10.93</td>\n",
       "      <td>3.28</td>\n",
       "      <td>2.95</td>\n",
       "      <td>32.77</td>\n",
       "      <td>80.0</td>\n",
       "      <td>73.0</td>\n",
       "      <td>8</td>\n",
       "      <td>192.0</td>\n",
       "      <td>Nintendo</td>\n",
       "      <td>E</td>\n",
       "    </tr>\n",
       "    <tr>\n",
       "      <th>4</th>\n",
       "      <td>Pokemon Red/Pokemon Blue</td>\n",
       "      <td>GB</td>\n",
       "      <td>1996.0</td>\n",
       "      <td>Role-Playing</td>\n",
       "      <td>Nintendo</td>\n",
       "      <td>11.27</td>\n",
       "      <td>8.89</td>\n",
       "      <td>10.22</td>\n",
       "      <td>1.00</td>\n",
       "      <td>31.37</td>\n",
       "      <td>NaN</td>\n",
       "      <td>NaN</td>\n",
       "      <td>NaN</td>\n",
       "      <td>NaN</td>\n",
       "      <td>NaN</td>\n",
       "      <td>NaN</td>\n",
       "    </tr>\n",
       "  </tbody>\n",
       "</table>\n",
       "</div>"
      ],
      "text/plain": [
       "                       Name Platform  Year_of_Release         Genre Publisher  \\\n",
       "0                Wii Sports      Wii           2006.0        Sports  Nintendo   \n",
       "1         Super Mario Bros.      NES           1985.0      Platform  Nintendo   \n",
       "2            Mario Kart Wii      Wii           2008.0        Racing  Nintendo   \n",
       "3         Wii Sports Resort      Wii           2009.0        Sports  Nintendo   \n",
       "4  Pokemon Red/Pokemon Blue       GB           1996.0  Role-Playing  Nintendo   \n",
       "\n",
       "   NA_Sales  EU_Sales  JP_Sales  Other_Sales  Global_Sales  Critic_Score  \\\n",
       "0     41.36     28.96      3.77         8.45         82.53          76.0   \n",
       "1     29.08      3.58      6.81         0.77         40.24           NaN   \n",
       "2     15.68     12.76      3.79         3.29         35.52          82.0   \n",
       "3     15.61     10.93      3.28         2.95         32.77          80.0   \n",
       "4     11.27      8.89     10.22         1.00         31.37           NaN   \n",
       "\n",
       "   Critic_Count User_Score  User_Count Developer Rating  \n",
       "0          51.0          8       322.0  Nintendo      E  \n",
       "1           NaN        NaN         NaN       NaN    NaN  \n",
       "2          73.0        8.3       709.0  Nintendo      E  \n",
       "3          73.0          8       192.0  Nintendo      E  \n",
       "4           NaN        NaN         NaN       NaN    NaN  "
      ]
     },
     "execution_count": 86,
     "metadata": {},
     "output_type": "execute_result"
    }
   ],
   "source": [
    "import pandas as pd\n",
    "\n",
    "df=pd.read_csv('../data/video_games_sales.csv')\n",
    "\n",
    "df.head()"
   ]
  },
  {
   "cell_type": "code",
   "execution_count": 88,
   "metadata": {},
   "outputs": [
    {
     "data": {
      "text/html": [
       "<div>\n",
       "<style scoped>\n",
       "    .dataframe tbody tr th:only-of-type {\n",
       "        vertical-align: middle;\n",
       "    }\n",
       "\n",
       "    .dataframe tbody tr th {\n",
       "        vertical-align: top;\n",
       "    }\n",
       "\n",
       "    .dataframe thead th {\n",
       "        text-align: right;\n",
       "    }\n",
       "</style>\n",
       "<table border=\"1\" class=\"dataframe\">\n",
       "  <thead>\n",
       "    <tr style=\"text-align: right;\">\n",
       "      <th></th>\n",
       "      <th>Year_of_Release</th>\n",
       "      <th>NA_Sales</th>\n",
       "      <th>EU_Sales</th>\n",
       "      <th>JP_Sales</th>\n",
       "      <th>Other_Sales</th>\n",
       "      <th>Global_Sales</th>\n",
       "      <th>Critic_Score</th>\n",
       "      <th>Critic_Count</th>\n",
       "      <th>User_Count</th>\n",
       "    </tr>\n",
       "  </thead>\n",
       "  <tbody>\n",
       "    <tr>\n",
       "      <th>Year_of_Release</th>\n",
       "      <td>1.000000</td>\n",
       "      <td>-0.092562</td>\n",
       "      <td>0.003842</td>\n",
       "      <td>-0.168386</td>\n",
       "      <td>0.037700</td>\n",
       "      <td>-0.076433</td>\n",
       "      <td>0.011411</td>\n",
       "      <td>0.223407</td>\n",
       "      <td>0.175339</td>\n",
       "    </tr>\n",
       "    <tr>\n",
       "      <th>NA_Sales</th>\n",
       "      <td>-0.092562</td>\n",
       "      <td>1.000000</td>\n",
       "      <td>0.765336</td>\n",
       "      <td>0.449598</td>\n",
       "      <td>0.638654</td>\n",
       "      <td>0.941010</td>\n",
       "      <td>0.240755</td>\n",
       "      <td>0.295413</td>\n",
       "      <td>0.246429</td>\n",
       "    </tr>\n",
       "    <tr>\n",
       "      <th>EU_Sales</th>\n",
       "      <td>0.003842</td>\n",
       "      <td>0.765336</td>\n",
       "      <td>1.000000</td>\n",
       "      <td>0.435068</td>\n",
       "      <td>0.722796</td>\n",
       "      <td>0.901239</td>\n",
       "      <td>0.220752</td>\n",
       "      <td>0.277533</td>\n",
       "      <td>0.283360</td>\n",
       "    </tr>\n",
       "    <tr>\n",
       "      <th>JP_Sales</th>\n",
       "      <td>-0.168386</td>\n",
       "      <td>0.449598</td>\n",
       "      <td>0.435068</td>\n",
       "      <td>1.000000</td>\n",
       "      <td>0.291096</td>\n",
       "      <td>0.612300</td>\n",
       "      <td>0.152593</td>\n",
       "      <td>0.180219</td>\n",
       "      <td>0.075638</td>\n",
       "    </tr>\n",
       "    <tr>\n",
       "      <th>Other_Sales</th>\n",
       "      <td>0.037700</td>\n",
       "      <td>0.638654</td>\n",
       "      <td>0.722796</td>\n",
       "      <td>0.291096</td>\n",
       "      <td>1.000000</td>\n",
       "      <td>0.749242</td>\n",
       "      <td>0.198554</td>\n",
       "      <td>0.251639</td>\n",
       "      <td>0.238982</td>\n",
       "    </tr>\n",
       "    <tr>\n",
       "      <th>Global_Sales</th>\n",
       "      <td>-0.076433</td>\n",
       "      <td>0.941010</td>\n",
       "      <td>0.901239</td>\n",
       "      <td>0.612300</td>\n",
       "      <td>0.749242</td>\n",
       "      <td>1.000000</td>\n",
       "      <td>0.245471</td>\n",
       "      <td>0.303571</td>\n",
       "      <td>0.265012</td>\n",
       "    </tr>\n",
       "    <tr>\n",
       "      <th>Critic_Score</th>\n",
       "      <td>0.011411</td>\n",
       "      <td>0.240755</td>\n",
       "      <td>0.220752</td>\n",
       "      <td>0.152593</td>\n",
       "      <td>0.198554</td>\n",
       "      <td>0.245471</td>\n",
       "      <td>1.000000</td>\n",
       "      <td>0.425504</td>\n",
       "      <td>0.264376</td>\n",
       "    </tr>\n",
       "    <tr>\n",
       "      <th>Critic_Count</th>\n",
       "      <td>0.223407</td>\n",
       "      <td>0.295413</td>\n",
       "      <td>0.277533</td>\n",
       "      <td>0.180219</td>\n",
       "      <td>0.251639</td>\n",
       "      <td>0.303571</td>\n",
       "      <td>0.425504</td>\n",
       "      <td>1.000000</td>\n",
       "      <td>0.362334</td>\n",
       "    </tr>\n",
       "    <tr>\n",
       "      <th>User_Count</th>\n",
       "      <td>0.175339</td>\n",
       "      <td>0.246429</td>\n",
       "      <td>0.283360</td>\n",
       "      <td>0.075638</td>\n",
       "      <td>0.238982</td>\n",
       "      <td>0.265012</td>\n",
       "      <td>0.264376</td>\n",
       "      <td>0.362334</td>\n",
       "      <td>1.000000</td>\n",
       "    </tr>\n",
       "  </tbody>\n",
       "</table>\n",
       "</div>"
      ],
      "text/plain": [
       "                 Year_of_Release  NA_Sales  EU_Sales  JP_Sales  Other_Sales  \\\n",
       "Year_of_Release         1.000000 -0.092562  0.003842 -0.168386     0.037700   \n",
       "NA_Sales               -0.092562  1.000000  0.765336  0.449598     0.638654   \n",
       "EU_Sales                0.003842  0.765336  1.000000  0.435068     0.722796   \n",
       "JP_Sales               -0.168386  0.449598  0.435068  1.000000     0.291096   \n",
       "Other_Sales             0.037700  0.638654  0.722796  0.291096     1.000000   \n",
       "Global_Sales           -0.076433  0.941010  0.901239  0.612300     0.749242   \n",
       "Critic_Score            0.011411  0.240755  0.220752  0.152593     0.198554   \n",
       "Critic_Count            0.223407  0.295413  0.277533  0.180219     0.251639   \n",
       "User_Count              0.175339  0.246429  0.283360  0.075638     0.238982   \n",
       "\n",
       "                 Global_Sales  Critic_Score  Critic_Count  User_Count  \n",
       "Year_of_Release     -0.076433      0.011411      0.223407    0.175339  \n",
       "NA_Sales             0.941010      0.240755      0.295413    0.246429  \n",
       "EU_Sales             0.901239      0.220752      0.277533    0.283360  \n",
       "JP_Sales             0.612300      0.152593      0.180219    0.075638  \n",
       "Other_Sales          0.749242      0.198554      0.251639    0.238982  \n",
       "Global_Sales         1.000000      0.245471      0.303571    0.265012  \n",
       "Critic_Score         0.245471      1.000000      0.425504    0.264376  \n",
       "Critic_Count         0.303571      0.425504      1.000000    0.362334  \n",
       "User_Count           0.265012      0.264376      0.362334    1.000000  "
      ]
     },
     "execution_count": 88,
     "metadata": {},
     "output_type": "execute_result"
    }
   ],
   "source": [
    "df.corr(method='pearson') # es el por defecto"
   ]
  },
  {
   "cell_type": "code",
   "execution_count": 89,
   "metadata": {},
   "outputs": [
    {
     "data": {
      "text/html": [
       "<div>\n",
       "<style scoped>\n",
       "    .dataframe tbody tr th:only-of-type {\n",
       "        vertical-align: middle;\n",
       "    }\n",
       "\n",
       "    .dataframe tbody tr th {\n",
       "        vertical-align: top;\n",
       "    }\n",
       "\n",
       "    .dataframe thead th {\n",
       "        text-align: right;\n",
       "    }\n",
       "</style>\n",
       "<table border=\"1\" class=\"dataframe\">\n",
       "  <thead>\n",
       "    <tr style=\"text-align: right;\">\n",
       "      <th></th>\n",
       "      <th>Year_of_Release</th>\n",
       "      <th>NA_Sales</th>\n",
       "      <th>EU_Sales</th>\n",
       "      <th>JP_Sales</th>\n",
       "      <th>Other_Sales</th>\n",
       "      <th>Global_Sales</th>\n",
       "      <th>Critic_Score</th>\n",
       "      <th>Critic_Count</th>\n",
       "      <th>User_Count</th>\n",
       "    </tr>\n",
       "  </thead>\n",
       "  <tbody>\n",
       "    <tr>\n",
       "      <th>Year_of_Release</th>\n",
       "      <td>1.000000</td>\n",
       "      <td>-0.137832</td>\n",
       "      <td>-0.065454</td>\n",
       "      <td>0.009959</td>\n",
       "      <td>0.046684</td>\n",
       "      <td>-0.161171</td>\n",
       "      <td>0.010561</td>\n",
       "      <td>0.174769</td>\n",
       "      <td>0.335084</td>\n",
       "    </tr>\n",
       "    <tr>\n",
       "      <th>NA_Sales</th>\n",
       "      <td>-0.137832</td>\n",
       "      <td>1.000000</td>\n",
       "      <td>0.679150</td>\n",
       "      <td>-0.231141</td>\n",
       "      <td>0.778283</td>\n",
       "      <td>0.794897</td>\n",
       "      <td>0.317309</td>\n",
       "      <td>0.343356</td>\n",
       "      <td>0.264710</td>\n",
       "    </tr>\n",
       "    <tr>\n",
       "      <th>EU_Sales</th>\n",
       "      <td>-0.065454</td>\n",
       "      <td>0.679150</td>\n",
       "      <td>1.000000</td>\n",
       "      <td>-0.176124</td>\n",
       "      <td>0.754805</td>\n",
       "      <td>0.693675</td>\n",
       "      <td>0.372733</td>\n",
       "      <td>0.386270</td>\n",
       "      <td>0.438871</td>\n",
       "    </tr>\n",
       "    <tr>\n",
       "      <th>JP_Sales</th>\n",
       "      <td>0.009959</td>\n",
       "      <td>-0.231141</td>\n",
       "      <td>-0.176124</td>\n",
       "      <td>1.000000</td>\n",
       "      <td>-0.066079</td>\n",
       "      <td>0.152881</td>\n",
       "      <td>0.248926</td>\n",
       "      <td>0.338646</td>\n",
       "      <td>0.369421</td>\n",
       "    </tr>\n",
       "    <tr>\n",
       "      <th>Other_Sales</th>\n",
       "      <td>0.046684</td>\n",
       "      <td>0.778283</td>\n",
       "      <td>0.754805</td>\n",
       "      <td>-0.066079</td>\n",
       "      <td>1.000000</td>\n",
       "      <td>0.813237</td>\n",
       "      <td>0.338082</td>\n",
       "      <td>0.411259</td>\n",
       "      <td>0.419727</td>\n",
       "    </tr>\n",
       "    <tr>\n",
       "      <th>Global_Sales</th>\n",
       "      <td>-0.161171</td>\n",
       "      <td>0.794897</td>\n",
       "      <td>0.693675</td>\n",
       "      <td>0.152881</td>\n",
       "      <td>0.813237</td>\n",
       "      <td>1.000000</td>\n",
       "      <td>0.394015</td>\n",
       "      <td>0.408463</td>\n",
       "      <td>0.393232</td>\n",
       "    </tr>\n",
       "    <tr>\n",
       "      <th>Critic_Score</th>\n",
       "      <td>0.010561</td>\n",
       "      <td>0.317309</td>\n",
       "      <td>0.372733</td>\n",
       "      <td>0.248926</td>\n",
       "      <td>0.338082</td>\n",
       "      <td>0.394015</td>\n",
       "      <td>1.000000</td>\n",
       "      <td>0.440279</td>\n",
       "      <td>0.482981</td>\n",
       "    </tr>\n",
       "    <tr>\n",
       "      <th>Critic_Count</th>\n",
       "      <td>0.174769</td>\n",
       "      <td>0.343356</td>\n",
       "      <td>0.386270</td>\n",
       "      <td>0.338646</td>\n",
       "      <td>0.411259</td>\n",
       "      <td>0.408463</td>\n",
       "      <td>0.440279</td>\n",
       "      <td>1.000000</td>\n",
       "      <td>0.579064</td>\n",
       "    </tr>\n",
       "    <tr>\n",
       "      <th>User_Count</th>\n",
       "      <td>0.335084</td>\n",
       "      <td>0.264710</td>\n",
       "      <td>0.438871</td>\n",
       "      <td>0.369421</td>\n",
       "      <td>0.419727</td>\n",
       "      <td>0.393232</td>\n",
       "      <td>0.482981</td>\n",
       "      <td>0.579064</td>\n",
       "      <td>1.000000</td>\n",
       "    </tr>\n",
       "  </tbody>\n",
       "</table>\n",
       "</div>"
      ],
      "text/plain": [
       "                 Year_of_Release  NA_Sales  EU_Sales  JP_Sales  Other_Sales  \\\n",
       "Year_of_Release         1.000000 -0.137832 -0.065454  0.009959     0.046684   \n",
       "NA_Sales               -0.137832  1.000000  0.679150 -0.231141     0.778283   \n",
       "EU_Sales               -0.065454  0.679150  1.000000 -0.176124     0.754805   \n",
       "JP_Sales                0.009959 -0.231141 -0.176124  1.000000    -0.066079   \n",
       "Other_Sales             0.046684  0.778283  0.754805 -0.066079     1.000000   \n",
       "Global_Sales           -0.161171  0.794897  0.693675  0.152881     0.813237   \n",
       "Critic_Score            0.010561  0.317309  0.372733  0.248926     0.338082   \n",
       "Critic_Count            0.174769  0.343356  0.386270  0.338646     0.411259   \n",
       "User_Count              0.335084  0.264710  0.438871  0.369421     0.419727   \n",
       "\n",
       "                 Global_Sales  Critic_Score  Critic_Count  User_Count  \n",
       "Year_of_Release     -0.161171      0.010561      0.174769    0.335084  \n",
       "NA_Sales             0.794897      0.317309      0.343356    0.264710  \n",
       "EU_Sales             0.693675      0.372733      0.386270    0.438871  \n",
       "JP_Sales             0.152881      0.248926      0.338646    0.369421  \n",
       "Other_Sales          0.813237      0.338082      0.411259    0.419727  \n",
       "Global_Sales         1.000000      0.394015      0.408463    0.393232  \n",
       "Critic_Score         0.394015      1.000000      0.440279    0.482981  \n",
       "Critic_Count         0.408463      0.440279      1.000000    0.579064  \n",
       "User_Count           0.393232      0.482981      0.579064    1.000000  "
      ]
     },
     "execution_count": 89,
     "metadata": {},
     "output_type": "execute_result"
    }
   ],
   "source": [
    "df.corr(method='spearman')"
   ]
  },
  {
   "cell_type": "code",
   "execution_count": 90,
   "metadata": {},
   "outputs": [
    {
     "data": {
      "text/html": [
       "<div>\n",
       "<style scoped>\n",
       "    .dataframe tbody tr th:only-of-type {\n",
       "        vertical-align: middle;\n",
       "    }\n",
       "\n",
       "    .dataframe tbody tr th {\n",
       "        vertical-align: top;\n",
       "    }\n",
       "\n",
       "    .dataframe thead th {\n",
       "        text-align: right;\n",
       "    }\n",
       "</style>\n",
       "<table border=\"1\" class=\"dataframe\">\n",
       "  <thead>\n",
       "    <tr style=\"text-align: right;\">\n",
       "      <th></th>\n",
       "      <th>Year_of_Release</th>\n",
       "      <th>NA_Sales</th>\n",
       "      <th>EU_Sales</th>\n",
       "      <th>JP_Sales</th>\n",
       "      <th>Other_Sales</th>\n",
       "      <th>Global_Sales</th>\n",
       "      <th>Critic_Score</th>\n",
       "      <th>Critic_Count</th>\n",
       "      <th>User_Count</th>\n",
       "    </tr>\n",
       "  </thead>\n",
       "  <tbody>\n",
       "    <tr>\n",
       "      <th>Year_of_Release</th>\n",
       "      <td>1.000000</td>\n",
       "      <td>-0.098308</td>\n",
       "      <td>-0.053187</td>\n",
       "      <td>0.014039</td>\n",
       "      <td>0.035010</td>\n",
       "      <td>-0.112682</td>\n",
       "      <td>0.006824</td>\n",
       "      <td>0.127038</td>\n",
       "      <td>0.233793</td>\n",
       "    </tr>\n",
       "    <tr>\n",
       "      <th>NA_Sales</th>\n",
       "      <td>-0.098308</td>\n",
       "      <td>1.000000</td>\n",
       "      <td>0.554919</td>\n",
       "      <td>-0.183210</td>\n",
       "      <td>0.650132</td>\n",
       "      <td>0.675641</td>\n",
       "      <td>0.222383</td>\n",
       "      <td>0.237456</td>\n",
       "      <td>0.189263</td>\n",
       "    </tr>\n",
       "    <tr>\n",
       "      <th>EU_Sales</th>\n",
       "      <td>-0.053187</td>\n",
       "      <td>0.554919</td>\n",
       "      <td>1.000000</td>\n",
       "      <td>-0.142297</td>\n",
       "      <td>0.650756</td>\n",
       "      <td>0.559291</td>\n",
       "      <td>0.264133</td>\n",
       "      <td>0.273875</td>\n",
       "      <td>0.310697</td>\n",
       "    </tr>\n",
       "    <tr>\n",
       "      <th>JP_Sales</th>\n",
       "      <td>0.014039</td>\n",
       "      <td>-0.183210</td>\n",
       "      <td>-0.142297</td>\n",
       "      <td>1.000000</td>\n",
       "      <td>-0.055755</td>\n",
       "      <td>0.127546</td>\n",
       "      <td>0.194230</td>\n",
       "      <td>0.262730</td>\n",
       "      <td>0.286418</td>\n",
       "    </tr>\n",
       "    <tr>\n",
       "      <th>Other_Sales</th>\n",
       "      <td>0.035010</td>\n",
       "      <td>0.650132</td>\n",
       "      <td>0.650756</td>\n",
       "      <td>-0.055755</td>\n",
       "      <td>1.000000</td>\n",
       "      <td>0.688483</td>\n",
       "      <td>0.245375</td>\n",
       "      <td>0.299665</td>\n",
       "      <td>0.309028</td>\n",
       "    </tr>\n",
       "    <tr>\n",
       "      <th>Global_Sales</th>\n",
       "      <td>-0.112682</td>\n",
       "      <td>0.675641</td>\n",
       "      <td>0.559291</td>\n",
       "      <td>0.127546</td>\n",
       "      <td>0.688483</td>\n",
       "      <td>1.000000</td>\n",
       "      <td>0.274916</td>\n",
       "      <td>0.283492</td>\n",
       "      <td>0.278929</td>\n",
       "    </tr>\n",
       "    <tr>\n",
       "      <th>Critic_Score</th>\n",
       "      <td>0.006824</td>\n",
       "      <td>0.222383</td>\n",
       "      <td>0.264133</td>\n",
       "      <td>0.194230</td>\n",
       "      <td>0.245375</td>\n",
       "      <td>0.274916</td>\n",
       "      <td>1.000000</td>\n",
       "      <td>0.308970</td>\n",
       "      <td>0.339851</td>\n",
       "    </tr>\n",
       "    <tr>\n",
       "      <th>Critic_Count</th>\n",
       "      <td>0.127038</td>\n",
       "      <td>0.237456</td>\n",
       "      <td>0.273875</td>\n",
       "      <td>0.262730</td>\n",
       "      <td>0.299665</td>\n",
       "      <td>0.283492</td>\n",
       "      <td>0.308970</td>\n",
       "      <td>1.000000</td>\n",
       "      <td>0.416066</td>\n",
       "    </tr>\n",
       "    <tr>\n",
       "      <th>User_Count</th>\n",
       "      <td>0.233793</td>\n",
       "      <td>0.189263</td>\n",
       "      <td>0.310697</td>\n",
       "      <td>0.286418</td>\n",
       "      <td>0.309028</td>\n",
       "      <td>0.278929</td>\n",
       "      <td>0.339851</td>\n",
       "      <td>0.416066</td>\n",
       "      <td>1.000000</td>\n",
       "    </tr>\n",
       "  </tbody>\n",
       "</table>\n",
       "</div>"
      ],
      "text/plain": [
       "                 Year_of_Release  NA_Sales  EU_Sales  JP_Sales  Other_Sales  \\\n",
       "Year_of_Release         1.000000 -0.098308 -0.053187  0.014039     0.035010   \n",
       "NA_Sales               -0.098308  1.000000  0.554919 -0.183210     0.650132   \n",
       "EU_Sales               -0.053187  0.554919  1.000000 -0.142297     0.650756   \n",
       "JP_Sales                0.014039 -0.183210 -0.142297  1.000000    -0.055755   \n",
       "Other_Sales             0.035010  0.650132  0.650756 -0.055755     1.000000   \n",
       "Global_Sales           -0.112682  0.675641  0.559291  0.127546     0.688483   \n",
       "Critic_Score            0.006824  0.222383  0.264133  0.194230     0.245375   \n",
       "Critic_Count            0.127038  0.237456  0.273875  0.262730     0.299665   \n",
       "User_Count              0.233793  0.189263  0.310697  0.286418     0.309028   \n",
       "\n",
       "                 Global_Sales  Critic_Score  Critic_Count  User_Count  \n",
       "Year_of_Release     -0.112682      0.006824      0.127038    0.233793  \n",
       "NA_Sales             0.675641      0.222383      0.237456    0.189263  \n",
       "EU_Sales             0.559291      0.264133      0.273875    0.310697  \n",
       "JP_Sales             0.127546      0.194230      0.262730    0.286418  \n",
       "Other_Sales          0.688483      0.245375      0.299665    0.309028  \n",
       "Global_Sales         1.000000      0.274916      0.283492    0.278929  \n",
       "Critic_Score         0.274916      1.000000      0.308970    0.339851  \n",
       "Critic_Count         0.283492      0.308970      1.000000    0.416066  \n",
       "User_Count           0.278929      0.339851      0.416066    1.000000  "
      ]
     },
     "execution_count": 90,
     "metadata": {},
     "output_type": "execute_result"
    }
   ],
   "source": [
    "df.corr(method='kendall')"
   ]
  },
  {
   "cell_type": "markdown",
   "metadata": {},
   "source": [
    "### Gráficos\n",
    "\n",
    "Un gráfico o gráfica es el recurso de representar los datos numéricos por medio de líneas, diagramas, dibujos, etc. La representación gráfica es un importante suplemento al análisis y estudio estadístico. Los gráficos llaman la atención y hacen que de un vistazo se tenga una mayor comprensión de los datos. Un buen gráfico puede captar al público objetivo para que a continuación lea todo el estudio. Si un estudio se compone únicamente de texto y tablas, posiblemente no todos lean el estudio.\n",
    "\n",
    "Veamos las librerias de básicas de python para graficar."
   ]
  },
  {
   "cell_type": "code",
   "execution_count": 91,
   "metadata": {},
   "outputs": [],
   "source": [
    "%matplotlib notebook   "
   ]
  },
  {
   "cell_type": "code",
   "execution_count": 92,
   "metadata": {},
   "outputs": [],
   "source": [
    "#import matplotlib.pyplot as plt\n",
    "\n",
    "import pylab as plt\n",
    "\n",
    "plt.rcParams['figure.figsize']=(12, 8)   # tamaño de los graficos"
   ]
  },
  {
   "cell_type": "code",
   "execution_count": 93,
   "metadata": {},
   "outputs": [],
   "source": [
    "import seaborn as sns       "
   ]
  },
  {
   "cell_type": "code",
   "execution_count": 94,
   "metadata": {},
   "outputs": [
    {
     "data": {
      "text/html": [
       "<div>\n",
       "<style scoped>\n",
       "    .dataframe tbody tr th:only-of-type {\n",
       "        vertical-align: middle;\n",
       "    }\n",
       "\n",
       "    .dataframe tbody tr th {\n",
       "        vertical-align: top;\n",
       "    }\n",
       "\n",
       "    .dataframe thead th {\n",
       "        text-align: right;\n",
       "    }\n",
       "</style>\n",
       "<table border=\"1\" class=\"dataframe\">\n",
       "  <thead>\n",
       "    <tr style=\"text-align: right;\">\n",
       "      <th></th>\n",
       "      <th>survived</th>\n",
       "      <th>pclass</th>\n",
       "      <th>sex</th>\n",
       "      <th>age</th>\n",
       "      <th>sibsp</th>\n",
       "      <th>parch</th>\n",
       "      <th>fare</th>\n",
       "      <th>embarked</th>\n",
       "      <th>class</th>\n",
       "      <th>who</th>\n",
       "      <th>adult_male</th>\n",
       "      <th>deck</th>\n",
       "      <th>embark_town</th>\n",
       "      <th>alive</th>\n",
       "      <th>alone</th>\n",
       "    </tr>\n",
       "  </thead>\n",
       "  <tbody>\n",
       "    <tr>\n",
       "      <th>0</th>\n",
       "      <td>0</td>\n",
       "      <td>3</td>\n",
       "      <td>male</td>\n",
       "      <td>22.0</td>\n",
       "      <td>1</td>\n",
       "      <td>0</td>\n",
       "      <td>7.2500</td>\n",
       "      <td>S</td>\n",
       "      <td>Third</td>\n",
       "      <td>man</td>\n",
       "      <td>True</td>\n",
       "      <td>NaN</td>\n",
       "      <td>Southampton</td>\n",
       "      <td>no</td>\n",
       "      <td>False</td>\n",
       "    </tr>\n",
       "    <tr>\n",
       "      <th>1</th>\n",
       "      <td>1</td>\n",
       "      <td>1</td>\n",
       "      <td>female</td>\n",
       "      <td>38.0</td>\n",
       "      <td>1</td>\n",
       "      <td>0</td>\n",
       "      <td>71.2833</td>\n",
       "      <td>C</td>\n",
       "      <td>First</td>\n",
       "      <td>woman</td>\n",
       "      <td>False</td>\n",
       "      <td>C</td>\n",
       "      <td>Cherbourg</td>\n",
       "      <td>yes</td>\n",
       "      <td>False</td>\n",
       "    </tr>\n",
       "    <tr>\n",
       "      <th>2</th>\n",
       "      <td>1</td>\n",
       "      <td>3</td>\n",
       "      <td>female</td>\n",
       "      <td>26.0</td>\n",
       "      <td>0</td>\n",
       "      <td>0</td>\n",
       "      <td>7.9250</td>\n",
       "      <td>S</td>\n",
       "      <td>Third</td>\n",
       "      <td>woman</td>\n",
       "      <td>False</td>\n",
       "      <td>NaN</td>\n",
       "      <td>Southampton</td>\n",
       "      <td>yes</td>\n",
       "      <td>True</td>\n",
       "    </tr>\n",
       "    <tr>\n",
       "      <th>3</th>\n",
       "      <td>1</td>\n",
       "      <td>1</td>\n",
       "      <td>female</td>\n",
       "      <td>35.0</td>\n",
       "      <td>1</td>\n",
       "      <td>0</td>\n",
       "      <td>53.1000</td>\n",
       "      <td>S</td>\n",
       "      <td>First</td>\n",
       "      <td>woman</td>\n",
       "      <td>False</td>\n",
       "      <td>C</td>\n",
       "      <td>Southampton</td>\n",
       "      <td>yes</td>\n",
       "      <td>False</td>\n",
       "    </tr>\n",
       "    <tr>\n",
       "      <th>4</th>\n",
       "      <td>0</td>\n",
       "      <td>3</td>\n",
       "      <td>male</td>\n",
       "      <td>35.0</td>\n",
       "      <td>0</td>\n",
       "      <td>0</td>\n",
       "      <td>8.0500</td>\n",
       "      <td>S</td>\n",
       "      <td>Third</td>\n",
       "      <td>man</td>\n",
       "      <td>True</td>\n",
       "      <td>NaN</td>\n",
       "      <td>Southampton</td>\n",
       "      <td>no</td>\n",
       "      <td>True</td>\n",
       "    </tr>\n",
       "  </tbody>\n",
       "</table>\n",
       "</div>"
      ],
      "text/plain": [
       "   survived  pclass     sex   age  sibsp  parch     fare embarked  class  \\\n",
       "0         0       3    male  22.0      1      0   7.2500        S  Third   \n",
       "1         1       1  female  38.0      1      0  71.2833        C  First   \n",
       "2         1       3  female  26.0      0      0   7.9250        S  Third   \n",
       "3         1       1  female  35.0      1      0  53.1000        S  First   \n",
       "4         0       3    male  35.0      0      0   8.0500        S  Third   \n",
       "\n",
       "     who  adult_male deck  embark_town alive  alone  \n",
       "0    man        True  NaN  Southampton    no  False  \n",
       "1  woman       False    C    Cherbourg   yes  False  \n",
       "2  woman       False  NaN  Southampton   yes   True  \n",
       "3  woman       False    C  Southampton   yes  False  \n",
       "4    man        True  NaN  Southampton    no   True  "
      ]
     },
     "execution_count": 94,
     "metadata": {},
     "output_type": "execute_result"
    }
   ],
   "source": [
    "df=sns.load_dataset('titanic')   # dataset desde seaborn\n",
    "\n",
    "df.head()"
   ]
  },
  {
   "cell_type": "code",
   "execution_count": 95,
   "metadata": {},
   "outputs": [
    {
     "name": "stdout",
     "output_type": "stream",
     "text": [
      "<class 'pandas.core.frame.DataFrame'>\n",
      "RangeIndex: 891 entries, 0 to 890\n",
      "Data columns (total 15 columns):\n",
      " #   Column       Non-Null Count  Dtype   \n",
      "---  ------       --------------  -----   \n",
      " 0   survived     891 non-null    int64   \n",
      " 1   pclass       891 non-null    int64   \n",
      " 2   sex          891 non-null    object  \n",
      " 3   age          714 non-null    float64 \n",
      " 4   sibsp        891 non-null    int64   \n",
      " 5   parch        891 non-null    int64   \n",
      " 6   fare         891 non-null    float64 \n",
      " 7   embarked     889 non-null    object  \n",
      " 8   class        891 non-null    category\n",
      " 9   who          891 non-null    object  \n",
      " 10  adult_male   891 non-null    bool    \n",
      " 11  deck         203 non-null    category\n",
      " 12  embark_town  889 non-null    object  \n",
      " 13  alive        891 non-null    object  \n",
      " 14  alone        891 non-null    bool    \n",
      "dtypes: bool(2), category(2), float64(2), int64(4), object(5)\n",
      "memory usage: 80.7+ KB\n"
     ]
    }
   ],
   "source": [
    "df.info()"
   ]
  },
  {
   "cell_type": "code",
   "execution_count": 97,
   "metadata": {},
   "outputs": [
    {
     "data": {
      "text/html": [
       "<div>\n",
       "<style scoped>\n",
       "    .dataframe tbody tr th:only-of-type {\n",
       "        vertical-align: middle;\n",
       "    }\n",
       "\n",
       "    .dataframe tbody tr th {\n",
       "        vertical-align: top;\n",
       "    }\n",
       "\n",
       "    .dataframe thead th {\n",
       "        text-align: right;\n",
       "    }\n",
       "</style>\n",
       "<table border=\"1\" class=\"dataframe\">\n",
       "  <thead>\n",
       "    <tr style=\"text-align: right;\">\n",
       "      <th></th>\n",
       "      <th>count</th>\n",
       "      <th>mean</th>\n",
       "      <th>std</th>\n",
       "      <th>min</th>\n",
       "      <th>25%</th>\n",
       "      <th>50%</th>\n",
       "      <th>75%</th>\n",
       "      <th>max</th>\n",
       "    </tr>\n",
       "  </thead>\n",
       "  <tbody>\n",
       "    <tr>\n",
       "      <th>survived</th>\n",
       "      <td>891.0</td>\n",
       "      <td>0.383838</td>\n",
       "      <td>0.486592</td>\n",
       "      <td>0.00</td>\n",
       "      <td>0.0000</td>\n",
       "      <td>0.0000</td>\n",
       "      <td>1.0</td>\n",
       "      <td>1.0000</td>\n",
       "    </tr>\n",
       "    <tr>\n",
       "      <th>pclass</th>\n",
       "      <td>891.0</td>\n",
       "      <td>2.308642</td>\n",
       "      <td>0.836071</td>\n",
       "      <td>1.00</td>\n",
       "      <td>2.0000</td>\n",
       "      <td>3.0000</td>\n",
       "      <td>3.0</td>\n",
       "      <td>3.0000</td>\n",
       "    </tr>\n",
       "    <tr>\n",
       "      <th>age</th>\n",
       "      <td>714.0</td>\n",
       "      <td>29.699118</td>\n",
       "      <td>14.526497</td>\n",
       "      <td>0.42</td>\n",
       "      <td>20.1250</td>\n",
       "      <td>28.0000</td>\n",
       "      <td>38.0</td>\n",
       "      <td>80.0000</td>\n",
       "    </tr>\n",
       "    <tr>\n",
       "      <th>sibsp</th>\n",
       "      <td>891.0</td>\n",
       "      <td>0.523008</td>\n",
       "      <td>1.102743</td>\n",
       "      <td>0.00</td>\n",
       "      <td>0.0000</td>\n",
       "      <td>0.0000</td>\n",
       "      <td>1.0</td>\n",
       "      <td>8.0000</td>\n",
       "    </tr>\n",
       "    <tr>\n",
       "      <th>parch</th>\n",
       "      <td>891.0</td>\n",
       "      <td>0.381594</td>\n",
       "      <td>0.806057</td>\n",
       "      <td>0.00</td>\n",
       "      <td>0.0000</td>\n",
       "      <td>0.0000</td>\n",
       "      <td>0.0</td>\n",
       "      <td>6.0000</td>\n",
       "    </tr>\n",
       "    <tr>\n",
       "      <th>fare</th>\n",
       "      <td>891.0</td>\n",
       "      <td>32.204208</td>\n",
       "      <td>49.693429</td>\n",
       "      <td>0.00</td>\n",
       "      <td>7.9104</td>\n",
       "      <td>14.4542</td>\n",
       "      <td>31.0</td>\n",
       "      <td>512.3292</td>\n",
       "    </tr>\n",
       "  </tbody>\n",
       "</table>\n",
       "</div>"
      ],
      "text/plain": [
       "          count       mean        std   min      25%      50%   75%       max\n",
       "survived  891.0   0.383838   0.486592  0.00   0.0000   0.0000   1.0    1.0000\n",
       "pclass    891.0   2.308642   0.836071  1.00   2.0000   3.0000   3.0    3.0000\n",
       "age       714.0  29.699118  14.526497  0.42  20.1250  28.0000  38.0   80.0000\n",
       "sibsp     891.0   0.523008   1.102743  0.00   0.0000   0.0000   1.0    8.0000\n",
       "parch     891.0   0.381594   0.806057  0.00   0.0000   0.0000   0.0    6.0000\n",
       "fare      891.0  32.204208  49.693429  0.00   7.9104  14.4542  31.0  512.3292"
      ]
     },
     "execution_count": 97,
     "metadata": {},
     "output_type": "execute_result"
    }
   ],
   "source": [
    "df.describe().T"
   ]
  },
  {
   "cell_type": "code",
   "execution_count": 99,
   "metadata": {},
   "outputs": [
    {
     "data": {
      "text/html": [
       "<div>\n",
       "<style scoped>\n",
       "    .dataframe tbody tr th:only-of-type {\n",
       "        vertical-align: middle;\n",
       "    }\n",
       "\n",
       "    .dataframe tbody tr th {\n",
       "        vertical-align: top;\n",
       "    }\n",
       "\n",
       "    .dataframe thead th {\n",
       "        text-align: right;\n",
       "    }\n",
       "</style>\n",
       "<table border=\"1\" class=\"dataframe\">\n",
       "  <thead>\n",
       "    <tr style=\"text-align: right;\">\n",
       "      <th></th>\n",
       "      <th>count</th>\n",
       "      <th>mean</th>\n",
       "      <th>std</th>\n",
       "      <th>min</th>\n",
       "      <th>25%</th>\n",
       "      <th>50%</th>\n",
       "      <th>75%</th>\n",
       "      <th>max</th>\n",
       "      <th>IQR</th>\n",
       "    </tr>\n",
       "  </thead>\n",
       "  <tbody>\n",
       "    <tr>\n",
       "      <th>survived</th>\n",
       "      <td>891.0</td>\n",
       "      <td>0.383838</td>\n",
       "      <td>0.486592</td>\n",
       "      <td>0.00</td>\n",
       "      <td>0.0000</td>\n",
       "      <td>0.0000</td>\n",
       "      <td>1.0</td>\n",
       "      <td>1.0000</td>\n",
       "      <td>1.0000</td>\n",
       "    </tr>\n",
       "    <tr>\n",
       "      <th>pclass</th>\n",
       "      <td>891.0</td>\n",
       "      <td>2.308642</td>\n",
       "      <td>0.836071</td>\n",
       "      <td>1.00</td>\n",
       "      <td>2.0000</td>\n",
       "      <td>3.0000</td>\n",
       "      <td>3.0</td>\n",
       "      <td>3.0000</td>\n",
       "      <td>1.0000</td>\n",
       "    </tr>\n",
       "    <tr>\n",
       "      <th>age</th>\n",
       "      <td>714.0</td>\n",
       "      <td>29.699118</td>\n",
       "      <td>14.526497</td>\n",
       "      <td>0.42</td>\n",
       "      <td>20.1250</td>\n",
       "      <td>28.0000</td>\n",
       "      <td>38.0</td>\n",
       "      <td>80.0000</td>\n",
       "      <td>17.8750</td>\n",
       "    </tr>\n",
       "    <tr>\n",
       "      <th>sibsp</th>\n",
       "      <td>891.0</td>\n",
       "      <td>0.523008</td>\n",
       "      <td>1.102743</td>\n",
       "      <td>0.00</td>\n",
       "      <td>0.0000</td>\n",
       "      <td>0.0000</td>\n",
       "      <td>1.0</td>\n",
       "      <td>8.0000</td>\n",
       "      <td>1.0000</td>\n",
       "    </tr>\n",
       "    <tr>\n",
       "      <th>parch</th>\n",
       "      <td>891.0</td>\n",
       "      <td>0.381594</td>\n",
       "      <td>0.806057</td>\n",
       "      <td>0.00</td>\n",
       "      <td>0.0000</td>\n",
       "      <td>0.0000</td>\n",
       "      <td>0.0</td>\n",
       "      <td>6.0000</td>\n",
       "      <td>0.0000</td>\n",
       "    </tr>\n",
       "    <tr>\n",
       "      <th>fare</th>\n",
       "      <td>891.0</td>\n",
       "      <td>32.204208</td>\n",
       "      <td>49.693429</td>\n",
       "      <td>0.00</td>\n",
       "      <td>7.9104</td>\n",
       "      <td>14.4542</td>\n",
       "      <td>31.0</td>\n",
       "      <td>512.3292</td>\n",
       "      <td>23.0896</td>\n",
       "    </tr>\n",
       "  </tbody>\n",
       "</table>\n",
       "</div>"
      ],
      "text/plain": [
       "          count       mean        std   min      25%      50%   75%       max  \\\n",
       "survived  891.0   0.383838   0.486592  0.00   0.0000   0.0000   1.0    1.0000   \n",
       "pclass    891.0   2.308642   0.836071  1.00   2.0000   3.0000   3.0    3.0000   \n",
       "age       714.0  29.699118  14.526497  0.42  20.1250  28.0000  38.0   80.0000   \n",
       "sibsp     891.0   0.523008   1.102743  0.00   0.0000   0.0000   1.0    8.0000   \n",
       "parch     891.0   0.381594   0.806057  0.00   0.0000   0.0000   0.0    6.0000   \n",
       "fare      891.0  32.204208  49.693429  0.00   7.9104  14.4542  31.0  512.3292   \n",
       "\n",
       "              IQR  \n",
       "survived   1.0000  \n",
       "pclass     1.0000  \n",
       "age       17.8750  \n",
       "sibsp      1.0000  \n",
       "parch      0.0000  \n",
       "fare      23.0896  "
      ]
     },
     "execution_count": 99,
     "metadata": {},
     "output_type": "execute_result"
    }
   ],
   "source": [
    "stats=df.describe().T\n",
    "\n",
    "stats['IQR']=stats['75%']-stats['25%']\n",
    "\n",
    "stats"
   ]
  },
  {
   "cell_type": "markdown",
   "metadata": {},
   "source": [
    "**Gráfico de barras (countplot)**\n",
    "\n",
    "Un gráfico de barras o gráfico de columnas, es una forma de representar gráficamente un conjunto de datos o valores mediante barras rectangulares de longitud proporcional a los valores representados. Los gráficos de barras pueden ser usados para comparar cantidades de una variable en diferentes momentos o diferentes variables para el mismo momento. Las barras pueden orientarse horizontal y verticalmente."
   ]
  },
  {
   "cell_type": "code",
   "execution_count": null,
   "metadata": {},
   "outputs": [],
   "source": []
  },
  {
   "cell_type": "code",
   "execution_count": null,
   "metadata": {},
   "outputs": [],
   "source": []
  },
  {
   "cell_type": "code",
   "execution_count": null,
   "metadata": {},
   "outputs": [],
   "source": []
  },
  {
   "cell_type": "markdown",
   "metadata": {},
   "source": [
    "**Histograma**\n",
    "\n",
    "Un histograma es una representación gráfica de una variable en forma de barras, donde la superficie de cada barra es proporcional a la frecuencia de los valores representados. Sirven para obtener una primera vista general de la distribución de la población, o de la muestra, respecto a una característica, cuantitativa y continua. De esta manera ofrece una visión de grupo permitiendo observar una preferencia, o tendencia, por parte de la muestra o población por ubicarse hacia una determinada región de valores dentro del espectro de valores posibles que pueda adquirir la característica. Así pues, podemos evidenciar comportamientos, observar el grado de homogeneidad, acuerdo o concisión entre los valores de todas las partes que componen la población o la muestra, o, en contraposición, poder observar el grado de variabilidad, y por ende, la dispersión de todos los valores que toman las partes, también es posible no evidenciar ninguna tendencia y obtener que cada miembro de la población toma por su lado y adquiere un valor de la característica aleatoriamente sin mostrar ninguna preferencia o tendencia, entre otras cosas."
   ]
  },
  {
   "cell_type": "code",
   "execution_count": null,
   "metadata": {},
   "outputs": [],
   "source": []
  },
  {
   "cell_type": "code",
   "execution_count": null,
   "metadata": {
    "scrolled": false
   },
   "outputs": [],
   "source": []
  },
  {
   "cell_type": "code",
   "execution_count": null,
   "metadata": {},
   "outputs": [],
   "source": []
  },
  {
   "cell_type": "markdown",
   "metadata": {},
   "source": [
    "**Pie Chart**\n",
    "\n",
    "Un gráfico circular o gráfica circular, también llamado gráfico de pastel, gráfico de tarta, gráfico de torta o gráfica de 360 grados, es un recurso estadístico que se utiliza para representar porcentajes y proporciones. El número de elementos comparados dentro de una gráfica circular suele ser de más de cuatro."
   ]
  },
  {
   "cell_type": "code",
   "execution_count": null,
   "metadata": {},
   "outputs": [],
   "source": []
  },
  {
   "cell_type": "code",
   "execution_count": null,
   "metadata": {},
   "outputs": [],
   "source": []
  },
  {
   "cell_type": "code",
   "execution_count": null,
   "metadata": {},
   "outputs": [],
   "source": []
  },
  {
   "cell_type": "markdown",
   "metadata": {},
   "source": [
    "**Violin Plot**\n",
    "\n",
    "Un diagrama de violín se utiliza para visualizar la distribución de los datos y su densidad de probabilidad. Este gráfico es una combinación de un diagrama de cajas y un diagrama de densidad girado y colocado a cada lado, para mostrar la forma de distribución de los datos."
   ]
  },
  {
   "cell_type": "code",
   "execution_count": null,
   "metadata": {},
   "outputs": [],
   "source": []
  },
  {
   "cell_type": "markdown",
   "metadata": {},
   "source": [
    "**Boxplot**\n",
    "\n",
    "Un diagrama de caja, también conocido como diagrama de caja y bigotes o box plot, es un método estandarizado para representar gráficamente una serie de datos numéricos a través de sus cuartiles. De esta manera, el diagrama de caja muestra a simple vista la mediana y los cuartiles de los datos, pudiendo también representar los valores atípicos de estos. "
   ]
  },
  {
   "cell_type": "code",
   "execution_count": null,
   "metadata": {},
   "outputs": [],
   "source": []
  },
  {
   "cell_type": "markdown",
   "metadata": {},
   "source": [
    "### Concepto de Outlier (valores atípicos)\n",
    "\n",
    "Un outlier es una observación anormal y extrema en una muestra estadística o serie temporal de datos que puede afectar potencialmente a la estimación de los parámetros del mismo.\n",
    "\n",
    "Los valores atípicos son en ocasiones una cuestión subjetiva, y existen numerosos métodos para clasificarlos. El método más impartido académicamente por su sencillez y resultados es el test de Tukey, que toma como referencia la diferencia entre el primer cuartil $Q_{1}$ y el tercer cuartil $Q_{3}$, o rango intercuartílico. En un diagrama de caja se considera un valor atípico el que se encuentra 1,5 veces esa distancia de uno de esos cuartiles, atípico leve, o a 3 veces esa distancia, atípico extremo.\n",
    "\n",
    "\n",
    "\n",
    "$$$$\n",
    "\n",
    "![outlier](images/outlier.png)"
   ]
  },
  {
   "cell_type": "code",
   "execution_count": null,
   "metadata": {},
   "outputs": [],
   "source": []
  },
  {
   "cell_type": "code",
   "execution_count": null,
   "metadata": {},
   "outputs": [],
   "source": []
  },
  {
   "cell_type": "code",
   "execution_count": null,
   "metadata": {},
   "outputs": [],
   "source": []
  },
  {
   "cell_type": "markdown",
   "metadata": {},
   "source": [
    "**Gráficos de distribución**"
   ]
  },
  {
   "cell_type": "code",
   "execution_count": null,
   "metadata": {},
   "outputs": [],
   "source": []
  },
  {
   "cell_type": "code",
   "execution_count": null,
   "metadata": {},
   "outputs": [],
   "source": []
  }
 ],
 "metadata": {
  "finalized": {
   "timestamp": 1618998313901,
   "trusted": true
  },
  "kernelspec": {
   "display_name": "clase",
   "language": "python",
   "name": "clase"
  },
  "language_info": {
   "codemirror_mode": {
    "name": "ipython",
    "version": 3
   },
   "file_extension": ".py",
   "mimetype": "text/x-python",
   "name": "python",
   "nbconvert_exporter": "python",
   "pygments_lexer": "ipython3",
   "version": "3.9.7"
  },
  "varInspector": {
   "cols": {
    "lenName": 16,
    "lenType": 16,
    "lenVar": 40
   },
   "kernels_config": {
    "python": {
     "delete_cmd_postfix": "",
     "delete_cmd_prefix": "del ",
     "library": "var_list.py",
     "varRefreshCmd": "print(var_dic_list())"
    },
    "r": {
     "delete_cmd_postfix": ") ",
     "delete_cmd_prefix": "rm(",
     "library": "var_list.r",
     "varRefreshCmd": "cat(var_dic_list()) "
    }
   },
   "types_to_exclude": [
    "module",
    "function",
    "builtin_function_or_method",
    "instance",
    "_Feature"
   ],
   "window_display": false
  }
 },
 "nbformat": 4,
 "nbformat_minor": 4
}
