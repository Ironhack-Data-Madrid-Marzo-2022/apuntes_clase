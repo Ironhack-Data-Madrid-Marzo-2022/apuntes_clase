{
 "cells": [
  {
   "cell_type": "markdown",
   "metadata": {},
   "source": [
    "# 1.2 - Peticiones a la web, APIs\n",
    "\n",
    "$$$$\n",
    "\n",
    "![api_request](images/api_request.svg)\n",
    "\n",
    "$$$$\n",
    "\n",
    "Una api interfaz de programación de aplicaciones, es un código que permite que dos programas de software se comuniquen entre sí.\n",
    "\n",
    "La api define la forma correcta para que un desarrollador escriba un programa que solicite servicios de un sistema operativo u otra aplicación. Las api se implementan mediante llamadas a funciones. La sintaxis requerida se describe en la documentación de la api a la que se llama, y cada una es diferente.\n",
    "\n",
    "Las api se componen de dos elementos relacionados. La primera es una especificación que describe cómo se intercambia la información entre programas, hecha en forma de una solicitud de procesamiento y una devolución de los datos necesarios. El segundo es una interfaz de software escrita según esa especificación y publicada de alguna manera para su uso. Se dice que el software que quiere acceder a las características y capacidades de la API la llama, y se dice que el software que crea la API la publica.\n",
    "\n",
    "De manera general, usaremos las api para obtener información."
   ]
  },
  {
   "cell_type": "markdown",
   "metadata": {},
   "source": [
    "### Realizando una petición a la web (GET)\n",
    "\n",
    "Usaremos la librería [requests](https://docs.python-requests.org/en/master/) para realizar peticiones a la web."
   ]
  },
  {
   "cell_type": "code",
   "execution_count": 1,
   "metadata": {},
   "outputs": [
    {
     "name": "stdout",
     "output_type": "stream",
     "text": [
      "Requirement already satisfied: requests in /Users/iudh/miniforge3/envs/clase/lib/python3.9/site-packages (2.27.1)\n",
      "Requirement already satisfied: urllib3<1.27,>=1.21.1 in /Users/iudh/miniforge3/envs/clase/lib/python3.9/site-packages (from requests) (1.26.9)\n",
      "Requirement already satisfied: certifi>=2017.4.17 in /Users/iudh/miniforge3/envs/clase/lib/python3.9/site-packages (from requests) (2021.10.8)\n",
      "Requirement already satisfied: idna<4,>=2.5 in /Users/iudh/miniforge3/envs/clase/lib/python3.9/site-packages (from requests) (3.3)\n",
      "Requirement already satisfied: charset-normalizer~=2.0.0 in /Users/iudh/miniforge3/envs/clase/lib/python3.9/site-packages (from requests) (2.0.12)\n",
      "Note: you may need to restart the kernel to use updated packages.\n"
     ]
    }
   ],
   "source": [
    "%pip install requests"
   ]
  },
  {
   "cell_type": "code",
   "execution_count": 2,
   "metadata": {},
   "outputs": [],
   "source": [
    "import requests as req  # alias cosa mia"
   ]
  },
  {
   "cell_type": "code",
   "execution_count": 3,
   "metadata": {},
   "outputs": [],
   "source": [
    "url='http://www.google.es'"
   ]
  },
  {
   "cell_type": "code",
   "execution_count": 4,
   "metadata": {},
   "outputs": [
    {
     "data": {
      "text/plain": [
       "<Response [200]>"
      ]
     },
     "execution_count": 4,
     "metadata": {},
     "output_type": "execute_result"
    }
   ],
   "source": [
    "req.get(url)   # raliza la peticion GET"
   ]
  },
  {
   "cell_type": "code",
   "execution_count": 5,
   "metadata": {},
   "outputs": [],
   "source": [
    "url='https://www.google.com/search?q=anime'  # en ? empiezan los parametros (key=value) y se separan por &"
   ]
  },
  {
   "cell_type": "code",
   "execution_count": 6,
   "metadata": {},
   "outputs": [
    {
     "data": {
      "text/plain": [
       "<Response [200]>"
      ]
     },
     "execution_count": 6,
     "metadata": {},
     "output_type": "execute_result"
    }
   ],
   "source": [
    "req.get(url)"
   ]
  },
  {
   "cell_type": "code",
   "execution_count": 10,
   "metadata": {},
   "outputs": [
    {
     "data": {
      "text/plain": [
       "str"
      ]
     },
     "execution_count": 10,
     "metadata": {},
     "output_type": "execute_result"
    }
   ],
   "source": [
    "type(req.get(url).text[:500])"
   ]
  },
  {
   "cell_type": "markdown",
   "metadata": {},
   "source": [
    "### API de [Anime](https://jikan.moe/)"
   ]
  },
  {
   "cell_type": "code",
   "execution_count": 11,
   "metadata": {},
   "outputs": [],
   "source": [
    "URL_BASE='https://api.jikan.moe/v4/anime?q='  # en mayuscula significa CONSTANTE"
   ]
  },
  {
   "cell_type": "code",
   "execution_count": 18,
   "metadata": {},
   "outputs": [
    {
     "name": "stdout",
     "output_type": "stream",
     "text": [
      "koukaku kidoutai\n"
     ]
    }
   ],
   "source": [
    "busqueda=input()"
   ]
  },
  {
   "cell_type": "code",
   "execution_count": 19,
   "metadata": {},
   "outputs": [
    {
     "data": {
      "text/plain": [
       "<Response [200]>"
      ]
     },
     "execution_count": 19,
     "metadata": {},
     "output_type": "execute_result"
    }
   ],
   "source": [
    "response=req.get(URL_BASE + busqueda)\n",
    "\n",
    "response"
   ]
  },
  {
   "cell_type": "code",
   "execution_count": 25,
   "metadata": {},
   "outputs": [
    {
     "data": {
      "text/plain": [
       "'Ghost in the Shell'"
      ]
     },
     "execution_count": 25,
     "metadata": {},
     "output_type": "execute_result"
    }
   ],
   "source": [
    "response.json()['data'][0]['title_english']"
   ]
  },
  {
   "cell_type": "markdown",
   "metadata": {},
   "source": [
    "### [PokeAPI](https://pokeapi.co/)"
   ]
  },
  {
   "cell_type": "code",
   "execution_count": 26,
   "metadata": {},
   "outputs": [],
   "source": [
    "URL_BASE='https://pokeapi.co/api/v2/'"
   ]
  },
  {
   "cell_type": "code",
   "execution_count": 27,
   "metadata": {},
   "outputs": [],
   "source": [
    "pokemon='pokemon/pikachu'"
   ]
  },
  {
   "cell_type": "code",
   "execution_count": 28,
   "metadata": {},
   "outputs": [
    {
     "data": {
      "text/plain": [
       "<Response [200]>"
      ]
     },
     "execution_count": 28,
     "metadata": {},
     "output_type": "execute_result"
    }
   ],
   "source": [
    "res=req.get(URL_BASE + pokemon)\n",
    "\n",
    "res"
   ]
  },
  {
   "cell_type": "code",
   "execution_count": 30,
   "metadata": {},
   "outputs": [
    {
     "data": {
      "text/plain": [
       "dict_keys(['abilities', 'base_experience', 'forms', 'game_indices', 'height', 'held_items', 'id', 'is_default', 'location_area_encounters', 'moves', 'name', 'order', 'past_types', 'species', 'sprites', 'stats', 'types', 'weight'])"
      ]
     },
     "execution_count": 30,
     "metadata": {},
     "output_type": "execute_result"
    }
   ],
   "source": [
    "res.json().keys()"
   ]
  },
  {
   "cell_type": "code",
   "execution_count": 33,
   "metadata": {},
   "outputs": [
    {
     "data": {
      "text/plain": [
       "{'count': 1126,\n",
       " 'next': 'https://pokeapi.co/api/v2/pokemon?offset=5&limit=3',\n",
       " 'previous': 'https://pokeapi.co/api/v2/pokemon?offset=0&limit=2',\n",
       " 'results': [{'name': 'venusaur',\n",
       "   'url': 'https://pokeapi.co/api/v2/pokemon/3/'},\n",
       "  {'name': 'charmander', 'url': 'https://pokeapi.co/api/v2/pokemon/4/'},\n",
       "  {'name': 'charmeleon', 'url': 'https://pokeapi.co/api/v2/pokemon/5/'}]}"
      ]
     },
     "execution_count": 33,
     "metadata": {},
     "output_type": "execute_result"
    }
   ],
   "source": [
    "# url=https://pokeapi.co/api/v2/pokemon?limit=3&offset=1\n",
    "\n",
    "# parametros\n",
    "query={'limit': 3,   # cuantos metraes\n",
    "       'offset':2}   # cuantos te saltas al pricipio \n",
    "\n",
    "\n",
    "req.get(URL_BASE + 'pokemon', params=query).json()"
   ]
  },
  {
   "cell_type": "markdown",
   "metadata": {},
   "source": [
    "### [Rick y Morty API](https://rickandmortyapi.com/)"
   ]
  },
  {
   "cell_type": "code",
   "execution_count": 34,
   "metadata": {},
   "outputs": [],
   "source": [
    "url='https://rickandmortyapi.com/api/character/1'"
   ]
  },
  {
   "cell_type": "code",
   "execution_count": 35,
   "metadata": {},
   "outputs": [
    {
     "data": {
      "text/plain": [
       "<Response [200]>"
      ]
     },
     "execution_count": 35,
     "metadata": {},
     "output_type": "execute_result"
    }
   ],
   "source": [
    "res=req.get(url)\n",
    "\n",
    "res"
   ]
  },
  {
   "cell_type": "code",
   "execution_count": 36,
   "metadata": {},
   "outputs": [
    {
     "data": {
      "text/plain": [
       "{'id': 1,\n",
       " 'name': 'Rick Sanchez',\n",
       " 'status': 'Alive',\n",
       " 'species': 'Human',\n",
       " 'type': '',\n",
       " 'gender': 'Male',\n",
       " 'origin': {'name': 'Earth (C-137)',\n",
       "  'url': 'https://rickandmortyapi.com/api/location/1'},\n",
       " 'location': {'name': 'Citadel of Ricks',\n",
       "  'url': 'https://rickandmortyapi.com/api/location/3'},\n",
       " 'image': 'https://rickandmortyapi.com/api/character/avatar/1.jpeg',\n",
       " 'episode': ['https://rickandmortyapi.com/api/episode/1',\n",
       "  'https://rickandmortyapi.com/api/episode/2',\n",
       "  'https://rickandmortyapi.com/api/episode/3',\n",
       "  'https://rickandmortyapi.com/api/episode/4',\n",
       "  'https://rickandmortyapi.com/api/episode/5',\n",
       "  'https://rickandmortyapi.com/api/episode/6',\n",
       "  'https://rickandmortyapi.com/api/episode/7',\n",
       "  'https://rickandmortyapi.com/api/episode/8',\n",
       "  'https://rickandmortyapi.com/api/episode/9',\n",
       "  'https://rickandmortyapi.com/api/episode/10',\n",
       "  'https://rickandmortyapi.com/api/episode/11',\n",
       "  'https://rickandmortyapi.com/api/episode/12',\n",
       "  'https://rickandmortyapi.com/api/episode/13',\n",
       "  'https://rickandmortyapi.com/api/episode/14',\n",
       "  'https://rickandmortyapi.com/api/episode/15',\n",
       "  'https://rickandmortyapi.com/api/episode/16',\n",
       "  'https://rickandmortyapi.com/api/episode/17',\n",
       "  'https://rickandmortyapi.com/api/episode/18',\n",
       "  'https://rickandmortyapi.com/api/episode/19',\n",
       "  'https://rickandmortyapi.com/api/episode/20',\n",
       "  'https://rickandmortyapi.com/api/episode/21',\n",
       "  'https://rickandmortyapi.com/api/episode/22',\n",
       "  'https://rickandmortyapi.com/api/episode/23',\n",
       "  'https://rickandmortyapi.com/api/episode/24',\n",
       "  'https://rickandmortyapi.com/api/episode/25',\n",
       "  'https://rickandmortyapi.com/api/episode/26',\n",
       "  'https://rickandmortyapi.com/api/episode/27',\n",
       "  'https://rickandmortyapi.com/api/episode/28',\n",
       "  'https://rickandmortyapi.com/api/episode/29',\n",
       "  'https://rickandmortyapi.com/api/episode/30',\n",
       "  'https://rickandmortyapi.com/api/episode/31',\n",
       "  'https://rickandmortyapi.com/api/episode/32',\n",
       "  'https://rickandmortyapi.com/api/episode/33',\n",
       "  'https://rickandmortyapi.com/api/episode/34',\n",
       "  'https://rickandmortyapi.com/api/episode/35',\n",
       "  'https://rickandmortyapi.com/api/episode/36',\n",
       "  'https://rickandmortyapi.com/api/episode/37',\n",
       "  'https://rickandmortyapi.com/api/episode/38',\n",
       "  'https://rickandmortyapi.com/api/episode/39',\n",
       "  'https://rickandmortyapi.com/api/episode/40',\n",
       "  'https://rickandmortyapi.com/api/episode/41',\n",
       "  'https://rickandmortyapi.com/api/episode/42',\n",
       "  'https://rickandmortyapi.com/api/episode/43',\n",
       "  'https://rickandmortyapi.com/api/episode/44',\n",
       "  'https://rickandmortyapi.com/api/episode/45',\n",
       "  'https://rickandmortyapi.com/api/episode/46',\n",
       "  'https://rickandmortyapi.com/api/episode/47',\n",
       "  'https://rickandmortyapi.com/api/episode/48',\n",
       "  'https://rickandmortyapi.com/api/episode/49',\n",
       "  'https://rickandmortyapi.com/api/episode/50',\n",
       "  'https://rickandmortyapi.com/api/episode/51'],\n",
       " 'url': 'https://rickandmortyapi.com/api/character/1',\n",
       " 'created': '2017-11-04T18:48:46.250Z'}"
      ]
     },
     "execution_count": 36,
     "metadata": {},
     "output_type": "execute_result"
    }
   ],
   "source": [
    "res.json()"
   ]
  },
  {
   "cell_type": "code",
   "execution_count": 46,
   "metadata": {},
   "outputs": [],
   "source": [
    "loc_url='https://rickandmortyapi.com/api/location/12'  # endpoint"
   ]
  },
  {
   "cell_type": "code",
   "execution_count": 47,
   "metadata": {},
   "outputs": [
    {
     "data": {
      "text/plain": [
       "<Response [200]>"
      ]
     },
     "execution_count": 47,
     "metadata": {},
     "output_type": "execute_result"
    }
   ],
   "source": [
    "res=req.get(loc_url)\n",
    "\n",
    "res"
   ]
  },
  {
   "cell_type": "code",
   "execution_count": 48,
   "metadata": {},
   "outputs": [
    {
     "data": {
      "text/plain": [
       "{'id': 12,\n",
       " 'name': 'Cronenberg Earth',\n",
       " 'type': 'Planet',\n",
       " 'dimension': 'Cronenberg Dimension',\n",
       " 'residents': [],\n",
       " 'url': 'https://rickandmortyapi.com/api/location/12',\n",
       " 'created': '2017-11-18T11:29:27.857Z'}"
      ]
     },
     "execution_count": 48,
     "metadata": {},
     "output_type": "execute_result"
    }
   ],
   "source": [
    "res.json()"
   ]
  },
  {
   "cell_type": "markdown",
   "metadata": {},
   "source": [
    "### [ISS](https://wheretheiss.at/w/developer) API"
   ]
  },
  {
   "cell_type": "code",
   "execution_count": 52,
   "metadata": {
    "scrolled": false
   },
   "outputs": [
    {
     "data": {
      "text/plain": [
       "<Response [200]>"
      ]
     },
     "execution_count": 52,
     "metadata": {},
     "output_type": "execute_result"
    }
   ],
   "source": [
    "URL='https://api.wheretheiss.at/v1/satellites/25544'\n",
    "\n",
    "res_iss=req.get(URL)\n",
    "\n",
    "res_iss"
   ]
  },
  {
   "cell_type": "code",
   "execution_count": 53,
   "metadata": {},
   "outputs": [
    {
     "data": {
      "text/plain": [
       "{'Date': 'Mon, 11 Apr 2022 08:34:17 GMT', 'Server': 'Apache/2.2.22 (Ubuntu)', 'X-Powered-By': 'PHP/5.3.10-1ubuntu3.26', 'X-Rate-Limit-Limit': '350', 'X-Rate-Limit-Remaining': '348', 'X-Rate-Limit-Interval': '5 minutes', 'Access-Control-Allow-Origin': '*', 'X-Apache-Time': 'D=21591', 'Cache-Control': 'max-age=0, no-cache', 'Content-Length': '313', 'Keep-Alive': 'timeout=15, max=100', 'Connection': 'Keep-Alive', 'Content-Type': 'application/json'}"
      ]
     },
     "execution_count": 53,
     "metadata": {},
     "output_type": "execute_result"
    }
   ],
   "source": [
    "res_iss.headers"
   ]
  },
  {
   "cell_type": "code",
   "execution_count": 54,
   "metadata": {},
   "outputs": [
    {
     "data": {
      "text/plain": [
       "{'name': 'iss',\n",
       " 'id': 25544,\n",
       " 'latitude': -27.757155708452,\n",
       " 'longitude': -176.06107534981,\n",
       " 'altitude': 427.59214241706,\n",
       " 'velocity': 27552.140340303,\n",
       " 'visibility': 'eclipsed',\n",
       " 'footprint': 4545.8889305214,\n",
       " 'timestamp': 1649666057,\n",
       " 'daynum': 2459680.8571412,\n",
       " 'solar_lat': 8.3631478332282,\n",
       " 'solar_lon': 51.704704620249,\n",
       " 'units': 'kilometers'}"
      ]
     },
     "execution_count": 54,
     "metadata": {},
     "output_type": "execute_result"
    }
   ],
   "source": [
    "res_iss.json()"
   ]
  },
  {
   "cell_type": "code",
   "execution_count": 55,
   "metadata": {},
   "outputs": [
    {
     "name": "stdout",
     "output_type": "stream",
     "text": [
      "0\n",
      "1\n",
      "2\n",
      "3\n",
      "4\n",
      "5\n",
      "6\n",
      "7\n",
      "8\n",
      "9\n",
      "10\n",
      "11\n",
      "12\n",
      "13\n",
      "14\n",
      "15\n",
      "16\n",
      "17\n",
      "18\n",
      "19\n",
      "20\n",
      "21\n",
      "22\n",
      "23\n",
      "24\n",
      "25\n",
      "26\n",
      "27\n",
      "28\n",
      "29\n",
      "30\n",
      "31\n",
      "32\n",
      "33\n",
      "34\n",
      "35\n",
      "36\n",
      "37\n",
      "38\n",
      "39\n",
      "40\n",
      "41\n",
      "42\n",
      "43\n",
      "44\n",
      "45\n",
      "46\n",
      "47\n",
      "48\n",
      "49\n",
      "CPU times: user 1.61 s, sys: 183 ms, total: 1.79 s\n",
      "Wall time: 58.7 s\n"
     ]
    }
   ],
   "source": [
    "%%time\n",
    "\n",
    "import time\n",
    "\n",
    "posiciones=[]\n",
    "\n",
    "\n",
    "\n",
    "for i in range(50):\n",
    "    print(i)\n",
    "    \n",
    "    res_iss=req.get(URL)\n",
    "    \n",
    "    data=res_iss.json()\n",
    "    \n",
    "    posiciones.append(data)\n",
    "    \n",
    "    time.sleep(0.5)  # se duerme medio segundo"
   ]
  },
  {
   "cell_type": "code",
   "execution_count": 56,
   "metadata": {},
   "outputs": [
    {
     "data": {
      "text/plain": [
       "[{'name': 'iss',\n",
       "  'id': 25544,\n",
       "  'latitude': -32.315892512912,\n",
       "  'longitude': -171.10120077155,\n",
       "  'altitude': 429.18886268862,\n",
       "  'velocity': 27548.915179401,\n",
       "  'visibility': 'eclipsed',\n",
       "  'footprint': 4553.9199121871,\n",
       "  'timestamp': 1649666158,\n",
       "  'daynum': 2459680.8583102,\n",
       "  'solar_lat': 8.3635771171597,\n",
       "  'solar_lon': 51.283794360804,\n",
       "  'units': 'kilometers'},\n",
       " {'name': 'iss',\n",
       "  'id': 25544,\n",
       "  'latitude': -32.359855363274,\n",
       "  'longitude': -171.0495430933,\n",
       "  'altitude': 429.20446975389,\n",
       "  'velocity': 27548.884620345,\n",
       "  'visibility': 'eclipsed',\n",
       "  'footprint': 4553.9983251504,\n",
       "  'timestamp': 1649666159,\n",
       "  'daynum': 2459680.8583218,\n",
       "  'solar_lat': 8.3635813674588,\n",
       "  'solar_lon': 51.27962695575,\n",
       "  'units': 'kilometers'}]"
      ]
     },
     "execution_count": 56,
     "metadata": {},
     "output_type": "execute_result"
    }
   ],
   "source": [
    "posiciones[:2]"
   ]
  },
  {
   "cell_type": "code",
   "execution_count": 57,
   "metadata": {},
   "outputs": [
    {
     "data": {
      "text/html": [
       "<div>\n",
       "<style scoped>\n",
       "    .dataframe tbody tr th:only-of-type {\n",
       "        vertical-align: middle;\n",
       "    }\n",
       "\n",
       "    .dataframe tbody tr th {\n",
       "        vertical-align: top;\n",
       "    }\n",
       "\n",
       "    .dataframe thead th {\n",
       "        text-align: right;\n",
       "    }\n",
       "</style>\n",
       "<table border=\"1\" class=\"dataframe\">\n",
       "  <thead>\n",
       "    <tr style=\"text-align: right;\">\n",
       "      <th></th>\n",
       "      <th>name</th>\n",
       "      <th>id</th>\n",
       "      <th>latitude</th>\n",
       "      <th>longitude</th>\n",
       "      <th>altitude</th>\n",
       "      <th>velocity</th>\n",
       "      <th>visibility</th>\n",
       "      <th>footprint</th>\n",
       "      <th>timestamp</th>\n",
       "      <th>daynum</th>\n",
       "      <th>solar_lat</th>\n",
       "      <th>solar_lon</th>\n",
       "      <th>units</th>\n",
       "    </tr>\n",
       "  </thead>\n",
       "  <tbody>\n",
       "    <tr>\n",
       "      <th>0</th>\n",
       "      <td>iss</td>\n",
       "      <td>25544</td>\n",
       "      <td>-32.315893</td>\n",
       "      <td>-171.101201</td>\n",
       "      <td>429.188863</td>\n",
       "      <td>27548.915179</td>\n",
       "      <td>eclipsed</td>\n",
       "      <td>4553.919912</td>\n",
       "      <td>1649666158</td>\n",
       "      <td>2.459681e+06</td>\n",
       "      <td>8.363577</td>\n",
       "      <td>51.283794</td>\n",
       "      <td>kilometers</td>\n",
       "    </tr>\n",
       "    <tr>\n",
       "      <th>1</th>\n",
       "      <td>iss</td>\n",
       "      <td>25544</td>\n",
       "      <td>-32.359855</td>\n",
       "      <td>-171.049543</td>\n",
       "      <td>429.204470</td>\n",
       "      <td>27548.884620</td>\n",
       "      <td>eclipsed</td>\n",
       "      <td>4553.998325</td>\n",
       "      <td>1649666159</td>\n",
       "      <td>2.459681e+06</td>\n",
       "      <td>8.363581</td>\n",
       "      <td>51.279627</td>\n",
       "      <td>kilometers</td>\n",
       "    </tr>\n",
       "    <tr>\n",
       "      <th>2</th>\n",
       "      <td>iss</td>\n",
       "      <td>25544</td>\n",
       "      <td>-32.447706</td>\n",
       "      <td>-170.946066</td>\n",
       "      <td>429.235665</td>\n",
       "      <td>27548.823594</td>\n",
       "      <td>eclipsed</td>\n",
       "      <td>4554.155051</td>\n",
       "      <td>1649666161</td>\n",
       "      <td>2.459681e+06</td>\n",
       "      <td>8.363590</td>\n",
       "      <td>51.271292</td>\n",
       "      <td>kilometers</td>\n",
       "    </tr>\n",
       "    <tr>\n",
       "      <th>3</th>\n",
       "      <td>iss</td>\n",
       "      <td>25544</td>\n",
       "      <td>-32.491593</td>\n",
       "      <td>-170.894247</td>\n",
       "      <td>429.251253</td>\n",
       "      <td>27548.793127</td>\n",
       "      <td>eclipsed</td>\n",
       "      <td>4554.233364</td>\n",
       "      <td>1649666162</td>\n",
       "      <td>2.459681e+06</td>\n",
       "      <td>8.363594</td>\n",
       "      <td>51.267125</td>\n",
       "      <td>kilometers</td>\n",
       "    </tr>\n",
       "    <tr>\n",
       "      <th>4</th>\n",
       "      <td>iss</td>\n",
       "      <td>25544</td>\n",
       "      <td>-32.535455</td>\n",
       "      <td>-170.842373</td>\n",
       "      <td>429.266835</td>\n",
       "      <td>27548.762691</td>\n",
       "      <td>eclipsed</td>\n",
       "      <td>4554.311642</td>\n",
       "      <td>1649666163</td>\n",
       "      <td>2.459681e+06</td>\n",
       "      <td>8.363598</td>\n",
       "      <td>51.262957</td>\n",
       "      <td>kilometers</td>\n",
       "    </tr>\n",
       "  </tbody>\n",
       "</table>\n",
       "</div>"
      ],
      "text/plain": [
       "  name     id   latitude   longitude    altitude      velocity visibility  \\\n",
       "0  iss  25544 -32.315893 -171.101201  429.188863  27548.915179   eclipsed   \n",
       "1  iss  25544 -32.359855 -171.049543  429.204470  27548.884620   eclipsed   \n",
       "2  iss  25544 -32.447706 -170.946066  429.235665  27548.823594   eclipsed   \n",
       "3  iss  25544 -32.491593 -170.894247  429.251253  27548.793127   eclipsed   \n",
       "4  iss  25544 -32.535455 -170.842373  429.266835  27548.762691   eclipsed   \n",
       "\n",
       "     footprint   timestamp        daynum  solar_lat  solar_lon       units  \n",
       "0  4553.919912  1649666158  2.459681e+06   8.363577  51.283794  kilometers  \n",
       "1  4553.998325  1649666159  2.459681e+06   8.363581  51.279627  kilometers  \n",
       "2  4554.155051  1649666161  2.459681e+06   8.363590  51.271292  kilometers  \n",
       "3  4554.233364  1649666162  2.459681e+06   8.363594  51.267125  kilometers  \n",
       "4  4554.311642  1649666163  2.459681e+06   8.363598  51.262957  kilometers  "
      ]
     },
     "execution_count": 57,
     "metadata": {},
     "output_type": "execute_result"
    }
   ],
   "source": [
    "import pandas as pd\n",
    "\n",
    "\n",
    "df=pd.DataFrame(posiciones)\n",
    "\n",
    "\n",
    "df.head()"
   ]
  },
  {
   "cell_type": "code",
   "execution_count": 58,
   "metadata": {},
   "outputs": [
    {
     "name": "stdout",
     "output_type": "stream",
     "text": [
      "<class 'pandas.core.frame.DataFrame'>\n",
      "RangeIndex: 50 entries, 0 to 49\n",
      "Data columns (total 13 columns):\n",
      " #   Column      Non-Null Count  Dtype  \n",
      "---  ------      --------------  -----  \n",
      " 0   name        50 non-null     object \n",
      " 1   id          50 non-null     int64  \n",
      " 2   latitude    50 non-null     float64\n",
      " 3   longitude   50 non-null     float64\n",
      " 4   altitude    50 non-null     float64\n",
      " 5   velocity    50 non-null     float64\n",
      " 6   visibility  50 non-null     object \n",
      " 7   footprint   50 non-null     float64\n",
      " 8   timestamp   50 non-null     int64  \n",
      " 9   daynum      50 non-null     float64\n",
      " 10  solar_lat   50 non-null     float64\n",
      " 11  solar_lon   50 non-null     float64\n",
      " 12  units       50 non-null     object \n",
      "dtypes: float64(8), int64(2), object(3)\n",
      "memory usage: 5.2+ KB\n"
     ]
    }
   ],
   "source": [
    "df.info()"
   ]
  },
  {
   "cell_type": "markdown",
   "metadata": {},
   "source": [
    "### [GitHub](https://docs.github.com/en/rest) API"
   ]
  },
  {
   "cell_type": "code",
   "execution_count": 59,
   "metadata": {},
   "outputs": [],
   "source": [
    "URL='https://api.github.com/events'"
   ]
  },
  {
   "cell_type": "code",
   "execution_count": 60,
   "metadata": {},
   "outputs": [
    {
     "data": {
      "text/plain": [
       "<Response [200]>"
      ]
     },
     "execution_count": 60,
     "metadata": {},
     "output_type": "execute_result"
    }
   ],
   "source": [
    "res_git=req.get(URL)\n",
    "\n",
    "res_git"
   ]
  },
  {
   "cell_type": "code",
   "execution_count": 62,
   "metadata": {},
   "outputs": [
    {
     "data": {
      "text/plain": [
       "str"
      ]
     },
     "execution_count": 62,
     "metadata": {},
     "output_type": "execute_result"
    }
   ],
   "source": [
    "type(res_git.text[:10])"
   ]
  },
  {
   "cell_type": "code",
   "execution_count": 64,
   "metadata": {},
   "outputs": [
    {
     "data": {
      "text/plain": [
       "bytes"
      ]
     },
     "execution_count": 64,
     "metadata": {},
     "output_type": "execute_result"
    }
   ],
   "source": [
    "type(res_git.content[:10])"
   ]
  },
  {
   "cell_type": "code",
   "execution_count": 69,
   "metadata": {
    "scrolled": false
   },
   "outputs": [
    {
     "data": {
      "text/plain": [
       "'https://api.github.com/users/dependabot[bot]'"
      ]
     },
     "execution_count": 69,
     "metadata": {},
     "output_type": "execute_result"
    }
   ],
   "source": [
    "res_git.json()[8]['actor']['url']"
   ]
  },
  {
   "cell_type": "code",
   "execution_count": 70,
   "metadata": {},
   "outputs": [
    {
     "data": {
      "text/html": [
       "<div>\n",
       "<style scoped>\n",
       "    .dataframe tbody tr th:only-of-type {\n",
       "        vertical-align: middle;\n",
       "    }\n",
       "\n",
       "    .dataframe tbody tr th {\n",
       "        vertical-align: top;\n",
       "    }\n",
       "\n",
       "    .dataframe thead th {\n",
       "        text-align: right;\n",
       "    }\n",
       "</style>\n",
       "<table border=\"1\" class=\"dataframe\">\n",
       "  <thead>\n",
       "    <tr style=\"text-align: right;\">\n",
       "      <th></th>\n",
       "      <th>id</th>\n",
       "      <th>type</th>\n",
       "      <th>actor</th>\n",
       "      <th>repo</th>\n",
       "      <th>payload</th>\n",
       "      <th>public</th>\n",
       "      <th>created_at</th>\n",
       "      <th>org</th>\n",
       "    </tr>\n",
       "  </thead>\n",
       "  <tbody>\n",
       "    <tr>\n",
       "      <th>0</th>\n",
       "      <td>21217354811</td>\n",
       "      <td>CreateEvent</td>\n",
       "      <td>{'id': 92199761, 'login': 'jatyPeng', 'display...</td>\n",
       "      <td>{'id': 415215070, 'name': 'jatyPeng/bailing_he...</td>\n",
       "      <td>{'ref': 'v2.0.52', 'ref_type': 'tag', 'master_...</td>\n",
       "      <td>True</td>\n",
       "      <td>2022-04-11T08:39:52Z</td>\n",
       "      <td>NaN</td>\n",
       "    </tr>\n",
       "    <tr>\n",
       "      <th>1</th>\n",
       "      <td>21217354783</td>\n",
       "      <td>PushEvent</td>\n",
       "      <td>{'id': 92907907, 'login': 'znyt', 'display_log...</td>\n",
       "      <td>{'id': 431507481, 'name': 'znyt/oss16', 'url':...</td>\n",
       "      <td>{'push_id': 9591856838, 'size': 1, 'distinct_s...</td>\n",
       "      <td>True</td>\n",
       "      <td>2022-04-11T08:39:52Z</td>\n",
       "      <td>NaN</td>\n",
       "    </tr>\n",
       "    <tr>\n",
       "      <th>2</th>\n",
       "      <td>21217354719</td>\n",
       "      <td>PushEvent</td>\n",
       "      <td>{'id': 75628819, 'login': 'Roobaa', 'display_l...</td>\n",
       "      <td>{'id': 478556420, 'name': 'Roobaa/alx-system_e...</td>\n",
       "      <td>{'push_id': 9591856818, 'size': 2, 'distinct_s...</td>\n",
       "      <td>True</td>\n",
       "      <td>2022-04-11T08:39:52Z</td>\n",
       "      <td>NaN</td>\n",
       "    </tr>\n",
       "    <tr>\n",
       "      <th>3</th>\n",
       "      <td>21217354763</td>\n",
       "      <td>DeleteEvent</td>\n",
       "      <td>{'id': 1932513, 'login': 'BeryJu', 'display_lo...</td>\n",
       "      <td>{'id': 230885748, 'name': 'goauthentik/authent...</td>\n",
       "      <td>{'ref': 'dependabot/pip/django-4.0.4', 'ref_ty...</td>\n",
       "      <td>True</td>\n",
       "      <td>2022-04-11T08:39:52Z</td>\n",
       "      <td>{'id': 82976448, 'login': 'goauthentik', 'grav...</td>\n",
       "    </tr>\n",
       "    <tr>\n",
       "      <th>4</th>\n",
       "      <td>21217354759</td>\n",
       "      <td>CreateEvent</td>\n",
       "      <td>{'id': 49699333, 'login': 'dependabot[bot]', '...</td>\n",
       "      <td>{'id': 399545330, 'name': 'FSG-Cat/matrix-dock...</td>\n",
       "      <td>{'ref': 'dependabot/github_actions/actions/che...</td>\n",
       "      <td>True</td>\n",
       "      <td>2022-04-11T08:39:52Z</td>\n",
       "      <td>NaN</td>\n",
       "    </tr>\n",
       "  </tbody>\n",
       "</table>\n",
       "</div>"
      ],
      "text/plain": [
       "            id         type  \\\n",
       "0  21217354811  CreateEvent   \n",
       "1  21217354783    PushEvent   \n",
       "2  21217354719    PushEvent   \n",
       "3  21217354763  DeleteEvent   \n",
       "4  21217354759  CreateEvent   \n",
       "\n",
       "                                               actor  \\\n",
       "0  {'id': 92199761, 'login': 'jatyPeng', 'display...   \n",
       "1  {'id': 92907907, 'login': 'znyt', 'display_log...   \n",
       "2  {'id': 75628819, 'login': 'Roobaa', 'display_l...   \n",
       "3  {'id': 1932513, 'login': 'BeryJu', 'display_lo...   \n",
       "4  {'id': 49699333, 'login': 'dependabot[bot]', '...   \n",
       "\n",
       "                                                repo  \\\n",
       "0  {'id': 415215070, 'name': 'jatyPeng/bailing_he...   \n",
       "1  {'id': 431507481, 'name': 'znyt/oss16', 'url':...   \n",
       "2  {'id': 478556420, 'name': 'Roobaa/alx-system_e...   \n",
       "3  {'id': 230885748, 'name': 'goauthentik/authent...   \n",
       "4  {'id': 399545330, 'name': 'FSG-Cat/matrix-dock...   \n",
       "\n",
       "                                             payload  public  \\\n",
       "0  {'ref': 'v2.0.52', 'ref_type': 'tag', 'master_...    True   \n",
       "1  {'push_id': 9591856838, 'size': 1, 'distinct_s...    True   \n",
       "2  {'push_id': 9591856818, 'size': 2, 'distinct_s...    True   \n",
       "3  {'ref': 'dependabot/pip/django-4.0.4', 'ref_ty...    True   \n",
       "4  {'ref': 'dependabot/github_actions/actions/che...    True   \n",
       "\n",
       "             created_at                                                org  \n",
       "0  2022-04-11T08:39:52Z                                                NaN  \n",
       "1  2022-04-11T08:39:52Z                                                NaN  \n",
       "2  2022-04-11T08:39:52Z                                                NaN  \n",
       "3  2022-04-11T08:39:52Z  {'id': 82976448, 'login': 'goauthentik', 'grav...  \n",
       "4  2022-04-11T08:39:52Z                                                NaN  "
      ]
     },
     "execution_count": 70,
     "metadata": {},
     "output_type": "execute_result"
    }
   ],
   "source": [
    "pd.DataFrame(res_git.json()).head()"
   ]
  },
  {
   "cell_type": "code",
   "execution_count": 76,
   "metadata": {},
   "outputs": [
    {
     "data": {
      "text/plain": [
       "(30, 8)"
      ]
     },
     "execution_count": 76,
     "metadata": {},
     "output_type": "execute_result"
    }
   ],
   "source": [
    "pd.DataFrame(res_git.json()).shape"
   ]
  },
  {
   "cell_type": "code",
   "execution_count": 74,
   "metadata": {},
   "outputs": [
    {
     "data": {
      "text/html": [
       "<div>\n",
       "<style scoped>\n",
       "    .dataframe tbody tr th:only-of-type {\n",
       "        vertical-align: middle;\n",
       "    }\n",
       "\n",
       "    .dataframe tbody tr th {\n",
       "        vertical-align: top;\n",
       "    }\n",
       "\n",
       "    .dataframe thead th {\n",
       "        text-align: right;\n",
       "    }\n",
       "</style>\n",
       "<table border=\"1\" class=\"dataframe\">\n",
       "  <thead>\n",
       "    <tr style=\"text-align: right;\">\n",
       "      <th></th>\n",
       "      <th>id</th>\n",
       "      <th>type</th>\n",
       "      <th>public</th>\n",
       "      <th>created_at</th>\n",
       "      <th>actor.id</th>\n",
       "      <th>actor.login</th>\n",
       "      <th>actor.display_login</th>\n",
       "      <th>actor.gravatar_id</th>\n",
       "      <th>actor.url</th>\n",
       "      <th>actor.avatar_url</th>\n",
       "      <th>...</th>\n",
       "      <th>payload.pull_request.merged_by.following_url</th>\n",
       "      <th>payload.pull_request.merged_by.gists_url</th>\n",
       "      <th>payload.pull_request.merged_by.starred_url</th>\n",
       "      <th>payload.pull_request.merged_by.subscriptions_url</th>\n",
       "      <th>payload.pull_request.merged_by.organizations_url</th>\n",
       "      <th>payload.pull_request.merged_by.repos_url</th>\n",
       "      <th>payload.pull_request.merged_by.events_url</th>\n",
       "      <th>payload.pull_request.merged_by.received_events_url</th>\n",
       "      <th>payload.pull_request.merged_by.type</th>\n",
       "      <th>payload.pull_request.merged_by.site_admin</th>\n",
       "    </tr>\n",
       "  </thead>\n",
       "  <tbody>\n",
       "    <tr>\n",
       "      <th>0</th>\n",
       "      <td>21217354811</td>\n",
       "      <td>CreateEvent</td>\n",
       "      <td>True</td>\n",
       "      <td>2022-04-11T08:39:52Z</td>\n",
       "      <td>92199761</td>\n",
       "      <td>jatyPeng</td>\n",
       "      <td>jatyPeng</td>\n",
       "      <td></td>\n",
       "      <td>https://api.github.com/users/jatyPeng</td>\n",
       "      <td>https://avatars.githubusercontent.com/u/92199761?</td>\n",
       "      <td>...</td>\n",
       "      <td>NaN</td>\n",
       "      <td>NaN</td>\n",
       "      <td>NaN</td>\n",
       "      <td>NaN</td>\n",
       "      <td>NaN</td>\n",
       "      <td>NaN</td>\n",
       "      <td>NaN</td>\n",
       "      <td>NaN</td>\n",
       "      <td>NaN</td>\n",
       "      <td>NaN</td>\n",
       "    </tr>\n",
       "    <tr>\n",
       "      <th>1</th>\n",
       "      <td>21217354783</td>\n",
       "      <td>PushEvent</td>\n",
       "      <td>True</td>\n",
       "      <td>2022-04-11T08:39:52Z</td>\n",
       "      <td>92907907</td>\n",
       "      <td>znyt</td>\n",
       "      <td>znyt</td>\n",
       "      <td></td>\n",
       "      <td>https://api.github.com/users/znyt</td>\n",
       "      <td>https://avatars.githubusercontent.com/u/92907907?</td>\n",
       "      <td>...</td>\n",
       "      <td>NaN</td>\n",
       "      <td>NaN</td>\n",
       "      <td>NaN</td>\n",
       "      <td>NaN</td>\n",
       "      <td>NaN</td>\n",
       "      <td>NaN</td>\n",
       "      <td>NaN</td>\n",
       "      <td>NaN</td>\n",
       "      <td>NaN</td>\n",
       "      <td>NaN</td>\n",
       "    </tr>\n",
       "    <tr>\n",
       "      <th>2</th>\n",
       "      <td>21217354719</td>\n",
       "      <td>PushEvent</td>\n",
       "      <td>True</td>\n",
       "      <td>2022-04-11T08:39:52Z</td>\n",
       "      <td>75628819</td>\n",
       "      <td>Roobaa</td>\n",
       "      <td>Roobaa</td>\n",
       "      <td></td>\n",
       "      <td>https://api.github.com/users/Roobaa</td>\n",
       "      <td>https://avatars.githubusercontent.com/u/75628819?</td>\n",
       "      <td>...</td>\n",
       "      <td>NaN</td>\n",
       "      <td>NaN</td>\n",
       "      <td>NaN</td>\n",
       "      <td>NaN</td>\n",
       "      <td>NaN</td>\n",
       "      <td>NaN</td>\n",
       "      <td>NaN</td>\n",
       "      <td>NaN</td>\n",
       "      <td>NaN</td>\n",
       "      <td>NaN</td>\n",
       "    </tr>\n",
       "    <tr>\n",
       "      <th>3</th>\n",
       "      <td>21217354763</td>\n",
       "      <td>DeleteEvent</td>\n",
       "      <td>True</td>\n",
       "      <td>2022-04-11T08:39:52Z</td>\n",
       "      <td>1932513</td>\n",
       "      <td>BeryJu</td>\n",
       "      <td>BeryJu</td>\n",
       "      <td></td>\n",
       "      <td>https://api.github.com/users/BeryJu</td>\n",
       "      <td>https://avatars.githubusercontent.com/u/1932513?</td>\n",
       "      <td>...</td>\n",
       "      <td>NaN</td>\n",
       "      <td>NaN</td>\n",
       "      <td>NaN</td>\n",
       "      <td>NaN</td>\n",
       "      <td>NaN</td>\n",
       "      <td>NaN</td>\n",
       "      <td>NaN</td>\n",
       "      <td>NaN</td>\n",
       "      <td>NaN</td>\n",
       "      <td>NaN</td>\n",
       "    </tr>\n",
       "    <tr>\n",
       "      <th>4</th>\n",
       "      <td>21217354759</td>\n",
       "      <td>CreateEvent</td>\n",
       "      <td>True</td>\n",
       "      <td>2022-04-11T08:39:52Z</td>\n",
       "      <td>49699333</td>\n",
       "      <td>dependabot[bot]</td>\n",
       "      <td>dependabot</td>\n",
       "      <td></td>\n",
       "      <td>https://api.github.com/users/dependabot[bot]</td>\n",
       "      <td>https://avatars.githubusercontent.com/u/49699333?</td>\n",
       "      <td>...</td>\n",
       "      <td>NaN</td>\n",
       "      <td>NaN</td>\n",
       "      <td>NaN</td>\n",
       "      <td>NaN</td>\n",
       "      <td>NaN</td>\n",
       "      <td>NaN</td>\n",
       "      <td>NaN</td>\n",
       "      <td>NaN</td>\n",
       "      <td>NaN</td>\n",
       "      <td>NaN</td>\n",
       "    </tr>\n",
       "  </tbody>\n",
       "</table>\n",
       "<p>5 rows × 474 columns</p>\n",
       "</div>"
      ],
      "text/plain": [
       "            id         type  public            created_at  actor.id  \\\n",
       "0  21217354811  CreateEvent    True  2022-04-11T08:39:52Z  92199761   \n",
       "1  21217354783    PushEvent    True  2022-04-11T08:39:52Z  92907907   \n",
       "2  21217354719    PushEvent    True  2022-04-11T08:39:52Z  75628819   \n",
       "3  21217354763  DeleteEvent    True  2022-04-11T08:39:52Z   1932513   \n",
       "4  21217354759  CreateEvent    True  2022-04-11T08:39:52Z  49699333   \n",
       "\n",
       "       actor.login actor.display_login actor.gravatar_id  \\\n",
       "0         jatyPeng            jatyPeng                     \n",
       "1             znyt                znyt                     \n",
       "2           Roobaa              Roobaa                     \n",
       "3           BeryJu              BeryJu                     \n",
       "4  dependabot[bot]          dependabot                     \n",
       "\n",
       "                                      actor.url  \\\n",
       "0         https://api.github.com/users/jatyPeng   \n",
       "1             https://api.github.com/users/znyt   \n",
       "2           https://api.github.com/users/Roobaa   \n",
       "3           https://api.github.com/users/BeryJu   \n",
       "4  https://api.github.com/users/dependabot[bot]   \n",
       "\n",
       "                                    actor.avatar_url  ...  \\\n",
       "0  https://avatars.githubusercontent.com/u/92199761?  ...   \n",
       "1  https://avatars.githubusercontent.com/u/92907907?  ...   \n",
       "2  https://avatars.githubusercontent.com/u/75628819?  ...   \n",
       "3   https://avatars.githubusercontent.com/u/1932513?  ...   \n",
       "4  https://avatars.githubusercontent.com/u/49699333?  ...   \n",
       "\n",
       "   payload.pull_request.merged_by.following_url  \\\n",
       "0                                           NaN   \n",
       "1                                           NaN   \n",
       "2                                           NaN   \n",
       "3                                           NaN   \n",
       "4                                           NaN   \n",
       "\n",
       "  payload.pull_request.merged_by.gists_url  \\\n",
       "0                                      NaN   \n",
       "1                                      NaN   \n",
       "2                                      NaN   \n",
       "3                                      NaN   \n",
       "4                                      NaN   \n",
       "\n",
       "  payload.pull_request.merged_by.starred_url  \\\n",
       "0                                        NaN   \n",
       "1                                        NaN   \n",
       "2                                        NaN   \n",
       "3                                        NaN   \n",
       "4                                        NaN   \n",
       "\n",
       "  payload.pull_request.merged_by.subscriptions_url  \\\n",
       "0                                              NaN   \n",
       "1                                              NaN   \n",
       "2                                              NaN   \n",
       "3                                              NaN   \n",
       "4                                              NaN   \n",
       "\n",
       "  payload.pull_request.merged_by.organizations_url  \\\n",
       "0                                              NaN   \n",
       "1                                              NaN   \n",
       "2                                              NaN   \n",
       "3                                              NaN   \n",
       "4                                              NaN   \n",
       "\n",
       "  payload.pull_request.merged_by.repos_url  \\\n",
       "0                                      NaN   \n",
       "1                                      NaN   \n",
       "2                                      NaN   \n",
       "3                                      NaN   \n",
       "4                                      NaN   \n",
       "\n",
       "  payload.pull_request.merged_by.events_url  \\\n",
       "0                                       NaN   \n",
       "1                                       NaN   \n",
       "2                                       NaN   \n",
       "3                                       NaN   \n",
       "4                                       NaN   \n",
       "\n",
       "  payload.pull_request.merged_by.received_events_url  \\\n",
       "0                                                NaN   \n",
       "1                                                NaN   \n",
       "2                                                NaN   \n",
       "3                                                NaN   \n",
       "4                                                NaN   \n",
       "\n",
       "   payload.pull_request.merged_by.type  \\\n",
       "0                                  NaN   \n",
       "1                                  NaN   \n",
       "2                                  NaN   \n",
       "3                                  NaN   \n",
       "4                                  NaN   \n",
       "\n",
       "   payload.pull_request.merged_by.site_admin  \n",
       "0                                        NaN  \n",
       "1                                        NaN  \n",
       "2                                        NaN  \n",
       "3                                        NaN  \n",
       "4                                        NaN  \n",
       "\n",
       "[5 rows x 474 columns]"
      ]
     },
     "execution_count": 74,
     "metadata": {},
     "output_type": "execute_result"
    }
   ],
   "source": [
    "pd.json_normalize(res_git.json()).head()"
   ]
  },
  {
   "cell_type": "code",
   "execution_count": 75,
   "metadata": {},
   "outputs": [
    {
     "data": {
      "text/plain": [
       "(30, 474)"
      ]
     },
     "execution_count": 75,
     "metadata": {},
     "output_type": "execute_result"
    }
   ],
   "source": [
    "pd.json_normalize(res_git.json()).shape"
   ]
  },
  {
   "cell_type": "markdown",
   "metadata": {},
   "source": [
    "### [Kaggle](https://www.kaggle.com/docs/api) API\n",
    "\n",
    "Para usar la API de Kaggle, primero tenemos que registrarnos en la página. En la información de nuestra cuenta podemos pedir el token de la API:\n",
    "\n",
    "![kaggle_api](images/kaggle_api.png)\n",
    "\n",
    "$$$$\n",
    "\n",
    "Al pedir el token, se descargará un archivo llamado `kaggle.json`, el cual tendremos que guardar en la carpeta oculta `.kaggle`. \n",
    "\n",
    "Para ocultar el token del resto de usuarios se escribe algo como: `chmod 600 /Users/iudh/.kaggle/kaggle.json` en la terminal."
   ]
  },
  {
   "cell_type": "code",
   "execution_count": 77,
   "metadata": {},
   "outputs": [
    {
     "name": "stdout",
     "output_type": "stream",
     "text": [
      "Collecting kaggle\n",
      "  Using cached kaggle-1.5.12-py3-none-any.whl\n",
      "Requirement already satisfied: tqdm in /Users/iudh/miniforge3/envs/clase/lib/python3.9/site-packages (from kaggle) (4.63.1)\n",
      "Requirement already satisfied: six>=1.10 in /Users/iudh/miniforge3/envs/clase/lib/python3.9/site-packages (from kaggle) (1.16.0)\n",
      "Requirement already satisfied: certifi in /Users/iudh/miniforge3/envs/clase/lib/python3.9/site-packages (from kaggle) (2021.10.8)\n",
      "Collecting python-slugify\n",
      "  Using cached python_slugify-6.1.1-py2.py3-none-any.whl (9.1 kB)\n",
      "Requirement already satisfied: urllib3 in /Users/iudh/miniforge3/envs/clase/lib/python3.9/site-packages (from kaggle) (1.26.9)\n",
      "Requirement already satisfied: python-dateutil in /Users/iudh/miniforge3/envs/clase/lib/python3.9/site-packages (from kaggle) (2.8.2)\n",
      "Requirement already satisfied: requests in /Users/iudh/miniforge3/envs/clase/lib/python3.9/site-packages (from kaggle) (2.27.1)\n",
      "Collecting text-unidecode>=1.3\n",
      "  Using cached text_unidecode-1.3-py2.py3-none-any.whl (78 kB)\n",
      "Requirement already satisfied: charset-normalizer~=2.0.0 in /Users/iudh/miniforge3/envs/clase/lib/python3.9/site-packages (from requests->kaggle) (2.0.12)\n",
      "Requirement already satisfied: idna<4,>=2.5 in /Users/iudh/miniforge3/envs/clase/lib/python3.9/site-packages (from requests->kaggle) (3.3)\n",
      "Installing collected packages: text-unidecode, python-slugify, kaggle\n",
      "Successfully installed kaggle-1.5.12 python-slugify-6.1.1 text-unidecode-1.3\n",
      "Note: you may need to restart the kernel to use updated packages.\n"
     ]
    }
   ],
   "source": [
    "%pip install kaggle"
   ]
  },
  {
   "cell_type": "code",
   "execution_count": 78,
   "metadata": {},
   "outputs": [],
   "source": [
    "import kaggle"
   ]
  },
  {
   "cell_type": "code",
   "execution_count": 79,
   "metadata": {},
   "outputs": [],
   "source": [
    "# autentificacion\n",
    "\n",
    "from kaggle.api.kaggle_api_extended import KaggleApi\n",
    "\n",
    "api=KaggleApi()\n",
    "\n",
    "api.authenticate()"
   ]
  },
  {
   "cell_type": "code",
   "execution_count": 80,
   "metadata": {},
   "outputs": [],
   "source": [
    "api.dataset_download_files('kazanova/sentiment140', path='./')"
   ]
  },
  {
   "cell_type": "code",
   "execution_count": 81,
   "metadata": {},
   "outputs": [],
   "source": [
    "import zipfile\n",
    "\n",
    "with zipfile.ZipFile('sentiment140.zip', 'r') as archivo:\n",
    "    archivo.extractall('')"
   ]
  },
  {
   "cell_type": "code",
   "execution_count": 83,
   "metadata": {},
   "outputs": [
    {
     "data": {
      "text/plain": [
       "['training.1600000.processed.noemoticon.csv']"
      ]
     },
     "execution_count": 83,
     "metadata": {},
     "output_type": "execute_result"
    }
   ],
   "source": [
    "import glob\n",
    "\n",
    "glob.glob('*.csv')"
   ]
  },
  {
   "cell_type": "code",
   "execution_count": 84,
   "metadata": {},
   "outputs": [
    {
     "data": {
      "text/plain": [
       "['training.1600000.processed.noemoticon.csv',\n",
       " 'training.1600000.processed.noemoticon.csv',\n",
       " 'training.1600000.processed.noemoticon.csv']"
      ]
     },
     "execution_count": 84,
     "metadata": {},
     "output_type": "execute_result"
    }
   ],
   "source": [
    "lst=glob.glob('*.csv') * 3\n",
    "\n",
    "lst"
   ]
  },
  {
   "cell_type": "code",
   "execution_count": 85,
   "metadata": {},
   "outputs": [],
   "source": [
    "data={}\n",
    "\n",
    "for i, e in enumerate(lst):\n",
    "    \n",
    "    data[f'df_{i}']=pd.read_csv(e, encoding='latin1')"
   ]
  },
  {
   "cell_type": "code",
   "execution_count": 88,
   "metadata": {},
   "outputs": [
    {
     "data": {
      "text/html": [
       "<div>\n",
       "<style scoped>\n",
       "    .dataframe tbody tr th:only-of-type {\n",
       "        vertical-align: middle;\n",
       "    }\n",
       "\n",
       "    .dataframe tbody tr th {\n",
       "        vertical-align: top;\n",
       "    }\n",
       "\n",
       "    .dataframe thead th {\n",
       "        text-align: right;\n",
       "    }\n",
       "</style>\n",
       "<table border=\"1\" class=\"dataframe\">\n",
       "  <thead>\n",
       "    <tr style=\"text-align: right;\">\n",
       "      <th></th>\n",
       "      <th>0</th>\n",
       "      <th>1467810369</th>\n",
       "      <th>Mon Apr 06 22:19:45 PDT 2009</th>\n",
       "      <th>NO_QUERY</th>\n",
       "      <th>_TheSpecialOne_</th>\n",
       "      <th>@switchfoot http://twitpic.com/2y1zl - Awww, that's a bummer.  You shoulda got David Carr of Third Day to do it. ;D</th>\n",
       "    </tr>\n",
       "  </thead>\n",
       "  <tbody>\n",
       "    <tr>\n",
       "      <th>0</th>\n",
       "      <td>0</td>\n",
       "      <td>1467810672</td>\n",
       "      <td>Mon Apr 06 22:19:49 PDT 2009</td>\n",
       "      <td>NO_QUERY</td>\n",
       "      <td>scotthamilton</td>\n",
       "      <td>is upset that he can't update his Facebook by ...</td>\n",
       "    </tr>\n",
       "    <tr>\n",
       "      <th>1</th>\n",
       "      <td>0</td>\n",
       "      <td>1467810917</td>\n",
       "      <td>Mon Apr 06 22:19:53 PDT 2009</td>\n",
       "      <td>NO_QUERY</td>\n",
       "      <td>mattycus</td>\n",
       "      <td>@Kenichan I dived many times for the ball. Man...</td>\n",
       "    </tr>\n",
       "    <tr>\n",
       "      <th>2</th>\n",
       "      <td>0</td>\n",
       "      <td>1467811184</td>\n",
       "      <td>Mon Apr 06 22:19:57 PDT 2009</td>\n",
       "      <td>NO_QUERY</td>\n",
       "      <td>ElleCTF</td>\n",
       "      <td>my whole body feels itchy and like its on fire</td>\n",
       "    </tr>\n",
       "    <tr>\n",
       "      <th>3</th>\n",
       "      <td>0</td>\n",
       "      <td>1467811193</td>\n",
       "      <td>Mon Apr 06 22:19:57 PDT 2009</td>\n",
       "      <td>NO_QUERY</td>\n",
       "      <td>Karoli</td>\n",
       "      <td>@nationwideclass no, it's not behaving at all....</td>\n",
       "    </tr>\n",
       "    <tr>\n",
       "      <th>4</th>\n",
       "      <td>0</td>\n",
       "      <td>1467811372</td>\n",
       "      <td>Mon Apr 06 22:20:00 PDT 2009</td>\n",
       "      <td>NO_QUERY</td>\n",
       "      <td>joy_wolf</td>\n",
       "      <td>@Kwesidei not the whole crew</td>\n",
       "    </tr>\n",
       "  </tbody>\n",
       "</table>\n",
       "</div>"
      ],
      "text/plain": [
       "   0  1467810369  Mon Apr 06 22:19:45 PDT 2009  NO_QUERY _TheSpecialOne_  \\\n",
       "0  0  1467810672  Mon Apr 06 22:19:49 PDT 2009  NO_QUERY   scotthamilton   \n",
       "1  0  1467810917  Mon Apr 06 22:19:53 PDT 2009  NO_QUERY        mattycus   \n",
       "2  0  1467811184  Mon Apr 06 22:19:57 PDT 2009  NO_QUERY         ElleCTF   \n",
       "3  0  1467811193  Mon Apr 06 22:19:57 PDT 2009  NO_QUERY          Karoli   \n",
       "4  0  1467811372  Mon Apr 06 22:20:00 PDT 2009  NO_QUERY        joy_wolf   \n",
       "\n",
       "  @switchfoot http://twitpic.com/2y1zl - Awww, that's a bummer.  You shoulda got David Carr of Third Day to do it. ;D  \n",
       "0  is upset that he can't update his Facebook by ...                                                                   \n",
       "1  @Kenichan I dived many times for the ball. Man...                                                                   \n",
       "2    my whole body feels itchy and like its on fire                                                                    \n",
       "3  @nationwideclass no, it's not behaving at all....                                                                   \n",
       "4                      @Kwesidei not the whole crew                                                                    "
      ]
     },
     "execution_count": 88,
     "metadata": {},
     "output_type": "execute_result"
    }
   ],
   "source": [
    "data['df_1'].head()"
   ]
  },
  {
   "cell_type": "markdown",
   "metadata": {},
   "source": [
    "### [Nasa](https://api.nasa.gov/) API"
   ]
  },
  {
   "cell_type": "code",
   "execution_count": 89,
   "metadata": {},
   "outputs": [
    {
     "data": {
      "text/plain": [
       "<Response [200]>"
      ]
     },
     "execution_count": 89,
     "metadata": {},
     "output_type": "execute_result"
    }
   ],
   "source": [
    "URL='https://api.nasa.gov/'\n",
    "\n",
    "\n",
    "marte='mars-photos/api/v1/rovers/curiosity/photos?sol=1000&api_key=DEMO_KEY'\n",
    "\n",
    "\n",
    "res_nasa=req.get(URL + marte)\n",
    "\n",
    "res_nasa"
   ]
  },
  {
   "cell_type": "code",
   "execution_count": 96,
   "metadata": {},
   "outputs": [
    {
     "data": {
      "text/plain": [
       "'http://mars.jpl.nasa.gov/msl-raw-images/proj/msl/redops/ods/surface/sol/01000/opgs/edr/fcam/FLB_486265257EDR_F0481570FHAZ00323M_.JPG'"
      ]
     },
     "execution_count": 96,
     "metadata": {},
     "output_type": "execute_result"
    }
   ],
   "source": [
    "foto_url = res_nasa.json()['photos'][0]['img_src']\n",
    "\n",
    "foto_url"
   ]
  },
  {
   "cell_type": "code",
   "execution_count": 98,
   "metadata": {},
   "outputs": [
    {
     "data": {
      "text/html": [
       "<img src=\"http://mars.jpl.nasa.gov/msl-raw-images/proj/msl/redops/ods/surface/sol/01000/opgs/edr/fcam/FLB_486265257EDR_F0481570FHAZ00323M_.JPG\"/>"
      ],
      "text/plain": [
       "<IPython.core.display.Image object>"
      ]
     },
     "metadata": {},
     "output_type": "display_data"
    }
   ],
   "source": [
    "from IPython.display import Image\n",
    "\n",
    "\n",
    "display(Image(url=foto_url))"
   ]
  },
  {
   "cell_type": "code",
   "execution_count": 99,
   "metadata": {},
   "outputs": [],
   "source": [
    "imagen_del_dia='planetary/apod?api_key=DEMO_KEY'"
   ]
  },
  {
   "cell_type": "code",
   "execution_count": 100,
   "metadata": {},
   "outputs": [
    {
     "data": {
      "text/plain": [
       "<Response [200]>"
      ]
     },
     "execution_count": 100,
     "metadata": {},
     "output_type": "execute_result"
    }
   ],
   "source": [
    "res_nasa=req.get(URL + imagen_del_dia)\n",
    "\n",
    "res_nasa"
   ]
  },
  {
   "cell_type": "code",
   "execution_count": 102,
   "metadata": {},
   "outputs": [
    {
     "data": {
      "text/plain": [
       "'https://apod.nasa.gov/apod/image/2204/IssSunspot_Letian_1080.jpg'"
      ]
     },
     "execution_count": 102,
     "metadata": {},
     "output_type": "execute_result"
    }
   ],
   "source": [
    "res_nasa.json()['url']"
   ]
  },
  {
   "cell_type": "code",
   "execution_count": 103,
   "metadata": {},
   "outputs": [
    {
     "data": {
      "text/html": [
       "<img src=\"https://apod.nasa.gov/apod/image/2204/IssSunspot_Letian_1080.jpg\"/>"
      ],
      "text/plain": [
       "<IPython.core.display.Image object>"
      ]
     },
     "metadata": {},
     "output_type": "display_data"
    }
   ],
   "source": [
    "display(Image(url = res_nasa.json()['url']))"
   ]
  },
  {
   "cell_type": "markdown",
   "metadata": {},
   "source": [
    "### [YoutubeDL](https://pypi.org/project/youtube_dl/) API"
   ]
  },
  {
   "cell_type": "code",
   "execution_count": null,
   "metadata": {},
   "outputs": [],
   "source": []
  },
  {
   "cell_type": "code",
   "execution_count": null,
   "metadata": {},
   "outputs": [],
   "source": []
  },
  {
   "cell_type": "code",
   "execution_count": null,
   "metadata": {},
   "outputs": [],
   "source": []
  },
  {
   "cell_type": "code",
   "execution_count": null,
   "metadata": {},
   "outputs": [],
   "source": []
  },
  {
   "cell_type": "markdown",
   "metadata": {},
   "source": [
    "### Twitter API, ejemplo\n",
    "\n",
    "**https://developer.twitter.com/en/apply-for-access.html**\n",
    "    \n",
    "**http://docs.tweepy.org/en/latest/**\n",
    "\n",
    "```python\n",
    "import tweepy\n",
    "\n",
    "API_KEY='apikey'\n",
    "API_SECRET='apisecret'\n",
    "ACCESS_TOKEN='tu_token'\n",
    "TOKEN_SECRET='tu_tokensecret'\n",
    "\n",
    "auth=tweepy.OAuthHandler(API_KEY, API_SECRET)\n",
    "auth.set_access_token(ACCESS_TOKEN, TOKEN_SECRET)\n",
    "\n",
    "api=tweepy.API(auth)\n",
    "\n",
    "\n",
    "def get_followers(user, count=100):\n",
    "    results=api.followers(user, count=count)\n",
    "    followers=[pd.Series(foll._json) for foll in results]\n",
    "    df=pd.DataFrame(followers)\n",
    "    return df\n",
    "\n",
    "\n",
    "ironhack=get_followers('ironhack')\n",
    "ironhack.head()\n",
    "```"
   ]
  }
 ],
 "metadata": {
  "finalized": {
   "timestamp": 1643279016815,
   "trusted": true
  },
  "kernelspec": {
   "display_name": "clase",
   "language": "python",
   "name": "clase"
  },
  "language_info": {
   "codemirror_mode": {
    "name": "ipython",
    "version": 3
   },
   "file_extension": ".py",
   "mimetype": "text/x-python",
   "name": "python",
   "nbconvert_exporter": "python",
   "pygments_lexer": "ipython3",
   "version": "3.9.7"
  },
  "varInspector": {
   "cols": {
    "lenName": 16,
    "lenType": 16,
    "lenVar": 40
   },
   "kernels_config": {
    "python": {
     "delete_cmd_postfix": "",
     "delete_cmd_prefix": "del ",
     "library": "var_list.py",
     "varRefreshCmd": "print(var_dic_list())"
    },
    "r": {
     "delete_cmd_postfix": ") ",
     "delete_cmd_prefix": "rm(",
     "library": "var_list.r",
     "varRefreshCmd": "cat(var_dic_list()) "
    }
   },
   "types_to_exclude": [
    "module",
    "function",
    "builtin_function_or_method",
    "instance",
    "_Feature"
   ],
   "window_display": false
  }
 },
 "nbformat": 4,
 "nbformat_minor": 4
}
