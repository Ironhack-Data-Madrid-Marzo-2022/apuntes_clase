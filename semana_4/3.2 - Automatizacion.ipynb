{
 "cells": [
  {
   "cell_type": "markdown",
   "metadata": {},
   "source": [
    "# 3.2- Automatización\n",
    "\n",
    "![automatizacion](images/automatizacion.png)"
   ]
  },
  {
   "cell_type": "markdown",
   "metadata": {},
   "source": [
    "Selenium automatiza los navegadores. Principalmente, es para la automatización de aplicaciones web con fines de pruebas, pero ciertamente no se limita a eso. Las tareas aburridas de administración basadas en web pueden ser automatizadas.\n",
    "\n",
    "Veremos como realizar estas automatizaciones y además ocultar nuestro driver para que parezca una persona."
   ]
  },
  {
   "cell_type": "markdown",
   "metadata": {},
   "source": [
    "**Librerias**"
   ]
  },
  {
   "cell_type": "code",
   "execution_count": 1,
   "metadata": {},
   "outputs": [],
   "source": [
    "from selenium import webdriver # driver de selenium\n",
    "\n",
    "import time   # para manejar tiempo\n",
    "\n",
    "import pandas as pd"
   ]
  },
  {
   "cell_type": "markdown",
   "metadata": {},
   "source": [
    "### Opciones del driver\n",
    "\n",
    "https://peter.sh/experiments/chromium-command-line-switches/\n"
   ]
  },
  {
   "cell_type": "code",
   "execution_count": 2,
   "metadata": {},
   "outputs": [],
   "source": [
    "from selenium.webdriver.chrome.options import Options"
   ]
  },
  {
   "cell_type": "code",
   "execution_count": 3,
   "metadata": {},
   "outputs": [],
   "source": [
    "# opciones del driver\n",
    "\n",
    "opciones=Options()\n",
    "\n",
    "# quita la bandera de ser robot\n",
    "opciones.add_experimental_option('excludeSwitches', ['enable-automation'])\n",
    "opciones.add_experimental_option('useAutomationExtension', False)\n",
    "\n",
    "opciones.headless=False   # si True, no aparece la ventana (headless=no visible)\n",
    "\n",
    "opciones.add_argument('--start-maximized')         # comienza maximizado\n",
    "\n",
    "opciones.add_extension('driver/adblock.crx')       # adblocker\n",
    "\n",
    "\n",
    "opciones.add_argument('user-data-dir=selenium')    # mantiene las coockies\n",
    "\n",
    "\n",
    "#opciones.add_argument('--incognito')              # incognito\n",
    " \n",
    "#opciones.add_argument('--no-proxy-server')                 # sin proxy\n",
    "#opciones.add_argument('proxy-server=106.122.8.54:3128')    # proxy custom\n"
   ]
  },
  {
   "cell_type": "markdown",
   "metadata": {},
   "source": [
    "### Creando usuario random\n",
    "\n",
    "https://pypi.org/project/fake-useragent/"
   ]
  },
  {
   "cell_type": "code",
   "execution_count": 4,
   "metadata": {},
   "outputs": [
    {
     "name": "stdout",
     "output_type": "stream",
     "text": [
      "Requirement already satisfied: fake-useragent in /Users/iudh/miniforge3/envs/clase/lib/python3.9/site-packages (0.1.11)\n",
      "Note: you may need to restart the kernel to use updated packages.\n"
     ]
    }
   ],
   "source": [
    "%pip install fake-useragent"
   ]
  },
  {
   "cell_type": "code",
   "execution_count": 5,
   "metadata": {},
   "outputs": [
    {
     "name": "stdout",
     "output_type": "stream",
     "text": [
      "Mozilla/5.0 (Windows NT 6.1) AppleWebKit/537.36 (KHTML, like Gecko) Chrome/27.0.1453.90 Safari/537.36\n"
     ]
    }
   ],
   "source": [
    "from fake_useragent import UserAgent\n",
    "\n",
    "usuario=UserAgent().random\n",
    "\n",
    "print(usuario)\n",
    "\n",
    "#opciones.add_argument(f'user-agent={usuario}')"
   ]
  },
  {
   "cell_type": "markdown",
   "metadata": {},
   "source": [
    "### Editando el archivo chromedriver\n",
    "\n",
    "\n",
    "Distil web monitor comprueba el patrón de regex  \"[a-z]dc_\", y el chromedriver tiene una variable que cumple con dicho patrón \"cdc_\". Esto hace posible la detección del driver en la red por parte de los monitores.\n",
    "\n",
    "\n",
    "**Cambiando la string cdc_**\n",
    "\n",
    "Podemos editar el chromedriver usando Vim, escribiendo en terminal:\n",
    "\n",
    "`vim /ruta/al/chromedriver`\n",
    "\n",
    "Una ver abierto el Vim, verás muchas **@** en el archivo. En el editor realizamos los siguientes pasos:\n",
    "\n",
    "+ Vamos a reemplazar la string `cdc_` todas las veces que aparece escribiendo: `%s/cdc_/arm_/g`. arm_ es solo un ejemplo, se puede sustituir con cualquier string con la condición de que se mantenga la longitud, si no el driver fallará.\n",
    "\n",
    "+ Para guardar los cambios y salir de Vim se escribe: `:wq!` y presiona Enter. Para salir sin guardar `:q!`.\n"
   ]
  },
  {
   "cell_type": "code",
   "execution_count": 6,
   "metadata": {},
   "outputs": [
    {
     "name": "stderr",
     "output_type": "stream",
     "text": [
      "\n",
      "\n",
      "====== WebDriver manager ======\n",
      "Current google-chrome version is 100.0.4896\n",
      "Get LATEST chromedriver version for 100.0.4896 google-chrome\n",
      "Driver [/Users/iudh/.wdm/drivers/chromedriver/mac64_m1/100.0.4896.60/chromedriver] found in cache\n"
     ]
    }
   ],
   "source": [
    "from webdriver_manager.chrome import ChromeDriverManager\n",
    "\n",
    "PATH=ChromeDriverManager().install()"
   ]
  },
  {
   "cell_type": "markdown",
   "metadata": {},
   "source": [
    "### Linkedin sin user"
   ]
  },
  {
   "cell_type": "code",
   "execution_count": 7,
   "metadata": {},
   "outputs": [],
   "source": [
    "url='https://www.linkedin.com/in/yonatan-rodriguez/'"
   ]
  },
  {
   "cell_type": "code",
   "execution_count": 10,
   "metadata": {},
   "outputs": [],
   "source": [
    "driver=webdriver.Chrome(PATH, options=opciones)\n",
    "\n",
    "driver.get(url)"
   ]
  },
  {
   "cell_type": "code",
   "execution_count": 11,
   "metadata": {},
   "outputs": [],
   "source": [
    "driver.quit()"
   ]
  },
  {
   "cell_type": "markdown",
   "metadata": {},
   "source": [
    "### Ejemplo Cuevana\n",
    "\n",
    "https://ww3.cuevana.pro/"
   ]
  },
  {
   "cell_type": "code",
   "execution_count": 12,
   "metadata": {},
   "outputs": [],
   "source": [
    "from selenium.webdriver.common.by import By\n",
    "\n",
    "from selenium.webdriver.support.ui import WebDriverWait\n",
    "\n",
    "from selenium.webdriver.support import expected_conditions as EC\n",
    "\n",
    "from selenium.webdriver import ActionChains as AC"
   ]
  },
  {
   "cell_type": "code",
   "execution_count": 13,
   "metadata": {},
   "outputs": [],
   "source": [
    "url='https://ww3.cuevana.pro/'"
   ]
  },
  {
   "cell_type": "code",
   "execution_count": 57,
   "metadata": {},
   "outputs": [],
   "source": [
    "driver=webdriver.Chrome(PATH, options=opciones)\n",
    "\n",
    "driver.get(url)\n",
    "\n",
    "# busqueda de serie\n",
    "busqueda=driver.find_element_by_xpath('/html/body/header/div[2]/div/ul/li/a')\n",
    "busqueda.click()\n",
    "\n",
    "time.sleep(2)\n",
    "\n",
    "texto=driver.find_element_by_xpath('/html/body/main/div/input')\n",
    "texto.send_keys('the boys diabolico')\n",
    "texto.send_keys(u'\\ue007')\n",
    "\n",
    "time.sleep(2)\n",
    "\n",
    "# primer resultado\n",
    "primer_resultado=driver.find_element_by_xpath('/html/body/main/div/div/section[2]/div/div/div/a/div[1]/figure/img')\n",
    "primer_resultado.click()\n",
    "\n",
    "# primer capitulo\n",
    "primer_cap=driver.find_element_by_xpath('/html/body/main/div/article/div/div[2]/ul/li/div[1]/a/img')\n",
    "primer_cap.click()\n",
    "\n",
    "time.sleep(2)\n",
    "\n",
    "# desplegable\n",
    "dropdown=driver.find_element_by_xpath('//*[@id=\"player\"]/ul/li[2]/div/div[2]')\n",
    "dropdown.click()\n",
    "\n",
    "\n",
    "# scroll , codigo javascript\n",
    "driver.execute_script('window.scrollTo(0, document.body.scrollHeight);')\n",
    "\n",
    "\n",
    "# espera hasta que exista, maximo 3 secs\n",
    "idioma=WebDriverWait(driver, 3).until(EC.element_to_be_clickable((By.XPATH, '//*[@id=\"player\"]/ul/li[2]/ul')))\n",
    "idioma.click()\n",
    "\n",
    "\n",
    "# cambiar de frame, de html\n",
    "iframe=driver.find_element_by_xpath('//*[@id=\"video-embed\"]')\n",
    "\n",
    "driver.switch_to.frame(iframe)\n",
    "\n",
    "iframe=driver.find_element_by_xpath('/html/body/iframe[1]')\n",
    "\n",
    "driver.switch_to.frame(iframe)\n",
    "\n",
    "time.sleep(2)\n",
    "\n",
    "# darle al play\n",
    "play=driver.find_element_by_xpath('//*[@id=\"vplayer\"]/div/div[3]/div[2]')\n",
    "play.click()\n",
    "\n",
    "\n",
    "# poner pantalla completa\n",
    "video=driver.find_element_by_xpath('//*[@id=\"vplayer\"]/div/div[3]/video')\n",
    "\n",
    "AC(driver).double_click(video).perform()\n",
    "\n",
    "\n",
    "\n",
    "# manejo tiempo del video\n",
    "\n",
    "porcentaje=0.\n",
    "\n",
    "while porcentaje!=100.:\n",
    "    porcentaje=driver.find_element_by_xpath('//*[@id=\"vplayer\"]/div/div[4]/div[2]/div[1]/div/div[2]').get_attribute('style')\n",
    "    porcentaje=porcentaje.split()[1].split('%')[0]\n",
    "    porcentaje=float(porcentaje)\n",
    "    time.sleep(10)\n",
    "    \n",
    "    \n",
    "# fuera pantalla completa\n",
    "time.sleep(2)\n",
    "\n",
    "driver.switch_to.default_content()  # frame original\n",
    "\n",
    "siguiente=driver.find_element_by_xpath('/html/body/main/ul/li[3]/a')\n",
    "\n",
    "siguiente.click()"
   ]
  },
  {
   "cell_type": "code",
   "execution_count": 56,
   "metadata": {},
   "outputs": [],
   "source": [
    "driver.quit()"
   ]
  },
  {
   "cell_type": "code",
   "execution_count": null,
   "metadata": {},
   "outputs": [],
   "source": []
  },
  {
   "cell_type": "code",
   "execution_count": null,
   "metadata": {},
   "outputs": [],
   "source": []
  }
 ],
 "metadata": {
  "finalized": {
   "timestamp": 1618416077763,
   "trusted": true
  },
  "kernelspec": {
   "display_name": "clase",
   "language": "python",
   "name": "clase"
  },
  "language_info": {
   "codemirror_mode": {
    "name": "ipython",
    "version": 3
   },
   "file_extension": ".py",
   "mimetype": "text/x-python",
   "name": "python",
   "nbconvert_exporter": "python",
   "pygments_lexer": "ipython3",
   "version": "3.9.7"
  },
  "varInspector": {
   "cols": {
    "lenName": 16,
    "lenType": 16,
    "lenVar": 40
   },
   "kernels_config": {
    "python": {
     "delete_cmd_postfix": "",
     "delete_cmd_prefix": "del ",
     "library": "var_list.py",
     "varRefreshCmd": "print(var_dic_list())"
    },
    "r": {
     "delete_cmd_postfix": ") ",
     "delete_cmd_prefix": "rm(",
     "library": "var_list.r",
     "varRefreshCmd": "cat(var_dic_list()) "
    }
   },
   "types_to_exclude": [
    "module",
    "function",
    "builtin_function_or_method",
    "instance",
    "_Feature"
   ],
   "window_display": false
  }
 },
 "nbformat": 4,
 "nbformat_minor": 4
}
