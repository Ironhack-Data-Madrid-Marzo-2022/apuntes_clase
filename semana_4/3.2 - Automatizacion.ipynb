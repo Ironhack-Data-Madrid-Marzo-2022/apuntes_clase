{
 "cells": [
  {
   "cell_type": "markdown",
   "metadata": {},
   "source": [
    "# 3.2- Automatización\n",
    "\n",
    "![automatizacion](images/automatizacion.png)"
   ]
  },
  {
   "cell_type": "markdown",
   "metadata": {},
   "source": [
    "Selenium automatiza los navegadores. Principalmente, es para la automatización de aplicaciones web con fines de pruebas, pero ciertamente no se limita a eso. Las tareas aburridas de administración basadas en web pueden ser automatizadas.\n",
    "\n",
    "Veremos como realizar estas automatizaciones y además ocultar nuestro driver para que parezca una persona."
   ]
  },
  {
   "cell_type": "markdown",
   "metadata": {},
   "source": [
    "**Librerias**"
   ]
  },
  {
   "cell_type": "code",
   "execution_count": null,
   "metadata": {},
   "outputs": [],
   "source": []
  },
  {
   "cell_type": "markdown",
   "metadata": {},
   "source": [
    "### Opciones del driver\n",
    "\n",
    "https://peter.sh/experiments/chromium-command-line-switches/\n"
   ]
  },
  {
   "cell_type": "code",
   "execution_count": null,
   "metadata": {},
   "outputs": [],
   "source": []
  },
  {
   "cell_type": "code",
   "execution_count": null,
   "metadata": {},
   "outputs": [],
   "source": []
  },
  {
   "cell_type": "markdown",
   "metadata": {},
   "source": [
    "### Creando usuario random\n",
    "\n",
    "https://pypi.org/project/fake-useragent/"
   ]
  },
  {
   "cell_type": "code",
   "execution_count": null,
   "metadata": {},
   "outputs": [],
   "source": []
  },
  {
   "cell_type": "code",
   "execution_count": null,
   "metadata": {},
   "outputs": [],
   "source": []
  },
  {
   "cell_type": "markdown",
   "metadata": {},
   "source": [
    "### Editando el archivo chromedriver\n",
    "\n",
    "\n",
    "Distil web monitor comprueba el patrón de regex  \"[a-z]dc_\", y el chromedriver tiene una variable que cumple con dicho patrón \"cdc_\". Esto hace posible la detección del driver en la red por parte de los monitores.\n",
    "\n",
    "\n",
    "**Cambiando la string cdc_**\n",
    "\n",
    "Podemos editar el chromedriver usando Vim, escribiendo en terminal:\n",
    "\n",
    "`vim /ruta/al/chromedriver`\n",
    "\n",
    "Una ver abierto el Vim, verás muchas **@** en el archivo. En el editor realizamos los siguientes pasos:\n",
    "\n",
    "+ Vamos a reemplazar la string `cdc_` todas las veces que aparece escribiendo: `%s/cdc_/arm_/g`. arm_ es solo un ejemplo, se puede sustituir con cualquier string con la condición de que se mantenga la longitud, si no el driver fallará.\n",
    "\n",
    "+ Para guardar los cambios y salir de Vim se escribe: `:wq!` y presiona Enter. Para salir sin guardar `:q!`.\n"
   ]
  },
  {
   "cell_type": "code",
   "execution_count": null,
   "metadata": {},
   "outputs": [],
   "source": []
  },
  {
   "cell_type": "markdown",
   "metadata": {},
   "source": [
    "### Ejemplo Cuevana\n",
    "\n",
    "https://ww3.cuevana.pro/"
   ]
  },
  {
   "cell_type": "code",
   "execution_count": null,
   "metadata": {},
   "outputs": [],
   "source": []
  },
  {
   "cell_type": "code",
   "execution_count": null,
   "metadata": {},
   "outputs": [],
   "source": []
  },
  {
   "cell_type": "code",
   "execution_count": null,
   "metadata": {},
   "outputs": [],
   "source": []
  },
  {
   "cell_type": "code",
   "execution_count": null,
   "metadata": {},
   "outputs": [],
   "source": []
  }
 ],
 "metadata": {
  "finalized": {
   "timestamp": 1618416077763,
   "trusted": true
  },
  "kernelspec": {
   "display_name": "clase",
   "language": "python",
   "name": "clase"
  },
  "language_info": {
   "codemirror_mode": {
    "name": "ipython",
    "version": 3
   },
   "file_extension": ".py",
   "mimetype": "text/x-python",
   "name": "python",
   "nbconvert_exporter": "python",
   "pygments_lexer": "ipython3",
   "version": "3.9.7"
  },
  "varInspector": {
   "cols": {
    "lenName": 16,
    "lenType": 16,
    "lenVar": 40
   },
   "kernels_config": {
    "python": {
     "delete_cmd_postfix": "",
     "delete_cmd_prefix": "del ",
     "library": "var_list.py",
     "varRefreshCmd": "print(var_dic_list())"
    },
    "r": {
     "delete_cmd_postfix": ") ",
     "delete_cmd_prefix": "rm(",
     "library": "var_list.r",
     "varRefreshCmd": "cat(var_dic_list()) "
    }
   },
   "types_to_exclude": [
    "module",
    "function",
    "builtin_function_or_method",
    "instance",
    "_Feature"
   ],
   "window_display": false
  }
 },
 "nbformat": 4,
 "nbformat_minor": 4
}
