{
 "cells": [
  {
   "cell_type": "markdown",
   "metadata": {},
   "source": [
    "# 2.2 - Web Scraping (bs4)\n",
    "\n",
    "$$$$\n",
    "\n",
    "![scraping](images/scraping.png)\n",
    "\n",
    "$$$$\n",
    "\n",
    "Web scraping o raspado web, es una técnica utilizada mediante programas de software para extraer información de sitios web. Usualmente, estos programas simulan la navegación de un humano en la web ya sea utilizando el protocolo HTTP manualmente, o incrustando un navegador en una aplicación.\n",
    "\n",
    "El web scraping está muy relacionado con la indexación de la web, la cual indexa la información de la web utilizando un robot y es una técnica universal adoptada por la mayoría de los motores de búsqueda. Sin embargo, el web scraping se enfoca más en la transformación de datos sin estructura en la web, como el formato HTML, en datos estructurados que pueden ser almacenados y analizados en una base de datos central, en una hoja de cálculo o en alguna otra fuente de almacenamiento. Alguno de los usos del web scraping son la comparación de precios en tiendas, la monitorización de datos relacionados con el clima de cierta región, la detección de cambios en sitios webs y la integración de datos en sitios webs. \n",
    "\n",
    "En los últimos años el web scraping se ha convertido en una técnica muy utilizada dentro del sector del posicionamiento web gracias a su capacidad de generar grandes cantidades de datos para crear contenidos de calidad.\n",
    "\n",
    "Podríamos pensar que el web scraping es nuestro último recurso a falta de una API o un feed RSS. A falta de una fuente de datos, siempre podemos extraer aquello que sale por pantalla."
   ]
  },
  {
   "cell_type": "markdown",
   "metadata": {},
   "source": [
    "### Extracción desde el HTML\n",
    "\n",
    "Para scrapear una página web, en primer lugar debemos conocer las estructura que tiene el HTML. Veamos la estructura básica.\n",
    "\n",
    "El HTML consiste en contenido `<etiquetado>`, es como si fueran cajas de contenido, organizado de manera jerárquica:\n",
    "\n",
    "```\n",
    "<html>\n",
    "    <head>\n",
    "        <title>Titulo de la pagina</title>\n",
    "    </head>\n",
    "    <body>\n",
    "        <h1>Cabecera</h1>\n",
    "        <p>Parrafo</p>\n",
    "    </body>\n",
    "</html>\n",
    "```\n",
    "\n",
    "$$$$\n",
    "\n",
    "Las etiquetas el HTML se pueden clasificar en varios grupos, dependiendo del tipo de contenido que posea. Estos son algunos ejemplos:\n",
    "\n",
    "+ cabecera: `<h1>`, `<h2>`, `<h3>`, `<hgroup>`...\n",
    "+ texto: `<b>`, `<p>`...\n",
    "+ embebido: `<audio>`, `<img>`, `<video>`...\n",
    "+ tabular: `<table>`, `<tr>`, `<td>`, `<tbody>`...\n",
    "+ secciones: `<header>`, `<section>`, `<article>`...\n",
    "+ metadata: `<meta>`, `<title>`, `<script>`...\n",
    "\n",
    "$$$$\n",
    "\n",
    "Las etiquetas pueden tener atributos. Por ejemplo:\n",
    " \n",
    "`<div class=\"text-monospace\" id=\"name_132\", href=\"www.example.com\"> Contenido de la pagina </div>` \n",
    "\n",
    "Esta etiqueta `div` tiene los siguientes atributos:\n",
    "\n",
    "+ class: atributo con valor \"text-monospace\". La clase no es única en la página.\n",
    "+ id: atributo con valor \"name_132\". El id de una etiqueta la identifica de manera unívoca.\n",
    "+ href: atributo con valor \"www.example.com\". El href suele contener el link a otra parte de la página.\n",
    "\n",
    "Siguiendo con la analogía de las cajas, si una etiqueta de HTML es una caja, los atributos serían las pegatinas pegadas en la tapa de la caja.\n",
    "\n",
    "Conociendo cual es el contenido que queremos extraer, debemos encontrar las etiquetas dentro del HTML de la página web."
   ]
  },
  {
   "cell_type": "markdown",
   "metadata": {},
   "source": [
    "Usaremos la herramienta **[BeautifulSoup](https://www.crummy.com/software/BeautifulSoup/bs4/doc/)**."
   ]
  },
  {
   "cell_type": "code",
   "execution_count": 1,
   "metadata": {},
   "outputs": [
    {
     "name": "stdout",
     "output_type": "stream",
     "text": [
      "Requirement already satisfied: beautifulsoup4 in /Users/iudh/miniforge3/envs/clase/lib/python3.9/site-packages (4.10.0)\n",
      "Requirement already satisfied: soupsieve>1.2 in /Users/iudh/miniforge3/envs/clase/lib/python3.9/site-packages (from beautifulsoup4) (2.3.1)\n",
      "Note: you may need to restart the kernel to use updated packages.\n"
     ]
    }
   ],
   "source": [
    "%pip install beautifulsoup4"
   ]
  },
  {
   "cell_type": "code",
   "execution_count": 2,
   "metadata": {},
   "outputs": [],
   "source": [
    "import requests as req\n",
    "\n",
    "from bs4 import BeautifulSoup as bs"
   ]
  },
  {
   "cell_type": "markdown",
   "metadata": {},
   "source": [
    "### Ejemplos Wikipedia\n",
    "\n",
    "**[Países europeos según esperanza de vida](https://en.wikipedia.org/wiki/List_of_European_countries_by_life_expectancy)**"
   ]
  },
  {
   "cell_type": "code",
   "execution_count": 3,
   "metadata": {},
   "outputs": [],
   "source": [
    "url='https://en.wikipedia.org/wiki/List_of_European_countries_by_life_expectancy'"
   ]
  },
  {
   "cell_type": "code",
   "execution_count": 4,
   "metadata": {},
   "outputs": [
    {
     "data": {
      "text/plain": [
       "b'<!DOCTYPE html>\\n<html class=\"client-nojs\" lang=\"en\" dir=\"ltr\">\\n<head>\\n<meta charset=\"UTF-8\"/>\\n<title>List of European countries by life expectancy - Wikipedia</title>\\n<script>document.documentElement.className=\"client-js\";RLCONF={\"wgBreakFrames\":false,\"wgSeparatorTransformTable\":[\"\",\"\"],\"wgDigitTransformTable\":[\"\",\"\"],\"wgDefaultDateFormat\":\"dmy\",\"wgMonthNames\":[\"\",\"January\",\"February\",\"March\",\"April\",\"May\",\"June\",\"July\",\"August\",\"September\",\"October\",\"November\",\"December\"],\"wgRequestId\":\"f2339a26-021a-4a85-92ca-a25239607ba5\",\"wgCSPNonce\":false,\"wgCanonicalNamespace\":\"\",\"wgCanonicalSpecialPageName\":false,\"wgNamespaceNumber\":0,\"wgPageName\":\"List_of_European_countries_by_life_expectancy\",\"wgTitle\":\"List of European countries by life expectancy\",\"wgCurRevisionId\":1078192567,\"wgRevisionId\":1078192567,\"wgArticleId\":22175559,\"wgIsArticle\":true,\"wgIsRedirect\":false,\"wgAction\":\"view\",\"wgUserName\":null,\"wgUserGroups\":[\"*\"],\"wgCategories\":[\"Articles with short description\",\"Short description is d'"
      ]
     },
     "execution_count": 4,
     "metadata": {},
     "output_type": "execute_result"
    }
   ],
   "source": [
    "# usamos requests para extraer el html en string\n",
    "\n",
    "html=req.get(url).content\n",
    "\n",
    "html[:1000]"
   ]
  },
  {
   "cell_type": "code",
   "execution_count": 5,
   "metadata": {
    "scrolled": false
   },
   "outputs": [
    {
     "data": {
      "text/plain": [
       "bs4.BeautifulSoup"
      ]
     },
     "execution_count": 5,
     "metadata": {},
     "output_type": "execute_result"
    }
   ],
   "source": [
    "# bs4 para manejar el html\n",
    "\n",
    "soup=bs(html, 'html.parser')\n",
    "\n",
    "type(soup)"
   ]
  },
  {
   "cell_type": "code",
   "execution_count": 16,
   "metadata": {
    "scrolled": false
   },
   "outputs": [
    {
     "data": {
      "text/plain": [
       "bs4.element.Tag"
      ]
     },
     "execution_count": 16,
     "metadata": {},
     "output_type": "execute_result"
    }
   ],
   "source": [
    "tabla=soup.find_all('table')[1]   # find(tag)  encuentra la caja que se llama table\n",
    "\n",
    "type(tabla)"
   ]
  },
  {
   "cell_type": "code",
   "execution_count": 28,
   "metadata": {},
   "outputs": [
    {
     "data": {
      "text/plain": [
       "[['Rank',\n",
       "  '',\n",
       "  'Country',\n",
       "  'Life expectancy[2]',\n",
       "  '',\n",
       "  'Influenza vaccination rate, people aged 65 and over, 2016 (%)[3]'],\n",
       " ['1', '', '\\xa0Monaco[4]', '', '89.4'],\n",
       " ['2', '', '\\xa0San Marino[5]', '', '83.4'],\n",
       " ['3', '', '\\xa0\\xa0Switzerland', '83.0'],\n",
       " ['4', '', '\\xa0Spain', '82.8', '', '56%']]"
      ]
     },
     "execution_count": 28,
     "metadata": {},
     "output_type": "execute_result"
    }
   ],
   "source": [
    "filas=tabla.find_all('tr')\n",
    "\n",
    "filas=[f.text.strip().split('\\n') for f in filas]\n",
    "\n",
    "filas[:5]"
   ]
  },
  {
   "cell_type": "code",
   "execution_count": 37,
   "metadata": {},
   "outputs": [
    {
     "data": {
      "text/plain": [
       "'\\nRank\\n\\nCountry\\nLife expectancy[2]\\n\\nInfluenza vaccination rate, people aged 65 and over, 2016 (%)[3]\\n'"
      ]
     },
     "execution_count": 37,
     "metadata": {},
     "output_type": "execute_result"
    }
   ],
   "source": [
    "tabla.find('tr').text  # devuelve una string"
   ]
  },
  {
   "cell_type": "code",
   "execution_count": 31,
   "metadata": {},
   "outputs": [
    {
     "data": {
      "text/plain": [
       "[['Rank',\n",
       "  'Country',\n",
       "  'Life expectancy[2]',\n",
       "  'Influenza vaccination rate, people aged 65 and over, 2016 (%)[3]'],\n",
       " ['1', '\\xa0Monaco[4]', '89.4'],\n",
       " ['2', '\\xa0San Marino[5]', '83.4'],\n",
       " ['3', '\\xa0\\xa0Switzerland', '83.0'],\n",
       " ['4', '\\xa0Spain', '82.8', '56%'],\n",
       " ['5', '\\xa0Liechtenstein', '82.7', '28%'],\n",
       " ['6', '\\xa0Italy', '82.7', '50%']]"
      ]
     },
     "execution_count": 31,
     "metadata": {},
     "output_type": "execute_result"
    }
   ],
   "source": [
    "# minima limpieza\n",
    "\n",
    "final=[]\n",
    "\n",
    "for f in filas:\n",
    "    \n",
    "    tmp=[]\n",
    "    \n",
    "    for palabra in f:\n",
    "        \n",
    "        if palabra!='':\n",
    "            \n",
    "            tmp.append(palabra)\n",
    "    \n",
    "    final.append(tmp)\n",
    "    \n",
    "final[:7]"
   ]
  },
  {
   "cell_type": "code",
   "execution_count": 30,
   "metadata": {
    "scrolled": true
   },
   "outputs": [
    {
     "data": {
      "text/html": [
       "<div>\n",
       "<style scoped>\n",
       "    .dataframe tbody tr th:only-of-type {\n",
       "        vertical-align: middle;\n",
       "    }\n",
       "\n",
       "    .dataframe tbody tr th {\n",
       "        vertical-align: top;\n",
       "    }\n",
       "\n",
       "    .dataframe thead th {\n",
       "        text-align: right;\n",
       "    }\n",
       "</style>\n",
       "<table border=\"1\" class=\"dataframe\">\n",
       "  <thead>\n",
       "    <tr style=\"text-align: right;\">\n",
       "      <th></th>\n",
       "      <th>Rank</th>\n",
       "      <th>Country</th>\n",
       "      <th>Life expectancy[2]</th>\n",
       "      <th>Influenza vaccination rate, people aged 65 and over, 2016 (%)[3]</th>\n",
       "    </tr>\n",
       "  </thead>\n",
       "  <tbody>\n",
       "    <tr>\n",
       "      <th>0</th>\n",
       "      <td>1</td>\n",
       "      <td>Monaco[4]</td>\n",
       "      <td>89.4</td>\n",
       "      <td>None</td>\n",
       "    </tr>\n",
       "    <tr>\n",
       "      <th>1</th>\n",
       "      <td>2</td>\n",
       "      <td>San Marino[5]</td>\n",
       "      <td>83.4</td>\n",
       "      <td>None</td>\n",
       "    </tr>\n",
       "    <tr>\n",
       "      <th>2</th>\n",
       "      <td>3</td>\n",
       "      <td>Switzerland</td>\n",
       "      <td>83.0</td>\n",
       "      <td>None</td>\n",
       "    </tr>\n",
       "    <tr>\n",
       "      <th>3</th>\n",
       "      <td>4</td>\n",
       "      <td>Spain</td>\n",
       "      <td>82.8</td>\n",
       "      <td>56%</td>\n",
       "    </tr>\n",
       "    <tr>\n",
       "      <th>4</th>\n",
       "      <td>5</td>\n",
       "      <td>Liechtenstein</td>\n",
       "      <td>82.7</td>\n",
       "      <td>28%</td>\n",
       "    </tr>\n",
       "    <tr>\n",
       "      <th>5</th>\n",
       "      <td>6</td>\n",
       "      <td>Italy</td>\n",
       "      <td>82.7</td>\n",
       "      <td>50%</td>\n",
       "    </tr>\n",
       "    <tr>\n",
       "      <th>6</th>\n",
       "      <td>7</td>\n",
       "      <td>Norway</td>\n",
       "      <td>82.5</td>\n",
       "      <td>38%</td>\n",
       "    </tr>\n",
       "    <tr>\n",
       "      <th>7</th>\n",
       "      <td>8</td>\n",
       "      <td>Iceland</td>\n",
       "      <td>82.5</td>\n",
       "      <td>47%</td>\n",
       "    </tr>\n",
       "    <tr>\n",
       "      <th>8</th>\n",
       "      <td>9</td>\n",
       "      <td>Luxembourg</td>\n",
       "      <td>82.3</td>\n",
       "      <td>38%</td>\n",
       "    </tr>\n",
       "    <tr>\n",
       "      <th>9</th>\n",
       "      <td>10</td>\n",
       "      <td>France</td>\n",
       "      <td>82.3</td>\n",
       "      <td>50%</td>\n",
       "    </tr>\n",
       "  </tbody>\n",
       "</table>\n",
       "</div>"
      ],
      "text/plain": [
       "  Rank         Country Life expectancy[2]  \\\n",
       "0    1       Monaco[4]               89.4   \n",
       "1    2   San Marino[5]               83.4   \n",
       "2    3     Switzerland               83.0   \n",
       "3    4           Spain               82.8   \n",
       "4    5   Liechtenstein               82.7   \n",
       "5    6           Italy               82.7   \n",
       "6    7          Norway               82.5   \n",
       "7    8         Iceland               82.5   \n",
       "8    9      Luxembourg               82.3   \n",
       "9   10          France               82.3   \n",
       "\n",
       "  Influenza vaccination rate, people aged 65 and over, 2016 (%)[3]  \n",
       "0                                               None                \n",
       "1                                               None                \n",
       "2                                               None                \n",
       "3                                                56%                \n",
       "4                                                28%                \n",
       "5                                                50%                \n",
       "6                                                38%                \n",
       "7                                                47%                \n",
       "8                                                38%                \n",
       "9                                                50%                "
      ]
     },
     "execution_count": 30,
     "metadata": {},
     "output_type": "execute_result"
    }
   ],
   "source": [
    "import pandas as pd\n",
    "\n",
    "col_names=final[0]\n",
    "\n",
    "data=final[1:]\n",
    "\n",
    "df=pd.DataFrame(data, columns=col_names)\n",
    "\n",
    "df.head(10)"
   ]
  },
  {
   "cell_type": "code",
   "execution_count": 44,
   "metadata": {},
   "outputs": [
    {
     "data": {
      "text/plain": [
       "['1\\n', '\\xa0Monaco[4]\\n', '89.4\\n', '\\n']"
      ]
     },
     "execution_count": 44,
     "metadata": {},
     "output_type": "execute_result"
    }
   ],
   "source": [
    "filas=tabla.find_all('tr')\n",
    "\n",
    "columnas=[e.text for e in filas[0].find_all('th')]\n",
    "\n",
    "data_fila_1=[e.text for e in filas[1].find_all('td')]\n",
    "\n",
    "data_fila_1"
   ]
  },
  {
   "cell_type": "markdown",
   "metadata": {},
   "source": [
    "### Ejemplo geolocalización por IP\n",
    "\n",
    "https://tools.keycdn.com/geo"
   ]
  },
  {
   "cell_type": "markdown",
   "metadata": {},
   "source": [
    "**¿Dónde estoy?**"
   ]
  },
  {
   "cell_type": "code",
   "execution_count": 45,
   "metadata": {},
   "outputs": [],
   "source": [
    "url='https://tools.keycdn.com/geo?host=166.123.4.66'"
   ]
  },
  {
   "cell_type": "code",
   "execution_count": 46,
   "metadata": {},
   "outputs": [],
   "source": [
    "# mismo proceso\n",
    "\n",
    "html=req.get(url).content  # contenido en string de la pagina\n",
    "\n",
    "sopa=bs(html, 'html.parser')  # contenido como objeto bs4"
   ]
  },
  {
   "cell_type": "code",
   "execution_count": 51,
   "metadata": {},
   "outputs": [
    {
     "data": {
      "text/plain": [
       "<div class=\"mt-4\" id=\"geoResult\">\n",
       "<div class=\"bg-light medium rounded p-3\">\n",
       "<p class=\"small text-uppercase text-muted font-weight-semi-bold line-height-headings mb-2\">Location</p> <dl class=\"row mb-0\">\n",
       "<dt class=\"col-4\">Country</dt><dd class=\"col-8 text-monospace\">United States (US)</dd><dt class=\"col-4\">Continent</dt><dd class=\"col-8 text-monospace\">North America (NA)</dd><dt class=\"col-4\">Coordinates</dt><dd class=\"col-8 text-monospace\">37.751 (lat) / -97.822 (long)</dd><dt class=\"col-4\">Time</dt><dd class=\"col-8 text-monospace\">2022-04-12 05:18:15 (America/Chicago)</dd> </dl>\n",
       "<p class=\"small text-uppercase text-muted font-weight-semi-bold line-height-headings mt-4 mb-2\">Network</p>\n",
       "<dl class=\"row mb-0\">\n",
       "<dt class=\"col-4\">IP address</dt><dd class=\"col-8 text-monospace\">166.123.4.66</dd><dt class=\"col-4\">Hostname</dt><dd class=\"col-8 text-monospace\">166.123.4.66</dd> </dl>\n",
       "</div>\n",
       "<div class=\"mapael mt-4\" id=\"geoMap\">\n",
       "<div class=\"map position-relative\"></div>\n",
       "</div>\n",
       "</div>"
      ]
     },
     "execution_count": 51,
     "metadata": {},
     "output_type": "execute_result"
    }
   ],
   "source": [
    "sopa.find('div', id='geoResult')  # sopa.find('div', class_='row')  , cuidao cambio de sintaxis"
   ]
  },
  {
   "cell_type": "code",
   "execution_count": 52,
   "metadata": {},
   "outputs": [
    {
     "data": {
      "text/plain": [
       "<div class=\"mt-4\" id=\"geoResult\">\n",
       "<div class=\"bg-light medium rounded p-3\">\n",
       "<p class=\"small text-uppercase text-muted font-weight-semi-bold line-height-headings mb-2\">Location</p> <dl class=\"row mb-0\">\n",
       "<dt class=\"col-4\">Country</dt><dd class=\"col-8 text-monospace\">United States (US)</dd><dt class=\"col-4\">Continent</dt><dd class=\"col-8 text-monospace\">North America (NA)</dd><dt class=\"col-4\">Coordinates</dt><dd class=\"col-8 text-monospace\">37.751 (lat) / -97.822 (long)</dd><dt class=\"col-4\">Time</dt><dd class=\"col-8 text-monospace\">2022-04-12 05:18:15 (America/Chicago)</dd> </dl>\n",
       "<p class=\"small text-uppercase text-muted font-weight-semi-bold line-height-headings mt-4 mb-2\">Network</p>\n",
       "<dl class=\"row mb-0\">\n",
       "<dt class=\"col-4\">IP address</dt><dd class=\"col-8 text-monospace\">166.123.4.66</dd><dt class=\"col-4\">Hostname</dt><dd class=\"col-8 text-monospace\">166.123.4.66</dd> </dl>\n",
       "</div>\n",
       "<div class=\"mapael mt-4\" id=\"geoMap\">\n",
       "<div class=\"map position-relative\"></div>\n",
       "</div>\n",
       "</div>"
      ]
     },
     "execution_count": 52,
     "metadata": {},
     "output_type": "execute_result"
    }
   ],
   "source": [
    "sopa.find('div', {'id':'geoResult'})"
   ]
  },
  {
   "cell_type": "code",
   "execution_count": 54,
   "metadata": {},
   "outputs": [
    {
     "data": {
      "text/plain": [
       "[<dd class=\"col-8 text-monospace\">United States (US)</dd>,\n",
       " <dd class=\"col-8 text-monospace\">North America (NA)</dd>,\n",
       " <dd class=\"col-8 text-monospace\">37.751 (lat) / -97.822 (long)</dd>,\n",
       " <dd class=\"col-8 text-monospace\">2022-04-12 05:18:15 (America/Chicago)</dd>,\n",
       " <dd class=\"col-8 text-monospace\">166.123.4.66</dd>,\n",
       " <dd class=\"col-8 text-monospace\">166.123.4.66</dd>]"
      ]
     },
     "execution_count": 54,
     "metadata": {},
     "output_type": "execute_result"
    }
   ],
   "source": [
    "tabla=sopa.find('div', {'id':'geoResult'})\n",
    "\n",
    "tabla.find_all('dd', {'class': 'col-8 text-monospace'})"
   ]
  },
  {
   "cell_type": "code",
   "execution_count": 55,
   "metadata": {},
   "outputs": [
    {
     "data": {
      "text/plain": [
       "['United States (US)',\n",
       " 'North America (NA)',\n",
       " '37.751 (lat) / -97.822 (long)',\n",
       " '2022-04-12 05:18:15 (America/Chicago)',\n",
       " '166.123.4.66',\n",
       " '166.123.4.66']"
      ]
     },
     "execution_count": 55,
     "metadata": {},
     "output_type": "execute_result"
    }
   ],
   "source": [
    "conexion=[e.text for e in tabla.find_all('dd', {'class': 'col-8 text-monospace'})]\n",
    "\n",
    "conexion"
   ]
  },
  {
   "cell_type": "code",
   "execution_count": 56,
   "metadata": {},
   "outputs": [
    {
     "data": {
      "text/plain": [
       "[<dt class=\"col-4\">Country</dt>,\n",
       " <dt class=\"col-4\">Continent</dt>,\n",
       " <dt class=\"col-4\">Coordinates</dt>,\n",
       " <dt class=\"col-4\">Time</dt>,\n",
       " <dt class=\"col-4\">IP address</dt>,\n",
       " <dt class=\"col-4\">Hostname</dt>]"
      ]
     },
     "execution_count": 56,
     "metadata": {},
     "output_type": "execute_result"
    }
   ],
   "source": [
    "tabla.find_all('dt')"
   ]
  },
  {
   "cell_type": "code",
   "execution_count": 57,
   "metadata": {},
   "outputs": [],
   "source": [
    "def encontrar(ip):\n",
    "    \n",
    "    url=f'https://tools.keycdn.com/geo?host={ip}'\n",
    "    \n",
    "    html=req.get(url).content  # contenido en string de la pagina\n",
    "\n",
    "    sopa=bs(html, 'html.parser')  # contenido como objeto bs4\n",
    "    \n",
    "    tabla=sopa.find('div', {'id':'geoResult'})\n",
    "    \n",
    "    conexion=[e.text for e in tabla.find_all('dd', {'class': 'col-8 text-monospace'})]\n",
    "    \n",
    "    return conexion"
   ]
  },
  {
   "cell_type": "code",
   "execution_count": 58,
   "metadata": {},
   "outputs": [
    {
     "data": {
      "text/plain": [
       "['Guam (GU)',\n",
       " 'Oceania (OC)',\n",
       " '13.4786 (lat) / 144.8183 (long)',\n",
       " '2022-04-12 20:24:52 (Pacific/Guam)',\n",
       " '168.123.4.5',\n",
       " '168.123.4.5',\n",
       " 'UNIVERSITY-GUAM',\n",
       " '395400']"
      ]
     },
     "execution_count": 58,
     "metadata": {},
     "output_type": "execute_result"
    }
   ],
   "source": [
    "encontrar('168.123.4.5')"
   ]
  },
  {
   "cell_type": "markdown",
   "metadata": {},
   "source": [
    "### Ejemplo LinkedIn"
   ]
  },
  {
   "cell_type": "code",
   "execution_count": null,
   "metadata": {},
   "outputs": [],
   "source": []
  },
  {
   "cell_type": "code",
   "execution_count": null,
   "metadata": {},
   "outputs": [],
   "source": []
  },
  {
   "cell_type": "code",
   "execution_count": null,
   "metadata": {},
   "outputs": [],
   "source": []
  }
 ],
 "metadata": {
  "kernelspec": {
   "display_name": "clase",
   "language": "python",
   "name": "clase"
  },
  "language_info": {
   "codemirror_mode": {
    "name": "ipython",
    "version": 3
   },
   "file_extension": ".py",
   "mimetype": "text/x-python",
   "name": "python",
   "nbconvert_exporter": "python",
   "pygments_lexer": "ipython3",
   "version": "3.9.7"
  },
  "varInspector": {
   "cols": {
    "lenName": 16,
    "lenType": 16,
    "lenVar": 40
   },
   "kernels_config": {
    "python": {
     "delete_cmd_postfix": "",
     "delete_cmd_prefix": "del ",
     "library": "var_list.py",
     "varRefreshCmd": "print(var_dic_list())"
    },
    "r": {
     "delete_cmd_postfix": ") ",
     "delete_cmd_prefix": "rm(",
     "library": "var_list.r",
     "varRefreshCmd": "cat(var_dic_list()) "
    }
   },
   "types_to_exclude": [
    "module",
    "function",
    "builtin_function_or_method",
    "instance",
    "_Feature"
   ],
   "window_display": false
  }
 },
 "nbformat": 4,
 "nbformat_minor": 4
}
