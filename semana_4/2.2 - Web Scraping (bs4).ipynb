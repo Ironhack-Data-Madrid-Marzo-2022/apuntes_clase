{
 "cells": [
  {
   "cell_type": "markdown",
   "metadata": {},
   "source": [
    "# 2.2 - Web Scraping (bs4)\n",
    "\n",
    "$$$$\n",
    "\n",
    "![scraping](images/scraping.png)\n",
    "\n",
    "$$$$\n",
    "\n",
    "Web scraping o raspado web, es una técnica utilizada mediante programas de software para extraer información de sitios web. Usualmente, estos programas simulan la navegación de un humano en la web ya sea utilizando el protocolo HTTP manualmente, o incrustando un navegador en una aplicación.\n",
    "\n",
    "El web scraping está muy relacionado con la indexación de la web, la cual indexa la información de la web utilizando un robot y es una técnica universal adoptada por la mayoría de los motores de búsqueda. Sin embargo, el web scraping se enfoca más en la transformación de datos sin estructura en la web, como el formato HTML, en datos estructurados que pueden ser almacenados y analizados en una base de datos central, en una hoja de cálculo o en alguna otra fuente de almacenamiento. Alguno de los usos del web scraping son la comparación de precios en tiendas, la monitorización de datos relacionados con el clima de cierta región, la detección de cambios en sitios webs y la integración de datos en sitios webs. \n",
    "\n",
    "En los últimos años el web scraping se ha convertido en una técnica muy utilizada dentro del sector del posicionamiento web gracias a su capacidad de generar grandes cantidades de datos para crear contenidos de calidad.\n",
    "\n",
    "Podríamos pensar que el web scraping es nuestro último recurso a falta de una API o un feed RSS. A falta de una fuente de datos, siempre podemos extraer aquello que sale por pantalla."
   ]
  },
  {
   "cell_type": "markdown",
   "metadata": {},
   "source": [
    "### Extracción desde el HTML\n",
    "\n",
    "Para scrapear una página web, en primer lugar debemos conocer las estructura que tiene el HTML. Veamos la estructura básica.\n",
    "\n",
    "El HTML consiste en contenido `<etiquetado>`, es como si fueran cajas de contenido, organizado de manera jerárquica:\n",
    "\n",
    "```\n",
    "<html>\n",
    "    <head>\n",
    "        <title>Titulo de la pagina</title>\n",
    "    </head>\n",
    "    <body>\n",
    "        <h1>Cabecera</h1>\n",
    "        <p>Parrafo</p>\n",
    "    </body>\n",
    "</html>\n",
    "```\n",
    "\n",
    "$$$$\n",
    "\n",
    "Las etiquetas el HTML se pueden clasificar en varios grupos, dependiendo del tipo de contenido que posea. Estos son algunos ejemplos:\n",
    "\n",
    "+ cabecera: `<h1>`, `<h2>`, `<h3>`, `<hgroup>`...\n",
    "+ texto: `<b>`, `<p>`...\n",
    "+ embebido: `<audio>`, `<img>`, `<video>`...\n",
    "+ tabular: `<table>`, `<tr>`, `<td>`, `<tbody>`...\n",
    "+ secciones: `<header>`, `<section>`, `<article>`...\n",
    "+ metadata: `<meta>`, `<title>`, `<script>`...\n",
    "\n",
    "$$$$\n",
    "\n",
    "Las etiquetas pueden tener atributos. Por ejemplo:\n",
    " \n",
    "`<div class=\"text-monospace\" id=\"name_132\", href=\"www.example.com\"> Contenido de la pagina </div>` \n",
    "\n",
    "Esta etiqueta `div` tiene los siguientes atributos:\n",
    "\n",
    "+ class: atributo con valor \"text-monospace\". La clase no es única en la página.\n",
    "+ id: atributo con valor \"name_132\". El id de una etiqueta la identifica de manera unívoca.\n",
    "+ href: atributo con valor \"www.example.com\". El href suele contener el link a otra parte de la página.\n",
    "\n",
    "Siguiendo con la analogía de las cajas, si una etiqueta de HTML es una caja, los atributos serían las pegatinas pegadas en la tapa de la caja.\n",
    "\n",
    "Conociendo cual es el contenido que queremos extraer, debemos encontrar las etiquetas dentro del HTML de la página web."
   ]
  },
  {
   "cell_type": "markdown",
   "metadata": {},
   "source": [
    "Usaremos la herramienta **[BeautifulSoup](https://www.crummy.com/software/BeautifulSoup/bs4/doc/)**."
   ]
  },
  {
   "cell_type": "code",
   "execution_count": 1,
   "metadata": {},
   "outputs": [
    {
     "name": "stdout",
     "output_type": "stream",
     "text": [
      "Requirement already satisfied: beautifulsoup4 in /Users/iudh/miniforge3/envs/clase/lib/python3.9/site-packages (4.10.0)\n",
      "Requirement already satisfied: soupsieve>1.2 in /Users/iudh/miniforge3/envs/clase/lib/python3.9/site-packages (from beautifulsoup4) (2.3.1)\n",
      "Note: you may need to restart the kernel to use updated packages.\n"
     ]
    }
   ],
   "source": [
    "%pip install beautifulsoup4"
   ]
  },
  {
   "cell_type": "code",
   "execution_count": 2,
   "metadata": {},
   "outputs": [],
   "source": [
    "import requests as req\n",
    "\n",
    "from bs4 import BeautifulSoup as bs"
   ]
  },
  {
   "cell_type": "markdown",
   "metadata": {},
   "source": [
    "### Ejemplos Wikipedia\n",
    "\n",
    "**[Países europeos según esperanza de vida](https://en.wikipedia.org/wiki/List_of_European_countries_by_life_expectancy)**"
   ]
  },
  {
   "cell_type": "code",
   "execution_count": 3,
   "metadata": {},
   "outputs": [],
   "source": [
    "url='https://en.wikipedia.org/wiki/List_of_European_countries_by_life_expectancy'"
   ]
  },
  {
   "cell_type": "code",
   "execution_count": 4,
   "metadata": {},
   "outputs": [
    {
     "data": {
      "text/plain": [
       "b'<!DOCTYPE html>\\n<html class=\"client-nojs\" lang=\"en\" dir=\"ltr\">\\n<head>\\n<meta charset=\"UTF-8\"/>\\n<title>List of European countries by life expectancy - Wikipedia</title>\\n<script>document.documentElement.className=\"client-js\";RLCONF={\"wgBreakFrames\":false,\"wgSeparatorTransformTable\":[\"\",\"\"],\"wgDigitTransformTable\":[\"\",\"\"],\"wgDefaultDateFormat\":\"dmy\",\"wgMonthNames\":[\"\",\"January\",\"February\",\"March\",\"April\",\"May\",\"June\",\"July\",\"August\",\"September\",\"October\",\"November\",\"December\"],\"wgRequestId\":\"f2339a26-021a-4a85-92ca-a25239607ba5\",\"wgCSPNonce\":false,\"wgCanonicalNamespace\":\"\",\"wgCanonicalSpecialPageName\":false,\"wgNamespaceNumber\":0,\"wgPageName\":\"List_of_European_countries_by_life_expectancy\",\"wgTitle\":\"List of European countries by life expectancy\",\"wgCurRevisionId\":1078192567,\"wgRevisionId\":1078192567,\"wgArticleId\":22175559,\"wgIsArticle\":true,\"wgIsRedirect\":false,\"wgAction\":\"view\",\"wgUserName\":null,\"wgUserGroups\":[\"*\"],\"wgCategories\":[\"Articles with short description\",\"Short description is d'"
      ]
     },
     "execution_count": 4,
     "metadata": {},
     "output_type": "execute_result"
    }
   ],
   "source": [
    "# usamos requests para extraer el html en string\n",
    "\n",
    "html=req.get(url).content\n",
    "\n",
    "html[:1000]"
   ]
  },
  {
   "cell_type": "code",
   "execution_count": 5,
   "metadata": {
    "scrolled": false
   },
   "outputs": [
    {
     "data": {
      "text/plain": [
       "bs4.BeautifulSoup"
      ]
     },
     "execution_count": 5,
     "metadata": {},
     "output_type": "execute_result"
    }
   ],
   "source": [
    "# bs4 para manejar el html\n",
    "\n",
    "soup=bs(html, 'html.parser')\n",
    "\n",
    "type(soup)"
   ]
  },
  {
   "cell_type": "code",
   "execution_count": 16,
   "metadata": {
    "scrolled": false
   },
   "outputs": [
    {
     "data": {
      "text/plain": [
       "bs4.element.Tag"
      ]
     },
     "execution_count": 16,
     "metadata": {},
     "output_type": "execute_result"
    }
   ],
   "source": [
    "tabla=soup.find_all('table')[1]   # find(tag)  encuentra la caja que se llama table\n",
    "\n",
    "type(tabla)"
   ]
  },
  {
   "cell_type": "code",
   "execution_count": 28,
   "metadata": {},
   "outputs": [
    {
     "data": {
      "text/plain": [
       "[['Rank',\n",
       "  '',\n",
       "  'Country',\n",
       "  'Life expectancy[2]',\n",
       "  '',\n",
       "  'Influenza vaccination rate, people aged 65 and over, 2016 (%)[3]'],\n",
       " ['1', '', '\\xa0Monaco[4]', '', '89.4'],\n",
       " ['2', '', '\\xa0San Marino[5]', '', '83.4'],\n",
       " ['3', '', '\\xa0\\xa0Switzerland', '83.0'],\n",
       " ['4', '', '\\xa0Spain', '82.8', '', '56%']]"
      ]
     },
     "execution_count": 28,
     "metadata": {},
     "output_type": "execute_result"
    }
   ],
   "source": [
    "filas=tabla.find_all('tr')\n",
    "\n",
    "filas=[f.text.strip().split('\\n') for f in filas]\n",
    "\n",
    "filas[:5]"
   ]
  },
  {
   "cell_type": "code",
   "execution_count": 37,
   "metadata": {},
   "outputs": [
    {
     "data": {
      "text/plain": [
       "'\\nRank\\n\\nCountry\\nLife expectancy[2]\\n\\nInfluenza vaccination rate, people aged 65 and over, 2016 (%)[3]\\n'"
      ]
     },
     "execution_count": 37,
     "metadata": {},
     "output_type": "execute_result"
    }
   ],
   "source": [
    "tabla.find('tr').text  # devuelve una string"
   ]
  },
  {
   "cell_type": "code",
   "execution_count": 31,
   "metadata": {},
   "outputs": [
    {
     "data": {
      "text/plain": [
       "[['Rank',\n",
       "  'Country',\n",
       "  'Life expectancy[2]',\n",
       "  'Influenza vaccination rate, people aged 65 and over, 2016 (%)[3]'],\n",
       " ['1', '\\xa0Monaco[4]', '89.4'],\n",
       " ['2', '\\xa0San Marino[5]', '83.4'],\n",
       " ['3', '\\xa0\\xa0Switzerland', '83.0'],\n",
       " ['4', '\\xa0Spain', '82.8', '56%'],\n",
       " ['5', '\\xa0Liechtenstein', '82.7', '28%'],\n",
       " ['6', '\\xa0Italy', '82.7', '50%']]"
      ]
     },
     "execution_count": 31,
     "metadata": {},
     "output_type": "execute_result"
    }
   ],
   "source": [
    "# minima limpieza\n",
    "\n",
    "final=[]\n",
    "\n",
    "for f in filas:\n",
    "    \n",
    "    tmp=[]\n",
    "    \n",
    "    for palabra in f:\n",
    "        \n",
    "        if palabra!='':\n",
    "            \n",
    "            tmp.append(palabra)\n",
    "    \n",
    "    final.append(tmp)\n",
    "    \n",
    "final[:7]"
   ]
  },
  {
   "cell_type": "code",
   "execution_count": 30,
   "metadata": {
    "scrolled": true
   },
   "outputs": [
    {
     "data": {
      "text/html": [
       "<div>\n",
       "<style scoped>\n",
       "    .dataframe tbody tr th:only-of-type {\n",
       "        vertical-align: middle;\n",
       "    }\n",
       "\n",
       "    .dataframe tbody tr th {\n",
       "        vertical-align: top;\n",
       "    }\n",
       "\n",
       "    .dataframe thead th {\n",
       "        text-align: right;\n",
       "    }\n",
       "</style>\n",
       "<table border=\"1\" class=\"dataframe\">\n",
       "  <thead>\n",
       "    <tr style=\"text-align: right;\">\n",
       "      <th></th>\n",
       "      <th>Rank</th>\n",
       "      <th>Country</th>\n",
       "      <th>Life expectancy[2]</th>\n",
       "      <th>Influenza vaccination rate, people aged 65 and over, 2016 (%)[3]</th>\n",
       "    </tr>\n",
       "  </thead>\n",
       "  <tbody>\n",
       "    <tr>\n",
       "      <th>0</th>\n",
       "      <td>1</td>\n",
       "      <td>Monaco[4]</td>\n",
       "      <td>89.4</td>\n",
       "      <td>None</td>\n",
       "    </tr>\n",
       "    <tr>\n",
       "      <th>1</th>\n",
       "      <td>2</td>\n",
       "      <td>San Marino[5]</td>\n",
       "      <td>83.4</td>\n",
       "      <td>None</td>\n",
       "    </tr>\n",
       "    <tr>\n",
       "      <th>2</th>\n",
       "      <td>3</td>\n",
       "      <td>Switzerland</td>\n",
       "      <td>83.0</td>\n",
       "      <td>None</td>\n",
       "    </tr>\n",
       "    <tr>\n",
       "      <th>3</th>\n",
       "      <td>4</td>\n",
       "      <td>Spain</td>\n",
       "      <td>82.8</td>\n",
       "      <td>56%</td>\n",
       "    </tr>\n",
       "    <tr>\n",
       "      <th>4</th>\n",
       "      <td>5</td>\n",
       "      <td>Liechtenstein</td>\n",
       "      <td>82.7</td>\n",
       "      <td>28%</td>\n",
       "    </tr>\n",
       "    <tr>\n",
       "      <th>5</th>\n",
       "      <td>6</td>\n",
       "      <td>Italy</td>\n",
       "      <td>82.7</td>\n",
       "      <td>50%</td>\n",
       "    </tr>\n",
       "    <tr>\n",
       "      <th>6</th>\n",
       "      <td>7</td>\n",
       "      <td>Norway</td>\n",
       "      <td>82.5</td>\n",
       "      <td>38%</td>\n",
       "    </tr>\n",
       "    <tr>\n",
       "      <th>7</th>\n",
       "      <td>8</td>\n",
       "      <td>Iceland</td>\n",
       "      <td>82.5</td>\n",
       "      <td>47%</td>\n",
       "    </tr>\n",
       "    <tr>\n",
       "      <th>8</th>\n",
       "      <td>9</td>\n",
       "      <td>Luxembourg</td>\n",
       "      <td>82.3</td>\n",
       "      <td>38%</td>\n",
       "    </tr>\n",
       "    <tr>\n",
       "      <th>9</th>\n",
       "      <td>10</td>\n",
       "      <td>France</td>\n",
       "      <td>82.3</td>\n",
       "      <td>50%</td>\n",
       "    </tr>\n",
       "  </tbody>\n",
       "</table>\n",
       "</div>"
      ],
      "text/plain": [
       "  Rank         Country Life expectancy[2]  \\\n",
       "0    1       Monaco[4]               89.4   \n",
       "1    2   San Marino[5]               83.4   \n",
       "2    3     Switzerland               83.0   \n",
       "3    4           Spain               82.8   \n",
       "4    5   Liechtenstein               82.7   \n",
       "5    6           Italy               82.7   \n",
       "6    7          Norway               82.5   \n",
       "7    8         Iceland               82.5   \n",
       "8    9      Luxembourg               82.3   \n",
       "9   10          France               82.3   \n",
       "\n",
       "  Influenza vaccination rate, people aged 65 and over, 2016 (%)[3]  \n",
       "0                                               None                \n",
       "1                                               None                \n",
       "2                                               None                \n",
       "3                                                56%                \n",
       "4                                                28%                \n",
       "5                                                50%                \n",
       "6                                                38%                \n",
       "7                                                47%                \n",
       "8                                                38%                \n",
       "9                                                50%                "
      ]
     },
     "execution_count": 30,
     "metadata": {},
     "output_type": "execute_result"
    }
   ],
   "source": [
    "import pandas as pd\n",
    "\n",
    "col_names=final[0]\n",
    "\n",
    "data=final[1:]\n",
    "\n",
    "df=pd.DataFrame(data, columns=col_names)\n",
    "\n",
    "df.head(10)"
   ]
  },
  {
   "cell_type": "code",
   "execution_count": 44,
   "metadata": {},
   "outputs": [
    {
     "data": {
      "text/plain": [
       "['1\\n', '\\xa0Monaco[4]\\n', '89.4\\n', '\\n']"
      ]
     },
     "execution_count": 44,
     "metadata": {},
     "output_type": "execute_result"
    }
   ],
   "source": [
    "filas=tabla.find_all('tr')\n",
    "\n",
    "columnas=[e.text for e in filas[0].find_all('th')]\n",
    "\n",
    "data_fila_1=[e.text for e in filas[1].find_all('td')]\n",
    "\n",
    "data_fila_1"
   ]
  },
  {
   "cell_type": "markdown",
   "metadata": {},
   "source": [
    "### Ejemplo geolocalización por IP\n",
    "\n",
    "https://tools.keycdn.com/geo"
   ]
  },
  {
   "cell_type": "markdown",
   "metadata": {},
   "source": [
    "**¿Dónde estoy?**"
   ]
  },
  {
   "cell_type": "code",
   "execution_count": 45,
   "metadata": {},
   "outputs": [],
   "source": [
    "url='https://tools.keycdn.com/geo?host=166.123.4.66'"
   ]
  },
  {
   "cell_type": "code",
   "execution_count": 46,
   "metadata": {},
   "outputs": [],
   "source": [
    "# mismo proceso\n",
    "\n",
    "html=req.get(url).content  # contenido en string de la pagina\n",
    "\n",
    "sopa=bs(html, 'html.parser')  # contenido como objeto bs4"
   ]
  },
  {
   "cell_type": "code",
   "execution_count": 51,
   "metadata": {},
   "outputs": [
    {
     "data": {
      "text/plain": [
       "<div class=\"mt-4\" id=\"geoResult\">\n",
       "<div class=\"bg-light medium rounded p-3\">\n",
       "<p class=\"small text-uppercase text-muted font-weight-semi-bold line-height-headings mb-2\">Location</p> <dl class=\"row mb-0\">\n",
       "<dt class=\"col-4\">Country</dt><dd class=\"col-8 text-monospace\">United States (US)</dd><dt class=\"col-4\">Continent</dt><dd class=\"col-8 text-monospace\">North America (NA)</dd><dt class=\"col-4\">Coordinates</dt><dd class=\"col-8 text-monospace\">37.751 (lat) / -97.822 (long)</dd><dt class=\"col-4\">Time</dt><dd class=\"col-8 text-monospace\">2022-04-12 05:18:15 (America/Chicago)</dd> </dl>\n",
       "<p class=\"small text-uppercase text-muted font-weight-semi-bold line-height-headings mt-4 mb-2\">Network</p>\n",
       "<dl class=\"row mb-0\">\n",
       "<dt class=\"col-4\">IP address</dt><dd class=\"col-8 text-monospace\">166.123.4.66</dd><dt class=\"col-4\">Hostname</dt><dd class=\"col-8 text-monospace\">166.123.4.66</dd> </dl>\n",
       "</div>\n",
       "<div class=\"mapael mt-4\" id=\"geoMap\">\n",
       "<div class=\"map position-relative\"></div>\n",
       "</div>\n",
       "</div>"
      ]
     },
     "execution_count": 51,
     "metadata": {},
     "output_type": "execute_result"
    }
   ],
   "source": [
    "sopa.find('div', id='geoResult')  # sopa.find('div', class_='row')  , cuidao cambio de sintaxis"
   ]
  },
  {
   "cell_type": "code",
   "execution_count": 52,
   "metadata": {},
   "outputs": [
    {
     "data": {
      "text/plain": [
       "<div class=\"mt-4\" id=\"geoResult\">\n",
       "<div class=\"bg-light medium rounded p-3\">\n",
       "<p class=\"small text-uppercase text-muted font-weight-semi-bold line-height-headings mb-2\">Location</p> <dl class=\"row mb-0\">\n",
       "<dt class=\"col-4\">Country</dt><dd class=\"col-8 text-monospace\">United States (US)</dd><dt class=\"col-4\">Continent</dt><dd class=\"col-8 text-monospace\">North America (NA)</dd><dt class=\"col-4\">Coordinates</dt><dd class=\"col-8 text-monospace\">37.751 (lat) / -97.822 (long)</dd><dt class=\"col-4\">Time</dt><dd class=\"col-8 text-monospace\">2022-04-12 05:18:15 (America/Chicago)</dd> </dl>\n",
       "<p class=\"small text-uppercase text-muted font-weight-semi-bold line-height-headings mt-4 mb-2\">Network</p>\n",
       "<dl class=\"row mb-0\">\n",
       "<dt class=\"col-4\">IP address</dt><dd class=\"col-8 text-monospace\">166.123.4.66</dd><dt class=\"col-4\">Hostname</dt><dd class=\"col-8 text-monospace\">166.123.4.66</dd> </dl>\n",
       "</div>\n",
       "<div class=\"mapael mt-4\" id=\"geoMap\">\n",
       "<div class=\"map position-relative\"></div>\n",
       "</div>\n",
       "</div>"
      ]
     },
     "execution_count": 52,
     "metadata": {},
     "output_type": "execute_result"
    }
   ],
   "source": [
    "sopa.find('div', {'id':'geoResult'})"
   ]
  },
  {
   "cell_type": "code",
   "execution_count": 54,
   "metadata": {},
   "outputs": [
    {
     "data": {
      "text/plain": [
       "[<dd class=\"col-8 text-monospace\">United States (US)</dd>,\n",
       " <dd class=\"col-8 text-monospace\">North America (NA)</dd>,\n",
       " <dd class=\"col-8 text-monospace\">37.751 (lat) / -97.822 (long)</dd>,\n",
       " <dd class=\"col-8 text-monospace\">2022-04-12 05:18:15 (America/Chicago)</dd>,\n",
       " <dd class=\"col-8 text-monospace\">166.123.4.66</dd>,\n",
       " <dd class=\"col-8 text-monospace\">166.123.4.66</dd>]"
      ]
     },
     "execution_count": 54,
     "metadata": {},
     "output_type": "execute_result"
    }
   ],
   "source": [
    "tabla=sopa.find('div', {'id':'geoResult'})\n",
    "\n",
    "tabla.find_all('dd', {'class': 'col-8 text-monospace'})"
   ]
  },
  {
   "cell_type": "code",
   "execution_count": 55,
   "metadata": {},
   "outputs": [
    {
     "data": {
      "text/plain": [
       "['United States (US)',\n",
       " 'North America (NA)',\n",
       " '37.751 (lat) / -97.822 (long)',\n",
       " '2022-04-12 05:18:15 (America/Chicago)',\n",
       " '166.123.4.66',\n",
       " '166.123.4.66']"
      ]
     },
     "execution_count": 55,
     "metadata": {},
     "output_type": "execute_result"
    }
   ],
   "source": [
    "conexion=[e.text for e in tabla.find_all('dd', {'class': 'col-8 text-monospace'})]\n",
    "\n",
    "conexion"
   ]
  },
  {
   "cell_type": "code",
   "execution_count": 56,
   "metadata": {},
   "outputs": [
    {
     "data": {
      "text/plain": [
       "[<dt class=\"col-4\">Country</dt>,\n",
       " <dt class=\"col-4\">Continent</dt>,\n",
       " <dt class=\"col-4\">Coordinates</dt>,\n",
       " <dt class=\"col-4\">Time</dt>,\n",
       " <dt class=\"col-4\">IP address</dt>,\n",
       " <dt class=\"col-4\">Hostname</dt>]"
      ]
     },
     "execution_count": 56,
     "metadata": {},
     "output_type": "execute_result"
    }
   ],
   "source": [
    "tabla.find_all('dt')"
   ]
  },
  {
   "cell_type": "code",
   "execution_count": 57,
   "metadata": {},
   "outputs": [],
   "source": [
    "def encontrar(ip):\n",
    "    \n",
    "    url=f'https://tools.keycdn.com/geo?host={ip}'\n",
    "    \n",
    "    html=req.get(url).content  # contenido en string de la pagina\n",
    "\n",
    "    sopa=bs(html, 'html.parser')  # contenido como objeto bs4\n",
    "    \n",
    "    tabla=sopa.find('div', {'id':'geoResult'})\n",
    "    \n",
    "    conexion=[e.text for e in tabla.find_all('dd', {'class': 'col-8 text-monospace'})]\n",
    "    \n",
    "    return conexion"
   ]
  },
  {
   "cell_type": "code",
   "execution_count": 58,
   "metadata": {},
   "outputs": [
    {
     "data": {
      "text/plain": [
       "['Guam (GU)',\n",
       " 'Oceania (OC)',\n",
       " '13.4786 (lat) / 144.8183 (long)',\n",
       " '2022-04-12 20:24:52 (Pacific/Guam)',\n",
       " '168.123.4.5',\n",
       " '168.123.4.5',\n",
       " 'UNIVERSITY-GUAM',\n",
       " '395400']"
      ]
     },
     "execution_count": 58,
     "metadata": {},
     "output_type": "execute_result"
    }
   ],
   "source": [
    "encontrar('168.123.4.5')"
   ]
  },
  {
   "cell_type": "markdown",
   "metadata": {},
   "source": [
    "### Ejemplo LinkedIn"
   ]
  },
  {
   "cell_type": "code",
   "execution_count": 68,
   "metadata": {},
   "outputs": [],
   "source": [
    "import pandas as pd\n",
    "\n",
    "\n",
    "keywords='Analista de datos'\n",
    "n_secs='2592000'\n",
    "exp='3'\n",
    "geoId='105646813'\n",
    "location='España'\n",
    "\n",
    "num_pages=3  # tres paginas\n",
    "\n",
    "\n",
    "def linkedin(keywords, location, n_secs, exp, num_pages):\n",
    "\n",
    "    URL='https://www.linkedin.com/jobs/search/'\n",
    "\n",
    "    data=[]\n",
    "\n",
    "\n",
    "    for i in range(num_pages):\n",
    "\n",
    "        scrape_url=''.join([URL,  # url base\n",
    "                            f'?keywords={keywords}',  # palabras clave\n",
    "                            f'&location={location}',  # pais\n",
    "                            f'&f_TPR={n_secs}',       # tiempo atras\n",
    "                            f'&F_E={exp}',            # experiencia\n",
    "                            f'&start={i*25}'          # i=numero de paginas, 25 trabajos por pagina\n",
    "                           ])\n",
    "\n",
    "        html=req.get(scrape_url).content   # el html\n",
    "\n",
    "        sopa=bs(html, 'html.parser')\n",
    "\n",
    "\n",
    "        for oferta in sopa.find_all('div', \n",
    "                                    class_=\"base-card base-card--link base-search-card base-search-card--link job-search-card\"):\n",
    "\n",
    "                # bucle para las ofertas\n",
    "                titulo=oferta.find('span', class_=\"screen-reader-text\").text.strip()   # titulo de la oferta\n",
    "\n",
    "                nombre=oferta.find('a', class_=\"hidden-nested-link\").text.strip()   # nombre de la compañia\n",
    "\n",
    "                link_comp=oferta.find('a', class_=\"hidden-nested-link\").attrs['href']  # link de la compañia\n",
    "\n",
    "                lugar=oferta.find('span', class_=\"job-search-card__location\").text.strip()  # lugar\n",
    "\n",
    "                link_ofer=oferta.find('a', class_=\"base-card__full-link\").attrs['href']   # link de la oferta\n",
    "\n",
    "                fecha=oferta.find('time').attrs['datetime']       # fecha de publicacion\n",
    "\n",
    "\n",
    "\n",
    "                data.append({\n",
    "                    'title': titulo,\n",
    "                    'name': nombre,\n",
    "                    'link de la compañia': link_comp,\n",
    "                    'location': lugar,\n",
    "                    'link de la oferta': link_ofer,\n",
    "                    'datetime': fecha\n",
    "                })\n",
    "                \n",
    "        return pd.DataFrame(data)\n"
   ]
  },
  {
   "cell_type": "code",
   "execution_count": 84,
   "metadata": {},
   "outputs": [],
   "source": [
    "df=linkedin('data', 'spain', n_secs, '1', num_pages)"
   ]
  },
  {
   "cell_type": "code",
   "execution_count": 85,
   "metadata": {},
   "outputs": [
    {
     "data": {
      "text/html": [
       "<table border=\"1\" class=\"dataframe\">\n",
       "  <thead>\n",
       "    <tr style=\"text-align: right;\">\n",
       "      <th></th>\n",
       "      <th>title</th>\n",
       "      <th>name</th>\n",
       "      <th>link de la compañia</th>\n",
       "      <th>location</th>\n",
       "      <th>link de la oferta</th>\n",
       "      <th>datetime</th>\n",
       "    </tr>\n",
       "  </thead>\n",
       "  <tbody>\n",
       "    <tr>\n",
       "      <th>0</th>\n",
       "      <td>Profesionales Data Scientists</td>\n",
       "      <td>Deloitte</td>\n",
       "      <td><a href=\"https://www.linkedin.com/company/deloitte?trk=public_jobs_jserp-result_job-search-card-subtitle\" target=\"_blank\">https://www.linkedin.com/company/deloitte?trk=public_jobs_jserp-result_job-search-card-subtitle</a></td>\n",
       "      <td>Seville, Andalusia, Spain</td>\n",
       "      <td><a href=\"https://es.linkedin.com/jobs/view/profesionales-data-scientists-at-deloitte-2836930277?refId=j%2F%2Bkjsxsxg111rBIkN2Yqg%3D%3D&trackingId=NClykgFmMGZjEQgWScD3Ig%3D%3D&position=1&pageNum=0&trk=public_jobs_jserp-result_search-card\" target=\"_blank\">https://es.linkedin.com/jobs/view/profesionales-data-scientists-at-deloitte-2836930277?refId=j%2F%2Bkjsxsxg111rBIkN2Yqg%3D%3D&amp;trackingId=NClykgFmMGZjEQgWScD3Ig%3D%3D&amp;position=1&amp;pageNum=0&amp;trk=public_jobs_jserp-result_search-card</a></td>\n",
       "      <td>2021-11-17</td>\n",
       "    </tr>\n",
       "    <tr>\n",
       "      <th>1</th>\n",
       "      <td>Global Data Scientist</td>\n",
       "      <td>Dufry Group</td>\n",
       "      <td><a href=\"https://ch.linkedin.com/company/dufry?trk=public_jobs_jserp-result_job-search-card-subtitle\" target=\"_blank\">https://ch.linkedin.com/company/dufry?trk=public_jobs_jserp-result_job-search-card-subtitle</a></td>\n",
       "      <td>Madrid, Community of Madrid, Spain</td>\n",
       "      <td><a href=\"https://es.linkedin.com/jobs/view/global-data-scientist-at-dufry-group-3020756007?refId=j%2F%2Bkjsxsxg111rBIkN2Yqg%3D%3D&trackingId=YhnKTzWA6MrRtSQY6WE6Tg%3D%3D&position=2&pageNum=0&trk=public_jobs_jserp-result_search-card\" target=\"_blank\">https://es.linkedin.com/jobs/view/global-data-scientist-at-dufry-group-3020756007?refId=j%2F%2Bkjsxsxg111rBIkN2Yqg%3D%3D&amp;trackingId=YhnKTzWA6MrRtSQY6WE6Tg%3D%3D&amp;position=2&amp;pageNum=0&amp;trk=public_jobs_jserp-result_search-card</a></td>\n",
       "      <td>2022-04-12</td>\n",
       "    </tr>\n",
       "    <tr>\n",
       "      <th>2</th>\n",
       "      <td>Data Scientist</td>\n",
       "      <td>Bettair Cities</td>\n",
       "      <td><a href=\"https://es.linkedin.com/company/bettair-cities?trk=public_jobs_jserp-result_job-search-card-subtitle\" target=\"_blank\">https://es.linkedin.com/company/bettair-cities?trk=public_jobs_jserp-result_job-search-card-subtitle</a></td>\n",
       "      <td>L'Hospitalet de Llobregat, Catalonia, Spain</td>\n",
       "      <td><a href=\"https://es.linkedin.com/jobs/view/data-scientist-at-bettair-cities-3020784223?refId=j%2F%2Bkjsxsxg111rBIkN2Yqg%3D%3D&trackingId=kHGzbbi%2Bb%2F0kgK94fJtb2w%3D%3D&position=3&pageNum=0&trk=public_jobs_jserp-result_search-card\" target=\"_blank\">https://es.linkedin.com/jobs/view/data-scientist-at-bettair-cities-3020784223?refId=j%2F%2Bkjsxsxg111rBIkN2Yqg%3D%3D&amp;trackingId=kHGzbbi%2Bb%2F0kgK94fJtb2w%3D%3D&amp;position=3&amp;pageNum=0&amp;trk=public_jobs_jserp-result_search-card</a></td>\n",
       "      <td>2022-04-12</td>\n",
       "    </tr>\n",
       "    <tr>\n",
       "      <th>3</th>\n",
       "      <td>Data Analyst/DataScience - BECA (Madrid)</td>\n",
       "      <td>Ignium Consulting S.L</td>\n",
       "      <td><a href=\"https://es.linkedin.com/company/igniumconsulting?trk=public_jobs_jserp-result_job-search-card-subtitle\" target=\"_blank\">https://es.linkedin.com/company/igniumconsulting?trk=public_jobs_jserp-result_job-search-card-subtitle</a></td>\n",
       "      <td>Madrid, Community of Madrid, Spain</td>\n",
       "      <td><a href=\"https://es.linkedin.com/jobs/view/data-analyst-datascience-beca-madrid-at-ignium-consulting-%F0%9F%94%A5-3020748434?refId=j%2F%2Bkjsxsxg111rBIkN2Yqg%3D%3D&trackingId=PNj4rCgO4zByAgyzrFBAgg%3D%3D&position=4&pageNum=0&trk=public_jobs_jserp-result_search-card\" target=\"_blank\">https://es.linkedin.com/jobs/view/data-analyst-datascience-beca-madrid-at-ignium-consulting-%F0%9F%94%A5-3020748434?refId=j%2F%2Bkjsxsxg111rBIkN2Yqg%3D%3D&amp;trackingId=PNj4rCgO4zByAgyzrFBAgg%3D%3D&amp;position=4&amp;pageNum=0&amp;trk=public_jobs_jserp-result_search-card</a></td>\n",
       "      <td>2022-04-12</td>\n",
       "    </tr>\n",
       "    <tr>\n",
       "      <th>4</th>\n",
       "      <td>Data Scientists</td>\n",
       "      <td>Deloitte</td>\n",
       "      <td><a href=\"https://www.linkedin.com/company/deloitte?trk=public_jobs_jserp-result_job-search-card-subtitle\" target=\"_blank\">https://www.linkedin.com/company/deloitte?trk=public_jobs_jserp-result_job-search-card-subtitle</a></td>\n",
       "      <td>Zaragoza, Aragon, Spain</td>\n",
       "      <td><a href=\"https://es.linkedin.com/jobs/view/data-scientists-at-deloitte-2836931261?refId=j%2F%2Bkjsxsxg111rBIkN2Yqg%3D%3D&trackingId=sO%2FA3DUSWiRewzW8AKKt%2Fg%3D%3D&position=5&pageNum=0&trk=public_jobs_jserp-result_search-card\" target=\"_blank\">https://es.linkedin.com/jobs/view/data-scientists-at-deloitte-2836931261?refId=j%2F%2Bkjsxsxg111rBIkN2Yqg%3D%3D&amp;trackingId=sO%2FA3DUSWiRewzW8AKKt%2Fg%3D%3D&amp;position=5&amp;pageNum=0&amp;trk=public_jobs_jserp-result_search-card</a></td>\n",
       "      <td>2021-11-17</td>\n",
       "    </tr>\n",
       "    <tr>\n",
       "      <th>5</th>\n",
       "      <td>Data Scientist Lead</td>\n",
       "      <td>Intrum</td>\n",
       "      <td><a href=\"https://se.linkedin.com/company/intrum?trk=public_jobs_jserp-result_job-search-card-subtitle\" target=\"_blank\">https://se.linkedin.com/company/intrum?trk=public_jobs_jserp-result_job-search-card-subtitle</a></td>\n",
       "      <td>Málaga, Andalusia, Spain</td>\n",
       "      <td><a href=\"https://es.linkedin.com/jobs/view/data-scientist-lead-at-intrum-3012540304?refId=j%2F%2Bkjsxsxg111rBIkN2Yqg%3D%3D&trackingId=IU8oyagm7QDYOgjpQkqsiw%3D%3D&position=6&pageNum=0&trk=public_jobs_jserp-result_search-card\" target=\"_blank\">https://es.linkedin.com/jobs/view/data-scientist-lead-at-intrum-3012540304?refId=j%2F%2Bkjsxsxg111rBIkN2Yqg%3D%3D&amp;trackingId=IU8oyagm7QDYOgjpQkqsiw%3D%3D&amp;position=6&amp;pageNum=0&amp;trk=public_jobs_jserp-result_search-card</a></td>\n",
       "      <td>2022-04-07</td>\n",
       "    </tr>\n",
       "    <tr>\n",
       "      <th>6</th>\n",
       "      <td>Junior Big Data / Data Analyst (I&amp;D)</td>\n",
       "      <td>Capgemini</td>\n",
       "      <td><a href=\"https://fr.linkedin.com/company/capgemini?trk=public_jobs_jserp-result_job-search-card-subtitle\" target=\"_blank\">https://fr.linkedin.com/company/capgemini?trk=public_jobs_jserp-result_job-search-card-subtitle</a></td>\n",
       "      <td>Madrid, Community of Madrid, Spain</td>\n",
       "      <td><a href=\"https://es.linkedin.com/jobs/view/junior-big-data-data-analyst-i-d-at-capgemini-3015113017?refId=j%2F%2Bkjsxsxg111rBIkN2Yqg%3D%3D&trackingId=a7Y0zZsqPiRxySXf09JwzQ%3D%3D&position=7&pageNum=0&trk=public_jobs_jserp-result_search-card\" target=\"_blank\">https://es.linkedin.com/jobs/view/junior-big-data-data-analyst-i-d-at-capgemini-3015113017?refId=j%2F%2Bkjsxsxg111rBIkN2Yqg%3D%3D&amp;trackingId=a7Y0zZsqPiRxySXf09JwzQ%3D%3D&amp;position=7&amp;pageNum=0&amp;trk=public_jobs_jserp-result_search-card</a></td>\n",
       "      <td>2022-04-11</td>\n",
       "    </tr>\n",
       "    <tr>\n",
       "      <th>7</th>\n",
       "      <td>Prácticas Big Data/BI (I&amp;D)</td>\n",
       "      <td>Capgemini</td>\n",
       "      <td><a href=\"https://fr.linkedin.com/company/capgemini?trk=public_jobs_jserp-result_job-search-card-subtitle\" target=\"_blank\">https://fr.linkedin.com/company/capgemini?trk=public_jobs_jserp-result_job-search-card-subtitle</a></td>\n",
       "      <td>Murcia, Región de Murcia, Spain</td>\n",
       "      <td><a href=\"https://es.linkedin.com/jobs/view/pr%C3%A1cticas-big-data-bi-i-d-at-capgemini-2986842302?refId=j%2F%2Bkjsxsxg111rBIkN2Yqg%3D%3D&trackingId=fm%2BYGswFyvenll5cafRMXw%3D%3D&position=8&pageNum=0&trk=public_jobs_jserp-result_search-card\" target=\"_blank\">https://es.linkedin.com/jobs/view/pr%C3%A1cticas-big-data-bi-i-d-at-capgemini-2986842302?refId=j%2F%2Bkjsxsxg111rBIkN2Yqg%3D%3D&amp;trackingId=fm%2BYGswFyvenll5cafRMXw%3D%3D&amp;position=8&amp;pageNum=0&amp;trk=public_jobs_jserp-result_search-card</a></td>\n",
       "      <td>2022-03-21</td>\n",
       "    </tr>\n",
       "    <tr>\n",
       "      <th>8</th>\n",
       "      <td>Data-analyst</td>\n",
       "      <td>INGEFOR</td>\n",
       "      <td><a href=\"https://es.linkedin.com/company/ingefor?trk=public_jobs_jserp-result_job-search-card-subtitle\" target=\"_blank\">https://es.linkedin.com/company/ingefor?trk=public_jobs_jserp-result_job-search-card-subtitle</a></td>\n",
       "      <td>Greater Barcelona Metropolitan Area</td>\n",
       "      <td><a href=\"https://es.linkedin.com/jobs/view/data-analyst-at-ingefor-3023247331?refId=j%2F%2Bkjsxsxg111rBIkN2Yqg%3D%3D&trackingId=HdEbBZiGaZpO1YIVGIK5eA%3D%3D&position=9&pageNum=0&trk=public_jobs_jserp-result_search-card\" target=\"_blank\">https://es.linkedin.com/jobs/view/data-analyst-at-ingefor-3023247331?refId=j%2F%2Bkjsxsxg111rBIkN2Yqg%3D%3D&amp;trackingId=HdEbBZiGaZpO1YIVGIK5eA%3D%3D&amp;position=9&amp;pageNum=0&amp;trk=public_jobs_jserp-result_search-card</a></td>\n",
       "      <td>2022-04-12</td>\n",
       "    </tr>\n",
       "    <tr>\n",
       "      <th>9</th>\n",
       "      <td>Data Scientist</td>\n",
       "      <td>AHEAD TECHNOLOGY</td>\n",
       "      <td><a href=\"https://es.linkedin.com/company/ahead-technology-s-l-?trk=public_jobs_jserp-result_job-search-card-subtitle\" target=\"_blank\">https://es.linkedin.com/company/ahead-technology-s-l-?trk=public_jobs_jserp-result_job-search-card-subtitle</a></td>\n",
       "      <td>Barcelona, Catalonia, Spain</td>\n",
       "      <td><a href=\"https://es.linkedin.com/jobs/view/data-scientist-at-ahead-technology-3014649424?refId=j%2F%2Bkjsxsxg111rBIkN2Yqg%3D%3D&trackingId=U%2FFfpS9GFuQNWOGno%2BvbAw%3D%3D&position=10&pageNum=0&trk=public_jobs_jserp-result_search-card\" target=\"_blank\">https://es.linkedin.com/jobs/view/data-scientist-at-ahead-technology-3014649424?refId=j%2F%2Bkjsxsxg111rBIkN2Yqg%3D%3D&amp;trackingId=U%2FFfpS9GFuQNWOGno%2BvbAw%3D%3D&amp;position=10&amp;pageNum=0&amp;trk=public_jobs_jserp-result_search-card</a></td>\n",
       "      <td>2022-04-11</td>\n",
       "    </tr>\n",
       "    <tr>\n",
       "      <th>10</th>\n",
       "      <td>Data Scientist</td>\n",
       "      <td>Endesa</td>\n",
       "      <td><a href=\"https://es.linkedin.com/company/endesa?trk=public_jobs_jserp-result_job-search-card-subtitle\" target=\"_blank\">https://es.linkedin.com/company/endesa?trk=public_jobs_jserp-result_job-search-card-subtitle</a></td>\n",
       "      <td>Madrid, Community of Madrid, Spain</td>\n",
       "      <td><a href=\"https://es.linkedin.com/jobs/view/data-scientist-at-endesa-3014073820?refId=j%2F%2Bkjsxsxg111rBIkN2Yqg%3D%3D&trackingId=zBs9ePJDl1PnH8Go6EglJg%3D%3D&position=11&pageNum=0&trk=public_jobs_jserp-result_search-card\" target=\"_blank\">https://es.linkedin.com/jobs/view/data-scientist-at-endesa-3014073820?refId=j%2F%2Bkjsxsxg111rBIkN2Yqg%3D%3D&amp;trackingId=zBs9ePJDl1PnH8Go6EglJg%3D%3D&amp;position=11&amp;pageNum=0&amp;trk=public_jobs_jserp-result_search-card</a></td>\n",
       "      <td>2022-04-07</td>\n",
       "    </tr>\n",
       "    <tr>\n",
       "      <th>11</th>\n",
       "      <td>Data Science Talent Program</td>\n",
       "      <td>Banco Santander</td>\n",
       "      <td><a href=\"https://es.linkedin.com/company/banco-santander?trk=public_jobs_jserp-result_job-search-card-subtitle\" target=\"_blank\">https://es.linkedin.com/company/banco-santander?trk=public_jobs_jserp-result_job-search-card-subtitle</a></td>\n",
       "      <td>Madrid, Community of Madrid, Spain</td>\n",
       "      <td><a href=\"https://es.linkedin.com/jobs/view/data-science-talent-program-at-banco-santander-3004972301?refId=j%2F%2Bkjsxsxg111rBIkN2Yqg%3D%3D&trackingId=gUTcpJDyzTAx7BAsPzbJKA%3D%3D&position=12&pageNum=0&trk=public_jobs_jserp-result_search-card\" target=\"_blank\">https://es.linkedin.com/jobs/view/data-science-talent-program-at-banco-santander-3004972301?refId=j%2F%2Bkjsxsxg111rBIkN2Yqg%3D%3D&amp;trackingId=gUTcpJDyzTAx7BAsPzbJKA%3D%3D&amp;position=12&amp;pageNum=0&amp;trk=public_jobs_jserp-result_search-card</a></td>\n",
       "      <td>2022-04-04</td>\n",
       "    </tr>\n",
       "    <tr>\n",
       "      <th>12</th>\n",
       "      <td>Data Analysis Intern (Remote Internship - Analyst)</td>\n",
       "      <td>Brainnest</td>\n",
       "      <td><a href=\"https://de.linkedin.com/company/brainnestde?trk=public_jobs_jserp-result_job-search-card-subtitle\" target=\"_blank\">https://de.linkedin.com/company/brainnestde?trk=public_jobs_jserp-result_job-search-card-subtitle</a></td>\n",
       "      <td>Málaga, Andalusia, Spain</td>\n",
       "      <td><a href=\"https://es.linkedin.com/jobs/view/data-analysis-intern-remote-internship-analyst-at-brainnest-2998497951?refId=j%2F%2Bkjsxsxg111rBIkN2Yqg%3D%3D&trackingId=J0f6VY5JJlsjgh4wJ4v63Q%3D%3D&position=13&pageNum=0&trk=public_jobs_jserp-result_search-card\" target=\"_blank\">https://es.linkedin.com/jobs/view/data-analysis-intern-remote-internship-analyst-at-brainnest-2998497951?refId=j%2F%2Bkjsxsxg111rBIkN2Yqg%3D%3D&amp;trackingId=J0f6VY5JJlsjgh4wJ4v63Q%3D%3D&amp;position=13&amp;pageNum=0&amp;trk=public_jobs_jserp-result_search-card</a></td>\n",
       "      <td>2022-03-30</td>\n",
       "    </tr>\n",
       "    <tr>\n",
       "      <th>13</th>\n",
       "      <td>Data Scientist Sector Salud</td>\n",
       "      <td>Asserta Global Healthcare Solutions</td>\n",
       "      <td><a href=\"https://es.linkedin.com/company/asserta?trk=public_jobs_jserp-result_job-search-card-subtitle\" target=\"_blank\">https://es.linkedin.com/company/asserta?trk=public_jobs_jserp-result_job-search-card-subtitle</a></td>\n",
       "      <td>Sant Quirze del Vallès, Catalonia, Spain</td>\n",
       "      <td><a href=\"https://es.linkedin.com/jobs/view/data-scientist-sector-salud-at-asserta-global-healthcare-solutions-3020773176?refId=j%2F%2Bkjsxsxg111rBIkN2Yqg%3D%3D&trackingId=HQ5wy%2FAoZaZk5l9OYTEwlA%3D%3D&position=14&pageNum=0&trk=public_jobs_jserp-result_search-card\" target=\"_blank\">https://es.linkedin.com/jobs/view/data-scientist-sector-salud-at-asserta-global-healthcare-solutions-3020773176?refId=j%2F%2Bkjsxsxg111rBIkN2Yqg%3D%3D&amp;trackingId=HQ5wy%2FAoZaZk5l9OYTEwlA%3D%3D&amp;position=14&amp;pageNum=0&amp;trk=public_jobs_jserp-result_search-card</a></td>\n",
       "      <td>2022-04-12</td>\n",
       "    </tr>\n",
       "    <tr>\n",
       "      <th>14</th>\n",
       "      <td>Data Analysis Intern (Remote Internship - Analyst)</td>\n",
       "      <td>Brainnest</td>\n",
       "      <td><a href=\"https://de.linkedin.com/company/brainnestde?trk=public_jobs_jserp-result_job-search-card-subtitle\" target=\"_blank\">https://de.linkedin.com/company/brainnestde?trk=public_jobs_jserp-result_job-search-card-subtitle</a></td>\n",
       "      <td>Seville, Andalusia, Spain</td>\n",
       "      <td><a href=\"https://es.linkedin.com/jobs/view/data-analysis-intern-remote-internship-analyst-at-brainnest-2998495991?refId=j%2F%2Bkjsxsxg111rBIkN2Yqg%3D%3D&trackingId=WtojLZdHXnJLFkVxHRkB%2BA%3D%3D&position=15&pageNum=0&trk=public_jobs_jserp-result_search-card\" target=\"_blank\">https://es.linkedin.com/jobs/view/data-analysis-intern-remote-internship-analyst-at-brainnest-2998495991?refId=j%2F%2Bkjsxsxg111rBIkN2Yqg%3D%3D&amp;trackingId=WtojLZdHXnJLFkVxHRkB%2BA%3D%3D&amp;position=15&amp;pageNum=0&amp;trk=public_jobs_jserp-result_search-card</a></td>\n",
       "      <td>2022-03-30</td>\n",
       "    </tr>\n",
       "    <tr>\n",
       "      <th>15</th>\n",
       "      <td>Data Analyst PM</td>\n",
       "      <td>Sogeti</td>\n",
       "      <td><a href=\"https://fr.linkedin.com/company/sogeti?trk=public_jobs_jserp-result_job-search-card-subtitle\" target=\"_blank\">https://fr.linkedin.com/company/sogeti?trk=public_jobs_jserp-result_job-search-card-subtitle</a></td>\n",
       "      <td>Barcelona, Catalonia, Spain</td>\n",
       "      <td><a href=\"https://es.linkedin.com/jobs/view/data-analyst-pm-at-sogeti-3023100087?refId=j%2F%2Bkjsxsxg111rBIkN2Yqg%3D%3D&trackingId=bN4C%2Fw%2BVTorMK%2FGxt9eDmw%3D%3D&position=16&pageNum=0&trk=public_jobs_jserp-result_search-card\" target=\"_blank\">https://es.linkedin.com/jobs/view/data-analyst-pm-at-sogeti-3023100087?refId=j%2F%2Bkjsxsxg111rBIkN2Yqg%3D%3D&amp;trackingId=bN4C%2Fw%2BVTorMK%2FGxt9eDmw%3D%3D&amp;position=16&amp;pageNum=0&amp;trk=public_jobs_jserp-result_search-card</a></td>\n",
       "      <td>2022-04-12</td>\n",
       "    </tr>\n",
       "    <tr>\n",
       "      <th>16</th>\n",
       "      <td>Junior Data Scientist</td>\n",
       "      <td>Allianz Technology</td>\n",
       "      <td><a href=\"https://de.linkedin.com/company/allianz-technology?trk=public_jobs_jserp-result_job-search-card-subtitle\" target=\"_blank\">https://de.linkedin.com/company/allianz-technology?trk=public_jobs_jserp-result_job-search-card-subtitle</a></td>\n",
       "      <td>Barcelona, Catalonia, Spain</td>\n",
       "      <td><a href=\"https://es.linkedin.com/jobs/view/junior-data-scientist-at-allianz-technology-2990523304?refId=j%2F%2Bkjsxsxg111rBIkN2Yqg%3D%3D&trackingId=ydFWJiCG95bcn3McGFfbyw%3D%3D&position=17&pageNum=0&trk=public_jobs_jserp-result_search-card\" target=\"_blank\">https://es.linkedin.com/jobs/view/junior-data-scientist-at-allianz-technology-2990523304?refId=j%2F%2Bkjsxsxg111rBIkN2Yqg%3D%3D&amp;trackingId=ydFWJiCG95bcn3McGFfbyw%3D%3D&amp;position=17&amp;pageNum=0&amp;trk=public_jobs_jserp-result_search-card</a></td>\n",
       "      <td>2022-03-29</td>\n",
       "    </tr>\n",
       "    <tr>\n",
       "      <th>17</th>\n",
       "      <td>Data Analysis Intern (Remote Internship - Analyst)</td>\n",
       "      <td>Brainnest</td>\n",
       "      <td><a href=\"https://de.linkedin.com/company/brainnestde?trk=public_jobs_jserp-result_job-search-card-subtitle\" target=\"_blank\">https://de.linkedin.com/company/brainnestde?trk=public_jobs_jserp-result_job-search-card-subtitle</a></td>\n",
       "      <td>Las Palmas de Gran Canaria, Canary Islands, Spain</td>\n",
       "      <td><a href=\"https://es.linkedin.com/jobs/view/data-analysis-intern-remote-internship-analyst-at-brainnest-2998497935?refId=j%2F%2Bkjsxsxg111rBIkN2Yqg%3D%3D&trackingId=ZeuFnl%2F5FvvX8OfJLYcayw%3D%3D&position=18&pageNum=0&trk=public_jobs_jserp-result_search-card\" target=\"_blank\">https://es.linkedin.com/jobs/view/data-analysis-intern-remote-internship-analyst-at-brainnest-2998497935?refId=j%2F%2Bkjsxsxg111rBIkN2Yqg%3D%3D&amp;trackingId=ZeuFnl%2F5FvvX8OfJLYcayw%3D%3D&amp;position=18&amp;pageNum=0&amp;trk=public_jobs_jserp-result_search-card</a></td>\n",
       "      <td>2022-03-30</td>\n",
       "    </tr>\n",
       "    <tr>\n",
       "      <th>18</th>\n",
       "      <td>Prácticas Big Data/BI (I&amp;D)</td>\n",
       "      <td>Capgemini</td>\n",
       "      <td><a href=\"https://fr.linkedin.com/company/capgemini?trk=public_jobs_jserp-result_job-search-card-subtitle\" target=\"_blank\">https://fr.linkedin.com/company/capgemini?trk=public_jobs_jserp-result_job-search-card-subtitle</a></td>\n",
       "      <td>Madrid, Community of Madrid, Spain</td>\n",
       "      <td><a href=\"https://es.linkedin.com/jobs/view/pr%C3%A1cticas-big-data-bi-i-d-at-capgemini-2986844114?refId=j%2F%2Bkjsxsxg111rBIkN2Yqg%3D%3D&trackingId=2F0a4tDGQvhTuRc1Za9CbA%3D%3D&position=19&pageNum=0&trk=public_jobs_jserp-result_search-card\" target=\"_blank\">https://es.linkedin.com/jobs/view/pr%C3%A1cticas-big-data-bi-i-d-at-capgemini-2986844114?refId=j%2F%2Bkjsxsxg111rBIkN2Yqg%3D%3D&amp;trackingId=2F0a4tDGQvhTuRc1Za9CbA%3D%3D&amp;position=19&amp;pageNum=0&amp;trk=public_jobs_jserp-result_search-card</a></td>\n",
       "      <td>2022-03-21</td>\n",
       "    </tr>\n",
       "    <tr>\n",
       "      <th>19</th>\n",
       "      <td>Data Scientist</td>\n",
       "      <td>Allianz Technology</td>\n",
       "      <td><a href=\"https://de.linkedin.com/company/allianz-technology?trk=public_jobs_jserp-result_job-search-card-subtitle\" target=\"_blank\">https://de.linkedin.com/company/allianz-technology?trk=public_jobs_jserp-result_job-search-card-subtitle</a></td>\n",
       "      <td>Greater Barcelona Metropolitan Area</td>\n",
       "      <td><a href=\"https://es.linkedin.com/jobs/view/data-scientist-at-allianz-technology-2978066058?refId=j%2F%2Bkjsxsxg111rBIkN2Yqg%3D%3D&trackingId=VVt5aUxazG%2BkgbBeGKQSNQ%3D%3D&position=20&pageNum=0&trk=public_jobs_jserp-result_search-card\" target=\"_blank\">https://es.linkedin.com/jobs/view/data-scientist-at-allianz-technology-2978066058?refId=j%2F%2Bkjsxsxg111rBIkN2Yqg%3D%3D&amp;trackingId=VVt5aUxazG%2BkgbBeGKQSNQ%3D%3D&amp;position=20&amp;pageNum=0&amp;trk=public_jobs_jserp-result_search-card</a></td>\n",
       "      <td>2022-03-23</td>\n",
       "    </tr>\n",
       "    <tr>\n",
       "      <th>20</th>\n",
       "      <td>Data Analytics Specialist</td>\n",
       "      <td>Schneider Electric</td>\n",
       "      <td><a href=\"https://fr.linkedin.com/company/schneider-electric?trk=public_jobs_jserp-result_job-search-card-subtitle\" target=\"_blank\">https://fr.linkedin.com/company/schneider-electric?trk=public_jobs_jserp-result_job-search-card-subtitle</a></td>\n",
       "      <td>Barcelona, Catalonia, Spain</td>\n",
       "      <td><a href=\"https://es.linkedin.com/jobs/view/data-analytics-specialist-at-schneider-electric-3021522927?refId=j%2F%2Bkjsxsxg111rBIkN2Yqg%3D%3D&trackingId=be4qaS%2FNDev8rJSlBPLdUQ%3D%3D&position=21&pageNum=0&trk=public_jobs_jserp-result_search-card\" target=\"_blank\">https://es.linkedin.com/jobs/view/data-analytics-specialist-at-schneider-electric-3021522927?refId=j%2F%2Bkjsxsxg111rBIkN2Yqg%3D%3D&amp;trackingId=be4qaS%2FNDev8rJSlBPLdUQ%3D%3D&amp;position=21&amp;pageNum=0&amp;trk=public_jobs_jserp-result_search-card</a></td>\n",
       "      <td>2022-04-11</td>\n",
       "    </tr>\n",
       "    <tr>\n",
       "      <th>21</th>\n",
       "      <td>Business Intelligence Developer</td>\n",
       "      <td>idealista</td>\n",
       "      <td><a href=\"https://es.linkedin.com/company/idealista-com?trk=public_jobs_jserp-result_job-search-card-subtitle\" target=\"_blank\">https://es.linkedin.com/company/idealista-com?trk=public_jobs_jserp-result_job-search-card-subtitle</a></td>\n",
       "      <td>Madrid, Community of Madrid, Spain</td>\n",
       "      <td><a href=\"https://es.linkedin.com/jobs/view/business-intelligence-developer-at-idealista-3015578392?refId=j%2F%2Bkjsxsxg111rBIkN2Yqg%3D%3D&trackingId=fhyNtX0H8wMzs%2BzKWQBIUQ%3D%3D&position=22&pageNum=0&trk=public_jobs_jserp-result_search-card\" target=\"_blank\">https://es.linkedin.com/jobs/view/business-intelligence-developer-at-idealista-3015578392?refId=j%2F%2Bkjsxsxg111rBIkN2Yqg%3D%3D&amp;trackingId=fhyNtX0H8wMzs%2BzKWQBIUQ%3D%3D&amp;position=22&amp;pageNum=0&amp;trk=public_jobs_jserp-result_search-card</a></td>\n",
       "      <td>2022-04-12</td>\n",
       "    </tr>\n",
       "    <tr>\n",
       "      <th>22</th>\n",
       "      <td>Data Scientist Junior</td>\n",
       "      <td>METIORA</td>\n",
       "      <td><a href=\"https://es.linkedin.com/company/metiora?trk=public_jobs_jserp-result_job-search-card-subtitle\" target=\"_blank\">https://es.linkedin.com/company/metiora?trk=public_jobs_jserp-result_job-search-card-subtitle</a></td>\n",
       "      <td>Madrid, Community of Madrid, Spain</td>\n",
       "      <td><a href=\"https://es.linkedin.com/jobs/view/data-scientist-junior-at-metiora-3014511182?refId=j%2F%2Bkjsxsxg111rBIkN2Yqg%3D%3D&trackingId=NZi6QRvxzJeVPcDrZjgBsw%3D%3D&position=23&pageNum=0&trk=public_jobs_jserp-result_search-card\" target=\"_blank\">https://es.linkedin.com/jobs/view/data-scientist-junior-at-metiora-3014511182?refId=j%2F%2Bkjsxsxg111rBIkN2Yqg%3D%3D&amp;trackingId=NZi6QRvxzJeVPcDrZjgBsw%3D%3D&amp;position=23&amp;pageNum=0&amp;trk=public_jobs_jserp-result_search-card</a></td>\n",
       "      <td>2022-04-08</td>\n",
       "    </tr>\n",
       "    <tr>\n",
       "      <th>23</th>\n",
       "      <td>Data Scientist M/F/D</td>\n",
       "      <td>Airbus</td>\n",
       "      <td><a href=\"https://fr.linkedin.com/company/airbusgroup?trk=public_jobs_jserp-result_job-search-card-subtitle\" target=\"_blank\">https://fr.linkedin.com/company/airbusgroup?trk=public_jobs_jserp-result_job-search-card-subtitle</a></td>\n",
       "      <td>Madrid, Community of Madrid, Spain</td>\n",
       "      <td><a href=\"https://es.linkedin.com/jobs/view/data-scientist-m-f-d-at-airbus-3014416039?refId=j%2F%2Bkjsxsxg111rBIkN2Yqg%3D%3D&trackingId=mqBmTWN2tsDO0R4CRUxQLw%3D%3D&position=24&pageNum=0&trk=public_jobs_jserp-result_search-card\" target=\"_blank\">https://es.linkedin.com/jobs/view/data-scientist-m-f-d-at-airbus-3014416039?refId=j%2F%2Bkjsxsxg111rBIkN2Yqg%3D%3D&amp;trackingId=mqBmTWN2tsDO0R4CRUxQLw%3D%3D&amp;position=24&amp;pageNum=0&amp;trk=public_jobs_jserp-result_search-card</a></td>\n",
       "      <td>2022-04-08</td>\n",
       "    </tr>\n",
       "    <tr>\n",
       "      <th>24</th>\n",
       "      <td>JUNIOR DATA ANALYST/SCIENTIST (H/M)</td>\n",
       "      <td>Capgemini</td>\n",
       "      <td><a href=\"https://fr.linkedin.com/company/capgemini?trk=public_jobs_jserp-result_job-search-card-subtitle\" target=\"_blank\">https://fr.linkedin.com/company/capgemini?trk=public_jobs_jserp-result_job-search-card-subtitle</a></td>\n",
       "      <td>Barcelona, Catalonia, Spain</td>\n",
       "      <td><a href=\"https://es.linkedin.com/jobs/view/junior-data-analyst-scientist-h-m-at-capgemini-3014643615?refId=j%2F%2Bkjsxsxg111rBIkN2Yqg%3D%3D&trackingId=7iqvZ1UWzIRen%2FNgvQWnGw%3D%3D&position=25&pageNum=0&trk=public_jobs_jserp-result_search-card\" target=\"_blank\">https://es.linkedin.com/jobs/view/junior-data-analyst-scientist-h-m-at-capgemini-3014643615?refId=j%2F%2Bkjsxsxg111rBIkN2Yqg%3D%3D&amp;trackingId=7iqvZ1UWzIRen%2FNgvQWnGw%3D%3D&amp;position=25&amp;pageNum=0&amp;trk=public_jobs_jserp-result_search-card</a></td>\n",
       "      <td>2022-04-11</td>\n",
       "    </tr>\n",
       "  </tbody>\n",
       "</table>"
      ],
      "text/plain": [
       "<IPython.core.display.HTML object>"
      ]
     },
     "execution_count": 85,
     "metadata": {},
     "output_type": "execute_result"
    }
   ],
   "source": [
    "from IPython.display import HTML\n",
    "\n",
    "\n",
    "HTML(df.to_html(render_links=True))"
   ]
  },
  {
   "cell_type": "code",
   "execution_count": 87,
   "metadata": {},
   "outputs": [],
   "source": [
    "html=req.get('https://www.linkedin.com/jobs/search/?f_E=5&f_TPR=r2592000&geoId=105646813&keywords=Analista%20de%20datos&location=Espa%C3%B1a').content"
   ]
  },
  {
   "cell_type": "code",
   "execution_count": 91,
   "metadata": {},
   "outputs": [
    {
     "data": {
      "text/plain": [
       "'\\n\\n\\n \\n\\n\\n\\n\\n\\n\\n\\n\\n\\n\\n\\n\\n\\n\\nWe and third parties such as our customers, partners, and service providers use cookies and similar technologies (\"cookies\") to provide and secure our Services, to understand and improve their performance, and to serve relevant ads (including job ads) on and off LinkedIn. For more information, see our Cookie Policy.Select Accept cookies to consent to this use or Manage preferences to make your cookie choices. You can change your cookie choices and withdraw your consent in your settings at any time.\\n\\n\\n\\n                Manage preferences\\n                \\n\\n                Accept cookies\\n                \\n\\n\\n \\n\\n\\n\\nSkip to main content\\n\\n\\n\\n\\nLinkedIn\\n \\n\\n\\n\\n\\n              Analista De Datos in Spain\\n \\nExpand search\\n\\n\\n\\n\\n\\n\\n\\n\\n\\n\\n              Jobs\\n            \\n\\n\\n\\n              People\\n            \\n\\n\\n\\n              Learning\\n            \\n\\n\\n\\n\\n\\n\\n\\n\\n\\n\\n\\n\\nDismiss\\n\\n\\n\\n\\n\\n\\nDismiss\\n\\n\\n\\n\\n\\n\\n\\n\\n\\n\\n\\n\\n\\n\\n\\n\\n \\n\\n\\n\\n\\n\\nDismiss\\n\\n\\n\\n\\n\\n\\n\\n\\n \\n\\n\\n\\n\\n\\nDismiss\\n\\n\\n\\n\\n\\n\\n\\n\\n\\n\\n\\n\\n\\n\\n\\nDismiss\\n\\n\\n\\n\\n\\n\\n\\n\\n\\n\\n\\n\\n\\n\\n\\n      Join now\\n    \\n\\n    '"
      ]
     },
     "execution_count": 91,
     "metadata": {},
     "output_type": "execute_result"
    }
   ],
   "source": [
    "bs(html, 'html.parser').body.text[:1000]"
   ]
  },
  {
   "cell_type": "code",
   "execution_count": null,
   "metadata": {},
   "outputs": [],
   "source": []
  }
 ],
 "metadata": {
  "kernelspec": {
   "display_name": "clase",
   "language": "python",
   "name": "clase"
  },
  "language_info": {
   "codemirror_mode": {
    "name": "ipython",
    "version": 3
   },
   "file_extension": ".py",
   "mimetype": "text/x-python",
   "name": "python",
   "nbconvert_exporter": "python",
   "pygments_lexer": "ipython3",
   "version": "3.9.7"
  },
  "varInspector": {
   "cols": {
    "lenName": 16,
    "lenType": 16,
    "lenVar": 40
   },
   "kernels_config": {
    "python": {
     "delete_cmd_postfix": "",
     "delete_cmd_prefix": "del ",
     "library": "var_list.py",
     "varRefreshCmd": "print(var_dic_list())"
    },
    "r": {
     "delete_cmd_postfix": ") ",
     "delete_cmd_prefix": "rm(",
     "library": "var_list.r",
     "varRefreshCmd": "cat(var_dic_list()) "
    }
   },
   "types_to_exclude": [
    "module",
    "function",
    "builtin_function_or_method",
    "instance",
    "_Feature"
   ],
   "window_display": false
  }
 },
 "nbformat": 4,
 "nbformat_minor": 4
}
