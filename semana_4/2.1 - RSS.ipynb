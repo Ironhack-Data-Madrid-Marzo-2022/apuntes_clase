{
 "cells": [
  {
   "cell_type": "markdown",
   "metadata": {},
   "source": [
    "# 2.1 - RSS\n",
    "\n",
    "$$$$\n",
    "\n",
    "![rss](images/rss.png)\n",
    "\n"
   ]
  },
  {
   "cell_type": "markdown",
   "metadata": {},
   "source": [
    "RSS son las siglas de **Really Simple Syndication**, un formato XML para distribuir contenido en la web. Se utiliza para difundir información actualizada frecuentemente a usuarios que se han suscrito a la fuente de contenidos. El formato permite distribuir contenidos sin necesidad de un navegador, utilizando programas llamados agregadores de noticias, diseñados para leer contenidos RSS. A pesar de eso, es posible utilizar el mismo navegador para ver los contenidos RSS. Las últimas versiones de los principales navegadores permiten leer los RSS sin necesidad de programas adicionales. RSS es parte de la familia de los formatos XML, desarrollado específicamente para todo tipo de sitios que se actualicen con frecuencia y por medio del cual se puede compartir la información y usarla en otros sitios web o programas. A esto se le conoce como redifusión web o sindicación web .\n",
    "\n",
    "\n",
    "En el archivo RSS simplemente están los datos de las novedades del sitio, como el título, fecha de publicación o la descripción. El programa que lea el RSS será encargado de darle estilo o apariencia a los datos que se incluyan en el archivo y presentarlos de una manera atractiva al usuario y de fácil lectura.\n",
    "\n",
    "Que RSS sea un formato basado en XML significa que el archivo RSS se compone por una serie de etiquetas definidas que tendrán un formato dado, y que respetará las reglas generales de XML. Este archivo normalmente es nombrado index.xml y se encuentra ubicado en la página principal.\n",
    "\n",
    "Vale aclarar que RSS no es un protocolo, dado que no contempla parámetros de ningún tipo. No es posible definir mediante una consulta un criterio de búsqueda. \n"
   ]
  },
  {
   "cell_type": "markdown",
   "metadata": {},
   "source": [
    "## Trabajando con RSS\n",
    "\n",
    "Normalmente, el feed del RSS corresponde a un archivo con la extensión .rss. Tenemos una herramienta perfecta para manejar ese tipo de feed."
   ]
  },
  {
   "cell_type": "code",
   "execution_count": 1,
   "metadata": {},
   "outputs": [
    {
     "name": "stdout",
     "output_type": "stream",
     "text": [
      "Collecting feedparser\n",
      "  Using cached feedparser-6.0.8-py3-none-any.whl (81 kB)\n",
      "Collecting sgmllib3k\n",
      "  Using cached sgmllib3k-1.0.0-py3-none-any.whl\n",
      "Installing collected packages: sgmllib3k, feedparser\n",
      "Successfully installed feedparser-6.0.8 sgmllib3k-1.0.0\n",
      "Note: you may need to restart the kernel to use updated packages.\n"
     ]
    }
   ],
   "source": [
    "%pip install feedparser"
   ]
  },
  {
   "cell_type": "code",
   "execution_count": 2,
   "metadata": {},
   "outputs": [],
   "source": [
    "import feedparser"
   ]
  },
  {
   "cell_type": "markdown",
   "metadata": {},
   "source": [
    "### Reddit RSS\n",
    "\n",
    "Para extraer el contenido, tan solo pasamos la url del RSS al feedparser."
   ]
  },
  {
   "cell_type": "code",
   "execution_count": 3,
   "metadata": {},
   "outputs": [],
   "source": [
    "reddit=feedparser.parse('https://www.reddit.com/r/news/.rss')"
   ]
  },
  {
   "cell_type": "code",
   "execution_count": 4,
   "metadata": {},
   "outputs": [
    {
     "data": {
      "text/plain": [
       "feedparser.util.FeedParserDict"
      ]
     },
     "execution_count": 4,
     "metadata": {},
     "output_type": "execute_result"
    }
   ],
   "source": [
    "type(reddit)"
   ]
  },
  {
   "cell_type": "code",
   "execution_count": 6,
   "metadata": {},
   "outputs": [
    {
     "data": {
      "text/plain": [
       "dict_keys(['bozo', 'entries', 'feed', 'headers', 'href', 'status', 'encoding', 'version', 'namespaces'])"
      ]
     },
     "execution_count": 6,
     "metadata": {},
     "output_type": "execute_result"
    }
   ],
   "source": [
    "reddit.keys()"
   ]
  },
  {
   "cell_type": "code",
   "execution_count": 8,
   "metadata": {},
   "outputs": [
    {
     "data": {
      "text/plain": [
       "dict_keys(['tags', 'updated', 'updated_parsed', 'icon', 'id', 'guidislink', 'link', 'links', 'logo', 'subtitle', 'subtitle_detail', 'title', 'title_detail'])"
      ]
     },
     "execution_count": 8,
     "metadata": {},
     "output_type": "execute_result"
    }
   ],
   "source": [
    "reddit['feed'].keys()"
   ]
  },
  {
   "cell_type": "code",
   "execution_count": 11,
   "metadata": {},
   "outputs": [
    {
     "data": {
      "text/plain": [
       "dict_keys(['authors', 'author_detail', 'href', 'author', 'tags', 'content', 'summary', 'id', 'guidislink', 'link', 'links', 'updated', 'updated_parsed', 'published', 'published_parsed', 'title', 'title_detail'])"
      ]
     },
     "execution_count": 11,
     "metadata": {},
     "output_type": "execute_result"
    }
   ],
   "source": [
    "reddit.entries[0].keys()"
   ]
  },
  {
   "cell_type": "code",
   "execution_count": 12,
   "metadata": {},
   "outputs": [
    {
     "data": {
      "text/plain": [
       "[{'type': 'text/html',\n",
       "  'language': None,\n",
       "  'base': 'https://www.reddit.com/r/news/.rss',\n",
       "  'value': '&#32; submitted by &#32; <a href=\"https://www.reddit.com/user/ajenn22\"> /u/ajenn22 </a> <br /> <span><a href=\"https://www.cnbc.com/2022/04/11/former-cop-who-stormed-capitol-guilty-on-all-six-counts-in-second-jan-6-jury-trial.html\">[link]</a></span> &#32; <span><a href=\"https://www.reddit.com/r/news/comments/u1jj45/former_cop_who_stormed_capitol_guilty_on_all_six/\">[comments]</a></span>'}]"
      ]
     },
     "execution_count": 12,
     "metadata": {},
     "output_type": "execute_result"
    }
   ],
   "source": [
    "reddit.entries[0]['content']"
   ]
  },
  {
   "cell_type": "markdown",
   "metadata": {},
   "source": [
    "### [Nasa](https://www.nasa.gov/content/nasa-rss-feeds) RSS"
   ]
  },
  {
   "cell_type": "code",
   "execution_count": 13,
   "metadata": {},
   "outputs": [],
   "source": [
    "nasa=feedparser.parse('https://www.nasa.gov/rss/dyn/mission_pages/kepler/news/kepler-newsandfeatures-RSS.rss')"
   ]
  },
  {
   "cell_type": "code",
   "execution_count": 19,
   "metadata": {},
   "outputs": [
    {
     "data": {
      "text/plain": [
       "'http://www.nasa.gov/sites/default/files/styles/1x1_cardfeed/public/thumbnails/image/exoplanet_banner_1.gif?itok=L3rCP01p'"
      ]
     },
     "execution_count": 19,
     "metadata": {},
     "output_type": "execute_result"
    }
   ],
   "source": [
    "nasa['entries'][0]['links'][-1]['href']"
   ]
  },
  {
   "cell_type": "code",
   "execution_count": 20,
   "metadata": {},
   "outputs": [
    {
     "data": {
      "text/html": [
       "<img src=\"http://www.nasa.gov/sites/default/files/styles/1x1_cardfeed/public/thumbnails/image/exoplanet_banner_1.gif?itok=L3rCP01p\"/>"
      ],
      "text/plain": [
       "<IPython.core.display.Image object>"
      ]
     },
     "metadata": {},
     "output_type": "display_data"
    }
   ],
   "source": [
    "from IPython.display import Image\n",
    "\n",
    "foto_url=nasa['entries'][0]['links'][-1]['href']\n",
    "\n",
    "display(Image(url=foto_url))"
   ]
  },
  {
   "cell_type": "markdown",
   "metadata": {},
   "source": [
    "### [ForexLive](https://www.forexlive.com/rss) RSS"
   ]
  },
  {
   "cell_type": "code",
   "execution_count": 21,
   "metadata": {},
   "outputs": [],
   "source": [
    "crypto=feedparser.parse('https://www.forexlive.com/feed/cryptocurrency')"
   ]
  },
  {
   "cell_type": "code",
   "execution_count": 23,
   "metadata": {},
   "outputs": [
    {
     "data": {
      "text/plain": [
       "dict_keys(['bozo', 'entries', 'feed', 'headers', 'etag', 'href', 'status', 'encoding', 'version', 'namespaces'])"
      ]
     },
     "execution_count": 23,
     "metadata": {},
     "output_type": "execute_result"
    }
   ],
   "source": [
    "crypto.keys()"
   ]
  },
  {
   "cell_type": "code",
   "execution_count": 26,
   "metadata": {
    "scrolled": false
   },
   "outputs": [
    {
     "data": {
      "text/plain": [
       "{'title': 'Bitcoin loses strength due to the stock sell-off',\n",
       " 'title_detail': {'type': 'text/plain',\n",
       "  'language': None,\n",
       "  'base': 'https://www.forexlive.com/feed/cryptocurrency',\n",
       "  'value': 'Bitcoin loses strength due to the stock sell-off'},\n",
       " 'links': [{'rel': 'alternate',\n",
       "   'type': 'text/html',\n",
       "   'href': 'https://www.forexlive.com/Cryptocurrency/bitcoin-loses-strength-due-to-the-stock-sell-off-20220412/'}],\n",
       " 'link': 'https://www.forexlive.com/Cryptocurrency/bitcoin-loses-strength-due-to-the-stock-sell-off-20220412/',\n",
       " 'comments': 'https://www.forexlive.com/Cryptocurrency/bitcoin-loses-strength-due-to-the-stock-sell-off-20220412/#respond',\n",
       " 'published': 'Tue, 12 Apr 2022 07:16:35 GMT',\n",
       " 'published_parsed': time.struct_time(tm_year=2022, tm_mon=4, tm_mday=12, tm_hour=7, tm_min=16, tm_sec=35, tm_wday=1, tm_yday=102, tm_isdst=0),\n",
       " 'authors': [{'name': 'FxPro FXPro'}],\n",
       " 'author': 'FxPro FXPro',\n",
       " 'author_detail': {'name': 'FxPro FXPro'},\n",
       " 'tags': [{'term': 'Cryptocurrency', 'scheme': None, 'label': None}],\n",
       " 'id': 'https://www.forexlive.com/Cryptocurrency/bitcoin-loses-strength-due-to-the-stock-sell-off-20220412/',\n",
       " 'guidislink': False,\n",
       " 'summary': 'Bitcoin was\\n        down 7.4% on Monday, ending at around $39.9K, where it remains on Tuesday\\n        morning. Ethereum lost 8.9%, while other leading altcoins in the top 10 fell in\\n        price from 6.7% (Binance Coin) to 13% (Terra).\\n\\n\\n        \\xa0\\n    \\n\\nCryptomarket:\\n            extreme fear\\n\\n\\n            \\xa0\\n        \\n\\nAccording to\\n        CoinMarketCap, over the past 24 hours, cryptocurrency market capitalisation has\\n        fallen 5.2% overnight to $1.85 trillion, with the Bitcoin Dominance Index\\n        dropping 0.2 points to 41.1%.\\n\\n\\n        \\xa0\\n    \\n\\nThe cryptocurrency\\n        fear and greed index lost 12 points to 20 by Tuesday, in a state of\\n        \"extreme fear\".\\n\\n\\n        \\xa0\\n    \\n\\nBitcoin\\n        collapsed on Monday, the most in almost two months, following global stock\\n        indices. In a sharp move, BTC plummeted under the 50-day moving average, dashing\\n        hopes that we saw a trend breakdown in March.\\n\\n\\n\\n    \\n\\n\\n\\n\\n\\n        \\xa0\\n    \\n\\nYesterday\\'s\\n        drop in bitcoin and the continued pessimistic mood in financial markets open a\\n        direct and quick path to the March support area - near $38K, or even lower – to\\n        $32.5-35K.\\n\\n\\n            \\xa0\\n        \\n\\nMiners\\n            dumped some bitcoins\\n\\n\\n            \\xa0\\n        \\n\\nConventional\\n        financial market participants have just started laying down the accelerated\\n        pace of rate hikes, expecting +50 points in May and the same amount in June.\\n        This is in stark contrast to the 25 point rises per quarter that we have seen\\n        since the global financial crisis. In this environment, liquidity leaves the\\n        financial markets, hitting the highest risk sectors the hardest. Because of\\n        this, we see a steep drop in cryptocurrency capitalisation and the Nasdaq\\n        index.\\n\\n\\n        \\xa0\\n    \\n\\nAccording to\\n        CryptoQuant, miners dumped some bitcoins last week as the cryptocurrency\\n        declined. Bearish sentiment may dominate this week as the BTC exchange balance\\n        has risen again.\\n\\n\\n        \\xa0\\n    \\n\\nThe\\n        cryptocurrency market is threatened by a decline in US stock indices soon,\\n        according to BitMEX cryptocurrency exchange co-founder Arthur Hayes. Bitcoin\\n        could fall to $30,000 by the second quarter, Ethereum to $2,500.\\n\\n\\n        \\xa0\\n    \\n\\nDavid\\n        Rubenstein, the co-founder of The Carlyle Group, believes that cryptocurrencies\\n        will increase amid growth in the crypto industry and political instability.\\n\\n\\n        \\xa0\\n    \\n\\nAccording to\\n        a Nasdaq survey, 72% of financial advisers would invest client funds in\\n        cryptocurrencies if they had access to spot crypto-ETFs.\\n\\n\\n        \\xa0\\n    \\n\\nThis article was written by FxPro’s Senior Market Analyst Alex\\n                Kuptsikevich.',\n",
       " 'summary_detail': {'type': 'text/html',\n",
       "  'language': None,\n",
       "  'base': 'https://www.forexlive.com/feed/cryptocurrency',\n",
       "  'value': 'Bitcoin was\\n        down 7.4% on Monday, ending at around $39.9K, where it remains on Tuesday\\n        morning. Ethereum lost 8.9%, while other leading altcoins in the top 10 fell in\\n        price from 6.7% (Binance Coin) to 13% (Terra).\\n\\n\\n        \\xa0\\n    \\n\\nCryptomarket:\\n            extreme fear\\n\\n\\n            \\xa0\\n        \\n\\nAccording to\\n        CoinMarketCap, over the past 24 hours, cryptocurrency market capitalisation has\\n        fallen 5.2% overnight to $1.85 trillion, with the Bitcoin Dominance Index\\n        dropping 0.2 points to 41.1%.\\n\\n\\n        \\xa0\\n    \\n\\nThe cryptocurrency\\n        fear and greed index lost 12 points to 20 by Tuesday, in a state of\\n        \"extreme fear\".\\n\\n\\n        \\xa0\\n    \\n\\nBitcoin\\n        collapsed on Monday, the most in almost two months, following global stock\\n        indices. In a sharp move, BTC plummeted under the 50-day moving average, dashing\\n        hopes that we saw a trend breakdown in March.\\n\\n\\n\\n    \\n\\n\\n\\n\\n\\n        \\xa0\\n    \\n\\nYesterday\\'s\\n        drop in bitcoin and the continued pessimistic mood in financial markets open a\\n        direct and quick path to the March support area - near $38K, or even lower – to\\n        $32.5-35K.\\n\\n\\n            \\xa0\\n        \\n\\nMiners\\n            dumped some bitcoins\\n\\n\\n            \\xa0\\n        \\n\\nConventional\\n        financial market participants have just started laying down the accelerated\\n        pace of rate hikes, expecting +50 points in May and the same amount in June.\\n        This is in stark contrast to the 25 point rises per quarter that we have seen\\n        since the global financial crisis. In this environment, liquidity leaves the\\n        financial markets, hitting the highest risk sectors the hardest. Because of\\n        this, we see a steep drop in cryptocurrency capitalisation and the Nasdaq\\n        index.\\n\\n\\n        \\xa0\\n    \\n\\nAccording to\\n        CryptoQuant, miners dumped some bitcoins last week as the cryptocurrency\\n        declined. Bearish sentiment may dominate this week as the BTC exchange balance\\n        has risen again.\\n\\n\\n        \\xa0\\n    \\n\\nThe\\n        cryptocurrency market is threatened by a decline in US stock indices soon,\\n        according to BitMEX cryptocurrency exchange co-founder Arthur Hayes. Bitcoin\\n        could fall to $30,000 by the second quarter, Ethereum to $2,500.\\n\\n\\n        \\xa0\\n    \\n\\nDavid\\n        Rubenstein, the co-founder of The Carlyle Group, believes that cryptocurrencies\\n        will increase amid growth in the crypto industry and political instability.\\n\\n\\n        \\xa0\\n    \\n\\nAccording to\\n        a Nasdaq survey, 72% of financial advisers would invest client funds in\\n        cryptocurrencies if they had access to spot crypto-ETFs.\\n\\n\\n        \\xa0\\n    \\n\\nThis article was written by FxPro’s Senior Market Analyst Alex\\n                Kuptsikevich.'}}"
      ]
     },
     "execution_count": 26,
     "metadata": {},
     "output_type": "execute_result"
    }
   ],
   "source": [
    "crypto['entries'][0]"
   ]
  },
  {
   "cell_type": "markdown",
   "metadata": {},
   "source": [
    "### [Unam](http://www.ssn.unam.mx) RSS\n",
    "\n",
    "A veces el RSS viene directamente en formato .xml\n",
    "\n",
    "Veremos como tratarlo."
   ]
  },
  {
   "cell_type": "code",
   "execution_count": 27,
   "metadata": {},
   "outputs": [
    {
     "name": "stdout",
     "output_type": "stream",
     "text": [
      "Collecting xmltodict\n",
      "  Using cached xmltodict-0.12.0-py2.py3-none-any.whl (9.2 kB)\n",
      "Installing collected packages: xmltodict\n",
      "Successfully installed xmltodict-0.12.0\n",
      "Note: you may need to restart the kernel to use updated packages.\n"
     ]
    }
   ],
   "source": [
    "%pip install xmltodict"
   ]
  },
  {
   "cell_type": "code",
   "execution_count": 28,
   "metadata": {},
   "outputs": [],
   "source": [
    "import requests as req\n",
    "import xmltodict"
   ]
  },
  {
   "cell_type": "code",
   "execution_count": 30,
   "metadata": {},
   "outputs": [],
   "source": [
    "url='http://www.ssn.unam.mx/rss/ultimos-sismos.xml'\n",
    "\n",
    "data=req.get(url).content\n",
    "\n",
    "unam=xmltodict.parse(data)"
   ]
  },
  {
   "cell_type": "code",
   "execution_count": 61,
   "metadata": {},
   "outputs": [
    {
     "data": {
      "text/plain": [
       "odict_keys(['rss'])"
      ]
     },
     "execution_count": 61,
     "metadata": {},
     "output_type": "execute_result"
    }
   ],
   "source": [
    "unam.keys()"
   ]
  },
  {
   "cell_type": "code",
   "execution_count": 63,
   "metadata": {},
   "outputs": [
    {
     "data": {
      "text/plain": [
       "'http://www2.ssn.unam.mx:8080/jsp/localizacion-de-sismo.jsp?latitud=17.11&longitud=-100.74&prf=19.0 km&ma=4.2&fecha=2022-04-12&hora=02:23:20&loc=17 km al SUROESTE de  TECPAN, GRO &evento=1'"
      ]
     },
     "execution_count": 63,
     "metadata": {},
     "output_type": "execute_result"
    }
   ],
   "source": [
    "unam['rss']['channel']['item'][0]['link']"
   ]
  },
  {
   "cell_type": "code",
   "execution_count": 40,
   "metadata": {},
   "outputs": [
    {
     "data": {
      "text/plain": [
       "15"
      ]
     },
     "execution_count": 40,
     "metadata": {},
     "output_type": "execute_result"
    }
   ],
   "source": [
    "len(unam['rss']['channel']['item'])"
   ]
  },
  {
   "cell_type": "markdown",
   "metadata": {},
   "source": [
    "También podemos pasar los datos a un dataframe:"
   ]
  },
  {
   "cell_type": "code",
   "execution_count": 41,
   "metadata": {},
   "outputs": [],
   "source": [
    "import pandas as pd"
   ]
  },
  {
   "cell_type": "code",
   "execution_count": 42,
   "metadata": {},
   "outputs": [
    {
     "data": {
      "text/html": [
       "<div>\n",
       "<style scoped>\n",
       "    .dataframe tbody tr th:only-of-type {\n",
       "        vertical-align: middle;\n",
       "    }\n",
       "\n",
       "    .dataframe tbody tr th {\n",
       "        vertical-align: top;\n",
       "    }\n",
       "\n",
       "    .dataframe thead th {\n",
       "        text-align: right;\n",
       "    }\n",
       "</style>\n",
       "<table border=\"1\" class=\"dataframe\">\n",
       "  <thead>\n",
       "    <tr style=\"text-align: right;\">\n",
       "      <th></th>\n",
       "      <th>title</th>\n",
       "      <th>description</th>\n",
       "      <th>link</th>\n",
       "      <th>geo:lat</th>\n",
       "      <th>geo:long</th>\n",
       "    </tr>\n",
       "  </thead>\n",
       "  <tbody>\n",
       "    <tr>\n",
       "      <th>0</th>\n",
       "      <td>4.2, 17 km al SUROESTE de  TECPAN, GRO</td>\n",
       "      <td>&lt;p&gt;Fecha:2022-04-12 02:23:20 (Hora de M&amp;eacute...</td>\n",
       "      <td>http://www2.ssn.unam.mx:8080/jsp/localizacion-...</td>\n",
       "      <td>17.11</td>\n",
       "      <td>-100.74</td>\n",
       "    </tr>\n",
       "    <tr>\n",
       "      <th>1</th>\n",
       "      <td>4.0, 8 km al NORTE de  ATOYAC DE ALVAREZ, GRO</td>\n",
       "      <td>&lt;p&gt;Fecha:2022-04-11 19:18:23 (Hora de M&amp;eacute...</td>\n",
       "      <td>http://www2.ssn.unam.mx:8080/jsp/localizacion-...</td>\n",
       "      <td>17.28</td>\n",
       "      <td>-100.42</td>\n",
       "    </tr>\n",
       "    <tr>\n",
       "      <th>2</th>\n",
       "      <td>4.1, 55 km al NORESTE de  SANTA ROSALIA, BCS</td>\n",
       "      <td>&lt;p&gt;Fecha:2022-04-11 18:52:03 (Hora de M&amp;eacute...</td>\n",
       "      <td>http://www2.ssn.unam.mx:8080/jsp/localizacion-...</td>\n",
       "      <td>27.8</td>\n",
       "      <td>-112.07</td>\n",
       "    </tr>\n",
       "    <tr>\n",
       "      <th>3</th>\n",
       "      <td>2.9, 21 km al SUROESTE de  COYUCA DE BENITEZ, GRO</td>\n",
       "      <td>&lt;p&gt;Fecha:2022-04-11 16:51:07 (Hora de M&amp;eacute...</td>\n",
       "      <td>http://www2.ssn.unam.mx:8080/jsp/localizacion-...</td>\n",
       "      <td>16.96</td>\n",
       "      <td>-100.28</td>\n",
       "    </tr>\n",
       "    <tr>\n",
       "      <th>4</th>\n",
       "      <td>3.6, 18 km al SURESTE de  RIO GRANDE, OAX</td>\n",
       "      <td>&lt;p&gt;Fecha:2022-04-11 16:34:56 (Hora de M&amp;eacute...</td>\n",
       "      <td>http://www2.ssn.unam.mx:8080/jsp/localizacion-...</td>\n",
       "      <td>15.93</td>\n",
       "      <td>-97.29</td>\n",
       "    </tr>\n",
       "    <tr>\n",
       "      <th>5</th>\n",
       "      <td>3.9, 47 km al NORESTE de  CRUCECITA, OAX</td>\n",
       "      <td>&lt;p&gt;Fecha:2022-04-11 16:25:32 (Hora de M&amp;eacute...</td>\n",
       "      <td>http://www2.ssn.unam.mx:8080/jsp/localizacion-...</td>\n",
       "      <td>16.17</td>\n",
       "      <td>-96.01</td>\n",
       "    </tr>\n",
       "    <tr>\n",
       "      <th>6</th>\n",
       "      <td>3.8, 48 km al ESTE de  UNION HIDALGO, OAX</td>\n",
       "      <td>&lt;p&gt;Fecha:2022-04-11 15:56:41 (Hora de M&amp;eacute...</td>\n",
       "      <td>http://www2.ssn.unam.mx:8080/jsp/localizacion-...</td>\n",
       "      <td>16.57</td>\n",
       "      <td>-94.39</td>\n",
       "    </tr>\n",
       "    <tr>\n",
       "      <th>7</th>\n",
       "      <td>3.6, 19 km al SUR de  SALINA CRUZ, OAX</td>\n",
       "      <td>&lt;p&gt;Fecha:2022-04-11 15:37:13 (Hora de M&amp;eacute...</td>\n",
       "      <td>http://www2.ssn.unam.mx:8080/jsp/localizacion-...</td>\n",
       "      <td>16.02</td>\n",
       "      <td>-95.24</td>\n",
       "    </tr>\n",
       "    <tr>\n",
       "      <th>8</th>\n",
       "      <td>3.9, 14 km al NORESTE de  S BLAS ATEMPA, OAX</td>\n",
       "      <td>&lt;p&gt;Fecha:2022-04-11 15:06:52 (Hora de M&amp;eacute...</td>\n",
       "      <td>http://www2.ssn.unam.mx:8080/jsp/localizacion-...</td>\n",
       "      <td>16.44</td>\n",
       "      <td>-95.16</td>\n",
       "    </tr>\n",
       "    <tr>\n",
       "      <th>9</th>\n",
       "      <td>3.8, 114 km al SUR de  PUERTO PEÑASCO, SON</td>\n",
       "      <td>&lt;p&gt;Fecha:2022-04-11 14:58:00 (Hora de M&amp;eacute...</td>\n",
       "      <td>http://www2.ssn.unam.mx:8080/jsp/localizacion-...</td>\n",
       "      <td>30.31</td>\n",
       "      <td>-113.78</td>\n",
       "    </tr>\n",
       "    <tr>\n",
       "      <th>10</th>\n",
       "      <td>4.1, 130 km al SUR de  PUERTO PEÑASCO, SON</td>\n",
       "      <td>&lt;p&gt;Fecha:2022-04-11 14:55:10 (Hora de M&amp;eacute...</td>\n",
       "      <td>http://www2.ssn.unam.mx:8080/jsp/localizacion-...</td>\n",
       "      <td>30.17</td>\n",
       "      <td>-113.8</td>\n",
       "    </tr>\n",
       "    <tr>\n",
       "      <th>11</th>\n",
       "      <td>3.4, 86 km al NOROESTE de  CIHUATLAN, JAL</td>\n",
       "      <td>&lt;p&gt;Fecha:2022-04-11 14:49:59 (Hora de M&amp;eacute...</td>\n",
       "      <td>http://www2.ssn.unam.mx:8080/jsp/localizacion-...</td>\n",
       "      <td>19.47</td>\n",
       "      <td>-105.35</td>\n",
       "    </tr>\n",
       "    <tr>\n",
       "      <th>12</th>\n",
       "      <td>2.9, 12 km al NOROESTE de  ACAPULCO, GRO</td>\n",
       "      <td>&lt;p&gt;Fecha:2022-04-11 14:32:16 (Hora de M&amp;eacute...</td>\n",
       "      <td>http://www2.ssn.unam.mx:8080/jsp/localizacion-...</td>\n",
       "      <td>16.93</td>\n",
       "      <td>-100.0</td>\n",
       "    </tr>\n",
       "    <tr>\n",
       "      <th>13</th>\n",
       "      <td>3.5, 90 km al NOROESTE de  SAN FELIPE, BC</td>\n",
       "      <td>&lt;p&gt;Fecha:2022-04-11 14:25:48 (Hora de M&amp;eacute...</td>\n",
       "      <td>http://www2.ssn.unam.mx:8080/jsp/localizacion-...</td>\n",
       "      <td>31.48</td>\n",
       "      <td>-115.62</td>\n",
       "    </tr>\n",
       "    <tr>\n",
       "      <th>14</th>\n",
       "      <td>3.4, 10 km al SUR de  PINOTEPA NACIONAL, OAX</td>\n",
       "      <td>&lt;p&gt;Fecha:2022-04-11 14:23:11 (Hora de M&amp;eacute...</td>\n",
       "      <td>http://www2.ssn.unam.mx:8080/jsp/localizacion-...</td>\n",
       "      <td>16.25</td>\n",
       "      <td>-98.05</td>\n",
       "    </tr>\n",
       "  </tbody>\n",
       "</table>\n",
       "</div>"
      ],
      "text/plain": [
       "                                                title  \\\n",
       "0              4.2, 17 km al SUROESTE de  TECPAN, GRO   \n",
       "1       4.0, 8 km al NORTE de  ATOYAC DE ALVAREZ, GRO   \n",
       "2        4.1, 55 km al NORESTE de  SANTA ROSALIA, BCS   \n",
       "3   2.9, 21 km al SUROESTE de  COYUCA DE BENITEZ, GRO   \n",
       "4           3.6, 18 km al SURESTE de  RIO GRANDE, OAX   \n",
       "5            3.9, 47 km al NORESTE de  CRUCECITA, OAX   \n",
       "6           3.8, 48 km al ESTE de  UNION HIDALGO, OAX   \n",
       "7              3.6, 19 km al SUR de  SALINA CRUZ, OAX   \n",
       "8        3.9, 14 km al NORESTE de  S BLAS ATEMPA, OAX   \n",
       "9          3.8, 114 km al SUR de  PUERTO PEÑASCO, SON   \n",
       "10         4.1, 130 km al SUR de  PUERTO PEÑASCO, SON   \n",
       "11          3.4, 86 km al NOROESTE de  CIHUATLAN, JAL   \n",
       "12           2.9, 12 km al NOROESTE de  ACAPULCO, GRO   \n",
       "13          3.5, 90 km al NOROESTE de  SAN FELIPE, BC   \n",
       "14       3.4, 10 km al SUR de  PINOTEPA NACIONAL, OAX   \n",
       "\n",
       "                                          description  \\\n",
       "0   <p>Fecha:2022-04-12 02:23:20 (Hora de M&eacute...   \n",
       "1   <p>Fecha:2022-04-11 19:18:23 (Hora de M&eacute...   \n",
       "2   <p>Fecha:2022-04-11 18:52:03 (Hora de M&eacute...   \n",
       "3   <p>Fecha:2022-04-11 16:51:07 (Hora de M&eacute...   \n",
       "4   <p>Fecha:2022-04-11 16:34:56 (Hora de M&eacute...   \n",
       "5   <p>Fecha:2022-04-11 16:25:32 (Hora de M&eacute...   \n",
       "6   <p>Fecha:2022-04-11 15:56:41 (Hora de M&eacute...   \n",
       "7   <p>Fecha:2022-04-11 15:37:13 (Hora de M&eacute...   \n",
       "8   <p>Fecha:2022-04-11 15:06:52 (Hora de M&eacute...   \n",
       "9   <p>Fecha:2022-04-11 14:58:00 (Hora de M&eacute...   \n",
       "10  <p>Fecha:2022-04-11 14:55:10 (Hora de M&eacute...   \n",
       "11  <p>Fecha:2022-04-11 14:49:59 (Hora de M&eacute...   \n",
       "12  <p>Fecha:2022-04-11 14:32:16 (Hora de M&eacute...   \n",
       "13  <p>Fecha:2022-04-11 14:25:48 (Hora de M&eacute...   \n",
       "14  <p>Fecha:2022-04-11 14:23:11 (Hora de M&eacute...   \n",
       "\n",
       "                                                 link geo:lat geo:long  \n",
       "0   http://www2.ssn.unam.mx:8080/jsp/localizacion-...   17.11  -100.74  \n",
       "1   http://www2.ssn.unam.mx:8080/jsp/localizacion-...   17.28  -100.42  \n",
       "2   http://www2.ssn.unam.mx:8080/jsp/localizacion-...    27.8  -112.07  \n",
       "3   http://www2.ssn.unam.mx:8080/jsp/localizacion-...   16.96  -100.28  \n",
       "4   http://www2.ssn.unam.mx:8080/jsp/localizacion-...   15.93   -97.29  \n",
       "5   http://www2.ssn.unam.mx:8080/jsp/localizacion-...   16.17   -96.01  \n",
       "6   http://www2.ssn.unam.mx:8080/jsp/localizacion-...   16.57   -94.39  \n",
       "7   http://www2.ssn.unam.mx:8080/jsp/localizacion-...   16.02   -95.24  \n",
       "8   http://www2.ssn.unam.mx:8080/jsp/localizacion-...   16.44   -95.16  \n",
       "9   http://www2.ssn.unam.mx:8080/jsp/localizacion-...   30.31  -113.78  \n",
       "10  http://www2.ssn.unam.mx:8080/jsp/localizacion-...   30.17   -113.8  \n",
       "11  http://www2.ssn.unam.mx:8080/jsp/localizacion-...   19.47  -105.35  \n",
       "12  http://www2.ssn.unam.mx:8080/jsp/localizacion-...   16.93   -100.0  \n",
       "13  http://www2.ssn.unam.mx:8080/jsp/localizacion-...   31.48  -115.62  \n",
       "14  http://www2.ssn.unam.mx:8080/jsp/localizacion-...   16.25   -98.05  "
      ]
     },
     "execution_count": 42,
     "metadata": {},
     "output_type": "execute_result"
    }
   ],
   "source": [
    "pd.DataFrame(unam['rss']['channel']['item'])"
   ]
  },
  {
   "cell_type": "markdown",
   "metadata": {},
   "source": [
    "Como vemos, los datos no están organizados como nos gustaría. Procedemos a un ejemplo de transformación de los datos.\n",
    "\n"
   ]
  },
  {
   "cell_type": "markdown",
   "metadata": {},
   "source": [
    "**Ejemplo Extraer-Transformar de manera funcional:**"
   ]
  },
  {
   "cell_type": "code",
   "execution_count": 43,
   "metadata": {},
   "outputs": [],
   "source": [
    "# funcion para extraer el dict del RSS\n",
    "\n",
    "def get_xml():\n",
    "    url='http://www.ssn.unam.mx/rss/ultimos-sismos.xml'\n",
    "\n",
    "    data=req.get(url).content\n",
    "\n",
    "    return xmltodict.parse(data)"
   ]
  },
  {
   "cell_type": "code",
   "execution_count": 49,
   "metadata": {},
   "outputs": [],
   "source": [
    "# funcion para extraer y transformar los datos\n",
    "\n",
    "def get_clean_data():\n",
    "    \n",
    "    dictio=get_xml()\n",
    "    \n",
    "    res=[]\n",
    "    \n",
    "    for item in dictio['rss']['channel']['item']:\n",
    "        \n",
    "        link=item['link']\n",
    "        \n",
    "        data=link.split('?')[1].split('&')\n",
    "    \n",
    "        res.append({k:v for k,v in [d.split('=') for d in data]})\n",
    "    \n",
    "    #print(data)\n",
    "    #print([d.split('=') for d in data])\n",
    "    #print({k:v for k,v in [d.split('=') for d in data]})\n",
    "\n",
    "    return res"
   ]
  },
  {
   "cell_type": "code",
   "execution_count": 46,
   "metadata": {},
   "outputs": [],
   "source": [
    "a,b = 2,4"
   ]
  },
  {
   "cell_type": "code",
   "execution_count": 48,
   "metadata": {},
   "outputs": [
    {
     "data": {
      "text/plain": [
       "4"
      ]
     },
     "execution_count": 48,
     "metadata": {},
     "output_type": "execute_result"
    }
   ],
   "source": [
    "b"
   ]
  },
  {
   "cell_type": "code",
   "execution_count": 66,
   "metadata": {},
   "outputs": [
    {
     "data": {
      "text/html": [
       "<div>\n",
       "<style scoped>\n",
       "    .dataframe tbody tr th:only-of-type {\n",
       "        vertical-align: middle;\n",
       "    }\n",
       "\n",
       "    .dataframe tbody tr th {\n",
       "        vertical-align: top;\n",
       "    }\n",
       "\n",
       "    .dataframe thead th {\n",
       "        text-align: right;\n",
       "    }\n",
       "</style>\n",
       "<table border=\"1\" class=\"dataframe\">\n",
       "  <thead>\n",
       "    <tr style=\"text-align: right;\">\n",
       "      <th></th>\n",
       "      <th>latitud</th>\n",
       "      <th>longitud</th>\n",
       "      <th>prf</th>\n",
       "      <th>ma</th>\n",
       "      <th>fecha</th>\n",
       "      <th>hora</th>\n",
       "      <th>loc</th>\n",
       "      <th>evento</th>\n",
       "    </tr>\n",
       "  </thead>\n",
       "  <tbody>\n",
       "    <tr>\n",
       "      <th>0</th>\n",
       "      <td>17.11</td>\n",
       "      <td>-100.74</td>\n",
       "      <td>19.0 km</td>\n",
       "      <td>4.2</td>\n",
       "      <td>2022-04-12</td>\n",
       "      <td>02:23:20</td>\n",
       "      <td>17 km al SUROESTE de  TECPAN, GRO</td>\n",
       "      <td>1</td>\n",
       "    </tr>\n",
       "    <tr>\n",
       "      <th>1</th>\n",
       "      <td>17.28</td>\n",
       "      <td>-100.42</td>\n",
       "      <td>48.0 km</td>\n",
       "      <td>4.0</td>\n",
       "      <td>2022-04-11</td>\n",
       "      <td>19:18:23</td>\n",
       "      <td>8 km al NORTE de  ATOYAC DE ALVAREZ, GRO</td>\n",
       "      <td>1</td>\n",
       "    </tr>\n",
       "    <tr>\n",
       "      <th>2</th>\n",
       "      <td>27.8</td>\n",
       "      <td>-112.07</td>\n",
       "      <td>14.0 km</td>\n",
       "      <td>4.1</td>\n",
       "      <td>2022-04-11</td>\n",
       "      <td>18:52:03</td>\n",
       "      <td>55 km al NORESTE de  SANTA ROSALIA, BCS</td>\n",
       "      <td>1</td>\n",
       "    </tr>\n",
       "    <tr>\n",
       "      <th>3</th>\n",
       "      <td>16.96</td>\n",
       "      <td>-100.28</td>\n",
       "      <td>23.0 km</td>\n",
       "      <td>2.9</td>\n",
       "      <td>2022-04-11</td>\n",
       "      <td>16:51:07</td>\n",
       "      <td>21 km al SUROESTE de  COYUCA DE BENITEZ, GRO</td>\n",
       "      <td>1</td>\n",
       "    </tr>\n",
       "    <tr>\n",
       "      <th>4</th>\n",
       "      <td>15.93</td>\n",
       "      <td>-97.29</td>\n",
       "      <td>11.0 km</td>\n",
       "      <td>3.6</td>\n",
       "      <td>2022-04-11</td>\n",
       "      <td>16:34:56</td>\n",
       "      <td>18 km al SURESTE de  RIO GRANDE, OAX</td>\n",
       "      <td>1</td>\n",
       "    </tr>\n",
       "    <tr>\n",
       "      <th>5</th>\n",
       "      <td>16.17</td>\n",
       "      <td>-96.01</td>\n",
       "      <td>30.0 km</td>\n",
       "      <td>3.9</td>\n",
       "      <td>2022-04-11</td>\n",
       "      <td>16:25:32</td>\n",
       "      <td>47 km al NORESTE de  CRUCECITA, OAX</td>\n",
       "      <td>1</td>\n",
       "    </tr>\n",
       "    <tr>\n",
       "      <th>6</th>\n",
       "      <td>16.57</td>\n",
       "      <td>-94.39</td>\n",
       "      <td>8.0 km</td>\n",
       "      <td>3.8</td>\n",
       "      <td>2022-04-11</td>\n",
       "      <td>15:56:41</td>\n",
       "      <td>48 km al ESTE de  UNION HIDALGO, OAX</td>\n",
       "      <td>1</td>\n",
       "    </tr>\n",
       "    <tr>\n",
       "      <th>7</th>\n",
       "      <td>16.02</td>\n",
       "      <td>-95.24</td>\n",
       "      <td>9.0 km</td>\n",
       "      <td>3.6</td>\n",
       "      <td>2022-04-11</td>\n",
       "      <td>15:37:13</td>\n",
       "      <td>19 km al SUR de  SALINA CRUZ, OAX</td>\n",
       "      <td>1</td>\n",
       "    </tr>\n",
       "    <tr>\n",
       "      <th>8</th>\n",
       "      <td>16.44</td>\n",
       "      <td>-95.16</td>\n",
       "      <td>57.0 km</td>\n",
       "      <td>3.9</td>\n",
       "      <td>2022-04-11</td>\n",
       "      <td>15:06:52</td>\n",
       "      <td>14 km al NORESTE de  S BLAS ATEMPA, OAX</td>\n",
       "      <td>1</td>\n",
       "    </tr>\n",
       "    <tr>\n",
       "      <th>9</th>\n",
       "      <td>30.31</td>\n",
       "      <td>-113.78</td>\n",
       "      <td>8.0 km</td>\n",
       "      <td>3.8</td>\n",
       "      <td>2022-04-11</td>\n",
       "      <td>14:58:00</td>\n",
       "      <td>114 km al SUR de  PUERTO PEÑASCO, SON</td>\n",
       "      <td>1</td>\n",
       "    </tr>\n",
       "    <tr>\n",
       "      <th>10</th>\n",
       "      <td>30.17</td>\n",
       "      <td>-113.8</td>\n",
       "      <td>6.0 km</td>\n",
       "      <td>4.1</td>\n",
       "      <td>2022-04-11</td>\n",
       "      <td>14:55:10</td>\n",
       "      <td>130 km al SUR de  PUERTO PEÑASCO, SON</td>\n",
       "      <td>1</td>\n",
       "    </tr>\n",
       "    <tr>\n",
       "      <th>11</th>\n",
       "      <td>19.47</td>\n",
       "      <td>-105.35</td>\n",
       "      <td>16.0 km</td>\n",
       "      <td>3.4</td>\n",
       "      <td>2022-04-11</td>\n",
       "      <td>14:49:59</td>\n",
       "      <td>86 km al NOROESTE de  CIHUATLAN, JAL</td>\n",
       "      <td>1</td>\n",
       "    </tr>\n",
       "    <tr>\n",
       "      <th>12</th>\n",
       "      <td>16.93</td>\n",
       "      <td>-100.0</td>\n",
       "      <td>26.0 km</td>\n",
       "      <td>2.9</td>\n",
       "      <td>2022-04-11</td>\n",
       "      <td>14:32:16</td>\n",
       "      <td>12 km al NOROESTE de  ACAPULCO, GRO</td>\n",
       "      <td>1</td>\n",
       "    </tr>\n",
       "    <tr>\n",
       "      <th>13</th>\n",
       "      <td>31.48</td>\n",
       "      <td>-115.62</td>\n",
       "      <td>19.0 km</td>\n",
       "      <td>3.5</td>\n",
       "      <td>2022-04-11</td>\n",
       "      <td>14:25:48</td>\n",
       "      <td>90 km al NOROESTE de  SAN FELIPE, BC</td>\n",
       "      <td>1</td>\n",
       "    </tr>\n",
       "    <tr>\n",
       "      <th>14</th>\n",
       "      <td>16.25</td>\n",
       "      <td>-98.05</td>\n",
       "      <td>6.0 km</td>\n",
       "      <td>3.4</td>\n",
       "      <td>2022-04-11</td>\n",
       "      <td>14:23:11</td>\n",
       "      <td>10 km al SUR de  PINOTEPA NACIONAL, OAX</td>\n",
       "      <td>1</td>\n",
       "    </tr>\n",
       "  </tbody>\n",
       "</table>\n",
       "</div>"
      ],
      "text/plain": [
       "   latitud longitud      prf   ma       fecha      hora  \\\n",
       "0    17.11  -100.74  19.0 km  4.2  2022-04-12  02:23:20   \n",
       "1    17.28  -100.42  48.0 km  4.0  2022-04-11  19:18:23   \n",
       "2     27.8  -112.07  14.0 km  4.1  2022-04-11  18:52:03   \n",
       "3    16.96  -100.28  23.0 km  2.9  2022-04-11  16:51:07   \n",
       "4    15.93   -97.29  11.0 km  3.6  2022-04-11  16:34:56   \n",
       "5    16.17   -96.01  30.0 km  3.9  2022-04-11  16:25:32   \n",
       "6    16.57   -94.39   8.0 km  3.8  2022-04-11  15:56:41   \n",
       "7    16.02   -95.24   9.0 km  3.6  2022-04-11  15:37:13   \n",
       "8    16.44   -95.16  57.0 km  3.9  2022-04-11  15:06:52   \n",
       "9    30.31  -113.78   8.0 km  3.8  2022-04-11  14:58:00   \n",
       "10   30.17   -113.8   6.0 km  4.1  2022-04-11  14:55:10   \n",
       "11   19.47  -105.35  16.0 km  3.4  2022-04-11  14:49:59   \n",
       "12   16.93   -100.0  26.0 km  2.9  2022-04-11  14:32:16   \n",
       "13   31.48  -115.62  19.0 km  3.5  2022-04-11  14:25:48   \n",
       "14   16.25   -98.05   6.0 km  3.4  2022-04-11  14:23:11   \n",
       "\n",
       "                                              loc evento  \n",
       "0              17 km al SUROESTE de  TECPAN, GRO       1  \n",
       "1       8 km al NORTE de  ATOYAC DE ALVAREZ, GRO       1  \n",
       "2        55 km al NORESTE de  SANTA ROSALIA, BCS       1  \n",
       "3   21 km al SUROESTE de  COYUCA DE BENITEZ, GRO       1  \n",
       "4           18 km al SURESTE de  RIO GRANDE, OAX       1  \n",
       "5            47 km al NORESTE de  CRUCECITA, OAX       1  \n",
       "6           48 km al ESTE de  UNION HIDALGO, OAX       1  \n",
       "7              19 km al SUR de  SALINA CRUZ, OAX       1  \n",
       "8        14 km al NORESTE de  S BLAS ATEMPA, OAX       1  \n",
       "9          114 km al SUR de  PUERTO PEÑASCO, SON       1  \n",
       "10         130 km al SUR de  PUERTO PEÑASCO, SON       1  \n",
       "11          86 km al NOROESTE de  CIHUATLAN, JAL       1  \n",
       "12           12 km al NOROESTE de  ACAPULCO, GRO       1  \n",
       "13          90 km al NOROESTE de  SAN FELIPE, BC       1  \n",
       "14       10 km al SUR de  PINOTEPA NACIONAL, OAX       1  "
      ]
     },
     "execution_count": 66,
     "metadata": {},
     "output_type": "execute_result"
    }
   ],
   "source": [
    "pd.DataFrame(get_clean_data())"
   ]
  },
  {
   "cell_type": "code",
   "execution_count": 57,
   "metadata": {},
   "outputs": [
    {
     "data": {
      "text/plain": [
       "{'latitud': '17.11',\n",
       " 'longitud': '-100.74',\n",
       " 'prf': '19.0 km',\n",
       " 'ma': '4.2',\n",
       " 'fecha': '2022-04-12',\n",
       " 'hora': '02:23:20',\n",
       " 'loc': '17 km al SUROESTE de  TECPAN, GRO ',\n",
       " 'evento': '1'}"
      ]
     },
     "execution_count": 57,
     "metadata": {},
     "output_type": "execute_result"
    }
   ],
   "source": [
    "{k:v for k, v in [d.split('=') for d in get_xml()['rss']['channel']['item'][0]['link'].split('?')[1].split('&')]}"
   ]
  },
  {
   "cell_type": "code",
   "execution_count": 59,
   "metadata": {},
   "outputs": [
    {
     "data": {
      "text/plain": [
       "dict_keys(['bozo', 'entries', 'feed', 'headers', 'etag', 'updated', 'updated_parsed', 'href', 'status', 'encoding', 'version', 'namespaces'])"
      ]
     },
     "execution_count": 59,
     "metadata": {},
     "output_type": "execute_result"
    }
   ],
   "source": [
    "feedparser.parse(url).keys()"
   ]
  },
  {
   "cell_type": "code",
   "execution_count": null,
   "metadata": {},
   "outputs": [],
   "source": []
  }
 ],
 "metadata": {
  "kernelspec": {
   "display_name": "clase",
   "language": "python",
   "name": "clase"
  },
  "language_info": {
   "codemirror_mode": {
    "name": "ipython",
    "version": 3
   },
   "file_extension": ".py",
   "mimetype": "text/x-python",
   "name": "python",
   "nbconvert_exporter": "python",
   "pygments_lexer": "ipython3",
   "version": "3.9.7"
  }
 },
 "nbformat": 4,
 "nbformat_minor": 4
}
