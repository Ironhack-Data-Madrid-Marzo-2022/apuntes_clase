{
 "cells": [
  {
   "cell_type": "markdown",
   "metadata": {},
   "source": [
    "# 4.1 - Procesos asíncronos\n",
    "\n",
    "\n",
    "![async](images/async.png)\n",
    "\n",
    "\n",
    "\n",
    "\n",
    "**[Documentación](https://docs.python.org/3/library/asyncio.html)**\n",
    "\n",
    "\n",
    "**asyncio** es una biblioteca para escribir código [concurrente](https://es.wikipedia.org/wiki/Concurrencia_(inform%C3%A1tica)) utilizando la sintaxis async/await. Se utiliza como base en múltiples frameworks asíncronos de Python y provee un alto rendimiento en redes y servidores web, bibliotecas de conexión de base de datos, colas de tareas distribuidas, etc.\n",
    "\n",
    "Suele encajar perfectamente para operaciones con límite de E/S y código de red estructurado de alto nivel. Además provee un conjunto de APIs de alto nivel para:\n",
    "\n",
    "+ ejecutar corutinas de Python de manera concurrente y tener control total sobre su ejecución\n",
    "\n",
    "+ realizar redes E/S y comunicación entre procesos(IPC)\n",
    "\n",
    "+ controlar subprocesos\n",
    "\n",
    "+ distribuir tareas a través de colas\n",
    "\n",
    "+ sincronizar código concurrente\n",
    "\n",
    "Adicionalmente, existen APIs de bajo nivel para desarrolladores de bibliotecas y frameworks para:\n",
    "\n",
    "+ crear y administrar bucles de eventos, los cuales proveen APIs asíncronas para redes, ejecutando subprocesos, gestionando señales del sistema operativo, etc..\n",
    "\n",
    "+ implementar protocolos eficientes utilizando transportes\n",
    "\n",
    "+ bibliotecas puente basadas en retrollamadas y código con sintaxis async/wait\n",
    "\n",
    "$$$$\n",
    "\n",
    "Nosotros nos enfocaremos en el uso de bucles de eventos para la extracción de datos de la web.\n"
   ]
  },
  {
   "cell_type": "markdown",
   "metadata": {},
   "source": [
    "### Hola Mundo"
   ]
  },
  {
   "cell_type": "code",
   "execution_count": 9,
   "metadata": {},
   "outputs": [
    {
     "name": "stdout",
     "output_type": "stream",
     "text": [
      "¡Hola...\n",
      "....Mundo!\n",
      "Pero que pashhaaaaa....\n"
     ]
    },
    {
     "name": "stderr",
     "output_type": "stream",
     "text": [
      "/var/folders/fv/zc4lh9sn7bnf55fy6jhl0k900000gn/T/ipykernel_21413/3131305955.py:6: RuntimeWarning: coroutine 'sleep' was never awaited\n",
      "  asyncio.sleep(3)\n",
      "RuntimeWarning: Enable tracemalloc to get the object allocation traceback\n"
     ]
    }
   ],
   "source": [
    "import asyncio\n",
    "\n",
    "# funcion asincrona\n",
    "async def saludar():\n",
    "    print('¡Hola...')\n",
    "    await asyncio.sleep(3)\n",
    "    print('....Mundo!')\n",
    "    print('Pero que pashhaaaaa....')\n",
    "    \n",
    "    \n",
    "await saludar()        # en jupyter\n",
    "#asyncio.run(main())   # en python .py"
   ]
  },
  {
   "cell_type": "markdown",
   "metadata": {},
   "source": [
    "### Ejemplo response\n",
    "\n",
    "Comprobando la respuesta de tres urls."
   ]
  },
  {
   "cell_type": "code",
   "execution_count": 2,
   "metadata": {},
   "outputs": [],
   "source": [
    "import requests as req"
   ]
  },
  {
   "cell_type": "code",
   "execution_count": 3,
   "metadata": {},
   "outputs": [
    {
     "data": {
      "text/plain": [
       "<Response [200]>"
      ]
     },
     "execution_count": 3,
     "metadata": {},
     "output_type": "execute_result"
    }
   ],
   "source": [
    "url='https://s3-eu-west-1.amazonaws.com/'\n",
    "\n",
    "req.get(url)"
   ]
  },
  {
   "cell_type": "code",
   "execution_count": 4,
   "metadata": {},
   "outputs": [],
   "source": [
    "urls=[\n",
    "    'https://s3-eu-west-1.amazonaws.com/ih-materials/uploads/data-static/documents/breakfast.jpg',\n",
    "    'https://s3-eu-west-1.amazonaws.com/ih-materials/uploads/data-static/documents/forbidden',\n",
    "    'https://s3-eu-west-1.amazonaws.com/ih-materials/uploads/data-static/documents/the-html5-breakfast-site.html'\n",
    "]"
   ]
  },
  {
   "cell_type": "code",
   "execution_count": 5,
   "metadata": {},
   "outputs": [
    {
     "name": "stdout",
     "output_type": "stream",
     "text": [
      "200\n",
      "403\n",
      "200\n"
     ]
    }
   ],
   "source": [
    "async def comprobar():\n",
    "    \n",
    "    bucle=asyncio.get_event_loop()  # voy a crear un bucle asincrono\n",
    "    \n",
    "    futuros=[bucle.run_in_executor(None, req.get, url) for url in urls] # bucle asincrono\n",
    "    \n",
    "    for res in await asyncio.gather(*futuros):  # aqui se los pido\n",
    "        print(res.status_code)\n",
    "        \n",
    "await comprobar()"
   ]
  },
  {
   "cell_type": "markdown",
   "metadata": {},
   "source": [
    "### Ejemplo ESPN\n",
    "\n",
    "Volvamos al ejemplo de scrapeo de la págine de ESPN. Vamos a realizar múltiples requests para obtener los datos de todos los equipos.\n",
    "\n",
    "\n",
    "https://www.espn.com/soccer/competitions"
   ]
  },
  {
   "cell_type": "code",
   "execution_count": 10,
   "metadata": {},
   "outputs": [
    {
     "name": "stderr",
     "output_type": "stream",
     "text": [
      "\n",
      "\n",
      "====== WebDriver manager ======\n",
      "Current google-chrome version is 100.0.4896\n",
      "Get LATEST chromedriver version for 100.0.4896 google-chrome\n",
      "Trying to download new driver from https://chromedriver.storage.googleapis.com/100.0.4896.60/chromedriver_mac64_m1.zip\n",
      "Driver has been saved in cache [/Users/iudh/.wdm/drivers/chromedriver/mac64_m1/100.0.4896.60]\n"
     ]
    }
   ],
   "source": [
    "from selenium import webdriver\n",
    "\n",
    "import time\n",
    "\n",
    "import pandas as pd\n",
    "\n",
    "from webdriver_manager.chrome import ChromeDriverManager\n",
    "\n",
    "PATH=ChromeDriverManager().install()"
   ]
  },
  {
   "cell_type": "code",
   "execution_count": 26,
   "metadata": {},
   "outputs": [
    {
     "data": {
      "text/plain": [
       "['https://www.espn.com/soccer/team/stats/_/id/96/alaves',\n",
       " 'https://www.espn.com/soccer/team/stats/_/id/93/athletic-club',\n",
       " 'https://www.espn.com/soccer/team/stats/_/id/1068/atletico-madrid',\n",
       " 'https://www.espn.com/soccer/team/stats/_/id/83/barcelona',\n",
       " 'https://www.espn.com/soccer/team/stats/_/id/85/celta-vigo',\n",
       " 'https://www.espn.com/soccer/team/stats/_/id/3842/cadiz',\n",
       " 'https://www.espn.com/soccer/team/stats/_/id/3751/elche',\n",
       " 'https://www.espn.com/soccer/team/stats/_/id/88/espanyol',\n",
       " 'https://www.espn.com/soccer/team/stats/_/id/2922/getafe',\n",
       " 'https://www.espn.com/soccer/team/stats/_/id/3747/granada',\n",
       " 'https://www.espn.com/soccer/team/stats/_/id/1538/levante',\n",
       " 'https://www.espn.com/soccer/team/stats/_/id/84/mallorca',\n",
       " 'https://www.espn.com/soccer/team/stats/_/id/97/osasuna',\n",
       " 'https://www.espn.com/soccer/team/stats/_/id/101/rayo-vallecano',\n",
       " 'https://www.espn.com/soccer/team/stats/_/id/244/real-betis',\n",
       " 'https://www.espn.com/soccer/team/stats/_/id/86/real-madrid',\n",
       " 'https://www.espn.com/soccer/team/stats/_/id/89/real-sociedad',\n",
       " 'https://www.espn.com/soccer/team/stats/_/id/243/sevilla',\n",
       " 'https://www.espn.com/soccer/team/stats/_/id/94/valencia',\n",
       " 'https://www.espn.com/soccer/team/stats/_/id/102/villarreal']"
      ]
     },
     "execution_count": 26,
     "metadata": {},
     "output_type": "execute_result"
    }
   ],
   "source": [
    "url='https://www.espn.com/soccer/competitions'\n",
    "\n",
    "# inicia el driver\n",
    "driver=webdriver.Chrome(PATH)\n",
    "driver.get(url)\n",
    "\n",
    "# acepta cookies\n",
    "aceptar=driver.find_element_by_xpath('//*[@id=\"onetrust-accept-btn-handler\"]')\n",
    "aceptar.click()\n",
    "\n",
    "time.sleep(2)\n",
    "\n",
    "# selecciona equipos laliga\n",
    "equipos=driver.find_element_by_css_selector('#fittPageContainer > div:nth-child(4) > div > div.layout__column.layout__column--1 > div > div:nth-child(3) > div:nth-child(1) > div > div:nth-child(4) > div > section > div > div > span:nth-child(2) > a')\n",
    "equipos.click()\n",
    "\n",
    "\n",
    "time.sleep(2)\n",
    "\n",
    "equipos_stats_urls=driver.find_elements_by_css_selector('a.AnchorLink')\n",
    "\n",
    "equipos_stats_urls=[e.get_attribute('href') for e in equipos_stats_urls if '/team/stats/' in e.get_attribute('href')]\n",
    "\n",
    "driver.quit()\n",
    "\n",
    "equipos_stats_urls"
   ]
  },
  {
   "cell_type": "markdown",
   "metadata": {},
   "source": [
    "**Extracción asincrónica**"
   ]
  },
  {
   "cell_type": "code",
   "execution_count": null,
   "metadata": {},
   "outputs": [],
   "source": []
  },
  {
   "cell_type": "code",
   "execution_count": null,
   "metadata": {},
   "outputs": [],
   "source": []
  },
  {
   "cell_type": "code",
   "execution_count": null,
   "metadata": {},
   "outputs": [],
   "source": []
  },
  {
   "cell_type": "code",
   "execution_count": null,
   "metadata": {},
   "outputs": [],
   "source": []
  },
  {
   "cell_type": "code",
   "execution_count": null,
   "metadata": {},
   "outputs": [],
   "source": []
  },
  {
   "cell_type": "code",
   "execution_count": null,
   "metadata": {},
   "outputs": [],
   "source": []
  },
  {
   "cell_type": "code",
   "execution_count": null,
   "metadata": {},
   "outputs": [],
   "source": []
  },
  {
   "cell_type": "code",
   "execution_count": null,
   "metadata": {},
   "outputs": [],
   "source": []
  }
 ],
 "metadata": {
  "kernelspec": {
   "display_name": "clase",
   "language": "python",
   "name": "clase"
  },
  "language_info": {
   "codemirror_mode": {
    "name": "ipython",
    "version": 3
   },
   "file_extension": ".py",
   "mimetype": "text/x-python",
   "name": "python",
   "nbconvert_exporter": "python",
   "pygments_lexer": "ipython3",
   "version": "3.9.7"
  },
  "varInspector": {
   "cols": {
    "lenName": 16,
    "lenType": 16,
    "lenVar": 40
   },
   "kernels_config": {
    "python": {
     "delete_cmd_postfix": "",
     "delete_cmd_prefix": "del ",
     "library": "var_list.py",
     "varRefreshCmd": "print(var_dic_list())"
    },
    "r": {
     "delete_cmd_postfix": ") ",
     "delete_cmd_prefix": "rm(",
     "library": "var_list.r",
     "varRefreshCmd": "cat(var_dic_list()) "
    }
   },
   "types_to_exclude": [
    "module",
    "function",
    "builtin_function_or_method",
    "instance",
    "_Feature"
   ],
   "window_display": false
  }
 },
 "nbformat": 4,
 "nbformat_minor": 4
}
